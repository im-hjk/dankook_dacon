{
 "cells": [
  {
   "cell_type": "markdown",
   "metadata": {},
   "source": [
    "# 데모"
   ]
  },
  {
   "cell_type": "markdown",
   "metadata": {},
   "source": [
    "## 라이브러리 import 및 설정"
   ]
  },
  {
   "cell_type": "code",
   "execution_count": 1,
   "metadata": {
    "ExecuteTime": {
     "end_time": "2020-09-23T07:34:36.014737Z",
     "start_time": "2020-09-23T07:34:35.748477Z"
    }
   },
   "outputs": [],
   "source": [
    "%reload_ext autoreload\n",
    "%autoreload 2\n",
    "%matplotlib inline"
   ]
  },
  {
   "cell_type": "code",
   "execution_count": 2,
   "metadata": {
    "ExecuteTime": {
     "end_time": "2020-09-23T07:34:36.617313Z",
     "start_time": "2020-09-23T07:34:36.016998Z"
    }
   },
   "outputs": [],
   "source": [
    "import lightgbm as lgb\n",
    "from matplotlib import pyplot as plt\n",
    "from matplotlib import rcParams\n",
    "import numpy as np\n",
    "from pathlib import Path\n",
    "import pandas as pd\n",
    "from sklearn.metrics import accuracy_score\n",
    "from sklearn.model_selection import train_test_split\n",
    "import seaborn as sns\n",
    "import warnings"
   ]
  },
  {
   "cell_type": "code",
   "execution_count": 3,
   "metadata": {
    "ExecuteTime": {
     "end_time": "2020-09-23T07:34:36.643127Z",
     "start_time": "2020-09-23T07:34:36.621299Z"
    }
   },
   "outputs": [],
   "source": [
    "rcParams['figure.figsize'] = (16, 8)\n",
    "plt.style.use('fivethirtyeight')\n",
    "pd.set_option('max_columns', 100)\n",
    "pd.set_option(\"display.precision\", 4)\n",
    "warnings.simplefilter('ignore')"
   ]
  },
  {
   "cell_type": "markdown",
   "metadata": {},
   "source": [
    "## 학습데이터 로드"
   ]
  },
  {
   "cell_type": "markdown",
   "metadata": {},
   "source": [
    "[03-pandas-eda.ipynb](https://github.com/kaggler-tv/dku-kaggle-class/blob/master/notebook/03-pandas-eda.ipynb)에서 생성한 `feature.csv` 피처파일 사용"
   ]
  },
  {
   "cell_type": "code",
   "execution_count": 4,
   "metadata": {
    "ExecuteTime": {
     "end_time": "2020-09-23T07:34:36.668028Z",
     "start_time": "2020-09-23T07:34:36.645546Z"
    }
   },
   "outputs": [],
   "source": [
    "data_dir = Path('../data/dacon-dku')\n",
    "feature_dir = Path('../build/feature')\n",
    "sub_dir = Path('../build/sub')\n",
    "\n",
    "trn_file = data_dir / 'train.csv'\n",
    "tst_file = data_dir / 'test.csv'\n",
    "sample_file = data_dir / 'sample_submission.csv'\n",
    "\n",
    "target_col = 'class'\n",
    "seed = 42"
   ]
  },
  {
   "cell_type": "code",
   "execution_count": 5,
   "metadata": {
    "ExecuteTime": {
     "end_time": "2020-09-23T07:34:36.692424Z",
     "start_time": "2020-09-23T07:34:36.670182Z"
    }
   },
   "outputs": [],
   "source": [
    "algo_name = 'lgb'\n",
    "feature_name = 'feature'\n",
    "model_name = f'{algo_name}_{feature_name}'\n",
    "\n",
    "feature_file = feature_dir / f'{feature_name}.csv'\n",
    "sub_file = sub_dir / f'{model_name}.csv'"
   ]
  },
  {
   "cell_type": "code",
   "execution_count": 6,
   "metadata": {
    "ExecuteTime": {
     "end_time": "2020-09-23T07:34:38.147503Z",
     "start_time": "2020-09-23T07:34:36.694420Z"
    }
   },
   "outputs": [
    {
     "name": "stdout",
     "output_type": "stream",
     "text": [
      "(400000, 20)\n"
     ]
    },
    {
     "data": {
      "text/html": [
       "<div>\n",
       "<style scoped>\n",
       "    .dataframe tbody tr th:only-of-type {\n",
       "        vertical-align: middle;\n",
       "    }\n",
       "\n",
       "    .dataframe tbody tr th {\n",
       "        vertical-align: top;\n",
       "    }\n",
       "\n",
       "    .dataframe thead th {\n",
       "        text-align: right;\n",
       "    }\n",
       "</style>\n",
       "<table border=\"1\" class=\"dataframe\">\n",
       "  <thead>\n",
       "    <tr style=\"text-align: right;\">\n",
       "      <th></th>\n",
       "      <th>z</th>\n",
       "      <th>redshift</th>\n",
       "      <th>dered_u</th>\n",
       "      <th>dered_g</th>\n",
       "      <th>dered_r</th>\n",
       "      <th>dered_i</th>\n",
       "      <th>dered_z</th>\n",
       "      <th>nObserve</th>\n",
       "      <th>airmass_u</th>\n",
       "      <th>class</th>\n",
       "      <th>d_dered_u</th>\n",
       "      <th>d_dered_g</th>\n",
       "      <th>d_dered_r</th>\n",
       "      <th>d_dered_i</th>\n",
       "      <th>d_dered_z</th>\n",
       "      <th>d_dered_ig</th>\n",
       "      <th>d_dered_zg</th>\n",
       "      <th>d_dered_rz</th>\n",
       "      <th>d_dered_iz</th>\n",
       "      <th>d_obs_det</th>\n",
       "    </tr>\n",
       "    <tr>\n",
       "      <th>id</th>\n",
       "      <th></th>\n",
       "      <th></th>\n",
       "      <th></th>\n",
       "      <th></th>\n",
       "      <th></th>\n",
       "      <th></th>\n",
       "      <th></th>\n",
       "      <th></th>\n",
       "      <th></th>\n",
       "      <th></th>\n",
       "      <th></th>\n",
       "      <th></th>\n",
       "      <th></th>\n",
       "      <th></th>\n",
       "      <th></th>\n",
       "      <th></th>\n",
       "      <th></th>\n",
       "      <th></th>\n",
       "      <th></th>\n",
       "      <th></th>\n",
       "    </tr>\n",
       "  </thead>\n",
       "  <tbody>\n",
       "    <tr>\n",
       "      <th>0</th>\n",
       "      <td>16.9396</td>\n",
       "      <td>-8.1086e-05</td>\n",
       "      <td>23.1243</td>\n",
       "      <td>20.2578</td>\n",
       "      <td>18.9551</td>\n",
       "      <td>17.6321</td>\n",
       "      <td>16.9089</td>\n",
       "      <td>2.9444</td>\n",
       "      <td>1.1898</td>\n",
       "      <td>0.0</td>\n",
       "      <td>-0.1397</td>\n",
       "      <td>-0.0790</td>\n",
       "      <td>-0.0544</td>\n",
       "      <td>-0.0403</td>\n",
       "      <td>-0.0307</td>\n",
       "      <td>-2.6257</td>\n",
       "      <td>-3.3488</td>\n",
       "      <td>2.0462</td>\n",
       "      <td>0.7232</td>\n",
       "      <td>-15.0556</td>\n",
       "    </tr>\n",
       "    <tr>\n",
       "      <th>1</th>\n",
       "      <td>13.1689</td>\n",
       "      <td>4.5061e-03</td>\n",
       "      <td>14.9664</td>\n",
       "      <td>14.0045</td>\n",
       "      <td>13.4114</td>\n",
       "      <td>13.2363</td>\n",
       "      <td>13.1347</td>\n",
       "      <td>0.6931</td>\n",
       "      <td>1.2533</td>\n",
       "      <td>1.0</td>\n",
       "      <td>-0.0857</td>\n",
       "      <td>-0.0574</td>\n",
       "      <td>-0.0410</td>\n",
       "      <td>-0.0322</td>\n",
       "      <td>-0.0343</td>\n",
       "      <td>-0.7683</td>\n",
       "      <td>-0.8698</td>\n",
       "      <td>0.2767</td>\n",
       "      <td>0.1016</td>\n",
       "      <td>-0.3069</td>\n",
       "    </tr>\n",
       "    <tr>\n",
       "      <th>2</th>\n",
       "      <td>15.3500</td>\n",
       "      <td>4.7198e-04</td>\n",
       "      <td>16.6076</td>\n",
       "      <td>15.6866</td>\n",
       "      <td>15.4400</td>\n",
       "      <td>15.3217</td>\n",
       "      <td>15.2961</td>\n",
       "      <td>1.0986</td>\n",
       "      <td>1.0225</td>\n",
       "      <td>0.0</td>\n",
       "      <td>-0.1787</td>\n",
       "      <td>-0.1388</td>\n",
       "      <td>-0.0963</td>\n",
       "      <td>-0.0718</td>\n",
       "      <td>-0.0540</td>\n",
       "      <td>-0.3649</td>\n",
       "      <td>-0.3905</td>\n",
       "      <td>0.1440</td>\n",
       "      <td>0.0257</td>\n",
       "      <td>-0.9014</td>\n",
       "    </tr>\n",
       "    <tr>\n",
       "      <th>3</th>\n",
       "      <td>19.6346</td>\n",
       "      <td>5.8143e-06</td>\n",
       "      <td>25.3536</td>\n",
       "      <td>20.9947</td>\n",
       "      <td>20.0873</td>\n",
       "      <td>19.7947</td>\n",
       "      <td>19.5552</td>\n",
       "      <td>1.6094</td>\n",
       "      <td>1.2054</td>\n",
       "      <td>0.0</td>\n",
       "      <td>-0.3070</td>\n",
       "      <td>-0.1941</td>\n",
       "      <td>-0.1339</td>\n",
       "      <td>-0.1003</td>\n",
       "      <td>-0.0795</td>\n",
       "      <td>-1.2000</td>\n",
       "      <td>-1.4395</td>\n",
       "      <td>0.5321</td>\n",
       "      <td>0.2395</td>\n",
       "      <td>-1.3906</td>\n",
       "    </tr>\n",
       "    <tr>\n",
       "      <th>4</th>\n",
       "      <td>17.9826</td>\n",
       "      <td>-3.3247e-05</td>\n",
       "      <td>23.7714</td>\n",
       "      <td>20.4338</td>\n",
       "      <td>18.8630</td>\n",
       "      <td>18.1903</td>\n",
       "      <td>17.8759</td>\n",
       "      <td>2.6391</td>\n",
       "      <td>1.1939</td>\n",
       "      <td>0.0</td>\n",
       "      <td>-0.6820</td>\n",
       "      <td>-0.2653</td>\n",
       "      <td>-0.1794</td>\n",
       "      <td>-0.1339</td>\n",
       "      <td>-0.1067</td>\n",
       "      <td>-2.2436</td>\n",
       "      <td>-2.5579</td>\n",
       "      <td>0.9871</td>\n",
       "      <td>0.3144</td>\n",
       "      <td>-9.3609</td>\n",
       "    </tr>\n",
       "  </tbody>\n",
       "</table>\n",
       "</div>"
      ],
      "text/plain": [
       "          z    redshift  dered_u  dered_g  dered_r  dered_i  dered_z  \\\n",
       "id                                                                     \n",
       "0   16.9396 -8.1086e-05  23.1243  20.2578  18.9551  17.6321  16.9089   \n",
       "1   13.1689  4.5061e-03  14.9664  14.0045  13.4114  13.2363  13.1347   \n",
       "2   15.3500  4.7198e-04  16.6076  15.6866  15.4400  15.3217  15.2961   \n",
       "3   19.6346  5.8143e-06  25.3536  20.9947  20.0873  19.7947  19.5552   \n",
       "4   17.9826 -3.3247e-05  23.7714  20.4338  18.8630  18.1903  17.8759   \n",
       "\n",
       "    nObserve  airmass_u  class  d_dered_u  d_dered_g  d_dered_r  d_dered_i  \\\n",
       "id                                                                           \n",
       "0     2.9444     1.1898    0.0    -0.1397    -0.0790    -0.0544    -0.0403   \n",
       "1     0.6931     1.2533    1.0    -0.0857    -0.0574    -0.0410    -0.0322   \n",
       "2     1.0986     1.0225    0.0    -0.1787    -0.1388    -0.0963    -0.0718   \n",
       "3     1.6094     1.2054    0.0    -0.3070    -0.1941    -0.1339    -0.1003   \n",
       "4     2.6391     1.1939    0.0    -0.6820    -0.2653    -0.1794    -0.1339   \n",
       "\n",
       "    d_dered_z  d_dered_ig  d_dered_zg  d_dered_rz  d_dered_iz  d_obs_det  \n",
       "id                                                                        \n",
       "0     -0.0307     -2.6257     -3.3488      2.0462      0.7232   -15.0556  \n",
       "1     -0.0343     -0.7683     -0.8698      0.2767      0.1016    -0.3069  \n",
       "2     -0.0540     -0.3649     -0.3905      0.1440      0.0257    -0.9014  \n",
       "3     -0.0795     -1.2000     -1.4395      0.5321      0.2395    -1.3906  \n",
       "4     -0.1067     -2.2436     -2.5579      0.9871      0.3144    -9.3609  "
      ]
     },
     "execution_count": 6,
     "metadata": {},
     "output_type": "execute_result"
    }
   ],
   "source": [
    "df = pd.read_csv(feature_file, index_col=0)\n",
    "print(df.shape)\n",
    "df.head()"
   ]
  },
  {
   "cell_type": "code",
   "execution_count": 7,
   "metadata": {
    "ExecuteTime": {
     "end_time": "2020-09-23T07:34:38.209290Z",
     "start_time": "2020-09-23T07:34:38.149336Z"
    }
   },
   "outputs": [
    {
     "name": "stdout",
     "output_type": "stream",
     "text": [
      "(320000,) (320000, 19) (80000, 19)\n"
     ]
    }
   ],
   "source": [
    "y = df[target_col].values[:320000]\n",
    "df.drop(target_col, axis=1, inplace=True)\n",
    "trn = df.iloc[:320000]\n",
    "tst = df.iloc[320000:]\n",
    "feature_name = df.columns.tolist()\n",
    "print(y.shape, trn.shape, tst.shape)"
   ]
  },
  {
   "cell_type": "markdown",
   "metadata": {},
   "source": [
    "## 학습/검증 데이터 구분"
   ]
  },
  {
   "cell_type": "code",
   "execution_count": 8,
   "metadata": {
    "ExecuteTime": {
     "end_time": "2020-09-23T07:34:38.303136Z",
     "start_time": "2020-09-23T07:34:38.211662Z"
    }
   },
   "outputs": [
    {
     "name": "stdout",
     "output_type": "stream",
     "text": [
      "(256000, 19) (64000, 19) (256000,) (64000,)\n"
     ]
    }
   ],
   "source": [
    "X_trn, X_val, y_trn, y_val = train_test_split(trn, y, test_size=.2, random_state=seed)\n",
    "print(X_trn.shape, X_val.shape, y_trn.shape, y_val.shape)"
   ]
  },
  {
   "cell_type": "markdown",
   "metadata": {},
   "source": [
    "## Random Forest 모델 학습"
   ]
  },
  {
   "cell_type": "code",
   "execution_count": 9,
   "metadata": {
    "ExecuteTime": {
     "end_time": "2020-09-23T07:34:45.911474Z",
     "start_time": "2020-09-23T07:34:38.305273Z"
    },
    "scrolled": true
   },
   "outputs": [
    {
     "name": "stdout",
     "output_type": "stream",
     "text": [
      "[1]\tvalid_0's multi_logloss: 0.888817\n",
      "Training until validation scores don't improve for 10 rounds\n",
      "[2]\tvalid_0's multi_logloss: 0.808716\n",
      "[3]\tvalid_0's multi_logloss: 0.73642\n",
      "[4]\tvalid_0's multi_logloss: 0.67493\n",
      "[5]\tvalid_0's multi_logloss: 0.622153\n",
      "[6]\tvalid_0's multi_logloss: 0.580522\n",
      "[7]\tvalid_0's multi_logloss: 0.541283\n",
      "[8]\tvalid_0's multi_logloss: 0.509037\n",
      "[9]\tvalid_0's multi_logloss: 0.482079\n",
      "[10]\tvalid_0's multi_logloss: 0.452677\n",
      "[11]\tvalid_0's multi_logloss: 0.427118\n",
      "[12]\tvalid_0's multi_logloss: 0.403961\n",
      "[13]\tvalid_0's multi_logloss: 0.383394\n",
      "[14]\tvalid_0's multi_logloss: 0.364428\n",
      "[15]\tvalid_0's multi_logloss: 0.348016\n",
      "[16]\tvalid_0's multi_logloss: 0.334241\n",
      "[17]\tvalid_0's multi_logloss: 0.321063\n",
      "[18]\tvalid_0's multi_logloss: 0.308737\n",
      "[19]\tvalid_0's multi_logloss: 0.297626\n",
      "[20]\tvalid_0's multi_logloss: 0.287811\n",
      "[21]\tvalid_0's multi_logloss: 0.27825\n",
      "[22]\tvalid_0's multi_logloss: 0.26961\n",
      "[23]\tvalid_0's multi_logloss: 0.261913\n",
      "[24]\tvalid_0's multi_logloss: 0.255251\n",
      "[25]\tvalid_0's multi_logloss: 0.249147\n",
      "[26]\tvalid_0's multi_logloss: 0.244276\n",
      "[27]\tvalid_0's multi_logloss: 0.238584\n",
      "[28]\tvalid_0's multi_logloss: 0.233369\n",
      "[29]\tvalid_0's multi_logloss: 0.228661\n",
      "[30]\tvalid_0's multi_logloss: 0.224218\n",
      "[31]\tvalid_0's multi_logloss: 0.221098\n",
      "[32]\tvalid_0's multi_logloss: 0.217668\n",
      "[33]\tvalid_0's multi_logloss: 0.214128\n",
      "[34]\tvalid_0's multi_logloss: 0.210878\n",
      "[35]\tvalid_0's multi_logloss: 0.207931\n",
      "[36]\tvalid_0's multi_logloss: 0.20538\n",
      "[37]\tvalid_0's multi_logloss: 0.20288\n",
      "[38]\tvalid_0's multi_logloss: 0.200445\n",
      "[39]\tvalid_0's multi_logloss: 0.198375\n",
      "[40]\tvalid_0's multi_logloss: 0.196419\n",
      "[41]\tvalid_0's multi_logloss: 0.194399\n",
      "[42]\tvalid_0's multi_logloss: 0.192703\n",
      "[43]\tvalid_0's multi_logloss: 0.191124\n",
      "[44]\tvalid_0's multi_logloss: 0.189626\n",
      "[45]\tvalid_0's multi_logloss: 0.188421\n",
      "[46]\tvalid_0's multi_logloss: 0.187082\n",
      "[47]\tvalid_0's multi_logloss: 0.185866\n",
      "[48]\tvalid_0's multi_logloss: 0.184847\n",
      "[49]\tvalid_0's multi_logloss: 0.183792\n",
      "[50]\tvalid_0's multi_logloss: 0.182771\n",
      "[51]\tvalid_0's multi_logloss: 0.181812\n",
      "[52]\tvalid_0's multi_logloss: 0.181021\n",
      "[53]\tvalid_0's multi_logloss: 0.180188\n",
      "[54]\tvalid_0's multi_logloss: 0.179476\n",
      "[55]\tvalid_0's multi_logloss: 0.178834\n",
      "[56]\tvalid_0's multi_logloss: 0.178237\n",
      "[57]\tvalid_0's multi_logloss: 0.177583\n",
      "[58]\tvalid_0's multi_logloss: 0.176999\n",
      "[59]\tvalid_0's multi_logloss: 0.176388\n",
      "[60]\tvalid_0's multi_logloss: 0.175812\n",
      "[61]\tvalid_0's multi_logloss: 0.175346\n",
      "[62]\tvalid_0's multi_logloss: 0.174852\n",
      "[63]\tvalid_0's multi_logloss: 0.174447\n",
      "[64]\tvalid_0's multi_logloss: 0.173964\n",
      "[65]\tvalid_0's multi_logloss: 0.173533\n",
      "[66]\tvalid_0's multi_logloss: 0.173169\n",
      "[67]\tvalid_0's multi_logloss: 0.172809\n",
      "[68]\tvalid_0's multi_logloss: 0.172418\n",
      "[69]\tvalid_0's multi_logloss: 0.172074\n",
      "[70]\tvalid_0's multi_logloss: 0.171756\n",
      "[71]\tvalid_0's multi_logloss: 0.171481\n",
      "[72]\tvalid_0's multi_logloss: 0.171192\n",
      "[73]\tvalid_0's multi_logloss: 0.170923\n",
      "[74]\tvalid_0's multi_logloss: 0.170707\n",
      "[75]\tvalid_0's multi_logloss: 0.17042\n",
      "[76]\tvalid_0's multi_logloss: 0.170871\n",
      "[77]\tvalid_0's multi_logloss: 0.170594\n",
      "[78]\tvalid_0's multi_logloss: 0.170273\n",
      "[79]\tvalid_0's multi_logloss: 0.169802\n",
      "[80]\tvalid_0's multi_logloss: 0.169603\n",
      "[81]\tvalid_0's multi_logloss: 0.169404\n",
      "[82]\tvalid_0's multi_logloss: 0.16919\n",
      "[83]\tvalid_0's multi_logloss: 0.169024\n",
      "[84]\tvalid_0's multi_logloss: 0.1688\n",
      "[85]\tvalid_0's multi_logloss: 0.170769\n",
      "[86]\tvalid_0's multi_logloss: 0.169504\n",
      "[87]\tvalid_0's multi_logloss: 0.169375\n",
      "[88]\tvalid_0's multi_logloss: 0.169265\n",
      "[89]\tvalid_0's multi_logloss: 0.169105\n",
      "[90]\tvalid_0's multi_logloss: 0.168939\n",
      "[91]\tvalid_0's multi_logloss: 0.168824\n",
      "[92]\tvalid_0's multi_logloss: 0.168713\n",
      "[93]\tvalid_0's multi_logloss: 0.168551\n",
      "[94]\tvalid_0's multi_logloss: 0.168442\n",
      "[95]\tvalid_0's multi_logloss: 0.168354\n",
      "[96]\tvalid_0's multi_logloss: 0.16821\n",
      "[97]\tvalid_0's multi_logloss: 0.168084\n",
      "[98]\tvalid_0's multi_logloss: 0.167978\n",
      "[99]\tvalid_0's multi_logloss: 0.16785\n",
      "[100]\tvalid_0's multi_logloss: 0.167742\n",
      "[101]\tvalid_0's multi_logloss: 0.167693\n",
      "[102]\tvalid_0's multi_logloss: 0.167673\n",
      "[103]\tvalid_0's multi_logloss: 0.167475\n",
      "[104]\tvalid_0's multi_logloss: 0.167424\n",
      "[105]\tvalid_0's multi_logloss: 0.16737\n",
      "[106]\tvalid_0's multi_logloss: 0.167374\n",
      "[107]\tvalid_0's multi_logloss: 0.167552\n",
      "[108]\tvalid_0's multi_logloss: 0.16726\n",
      "[109]\tvalid_0's multi_logloss: 0.167194\n",
      "[110]\tvalid_0's multi_logloss: 0.167149\n",
      "[111]\tvalid_0's multi_logloss: 0.167097\n",
      "[112]\tvalid_0's multi_logloss: 0.167004\n",
      "[113]\tvalid_0's multi_logloss: 0.166939\n",
      "[114]\tvalid_0's multi_logloss: 0.166868\n",
      "[115]\tvalid_0's multi_logloss: 0.166838\n",
      "[116]\tvalid_0's multi_logloss: 0.16676\n",
      "[117]\tvalid_0's multi_logloss: 0.166722\n",
      "[118]\tvalid_0's multi_logloss: 0.166703\n",
      "[119]\tvalid_0's multi_logloss: 0.166664\n",
      "[120]\tvalid_0's multi_logloss: 0.166539\n",
      "[121]\tvalid_0's multi_logloss: 0.166496\n",
      "[122]\tvalid_0's multi_logloss: 0.166463\n",
      "[123]\tvalid_0's multi_logloss: 0.166434\n",
      "[124]\tvalid_0's multi_logloss: 0.166445\n",
      "[125]\tvalid_0's multi_logloss: 0.166406\n",
      "[126]\tvalid_0's multi_logloss: 0.166361\n",
      "[127]\tvalid_0's multi_logloss: 0.166329\n",
      "[128]\tvalid_0's multi_logloss: 0.166508\n",
      "[129]\tvalid_0's multi_logloss: 0.166394\n",
      "[130]\tvalid_0's multi_logloss: 0.166367\n",
      "[131]\tvalid_0's multi_logloss: 0.166314\n",
      "[132]\tvalid_0's multi_logloss: 0.166249\n",
      "[133]\tvalid_0's multi_logloss: 0.166234\n",
      "[134]\tvalid_0's multi_logloss: 0.166162\n",
      "[135]\tvalid_0's multi_logloss: 0.16609\n",
      "[136]\tvalid_0's multi_logloss: 0.166088\n",
      "[137]\tvalid_0's multi_logloss: 0.16606\n",
      "[138]\tvalid_0's multi_logloss: 0.166025\n",
      "[139]\tvalid_0's multi_logloss: 0.166032\n",
      "[140]\tvalid_0's multi_logloss: 0.165969\n",
      "[141]\tvalid_0's multi_logloss: 0.165969\n",
      "[142]\tvalid_0's multi_logloss: 0.165949\n",
      "[143]\tvalid_0's multi_logloss: 0.165998\n",
      "[144]\tvalid_0's multi_logloss: 0.165946\n",
      "[145]\tvalid_0's multi_logloss: 0.165898\n",
      "[146]\tvalid_0's multi_logloss: 0.165873\n",
      "[147]\tvalid_0's multi_logloss: 0.165844\n",
      "[148]\tvalid_0's multi_logloss: 0.165806\n",
      "[149]\tvalid_0's multi_logloss: 0.165815\n",
      "[150]\tvalid_0's multi_logloss: 0.16581\n",
      "[151]\tvalid_0's multi_logloss: 0.165789\n",
      "[152]\tvalid_0's multi_logloss: 0.165771\n",
      "[153]\tvalid_0's multi_logloss: 0.165726\n",
      "[154]\tvalid_0's multi_logloss: 0.165692\n",
      "[155]\tvalid_0's multi_logloss: 0.165629\n",
      "[156]\tvalid_0's multi_logloss: 0.165621\n",
      "[157]\tvalid_0's multi_logloss: 0.165612\n",
      "[158]\tvalid_0's multi_logloss: 0.165554\n",
      "[159]\tvalid_0's multi_logloss: 0.16551\n",
      "[160]\tvalid_0's multi_logloss: 0.165483\n",
      "[161]\tvalid_0's multi_logloss: 0.165447\n",
      "[162]\tvalid_0's multi_logloss: 0.165442\n",
      "[163]\tvalid_0's multi_logloss: 0.165427\n",
      "[164]\tvalid_0's multi_logloss: 0.165416\n",
      "[165]\tvalid_0's multi_logloss: 0.165384\n",
      "[166]\tvalid_0's multi_logloss: 0.165401\n",
      "[167]\tvalid_0's multi_logloss: 0.165404\n",
      "[168]\tvalid_0's multi_logloss: 0.165413\n",
      "[169]\tvalid_0's multi_logloss: 0.165382\n",
      "[170]\tvalid_0's multi_logloss: 0.165358\n",
      "[171]\tvalid_0's multi_logloss: 0.165325\n",
      "[172]\tvalid_0's multi_logloss: 0.165303\n",
      "[173]\tvalid_0's multi_logloss: 0.165287\n",
      "[174]\tvalid_0's multi_logloss: 0.165236\n",
      "[175]\tvalid_0's multi_logloss: 0.165245\n",
      "[176]\tvalid_0's multi_logloss: 0.165261\n",
      "[177]\tvalid_0's multi_logloss: 0.165269\n",
      "[178]\tvalid_0's multi_logloss: 0.165265\n",
      "[179]\tvalid_0's multi_logloss: 0.165246\n",
      "[180]\tvalid_0's multi_logloss: 0.165202\n",
      "[181]\tvalid_0's multi_logloss: 0.16519\n",
      "[182]\tvalid_0's multi_logloss: 0.165189\n",
      "[183]\tvalid_0's multi_logloss: 0.165184\n",
      "[184]\tvalid_0's multi_logloss: 0.165182\n",
      "[185]\tvalid_0's multi_logloss: 0.165178\n",
      "[186]\tvalid_0's multi_logloss: 0.165086\n",
      "[187]\tvalid_0's multi_logloss: 0.165076\n",
      "[188]\tvalid_0's multi_logloss: 0.165062\n",
      "[189]\tvalid_0's multi_logloss: 0.165028\n",
      "[190]\tvalid_0's multi_logloss: 0.165012\n",
      "[191]\tvalid_0's multi_logloss: 0.165017\n",
      "[192]\tvalid_0's multi_logloss: 0.165027\n",
      "[193]\tvalid_0's multi_logloss: 0.165022\n",
      "[194]\tvalid_0's multi_logloss: 0.165048\n",
      "[195]\tvalid_0's multi_logloss: 0.165034\n",
      "[196]\tvalid_0's multi_logloss: 0.165014\n",
      "[197]\tvalid_0's multi_logloss: 0.165018\n",
      "[198]\tvalid_0's multi_logloss: 0.165015\n",
      "[199]\tvalid_0's multi_logloss: 0.164988\n",
      "[200]\tvalid_0's multi_logloss: 0.164967\n",
      "[201]\tvalid_0's multi_logloss: 0.164949\n",
      "[202]\tvalid_0's multi_logloss: 0.164952\n",
      "[203]\tvalid_0's multi_logloss: 0.164935\n",
      "[204]\tvalid_0's multi_logloss: 0.164923\n",
      "[205]\tvalid_0's multi_logloss: 0.164958\n",
      "[206]\tvalid_0's multi_logloss: 0.164947\n",
      "[207]\tvalid_0's multi_logloss: 0.164956\n",
      "[208]\tvalid_0's multi_logloss: 0.164933\n",
      "[209]\tvalid_0's multi_logloss: 0.164924\n",
      "[210]\tvalid_0's multi_logloss: 0.164938\n"
     ]
    },
    {
     "name": "stdout",
     "output_type": "stream",
     "text": [
      "[211]\tvalid_0's multi_logloss: 0.164912\n",
      "[212]\tvalid_0's multi_logloss: 0.164944\n",
      "[213]\tvalid_0's multi_logloss: 0.164909\n",
      "[214]\tvalid_0's multi_logloss: 0.164904\n",
      "[215]\tvalid_0's multi_logloss: 0.164936\n",
      "[216]\tvalid_0's multi_logloss: 0.164909\n",
      "[217]\tvalid_0's multi_logloss: 0.164912\n",
      "[218]\tvalid_0's multi_logloss: 0.164897\n",
      "[219]\tvalid_0's multi_logloss: 0.16492\n",
      "[220]\tvalid_0's multi_logloss: 0.164907\n",
      "[221]\tvalid_0's multi_logloss: 0.164894\n",
      "[222]\tvalid_0's multi_logloss: 0.164931\n",
      "[223]\tvalid_0's multi_logloss: 0.164911\n",
      "[224]\tvalid_0's multi_logloss: 0.164979\n",
      "[225]\tvalid_0's multi_logloss: 0.164981\n",
      "[226]\tvalid_0's multi_logloss: 0.164956\n",
      "[227]\tvalid_0's multi_logloss: 0.164955\n",
      "[228]\tvalid_0's multi_logloss: 0.164969\n",
      "[229]\tvalid_0's multi_logloss: 0.164976\n",
      "[230]\tvalid_0's multi_logloss: 0.164977\n",
      "[231]\tvalid_0's multi_logloss: 0.164981\n",
      "Early stopping, best iteration is:\n",
      "[221]\tvalid_0's multi_logloss: 0.164894\n"
     ]
    }
   ],
   "source": [
    "clf = lgb.LGBMClassifier(objective='multiclass',\n",
    "                         n_estimators=1000,\n",
    "                         num_leaves=64,\n",
    "                         learning_rate=0.1,\n",
    "                         min_child_samples=10,\n",
    "                         subsample=.5,\n",
    "                         subsample_freq=1,\n",
    "                         colsample_bytree=.8,\n",
    "                         random_state=seed,\n",
    "                         n_jobs=-1)\n",
    "clf.fit(X_trn, y_trn,\n",
    "        eval_set=[(X_val, y_val)],\n",
    "        eval_metric='multiclass',\n",
    "        early_stopping_rounds=10)\n",
    "p_val = clf.predict(X_val)\n",
    "p_tst = clf.predict(tst)"
   ]
  },
  {
   "cell_type": "code",
   "execution_count": 10,
   "metadata": {
    "ExecuteTime": {
     "end_time": "2020-09-23T07:34:45.947032Z",
     "start_time": "2020-09-23T07:34:45.913685Z"
    }
   },
   "outputs": [
    {
     "name": "stdout",
     "output_type": "stream",
     "text": [
      "93.1250%\n"
     ]
    }
   ],
   "source": [
    "print(f'{accuracy_score(y_val, p_val) * 100:.4f}%')"
   ]
  },
  {
   "cell_type": "markdown",
   "metadata": {},
   "source": [
    "## 피처 중요도 시각화"
   ]
  },
  {
   "cell_type": "code",
   "execution_count": 11,
   "metadata": {
    "ExecuteTime": {
     "end_time": "2020-09-23T07:34:46.340310Z",
     "start_time": "2020-09-23T07:34:45.962525Z"
    }
   },
   "outputs": [
    {
     "data": {
      "text/plain": [
       "<matplotlib.axes._subplots.AxesSubplot at 0x7fbd02409c90>"
      ]
     },
     "execution_count": 11,
     "metadata": {},
     "output_type": "execute_result"
    },
    {
     "data": {
      "image/png": "[encoded data removed]",
      "text/plain": [
       "<Figure size 1152x576 with 1 Axes>"
      ]
     },
     "metadata": {},
     "output_type": "display_data"
    }
   ],
   "source": [
    "imp = pd.DataFrame({'feature': trn.columns, 'importance': clf.feature_importances_})\n",
    "imp = imp.sort_values('importance').set_index('feature')\n",
    "imp.plot(kind='barh')"
   ]
  },
  {
   "cell_type": "markdown",
   "metadata": {},
   "source": [
    "## 제출 파일 생성"
   ]
  },
  {
   "cell_type": "code",
   "execution_count": 12,
   "metadata": {
    "ExecuteTime": {
     "end_time": "2020-09-23T07:34:46.382737Z",
     "start_time": "2020-09-23T07:34:46.342241Z"
    }
   },
   "outputs": [
    {
     "name": "stdout",
     "output_type": "stream",
     "text": [
      "(80000, 1)\n"
     ]
    },
    {
     "data": {
      "text/html": [
       "<div>\n",
       "<style scoped>\n",
       "    .dataframe tbody tr th:only-of-type {\n",
       "        vertical-align: middle;\n",
       "    }\n",
       "\n",
       "    .dataframe tbody tr th {\n",
       "        vertical-align: top;\n",
       "    }\n",
       "\n",
       "    .dataframe thead th {\n",
       "        text-align: right;\n",
       "    }\n",
       "</style>\n",
       "<table border=\"1\" class=\"dataframe\">\n",
       "  <thead>\n",
       "    <tr style=\"text-align: right;\">\n",
       "      <th></th>\n",
       "      <th>class</th>\n",
       "    </tr>\n",
       "    <tr>\n",
       "      <th>id</th>\n",
       "      <th></th>\n",
       "    </tr>\n",
       "  </thead>\n",
       "  <tbody>\n",
       "    <tr>\n",
       "      <th>320000</th>\n",
       "      <td>0</td>\n",
       "    </tr>\n",
       "    <tr>\n",
       "      <th>320001</th>\n",
       "      <td>0</td>\n",
       "    </tr>\n",
       "    <tr>\n",
       "      <th>320002</th>\n",
       "      <td>0</td>\n",
       "    </tr>\n",
       "    <tr>\n",
       "      <th>320003</th>\n",
       "      <td>0</td>\n",
       "    </tr>\n",
       "    <tr>\n",
       "      <th>320004</th>\n",
       "      <td>0</td>\n",
       "    </tr>\n",
       "  </tbody>\n",
       "</table>\n",
       "</div>"
      ],
      "text/plain": [
       "        class\n",
       "id           \n",
       "320000      0\n",
       "320001      0\n",
       "320002      0\n",
       "320003      0\n",
       "320004      0"
      ]
     },
     "execution_count": 12,
     "metadata": {},
     "output_type": "execute_result"
    }
   ],
   "source": [
    "sub = pd.read_csv(sample_file, index_col=0)\n",
    "print(sub.shape)\n",
    "sub.head()"
   ]
  },
  {
   "cell_type": "code",
   "execution_count": 13,
   "metadata": {
    "ExecuteTime": {
     "end_time": "2020-09-23T07:34:46.414452Z",
     "start_time": "2020-09-23T07:34:46.385738Z"
    }
   },
   "outputs": [
    {
     "data": {
      "text/html": [
       "<div>\n",
       "<style scoped>\n",
       "    .dataframe tbody tr th:only-of-type {\n",
       "        vertical-align: middle;\n",
       "    }\n",
       "\n",
       "    .dataframe tbody tr th {\n",
       "        vertical-align: top;\n",
       "    }\n",
       "\n",
       "    .dataframe thead th {\n",
       "        text-align: right;\n",
       "    }\n",
       "</style>\n",
       "<table border=\"1\" class=\"dataframe\">\n",
       "  <thead>\n",
       "    <tr style=\"text-align: right;\">\n",
       "      <th></th>\n",
       "      <th>class</th>\n",
       "    </tr>\n",
       "    <tr>\n",
       "      <th>id</th>\n",
       "      <th></th>\n",
       "    </tr>\n",
       "  </thead>\n",
       "  <tbody>\n",
       "    <tr>\n",
       "      <th>320000</th>\n",
       "      <td>2.0</td>\n",
       "    </tr>\n",
       "    <tr>\n",
       "      <th>320001</th>\n",
       "      <td>0.0</td>\n",
       "    </tr>\n",
       "    <tr>\n",
       "      <th>320002</th>\n",
       "      <td>2.0</td>\n",
       "    </tr>\n",
       "    <tr>\n",
       "      <th>320003</th>\n",
       "      <td>0.0</td>\n",
       "    </tr>\n",
       "    <tr>\n",
       "      <th>320004</th>\n",
       "      <td>2.0</td>\n",
       "    </tr>\n",
       "  </tbody>\n",
       "</table>\n",
       "</div>"
      ],
      "text/plain": [
       "        class\n",
       "id           \n",
       "320000    2.0\n",
       "320001    0.0\n",
       "320002    2.0\n",
       "320003    0.0\n",
       "320004    2.0"
      ]
     },
     "execution_count": 13,
     "metadata": {},
     "output_type": "execute_result"
    }
   ],
   "source": [
    "sub[target_col] = p_tst\n",
    "sub.head()"
   ]
  },
  {
   "cell_type": "code",
   "execution_count": 14,
   "metadata": {
    "ExecuteTime": {
     "end_time": "2020-09-23T07:34:46.449572Z",
     "start_time": "2020-09-23T07:34:46.416833Z"
    }
   },
   "outputs": [
    {
     "data": {
      "text/plain": [
       "2.0    41006\n",
       "0.0    29976\n",
       "1.0     9018\n",
       "Name: class, dtype: int64"
      ]
     },
     "execution_count": 14,
     "metadata": {},
     "output_type": "execute_result"
    }
   ],
   "source": [
    "sub[target_col].value_counts()"
   ]
  },
  {
   "cell_type": "code",
   "execution_count": 15,
   "metadata": {
    "ExecuteTime": {
     "end_time": "2020-09-23T07:34:46.640551Z",
     "start_time": "2020-09-23T07:34:46.451875Z"
    }
   },
   "outputs": [],
   "source": [
    "sub.to_csv(sub_file)"
   ]
  }
 ],
 "metadata": {
  "kernelspec": {
   "display_name": "Python 3",
   "language": "python",
   "name": "python3"
  },
  "language_info": {
   "codemirror_mode": {
    "name": "ipython",
    "version": 3
   },
   "file_extension": ".py",
   "mimetype": "text/x-python",
   "name": "python",
   "nbconvert_exporter": "python",
   "pygments_lexer": "ipython3",
   "version": "3.8.2"
  },
  "toc": {
   "base_numbering": 1,
   "nav_menu": {},
   "number_sections": true,
   "sideBar": true,
   "skip_h1_title": true,
   "title_cell": "Table of Contents",
   "title_sidebar": "Contents",
   "toc_cell": false,
   "toc_position": {},
   "toc_section_display": true,
   "toc_window_display": false
  }
 },
 "nbformat": 4,
 "nbformat_minor": 4
}
