{
  "nbformat": 4,
  "nbformat_minor": 0,
  "metadata": {
    "kernelspec": {
      "display_name": "Python 3",
      "language": "python",
      "name": "python3"
    },
    "language_info": {
      "codemirror_mode": {
        "name": "ipython",
        "version": 3
      },
      "file_extension": ".py",
      "mimetype": "text/x-python",
      "name": "python",
      "nbconvert_exporter": "python",
      "pygments_lexer": "ipython3",
      "version": "3.7.6"
    },
    "toc": {
      "base_numbering": 1,
      "nav_menu": {},
      "number_sections": true,
      "sideBar": true,
      "skip_h1_title": true,
      "title_cell": "Table of Contents",
      "title_sidebar": "Contents",
      "toc_cell": false,
      "toc_position": {},
      "toc_section_display": true,
      "toc_window_display": false
    },
    "colab": {
      "name": "DACON_RFcv_3.ipynb",
      "provenance": [],
      "collapsed_sections": [],
      "include_colab_link": true
    }
  },
  "cells": [
    {
      "cell_type": "markdown",
      "metadata": {
        "id": "view-in-github",
        "colab_type": "text"
      },
      "source": [
        "<a href=\"https://colab.research.google.com/github/im-hjk/dankook_dacon/blob/master/DACON_RFcv_3.ipynb\" target=\"_parent\"><img src=\"https://colab.research.google.com/assets/colab-badge.svg\" alt=\"Open In Colab\"/></a>"
      ]
    },
    {
      "cell_type": "markdown",
      "metadata": {
        "id": "rXT-02HOcRV4"
      },
      "source": [
        "# Cross val RF"
      ]
    },
    {
      "cell_type": "markdown",
      "metadata": {
        "id": "o6Hmr4K-cRV5"
      },
      "source": [
        "## 라이브러리 import 및 설정"
      ]
    },
    {
      "cell_type": "code",
      "metadata": {
        "ExecuteTime": {
          "end_time": "2020-09-28T04:34:25.874990Z",
          "start_time": "2020-09-28T04:34:25.594454Z"
        },
        "id": "PMUa_ALCcRV5"
      },
      "source": [
        "%reload_ext autoreload\n",
        "%autoreload 2\n",
        "%matplotlib inline"
      ],
      "execution_count": null,
      "outputs": []
    },
    {
      "cell_type": "code",
      "metadata": {
        "id": "_TJCIC4wdqk6",
        "outputId": "abb4ce09-2121-4dcf-8bd2-4ab818611038",
        "colab": {
          "base_uri": "https://localhost:8080/",
          "height": 35
        }
      },
      "source": [
        "from google.colab import drive \n",
        "drive.mount('/content/drive')"
      ],
      "execution_count": null,
      "outputs": [
        {
          "output_type": "stream",
          "text": [
            "Mounted at /content/drive\n"
          ],
          "name": "stdout"
        }
      ]
    },
    {
      "cell_type": "code",
      "metadata": {
        "ExecuteTime": {
          "end_time": "2020-09-28T04:34:26.591232Z",
          "start_time": "2020-09-28T04:34:25.877126Z"
        },
        "id": "WjMTJkYucRV7"
      },
      "source": [
        "from matplotlib import pyplot as plt\n",
        "from matplotlib import rcParams\n",
        "import numpy as np\n",
        "from pathlib import Path\n",
        "import io\n",
        "import pandas as pd\n",
        "from sklearn.ensemble import RandomForestClassifier\n",
        "from sklearn.metrics import accuracy_score\n",
        "from sklearn.model_selection import StratifiedKFold\n",
        "import seaborn as sns\n",
        "import warnings"
      ],
      "execution_count": null,
      "outputs": []
    },
    {
      "cell_type": "code",
      "metadata": {
        "ExecuteTime": {
          "end_time": "2020-09-28T04:34:26.617857Z",
          "start_time": "2020-09-28T04:34:26.594734Z"
        },
        "id": "W_YKCCm7cRV9"
      },
      "source": [
        "rcParams['figure.figsize'] = (16, 8)\n",
        "plt.style.use('fivethirtyeight')\n",
        "pd.set_option('max_columns', 100)\n",
        "pd.set_option(\"display.precision\", 4)\n",
        "warnings.simplefilter('ignore')"
      ],
      "execution_count": null,
      "outputs": []
    },
    {
      "cell_type": "markdown",
      "metadata": {
        "id": "sYJfVBzScRV_"
      },
      "source": [
        "## 학습데이터 로드"
      ]
    },
    {
      "cell_type": "markdown",
      "metadata": {
        "id": "-ghzpgjNcRV_"
      },
      "source": [
        "[03-pandas-eda.ipynb](https://github.com/kaggler-tv/dku-kaggle-class/blob/master/notebook/03-pandas-eda.ipynb)에서 생성한 `feature.csv` 피처파일 사용"
      ]
    },
    {
      "cell_type": "code",
      "metadata": {
        "ExecuteTime": {
          "end_time": "2020-09-28T04:34:26.645612Z",
          "start_time": "2020-09-28T04:34:26.620930Z"
        },
        "id": "RS3fPQz_cRV_"
      },
      "source": [
        "main_path = Path('/content/drive/My Drive/Colab Notebooks/dacon_dkdkdk')\n",
        "data_dir = main_path / 'data/dacon-dku'\n",
        "feature_dir = main_path / 'build/feature'\n",
        "val_dir = main_path / 'build/val'\n",
        "tst_dir = main_path / 'build/tst'\n",
        "sub_dir = main_path / 'build/sub'\n",
        "\n",
        "trn_file = data_dir / 'train.csv'\n",
        "tst_file = data_dir / 'test.csv'\n",
        "sample_file = data_dir / 'sample_submission.csv'\n",
        "\n",
        "target_col = 'class'\n",
        "n_fold = 5\n",
        "n_class = 3\n",
        "seed = 42"
      ],
      "execution_count": null,
      "outputs": []
    },
    {
      "cell_type": "code",
      "metadata": {
        "ExecuteTime": {
          "end_time": "2020-09-28T04:34:26.671978Z",
          "start_time": "2020-09-28T04:34:26.647788Z"
        },
        "id": "w23CefbUcRWB"
      },
      "source": [
        "algo_name = 'rfcv'\n",
        "feature_name = 'feature'\n",
        "model_name = f'{algo_name}_{feature_name}'\n",
        "\n",
        "feature_file = feature_dir / f'{feature_name}.csv'\n",
        "p_val_file = val_dir / f'{model_name}.val.csv'\n",
        "p_tst_file = tst_dir / f'{model_name}.tst.csv'\n",
        "sub_file = sub_dir / f'{model_name}.csv'"
      ],
      "execution_count": null,
      "outputs": []
    },
    {
      "cell_type": "code",
      "metadata": {
        "ExecuteTime": {
          "end_time": "2020-09-28T04:34:27.994824Z",
          "start_time": "2020-09-28T04:34:26.674087Z"
        },
        "id": "ZFCYVeGUcRWD",
        "outputId": "d162c4f7-aabb-44d5-bfb0-0635d77d9e59",
        "colab": {
          "base_uri": "https://localhost:8080/",
          "height": 358
        }
      },
      "source": [
        "df = pd.read_csv(feature_file, index_col=0)\n",
        "print(df.shape)\n",
        "df.head()"
      ],
      "execution_count": null,
      "outputs": [
        {
          "output_type": "stream",
          "text": [
            "(400000, 29)\n"
          ],
          "name": "stdout"
        },
        {
          "output_type": "execute_result",
          "data": {
            "text/html": [
              "<div>\n",
              "<style scoped>\n",
              "    .dataframe tbody tr th:only-of-type {\n",
              "        vertical-align: middle;\n",
              "    }\n",
              "\n",
              "    .dataframe tbody tr th {\n",
              "        vertical-align: top;\n",
              "    }\n",
              "\n",
              "    .dataframe thead th {\n",
              "        text-align: right;\n",
              "    }\n",
              "</style>\n",
              "<table border=\"1\" class=\"dataframe\">\n",
              "  <thead>\n",
              "    <tr style=\"text-align: right;\">\n",
              "      <th></th>\n",
              "      <th>z</th>\n",
              "      <th>redshift</th>\n",
              "      <th>dered_u</th>\n",
              "      <th>dered_g</th>\n",
              "      <th>dered_r</th>\n",
              "      <th>dered_i</th>\n",
              "      <th>dered_z</th>\n",
              "      <th>nDetect</th>\n",
              "      <th>class</th>\n",
              "      <th>airmass</th>\n",
              "      <th>n_obMde</th>\n",
              "      <th>d_dered_u</th>\n",
              "      <th>d_dered_g</th>\n",
              "      <th>d_dered_r</th>\n",
              "      <th>d_dered_i</th>\n",
              "      <th>d_dered_z</th>\n",
              "      <th>u/g</th>\n",
              "      <th>u/r</th>\n",
              "      <th>u/i</th>\n",
              "      <th>u/z</th>\n",
              "      <th>g/i</th>\n",
              "      <th>g/z</th>\n",
              "      <th>r/i</th>\n",
              "      <th>r/z</th>\n",
              "      <th>i/z</th>\n",
              "      <th>d_dered_ig</th>\n",
              "      <th>d_dered_zg</th>\n",
              "      <th>d_dered_rz</th>\n",
              "      <th>d_dered_iz</th>\n",
              "    </tr>\n",
              "    <tr>\n",
              "      <th>id</th>\n",
              "      <th></th>\n",
              "      <th></th>\n",
              "      <th></th>\n",
              "      <th></th>\n",
              "      <th></th>\n",
              "      <th></th>\n",
              "      <th></th>\n",
              "      <th></th>\n",
              "      <th></th>\n",
              "      <th></th>\n",
              "      <th></th>\n",
              "      <th></th>\n",
              "      <th></th>\n",
              "      <th></th>\n",
              "      <th></th>\n",
              "      <th></th>\n",
              "      <th></th>\n",
              "      <th></th>\n",
              "      <th></th>\n",
              "      <th></th>\n",
              "      <th></th>\n",
              "      <th></th>\n",
              "      <th></th>\n",
              "      <th></th>\n",
              "      <th></th>\n",
              "      <th></th>\n",
              "      <th></th>\n",
              "      <th></th>\n",
              "      <th></th>\n",
              "    </tr>\n",
              "  </thead>\n",
              "  <tbody>\n",
              "    <tr>\n",
              "      <th>0</th>\n",
              "      <td>16.9396</td>\n",
              "      <td>-8.1086e-05</td>\n",
              "      <td>23.1243</td>\n",
              "      <td>20.2578</td>\n",
              "      <td>18.9551</td>\n",
              "      <td>17.6321</td>\n",
              "      <td>16.9089</td>\n",
              "      <td>18</td>\n",
              "      <td>0.0</td>\n",
              "      <td>1.1898</td>\n",
              "      <td>0</td>\n",
              "      <td>-0.1397</td>\n",
              "      <td>-0.0790</td>\n",
              "      <td>-0.0544</td>\n",
              "      <td>-0.0403</td>\n",
              "      <td>-0.0307</td>\n",
              "      <td>1.1439</td>\n",
              "      <td>1.2238</td>\n",
              "      <td>1.3164</td>\n",
              "      <td>1.3733</td>\n",
              "      <td>1.1508</td>\n",
              "      <td>1.2005</td>\n",
              "      <td>1.0757</td>\n",
              "      <td>1.1222</td>\n",
              "      <td>1.0433</td>\n",
              "      <td>-2.6257</td>\n",
              "      <td>-3.3488</td>\n",
              "      <td>2.0462</td>\n",
              "      <td>0.7232</td>\n",
              "    </tr>\n",
              "    <tr>\n",
              "      <th>1</th>\n",
              "      <td>13.1689</td>\n",
              "      <td>4.5061e-03</td>\n",
              "      <td>14.9664</td>\n",
              "      <td>14.0045</td>\n",
              "      <td>13.4114</td>\n",
              "      <td>13.2363</td>\n",
              "      <td>13.1347</td>\n",
              "      <td>1</td>\n",
              "      <td>1.0</td>\n",
              "      <td>1.2533</td>\n",
              "      <td>0</td>\n",
              "      <td>-0.0857</td>\n",
              "      <td>-0.0574</td>\n",
              "      <td>-0.0410</td>\n",
              "      <td>-0.0322</td>\n",
              "      <td>-0.0343</td>\n",
              "      <td>1.0704</td>\n",
              "      <td>1.1189</td>\n",
              "      <td>1.1344</td>\n",
              "      <td>1.1430</td>\n",
              "      <td>1.0598</td>\n",
              "      <td>1.0678</td>\n",
              "      <td>1.0139</td>\n",
              "      <td>1.0215</td>\n",
              "      <td>1.0076</td>\n",
              "      <td>-0.7683</td>\n",
              "      <td>-0.8698</td>\n",
              "      <td>0.2767</td>\n",
              "      <td>0.1016</td>\n",
              "    </tr>\n",
              "    <tr>\n",
              "      <th>2</th>\n",
              "      <td>15.3500</td>\n",
              "      <td>4.7198e-04</td>\n",
              "      <td>16.6076</td>\n",
              "      <td>15.6866</td>\n",
              "      <td>15.4400</td>\n",
              "      <td>15.3217</td>\n",
              "      <td>15.2961</td>\n",
              "      <td>2</td>\n",
              "      <td>0.0</td>\n",
              "      <td>1.0225</td>\n",
              "      <td>0</td>\n",
              "      <td>-0.1787</td>\n",
              "      <td>-0.1388</td>\n",
              "      <td>-0.0963</td>\n",
              "      <td>-0.0718</td>\n",
              "      <td>-0.0540</td>\n",
              "      <td>1.0607</td>\n",
              "      <td>1.0805</td>\n",
              "      <td>1.0905</td>\n",
              "      <td>1.0936</td>\n",
              "      <td>1.0281</td>\n",
              "      <td>1.0310</td>\n",
              "      <td>1.0093</td>\n",
              "      <td>1.0121</td>\n",
              "      <td>1.0028</td>\n",
              "      <td>-0.3649</td>\n",
              "      <td>-0.3905</td>\n",
              "      <td>0.1440</td>\n",
              "      <td>0.0257</td>\n",
              "    </tr>\n",
              "    <tr>\n",
              "      <th>3</th>\n",
              "      <td>19.6346</td>\n",
              "      <td>5.8143e-06</td>\n",
              "      <td>25.3536</td>\n",
              "      <td>20.9947</td>\n",
              "      <td>20.0873</td>\n",
              "      <td>19.7947</td>\n",
              "      <td>19.5552</td>\n",
              "      <td>3</td>\n",
              "      <td>0.0</td>\n",
              "      <td>1.2054</td>\n",
              "      <td>1</td>\n",
              "      <td>-0.3070</td>\n",
              "      <td>-0.1941</td>\n",
              "      <td>-0.1339</td>\n",
              "      <td>-0.1003</td>\n",
              "      <td>-0.0795</td>\n",
              "      <td>1.2111</td>\n",
              "      <td>1.2690</td>\n",
              "      <td>1.2898</td>\n",
              "      <td>1.3069</td>\n",
              "      <td>1.0650</td>\n",
              "      <td>1.0791</td>\n",
              "      <td>1.0164</td>\n",
              "      <td>1.0299</td>\n",
              "      <td>1.0133</td>\n",
              "      <td>-1.2000</td>\n",
              "      <td>-1.4395</td>\n",
              "      <td>0.5321</td>\n",
              "      <td>0.2395</td>\n",
              "    </tr>\n",
              "    <tr>\n",
              "      <th>4</th>\n",
              "      <td>17.9826</td>\n",
              "      <td>-3.3247e-05</td>\n",
              "      <td>23.7714</td>\n",
              "      <td>20.4338</td>\n",
              "      <td>18.8630</td>\n",
              "      <td>18.1903</td>\n",
              "      <td>17.8759</td>\n",
              "      <td>12</td>\n",
              "      <td>0.0</td>\n",
              "      <td>1.1940</td>\n",
              "      <td>1</td>\n",
              "      <td>-0.6820</td>\n",
              "      <td>-0.2653</td>\n",
              "      <td>-0.1794</td>\n",
              "      <td>-0.1339</td>\n",
              "      <td>-0.1067</td>\n",
              "      <td>1.1814</td>\n",
              "      <td>1.2842</td>\n",
              "      <td>1.3345</td>\n",
              "      <td>1.3598</td>\n",
              "      <td>1.1296</td>\n",
              "      <td>1.1511</td>\n",
              "      <td>1.0392</td>\n",
              "      <td>1.0589</td>\n",
              "      <td>1.0190</td>\n",
              "      <td>-2.2436</td>\n",
              "      <td>-2.5579</td>\n",
              "      <td>0.9871</td>\n",
              "      <td>0.3144</td>\n",
              "    </tr>\n",
              "  </tbody>\n",
              "</table>\n",
              "</div>"
            ],
            "text/plain": [
              "          z    redshift  dered_u  dered_g  dered_r  dered_i  dered_z  nDetect  \\\n",
              "id                                                                              \n",
              "0   16.9396 -8.1086e-05  23.1243  20.2578  18.9551  17.6321  16.9089       18   \n",
              "1   13.1689  4.5061e-03  14.9664  14.0045  13.4114  13.2363  13.1347        1   \n",
              "2   15.3500  4.7198e-04  16.6076  15.6866  15.4400  15.3217  15.2961        2   \n",
              "3   19.6346  5.8143e-06  25.3536  20.9947  20.0873  19.7947  19.5552        3   \n",
              "4   17.9826 -3.3247e-05  23.7714  20.4338  18.8630  18.1903  17.8759       12   \n",
              "\n",
              "    class  airmass  n_obMde  d_dered_u  d_dered_g  d_dered_r  d_dered_i  \\\n",
              "id                                                                        \n",
              "0     0.0   1.1898        0    -0.1397    -0.0790    -0.0544    -0.0403   \n",
              "1     1.0   1.2533        0    -0.0857    -0.0574    -0.0410    -0.0322   \n",
              "2     0.0   1.0225        0    -0.1787    -0.1388    -0.0963    -0.0718   \n",
              "3     0.0   1.2054        1    -0.3070    -0.1941    -0.1339    -0.1003   \n",
              "4     0.0   1.1940        1    -0.6820    -0.2653    -0.1794    -0.1339   \n",
              "\n",
              "    d_dered_z     u/g     u/r     u/i     u/z     g/i     g/z     r/i     r/z  \\\n",
              "id                                                                              \n",
              "0     -0.0307  1.1439  1.2238  1.3164  1.3733  1.1508  1.2005  1.0757  1.1222   \n",
              "1     -0.0343  1.0704  1.1189  1.1344  1.1430  1.0598  1.0678  1.0139  1.0215   \n",
              "2     -0.0540  1.0607  1.0805  1.0905  1.0936  1.0281  1.0310  1.0093  1.0121   \n",
              "3     -0.0795  1.2111  1.2690  1.2898  1.3069  1.0650  1.0791  1.0164  1.0299   \n",
              "4     -0.1067  1.1814  1.2842  1.3345  1.3598  1.1296  1.1511  1.0392  1.0589   \n",
              "\n",
              "       i/z  d_dered_ig  d_dered_zg  d_dered_rz  d_dered_iz  \n",
              "id                                                          \n",
              "0   1.0433     -2.6257     -3.3488      2.0462      0.7232  \n",
              "1   1.0076     -0.7683     -0.8698      0.2767      0.1016  \n",
              "2   1.0028     -0.3649     -0.3905      0.1440      0.0257  \n",
              "3   1.0133     -1.2000     -1.4395      0.5321      0.2395  \n",
              "4   1.0190     -2.2436     -2.5579      0.9871      0.3144  "
            ]
          },
          "metadata": {
            "tags": []
          },
          "execution_count": 7
        }
      ]
    },
    {
      "cell_type": "code",
      "metadata": {
        "ExecuteTime": {
          "end_time": "2020-09-28T04:34:28.059821Z",
          "start_time": "2020-09-28T04:34:27.996556Z"
        },
        "id": "KTvzrgvXcRWF",
        "outputId": "fe020856-b7d5-4cb5-8506-4d024982d17c",
        "colab": {
          "base_uri": "https://localhost:8080/",
          "height": 35
        }
      },
      "source": [
        "y = df[target_col].values[:320000]\n",
        "df.drop(target_col, axis=1, inplace=True)\n",
        "trn = df.iloc[:320000].values\n",
        "tst = df.iloc[320000:].values\n",
        "feature_name = df.columns.tolist()\n",
        "print(y.shape, trn.shape, tst.shape)"
      ],
      "execution_count": null,
      "outputs": [
        {
          "output_type": "stream",
          "text": [
            "(320000,) (320000, 28) (80000, 28)\n"
          ],
          "name": "stdout"
        }
      ]
    },
    {
      "cell_type": "markdown",
      "metadata": {
        "id": "5xj7IBIKcRWG"
      },
      "source": [
        "## Stratified K-Fold Cross Validation"
      ]
    },
    {
      "cell_type": "code",
      "metadata": {
        "ExecuteTime": {
          "end_time": "2020-09-28T04:34:28.087225Z",
          "start_time": "2020-09-28T04:34:28.062335Z"
        },
        "id": "YPbfiuxfcRWH"
      },
      "source": [
        "cv = StratifiedKFold(n_splits=n_fold, shuffle=True, random_state=seed)"
      ],
      "execution_count": null,
      "outputs": []
    },
    {
      "cell_type": "markdown",
      "metadata": {
        "id": "dbstvgMOcRWI"
      },
      "source": [
        "## Random Forest 모델 학습"
      ]
    },
    {
      "cell_type": "code",
      "metadata": {
        "ExecuteTime": {
          "end_time": "2020-09-28T04:35:59.431993Z",
          "start_time": "2020-09-28T04:34:55.313501Z"
        },
        "id": "H26mIg2ScRWJ",
        "outputId": "18da59ee-bc8d-494e-e994-1396de176d93",
        "colab": {
          "base_uri": "https://localhost:8080/",
          "height": 107
        }
      },
      "source": [
        "p_val = np.zeros((trn.shape[0], n_class))\n",
        "p_tst = np.zeros((tst.shape[0], n_class))\n",
        "for i, (i_trn, i_val) in enumerate(cv.split(trn, y), 1):\n",
        "    print(f'training model for CV #{i}')\n",
        "    clf = RandomForestClassifier(n_estimators=100,\n",
        "                                 min_samples_leaf=10,\n",
        "                                 max_features='auto',\n",
        "                                 max_samples=.5,\n",
        "                                 random_state=seed,\n",
        "                                 n_jobs=-1)\n",
        "    clf.fit(trn[i_trn], y[i_trn])\n",
        "    p_val[i_val, :] = clf.predict_proba(trn[i_val])\n",
        "    p_tst += clf.predict_proba(tst) / n_fold"
      ],
      "execution_count": null,
      "outputs": [
        {
          "output_type": "stream",
          "text": [
            "training model for CV #1\n",
            "training model for CV #2\n",
            "training model for CV #3\n",
            "training model for CV #4\n",
            "training model for CV #5\n"
          ],
          "name": "stdout"
        }
      ]
    },
    {
      "cell_type": "code",
      "metadata": {
        "ExecuteTime": {
          "end_time": "2020-09-28T04:35:59.480648Z",
          "start_time": "2020-09-28T04:35:59.435277Z"
        },
        "id": "qK38lJApcRWK",
        "outputId": "e2b1b2f2-cfdc-4ec1-a97c-585024a85d7f",
        "colab": {
          "base_uri": "https://localhost:8080/",
          "height": 35
        }
      },
      "source": [
        "print(f'{accuracy_score(y, np.argmax(p_val, axis=1)) * 100:.4f}%')"
      ],
      "execution_count": null,
      "outputs": [
        {
          "output_type": "stream",
          "text": [
            "93.0344%\n"
          ],
          "name": "stdout"
        }
      ]
    },
    {
      "cell_type": "code",
      "metadata": {
        "ExecuteTime": {
          "end_time": "2020-09-28T04:35:59.507317Z",
          "start_time": "2020-09-28T04:35:59.482667Z"
        },
        "id": "aZti8utlcRWM",
        "outputId": "e29acb73-fe69-4405-ef4b-2b4c68ef258b",
        "colab": {
          "base_uri": "https://localhost:8080/",
          "height": 35
        }
      },
      "source": [
        "print(p_val.shape, p_tst.shape)"
      ],
      "execution_count": null,
      "outputs": [
        {
          "output_type": "stream",
          "text": [
            "(320000, 3) (80000, 3)\n"
          ],
          "name": "stdout"
        }
      ]
    },
    {
      "cell_type": "code",
      "metadata": {
        "ExecuteTime": {
          "end_time": "2020-09-28T04:36:00.250459Z",
          "start_time": "2020-09-28T04:35:59.509343Z"
        },
        "id": "ho62FcydcRWN"
      },
      "source": [
        "np.savetxt(p_val_file, p_val, fmt='%.6f', delimiter=',')\n",
        "np.savetxt(p_tst_file, p_tst, fmt='%.6f', delimiter=',')"
      ],
      "execution_count": null,
      "outputs": []
    },
    {
      "cell_type": "markdown",
      "metadata": {
        "id": "omOXx3YRcRWP"
      },
      "source": [
        "## 피처 중요도 시각화"
      ]
    },
    {
      "cell_type": "code",
      "metadata": {
        "ExecuteTime": {
          "end_time": "2020-09-28T04:36:00.693516Z",
          "start_time": "2020-09-28T04:36:00.253186Z"
        },
        "id": "yndldWVPcRWP",
        "outputId": "1c8928f0-4119-4f4d-cb7e-9491571c71f4",
        "colab": {
          "base_uri": "https://localhost:8080/",
          "height": 533
        }
      },
      "source": [
        "imp = pd.DataFrame({'feature': df.columns, 'importance': clf.feature_importances_})\n",
        "imp = imp.sort_values('importance').set_index('feature')\n",
        "imp.plot(kind='barh')"
      ],
      "execution_count": null,
      "outputs": [
        {
          "output_type": "execute_result",
          "data": {
            "text/plain": [
              "<matplotlib.axes._subplots.AxesSubplot at 0x7f87c44bc780>"
            ]
          },
          "metadata": {
            "tags": []
          },
          "execution_count": 14
        },
        {
          "output_type": "display_data",
          "data": {
            "image/png": "[encoded data removed]",
            "text/plain": [
              "<Figure size 1152x576 with 1 Axes>"
            ]
          },
          "metadata": {
            "tags": []
          }
        }
      ]
    },
    {
      "cell_type": "markdown",
      "metadata": {
        "id": "O74gsBDQcRWR"
      },
      "source": [
        "## 제출 파일 생성"
      ]
    },
    {
      "cell_type": "code",
      "metadata": {
        "ExecuteTime": {
          "end_time": "2020-09-28T04:36:00.734692Z",
          "start_time": "2020-09-28T04:36:00.695656Z"
        },
        "id": "xCYkHgIVcRWR",
        "outputId": "90a0abfb-766f-4eb7-ad15-72a90061abdc",
        "colab": {
          "base_uri": "https://localhost:8080/",
          "height": 253
        }
      },
      "source": [
        "sub = pd.read_csv(sample_file, index_col=0)\n",
        "print(sub.shape)\n",
        "sub.head()"
      ],
      "execution_count": null,
      "outputs": [
        {
          "output_type": "stream",
          "text": [
            "(80000, 1)\n"
          ],
          "name": "stdout"
        },
        {
          "output_type": "execute_result",
          "data": {
            "text/html": [
              "<div>\n",
              "<style scoped>\n",
              "    .dataframe tbody tr th:only-of-type {\n",
              "        vertical-align: middle;\n",
              "    }\n",
              "\n",
              "    .dataframe tbody tr th {\n",
              "        vertical-align: top;\n",
              "    }\n",
              "\n",
              "    .dataframe thead th {\n",
              "        text-align: right;\n",
              "    }\n",
              "</style>\n",
              "<table border=\"1\" class=\"dataframe\">\n",
              "  <thead>\n",
              "    <tr style=\"text-align: right;\">\n",
              "      <th></th>\n",
              "      <th>class</th>\n",
              "    </tr>\n",
              "    <tr>\n",
              "      <th>id</th>\n",
              "      <th></th>\n",
              "    </tr>\n",
              "  </thead>\n",
              "  <tbody>\n",
              "    <tr>\n",
              "      <th>320000</th>\n",
              "      <td>0</td>\n",
              "    </tr>\n",
              "    <tr>\n",
              "      <th>320001</th>\n",
              "      <td>0</td>\n",
              "    </tr>\n",
              "    <tr>\n",
              "      <th>320002</th>\n",
              "      <td>0</td>\n",
              "    </tr>\n",
              "    <tr>\n",
              "      <th>320003</th>\n",
              "      <td>0</td>\n",
              "    </tr>\n",
              "    <tr>\n",
              "      <th>320004</th>\n",
              "      <td>0</td>\n",
              "    </tr>\n",
              "  </tbody>\n",
              "</table>\n",
              "</div>"
            ],
            "text/plain": [
              "        class\n",
              "id           \n",
              "320000      0\n",
              "320001      0\n",
              "320002      0\n",
              "320003      0\n",
              "320004      0"
            ]
          },
          "metadata": {
            "tags": []
          },
          "execution_count": 15
        }
      ]
    },
    {
      "cell_type": "code",
      "metadata": {
        "ExecuteTime": {
          "end_time": "2020-09-28T05:41:08.173731Z",
          "start_time": "2020-09-28T05:41:08.136117Z"
        },
        "id": "xX-anrJecRWS",
        "outputId": "5e0435d2-8df0-423c-af55-db5e5a832295",
        "colab": {
          "base_uri": "https://localhost:8080/",
          "height": 235
        }
      },
      "source": [
        "sub[target_col] = np.argmax(p_tst, axis=1)\n",
        "sub.head()"
      ],
      "execution_count": null,
      "outputs": [
        {
          "output_type": "execute_result",
          "data": {
            "text/html": [
              "<div>\n",
              "<style scoped>\n",
              "    .dataframe tbody tr th:only-of-type {\n",
              "        vertical-align: middle;\n",
              "    }\n",
              "\n",
              "    .dataframe tbody tr th {\n",
              "        vertical-align: top;\n",
              "    }\n",
              "\n",
              "    .dataframe thead th {\n",
              "        text-align: right;\n",
              "    }\n",
              "</style>\n",
              "<table border=\"1\" class=\"dataframe\">\n",
              "  <thead>\n",
              "    <tr style=\"text-align: right;\">\n",
              "      <th></th>\n",
              "      <th>class</th>\n",
              "    </tr>\n",
              "    <tr>\n",
              "      <th>id</th>\n",
              "      <th></th>\n",
              "    </tr>\n",
              "  </thead>\n",
              "  <tbody>\n",
              "    <tr>\n",
              "      <th>320000</th>\n",
              "      <td>2</td>\n",
              "    </tr>\n",
              "    <tr>\n",
              "      <th>320001</th>\n",
              "      <td>0</td>\n",
              "    </tr>\n",
              "    <tr>\n",
              "      <th>320002</th>\n",
              "      <td>2</td>\n",
              "    </tr>\n",
              "    <tr>\n",
              "      <th>320003</th>\n",
              "      <td>0</td>\n",
              "    </tr>\n",
              "    <tr>\n",
              "      <th>320004</th>\n",
              "      <td>2</td>\n",
              "    </tr>\n",
              "  </tbody>\n",
              "</table>\n",
              "</div>"
            ],
            "text/plain": [
              "        class\n",
              "id           \n",
              "320000      2\n",
              "320001      0\n",
              "320002      2\n",
              "320003      0\n",
              "320004      2"
            ]
          },
          "metadata": {
            "tags": []
          },
          "execution_count": 16
        }
      ]
    },
    {
      "cell_type": "code",
      "metadata": {
        "ExecuteTime": {
          "end_time": "2020-09-28T05:41:08.656785Z",
          "start_time": "2020-09-28T05:41:08.628596Z"
        },
        "id": "OpXL5RxZcRWU",
        "outputId": "743f547a-39a3-4eb4-8000-fe9d50f9caaf",
        "colab": {
          "base_uri": "https://localhost:8080/",
          "height": 89
        }
      },
      "source": [
        "sub[target_col].value_counts()"
      ],
      "execution_count": null,
      "outputs": [
        {
          "output_type": "execute_result",
          "data": {
            "text/plain": [
              "2    41396\n",
              "0    29952\n",
              "1     8652\n",
              "Name: class, dtype: int64"
            ]
          },
          "metadata": {
            "tags": []
          },
          "execution_count": 17
        }
      ]
    },
    {
      "cell_type": "code",
      "metadata": {
        "ExecuteTime": {
          "end_time": "2020-09-28T05:41:39.345271Z",
          "start_time": "2020-09-28T05:41:39.217059Z"
        },
        "id": "pKOD70JCcRWW"
      },
      "source": [
        "sub.to_csv(sub_file)"
      ],
      "execution_count": null,
      "outputs": []
    },
    {
      "cell_type": "code",
      "metadata": {
        "id": "1PNkSwh7cRWX"
      },
      "source": [
        ""
      ],
      "execution_count": null,
      "outputs": []
    }
  ]
}