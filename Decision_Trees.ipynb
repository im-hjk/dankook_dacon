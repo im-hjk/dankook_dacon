{
  "nbformat": 4,
  "nbformat_minor": 0,
  "metadata": {
    "kernelspec": {
      "display_name": "Python 3",
      "language": "python",
      "name": "python3"
    },
    "language_info": {
      "codemirror_mode": {
        "name": "ipython",
        "version": 3
      },
      "file_extension": ".py",
      "mimetype": "text/x-python",
      "name": "python",
      "nbconvert_exporter": "python",
      "pygments_lexer": "ipython3",
      "version": "3.7.9"
    },
    "toc": {
      "base_numbering": 1,
      "nav_menu": {},
      "number_sections": true,
      "sideBar": true,
      "skip_h1_title": true,
      "title_cell": "Table of Contents",
      "title_sidebar": "Contents",
      "toc_cell": false,
      "toc_position": {},
      "toc_section_display": true,
      "toc_window_display": false
    },
    "colab": {
      "name": "Decision-Trees.ipynb",
      "provenance": [],
      "collapsed_sections": [],
      "include_colab_link": true
    }
  },
  "cells": [
    {
      "cell_type": "markdown",
      "metadata": {
        "id": "view-in-github",
        "colab_type": "text"
      },
      "source": [
        "<a href=\"https://colab.research.google.com/github/im-hjk/dankook_dacon/blob/master/Decision_Trees.ipynb\" target=\"_parent\"><img src=\"https://colab.research.google.com/assets/colab-badge.svg\" alt=\"Open In Colab\"/></a>"
      ]
    },
    {
      "cell_type": "markdown",
      "metadata": {
        "id": "OdvPlXRGDm2_",
        "colab_type": "text"
      },
      "source": [
        "# 결정트리 데모"
      ]
    },
    {
      "cell_type": "markdown",
      "metadata": {
        "id": "1m3G3jtMDm2_",
        "colab_type": "text"
      },
      "source": [
        "## 라이브러리 import 및 설정"
      ]
    },
    {
      "cell_type": "code",
      "metadata": {
        "ExecuteTime": {
          "end_time": "2020-09-21T07:58:24.311325Z",
          "start_time": "2020-09-21T07:58:24.007955Z"
        },
        "id": "xwOFWQqADm3A",
        "colab_type": "code",
        "colab": {}
      },
      "source": [
        "%reload_ext autoreload\n",
        "%autoreload 2\n",
        "%matplotlib inline"
      ],
      "execution_count": 1,
      "outputs": []
    },
    {
      "cell_type": "code",
      "metadata": {
        "id": "gKgUKkSqGQJ6",
        "colab_type": "code",
        "colab": {
          "base_uri": "https://localhost:8080/",
          "height": 35
        },
        "outputId": "3808f63c-fa43-485e-8159-c4afb9a31f88"
      },
      "source": [
        "from google.colab import drive\n",
        "drive.mount('/content/drive')"
      ],
      "execution_count": 2,
      "outputs": [
        {
          "output_type": "stream",
          "text": [
            "Drive already mounted at /content/drive; to attempt to forcibly remount, call drive.mount(\"/content/drive\", force_remount=True).\n"
          ],
          "name": "stdout"
        }
      ]
    },
    {
      "cell_type": "code",
      "metadata": {
        "ExecuteTime": {
          "end_time": "2020-09-21T07:58:24.916615Z",
          "start_time": "2020-09-21T07:58:24.313398Z"
        },
        "id": "j7ZgFKZyDm3C",
        "colab_type": "code",
        "colab": {}
      },
      "source": [
        "import graphviz\n",
        "from matplotlib import pyplot as plt\n",
        "from matplotlib import rcParams\n",
        "import numpy as np\n",
        "from pathlib import Path\n",
        "import io\n",
        "import pandas as pd\n",
        "from sklearn.tree import DecisionTreeClassifier, export_graphviz\n",
        "from sklearn.metrics import accuracy_score\n",
        "from sklearn.model_selection import KFold\n",
        "import warnings"
      ],
      "execution_count": 3,
      "outputs": []
    },
    {
      "cell_type": "code",
      "metadata": {
        "ExecuteTime": {
          "end_time": "2020-09-21T07:58:24.942305Z",
          "start_time": "2020-09-21T07:58:24.920530Z"
        },
        "id": "Ut7-pIw-Dm3D",
        "colab_type": "code",
        "colab": {}
      },
      "source": [
        "rcParams['figure.figsize'] = (16, 8)\n",
        "plt.style.use('fivethirtyeight')\n",
        "pd.set_option('max_columns', 100)\n",
        "pd.set_option(\"display.precision\", 4)\n",
        "warnings.simplefilter('ignore')"
      ],
      "execution_count": 4,
      "outputs": []
    },
    {
      "cell_type": "markdown",
      "metadata": {
        "id": "Nhjp_d5lDm3F",
        "colab_type": "text"
      },
      "source": [
        "## 데이터 로드"
      ]
    },
    {
      "cell_type": "code",
      "metadata": {
        "ExecuteTime": {
          "end_time": "2020-09-21T07:58:24.967204Z",
          "start_time": "2020-09-21T07:58:24.944918Z"
        },
        "id": "zLpOjgsUDm3F",
        "colab_type": "code",
        "colab": {}
      },
      "source": [
        "data_dir = Path('/content/drive/My Drive/Colab Notebooks/dacon_dkdkdk/data/dacon-dku')\n",
        "sub_dir = Path('/content/drive/My Drive/Colab Notebooks/dacon_dkdkdk/data/dacon-dku')\n",
        "\n",
        "trn_file = data_dir / 'train.csv'\n",
        "tst_file = data_dir / 'test.csv'\n",
        "sample_file = data_dir / 'sample_submission.csv'\n",
        "\n",
        "target_col = 'class'\n",
        "seed = 42"
      ],
      "execution_count": 11,
      "outputs": []
    },
    {
      "cell_type": "code",
      "metadata": {
        "ExecuteTime": {
          "end_time": "2020-09-21T07:58:24.993118Z",
          "start_time": "2020-09-21T07:58:24.969489Z"
        },
        "id": "Rq3RAgCVDm3H",
        "colab_type": "code",
        "colab": {}
      },
      "source": [
        "algo_name = 'dt'\n",
        "feature_name = 'j1'\n",
        "model_name = f'{algo_name}_{feature_name}'\n",
        "\n",
        "sub_file = sub_dir / f'{model_name}.csv'"
      ],
      "execution_count": 12,
      "outputs": []
    },
    {
      "cell_type": "code",
      "metadata": {
        "ExecuteTime": {
          "end_time": "2020-09-21T07:58:26.103285Z",
          "start_time": "2020-09-21T07:58:24.995160Z"
        },
        "id": "ssUE_QRODm3J",
        "colab_type": "code",
        "colab": {
          "base_uri": "https://localhost:8080/",
          "height": 253
        },
        "outputId": "7ef6d13b-2f59-4201-ef6e-7ceaa53708bd"
      },
      "source": [
        "trn = pd.read_csv(trn_file, index_col=0)\n",
        "tst = pd.read_csv(tst_file, index_col=0)\n",
        "y = trn[target_col]\n",
        "trn.drop(target_col, axis=1, inplace=True)\n",
        "print(y.shape, trn.shape, tst.shape)\n",
        "trn.head()"
      ],
      "execution_count": 13,
      "outputs": [
        {
          "output_type": "stream",
          "text": [
            "(320000,) (320000, 18) (80000, 18)\n"
          ],
          "name": "stdout"
        },
        {
          "output_type": "execute_result",
          "data": {
            "text/html": [
              "<div>\n",
              "<style scoped>\n",
              "    .dataframe tbody tr th:only-of-type {\n",
              "        vertical-align: middle;\n",
              "    }\n",
              "\n",
              "    .dataframe tbody tr th {\n",
              "        vertical-align: top;\n",
              "    }\n",
              "\n",
              "    .dataframe thead th {\n",
              "        text-align: right;\n",
              "    }\n",
              "</style>\n",
              "<table border=\"1\" class=\"dataframe\">\n",
              "  <thead>\n",
              "    <tr style=\"text-align: right;\">\n",
              "      <th></th>\n",
              "      <th>u</th>\n",
              "      <th>g</th>\n",
              "      <th>r</th>\n",
              "      <th>i</th>\n",
              "      <th>z</th>\n",
              "      <th>redshift</th>\n",
              "      <th>dered_u</th>\n",
              "      <th>dered_g</th>\n",
              "      <th>dered_r</th>\n",
              "      <th>dered_i</th>\n",
              "      <th>dered_z</th>\n",
              "      <th>nObserve</th>\n",
              "      <th>nDetect</th>\n",
              "      <th>airmass_u</th>\n",
              "      <th>airmass_g</th>\n",
              "      <th>airmass_r</th>\n",
              "      <th>airmass_i</th>\n",
              "      <th>airmass_z</th>\n",
              "    </tr>\n",
              "    <tr>\n",
              "      <th>id</th>\n",
              "      <th></th>\n",
              "      <th></th>\n",
              "      <th></th>\n",
              "      <th></th>\n",
              "      <th></th>\n",
              "      <th></th>\n",
              "      <th></th>\n",
              "      <th></th>\n",
              "      <th></th>\n",
              "      <th></th>\n",
              "      <th></th>\n",
              "      <th></th>\n",
              "      <th></th>\n",
              "      <th></th>\n",
              "      <th></th>\n",
              "      <th></th>\n",
              "      <th></th>\n",
              "      <th></th>\n",
              "    </tr>\n",
              "  </thead>\n",
              "  <tbody>\n",
              "    <tr>\n",
              "      <th>0</th>\n",
              "      <td>23.2640</td>\n",
              "      <td>20.3368</td>\n",
              "      <td>19.0095</td>\n",
              "      <td>17.6724</td>\n",
              "      <td>16.9396</td>\n",
              "      <td>-8.1086e-05</td>\n",
              "      <td>23.1243</td>\n",
              "      <td>20.2578</td>\n",
              "      <td>18.9551</td>\n",
              "      <td>17.6321</td>\n",
              "      <td>16.9089</td>\n",
              "      <td>18</td>\n",
              "      <td>18</td>\n",
              "      <td>1.1898</td>\n",
              "      <td>1.1907</td>\n",
              "      <td>1.1890</td>\n",
              "      <td>1.1894</td>\n",
              "      <td>1.1902</td>\n",
              "    </tr>\n",
              "    <tr>\n",
              "      <th>1</th>\n",
              "      <td>15.0521</td>\n",
              "      <td>14.0620</td>\n",
              "      <td>13.4524</td>\n",
              "      <td>13.2684</td>\n",
              "      <td>13.1689</td>\n",
              "      <td>4.5061e-03</td>\n",
              "      <td>14.9664</td>\n",
              "      <td>14.0045</td>\n",
              "      <td>13.4114</td>\n",
              "      <td>13.2363</td>\n",
              "      <td>13.1347</td>\n",
              "      <td>1</td>\n",
              "      <td>1</td>\n",
              "      <td>1.2533</td>\n",
              "      <td>1.2578</td>\n",
              "      <td>1.2488</td>\n",
              "      <td>1.2510</td>\n",
              "      <td>1.2555</td>\n",
              "    </tr>\n",
              "    <tr>\n",
              "      <th>2</th>\n",
              "      <td>16.7864</td>\n",
              "      <td>15.8254</td>\n",
              "      <td>15.5363</td>\n",
              "      <td>15.3935</td>\n",
              "      <td>15.3500</td>\n",
              "      <td>4.7198e-04</td>\n",
              "      <td>16.6076</td>\n",
              "      <td>15.6866</td>\n",
              "      <td>15.4400</td>\n",
              "      <td>15.3217</td>\n",
              "      <td>15.2961</td>\n",
              "      <td>2</td>\n",
              "      <td>2</td>\n",
              "      <td>1.0225</td>\n",
              "      <td>1.0241</td>\n",
              "      <td>1.0210</td>\n",
              "      <td>1.0217</td>\n",
              "      <td>1.0233</td>\n",
              "    </tr>\n",
              "    <tr>\n",
              "      <th>3</th>\n",
              "      <td>25.6606</td>\n",
              "      <td>21.1887</td>\n",
              "      <td>20.2212</td>\n",
              "      <td>19.8949</td>\n",
              "      <td>19.6346</td>\n",
              "      <td>5.8143e-06</td>\n",
              "      <td>25.3536</td>\n",
              "      <td>20.9947</td>\n",
              "      <td>20.0873</td>\n",
              "      <td>19.7947</td>\n",
              "      <td>19.5552</td>\n",
              "      <td>4</td>\n",
              "      <td>3</td>\n",
              "      <td>1.2054</td>\n",
              "      <td>1.2061</td>\n",
              "      <td>1.2049</td>\n",
              "      <td>1.2051</td>\n",
              "      <td>1.2057</td>\n",
              "    </tr>\n",
              "    <tr>\n",
              "      <th>4</th>\n",
              "      <td>24.4534</td>\n",
              "      <td>20.6992</td>\n",
              "      <td>19.0424</td>\n",
              "      <td>18.3242</td>\n",
              "      <td>17.9826</td>\n",
              "      <td>-3.3247e-05</td>\n",
              "      <td>23.7714</td>\n",
              "      <td>20.4338</td>\n",
              "      <td>18.8630</td>\n",
              "      <td>18.1903</td>\n",
              "      <td>17.8759</td>\n",
              "      <td>13</td>\n",
              "      <td>12</td>\n",
              "      <td>1.1939</td>\n",
              "      <td>1.1943</td>\n",
              "      <td>1.1937</td>\n",
              "      <td>1.1938</td>\n",
              "      <td>1.1941</td>\n",
              "    </tr>\n",
              "  </tbody>\n",
              "</table>\n",
              "</div>"
            ],
            "text/plain": [
              "          u        g        r        i        z    redshift  dered_u  dered_g  \\\n",
              "id                                                                              \n",
              "0   23.2640  20.3368  19.0095  17.6724  16.9396 -8.1086e-05  23.1243  20.2578   \n",
              "1   15.0521  14.0620  13.4524  13.2684  13.1689  4.5061e-03  14.9664  14.0045   \n",
              "2   16.7864  15.8254  15.5363  15.3935  15.3500  4.7198e-04  16.6076  15.6866   \n",
              "3   25.6606  21.1887  20.2212  19.8949  19.6346  5.8143e-06  25.3536  20.9947   \n",
              "4   24.4534  20.6992  19.0424  18.3242  17.9826 -3.3247e-05  23.7714  20.4338   \n",
              "\n",
              "    dered_r  dered_i  dered_z  nObserve  nDetect  airmass_u  airmass_g  \\\n",
              "id                                                                       \n",
              "0   18.9551  17.6321  16.9089        18       18     1.1898     1.1907   \n",
              "1   13.4114  13.2363  13.1347         1        1     1.2533     1.2578   \n",
              "2   15.4400  15.3217  15.2961         2        2     1.0225     1.0241   \n",
              "3   20.0873  19.7947  19.5552         4        3     1.2054     1.2061   \n",
              "4   18.8630  18.1903  17.8759        13       12     1.1939     1.1943   \n",
              "\n",
              "    airmass_r  airmass_i  airmass_z  \n",
              "id                                   \n",
              "0      1.1890     1.1894     1.1902  \n",
              "1      1.2488     1.2510     1.2555  \n",
              "2      1.0210     1.0217     1.0233  \n",
              "3      1.2049     1.2051     1.2057  \n",
              "4      1.1937     1.1938     1.1941  "
            ]
          },
          "metadata": {
            "tags": []
          },
          "execution_count": 13
        }
      ]
    },
    {
      "cell_type": "markdown",
      "metadata": {
        "id": "vnFsFRLWDm3K",
        "colab_type": "text"
      },
      "source": [
        "## 결정트리 학습"
      ]
    },
    {
      "cell_type": "code",
      "metadata": {
        "ExecuteTime": {
          "end_time": "2020-09-21T07:58:29.860475Z",
          "start_time": "2020-09-21T07:58:26.105574Z"
        },
        "id": "Y6913_hJDm3L",
        "colab_type": "code",
        "colab": {
          "base_uri": "https://localhost:8080/",
          "height": 125
        },
        "outputId": "a615b618-3e93-4e59-cd9c-72f23a3d193c"
      },
      "source": [
        "clf = DecisionTreeClassifier(max_depth=5, min_samples_leaf=10, random_state=42)\n",
        "clf.fit(trn, y)"
      ],
      "execution_count": 14,
      "outputs": [
        {
          "output_type": "execute_result",
          "data": {
            "text/plain": [
              "DecisionTreeClassifier(ccp_alpha=0.0, class_weight=None, criterion='gini',\n",
              "                       max_depth=5, max_features=None, max_leaf_nodes=None,\n",
              "                       min_impurity_decrease=0.0, min_impurity_split=None,\n",
              "                       min_samples_leaf=10, min_samples_split=2,\n",
              "                       min_weight_fraction_leaf=0.0, presort='deprecated',\n",
              "                       random_state=42, splitter='best')"
            ]
          },
          "metadata": {
            "tags": []
          },
          "execution_count": 14
        }
      ]
    },
    {
      "cell_type": "code",
      "metadata": {
        "ExecuteTime": {
          "end_time": "2020-09-21T07:58:29.944204Z",
          "start_time": "2020-09-21T07:58:29.862374Z"
        },
        "id": "nbUf0gw0Dm3N",
        "colab_type": "code",
        "colab": {
          "base_uri": "https://localhost:8080/",
          "height": 35
        },
        "outputId": "639ed9ca-6687-4376-9be1-dc5757514dd5"
      },
      "source": [
        "print(f'{accuracy_score(y, clf.predict(trn)) * 100:.4f}%')"
      ],
      "execution_count": 15,
      "outputs": [
        {
          "output_type": "stream",
          "text": [
            "88.8669%\n"
          ],
          "name": "stdout"
        }
      ]
    },
    {
      "cell_type": "markdown",
      "metadata": {
        "id": "_gvfQBguDm3O",
        "colab_type": "text"
      },
      "source": [
        "## 결정트리 시각화"
      ]
    },
    {
      "cell_type": "code",
      "metadata": {
        "ExecuteTime": {
          "end_time": "2020-09-21T07:58:30.321220Z",
          "start_time": "2020-09-21T07:58:29.946555Z"
        },
        "id": "x_1BGAKfDm3P",
        "colab_type": "code",
        "colab": {
          "base_uri": "https://localhost:8080/",
          "height": 815
        },
        "outputId": "db78caaa-9d7e-467d-c772-2e2624ebcf07"
      },
      "source": [
        "dot_data = export_graphviz(clf, out_file=None,\n",
        "                           feature_names=trn.columns,\n",
        "                           filled=True,\n",
        "                           rounded=True,\n",
        "                           special_characters=True)  \n",
        "graph = graphviz.Source(dot_data)  \n",
        "graph "
      ],
      "execution_count": 16,
      "outputs": [
        {
          "output_type": "execute_result",
          "data": {
            "text/plain": [
              "<graphviz.files.Source at 0x7f56429f0550>"
            ],
            "image/svg+xml": "<?xml version=\"1.0\" encoding=\"UTF-8\" standalone=\"no\"?>\n<!DOCTYPE svg PUBLIC \"-//W3C//DTD SVG 1.1//EN\"\n \"http://www.w3.org/Graphics/SVG/1.1/DTD/svg11.dtd\">\n<!-- Generated by graphviz version 2.40.1 (20161225.0304)\n -->\n<!-- Title: Tree Pages: 1 -->\n<svg width=\"5072pt\" height=\"581pt\"\n viewBox=\"0.00 0.00 5072.00 581.00\" xmlns=\"http://www.w3.org/2000/svg\" xmlns:xlink=\"http://www.w3.org/1999/xlink\">\n<g id=\"graph0\" class=\"graph\" transform=\"scale(1 1) rotate(0) translate(4 577)\">\n<title>Tree</title>\n<polygon fill=\"#ffffff\" stroke=\"transparent\" points=\"-4,4 -4,-577 5068,-577 5068,4 -4,4\"/>\n<!-- 0 -->\n<g id=\"node1\" class=\"node\">\n<title>0</title>\n<path fill=\"#e8dafa\" stroke=\"#000000\" d=\"M2628.5,-573C2628.5,-573 2422.5,-573 2422.5,-573 2416.5,-573 2410.5,-567 2410.5,-561 2410.5,-561 2410.5,-517 2410.5,-517 2410.5,-511 2416.5,-505 2422.5,-505 2422.5,-505 2628.5,-505 2628.5,-505 2634.5,-505 2640.5,-511 2640.5,-517 2640.5,-517 2640.5,-561 2640.5,-561 2640.5,-567 2634.5,-573 2628.5,-573\"/>\n<text text-anchor=\"start\" x=\"2475.5\" y=\"-557.8\" font-family=\"Helvetica,sans-Serif\" font-size=\"14.00\" fill=\"#000000\">redshift ≤ 0.004</text>\n<text text-anchor=\"start\" x=\"2496\" y=\"-542.8\" font-family=\"Helvetica,sans-Serif\" font-size=\"14.00\" fill=\"#000000\">gini = 0.6</text>\n<text text-anchor=\"start\" x=\"2465\" y=\"-527.8\" font-family=\"Helvetica,sans-Serif\" font-size=\"14.00\" fill=\"#000000\">samples = 320000</text>\n<text text-anchor=\"start\" x=\"2418.5\" y=\"-512.8\" font-family=\"Helvetica,sans-Serif\" font-size=\"14.00\" fill=\"#000000\">value = [119996, 42785, 157219]</text>\n</g>\n<!-- 1 -->\n<g id=\"node2\" class=\"node\">\n<title>1</title>\n<path fill=\"#e5823a\" stroke=\"#000000\" d=\"M1669,-469C1669,-469 1504,-469 1504,-469 1498,-469 1492,-463 1492,-457 1492,-457 1492,-413 1492,-413 1492,-407 1498,-401 1504,-401 1504,-401 1669,-401 1669,-401 1675,-401 1681,-407 1681,-413 1681,-413 1681,-457 1681,-457 1681,-463 1675,-469 1669,-469\"/>\n<text text-anchor=\"start\" x=\"1536.5\" y=\"-453.8\" font-family=\"Helvetica,sans-Serif\" font-size=\"14.00\" fill=\"#000000\">redshift ≤ 0.002</text>\n<text text-anchor=\"start\" x=\"1548.5\" y=\"-438.8\" font-family=\"Helvetica,sans-Serif\" font-size=\"14.00\" fill=\"#000000\">gini = 0.008</text>\n<text text-anchor=\"start\" x=\"1526\" y=\"-423.8\" font-family=\"Helvetica,sans-Serif\" font-size=\"14.00\" fill=\"#000000\">samples = 119808</text>\n<text text-anchor=\"start\" x=\"1500\" y=\"-408.8\" font-family=\"Helvetica,sans-Serif\" font-size=\"14.00\" fill=\"#000000\">value = [119331, 248, 229]</text>\n</g>\n<!-- 0&#45;&gt;1 -->\n<g id=\"edge1\" class=\"edge\">\n<title>0&#45;&gt;1</title>\n<path fill=\"none\" stroke=\"#000000\" d=\"M2410.3602,-526.2476C2226.3667,-505.8692 1868.7827,-466.2645 1691.4444,-446.6232\"/>\n<polygon fill=\"#000000\" stroke=\"#000000\" points=\"1691.6475,-443.1244 1681.3229,-445.5022 1690.8768,-450.0819 1691.6475,-443.1244\"/>\n<text text-anchor=\"middle\" x=\"1696.9472\" y=\"-461.3185\" font-family=\"Helvetica,sans-Serif\" font-size=\"14.00\" fill=\"#000000\">True</text>\n</g>\n<!-- 30 -->\n<g id=\"node31\" class=\"node\">\n<title>30</title>\n<path fill=\"#a46fec\" stroke=\"#000000\" d=\"M2896.5,-469C2896.5,-469 2714.5,-469 2714.5,-469 2708.5,-469 2702.5,-463 2702.5,-457 2702.5,-457 2702.5,-413 2702.5,-413 2702.5,-407 2708.5,-401 2714.5,-401 2714.5,-401 2896.5,-401 2896.5,-401 2902.5,-401 2908.5,-407 2908.5,-413 2908.5,-413 2908.5,-457 2908.5,-457 2908.5,-463 2902.5,-469 2896.5,-469\"/>\n<text text-anchor=\"start\" x=\"2748.5\" y=\"-453.8\" font-family=\"Helvetica,sans-Serif\" font-size=\"14.00\" fill=\"#000000\">dered_z ≤ 17.267</text>\n<text text-anchor=\"start\" x=\"2772\" y=\"-438.8\" font-family=\"Helvetica,sans-Serif\" font-size=\"14.00\" fill=\"#000000\">gini = 0.34</text>\n<text text-anchor=\"start\" x=\"2745\" y=\"-423.8\" font-family=\"Helvetica,sans-Serif\" font-size=\"14.00\" fill=\"#000000\">samples = 200192</text>\n<text text-anchor=\"start\" x=\"2710.5\" y=\"-408.8\" font-family=\"Helvetica,sans-Serif\" font-size=\"14.00\" fill=\"#000000\">value = [665, 42537, 156990]</text>\n</g>\n<!-- 0&#45;&gt;30 -->\n<g id=\"edge30\" class=\"edge\">\n<title>0&#45;&gt;30</title>\n<path fill=\"none\" stroke=\"#000000\" d=\"M2617.1825,-504.9465C2644.9814,-494.6212 2675.6773,-483.2199 2704.0762,-472.6717\"/>\n<polygon fill=\"#000000\" stroke=\"#000000\" points=\"2705.456,-475.8929 2713.6115,-469.13 2703.0186,-469.3309 2705.456,-475.8929\"/>\n<text text-anchor=\"middle\" x=\"2703.1952\" y=\"-488.1566\" font-family=\"Helvetica,sans-Serif\" font-size=\"14.00\" fill=\"#000000\">False</text>\n</g>\n<!-- 2 -->\n<g id=\"node3\" class=\"node\">\n<title>2</title>\n<path fill=\"#e58139\" stroke=\"#000000\" d=\"M747,-365C747,-365 598,-365 598,-365 592,-365 586,-359 586,-353 586,-353 586,-309 586,-309 586,-303 592,-297 598,-297 598,-297 747,-297 747,-297 753,-297 759,-303 759,-309 759,-309 759,-353 759,-353 759,-359 753,-365 747,-365\"/>\n<text text-anchor=\"start\" x=\"622.5\" y=\"-349.8\" font-family=\"Helvetica,sans-Serif\" font-size=\"14.00\" fill=\"#000000\">redshift ≤ 0.001</text>\n<text text-anchor=\"start\" x=\"634.5\" y=\"-334.8\" font-family=\"Helvetica,sans-Serif\" font-size=\"14.00\" fill=\"#000000\">gini = 0.001</text>\n<text text-anchor=\"start\" x=\"612\" y=\"-319.8\" font-family=\"Helvetica,sans-Serif\" font-size=\"14.00\" fill=\"#000000\">samples = 118829</text>\n<text text-anchor=\"start\" x=\"594\" y=\"-304.8\" font-family=\"Helvetica,sans-Serif\" font-size=\"14.00\" fill=\"#000000\">value = [118771, 35, 23]</text>\n</g>\n<!-- 1&#45;&gt;2 -->\n<g id=\"edge2\" class=\"edge\">\n<title>1&#45;&gt;2</title>\n<path fill=\"none\" stroke=\"#000000\" d=\"M1491.7009,-424.2132C1316.8812,-404.3213 945.515,-362.0652 769.2468,-342.0084\"/>\n<polygon fill=\"#000000\" stroke=\"#000000\" points=\"769.5363,-338.5188 759.2047,-340.8657 768.7449,-345.474 769.5363,-338.5188\"/>\n</g>\n<!-- 15 -->\n<g id=\"node16\" class=\"node\">\n<title>15</title>\n<path fill=\"#f3c6a5\" stroke=\"#000000\" d=\"M1656.5,-365C1656.5,-365 1516.5,-365 1516.5,-365 1510.5,-365 1504.5,-359 1504.5,-353 1504.5,-353 1504.5,-309 1504.5,-309 1504.5,-303 1510.5,-297 1516.5,-297 1516.5,-297 1656.5,-297 1656.5,-297 1662.5,-297 1668.5,-303 1668.5,-309 1668.5,-309 1668.5,-353 1668.5,-353 1668.5,-359 1662.5,-365 1656.5,-365\"/>\n<text text-anchor=\"start\" x=\"1552\" y=\"-349.8\" font-family=\"Helvetica,sans-Serif\" font-size=\"14.00\" fill=\"#000000\">u ≤ 18.607</text>\n<text text-anchor=\"start\" x=\"1548.5\" y=\"-334.8\" font-family=\"Helvetica,sans-Serif\" font-size=\"14.00\" fill=\"#000000\">gini = 0.581</text>\n<text text-anchor=\"start\" x=\"1538.5\" y=\"-319.8\" font-family=\"Helvetica,sans-Serif\" font-size=\"14.00\" fill=\"#000000\">samples = 979</text>\n<text text-anchor=\"start\" x=\"1512.5\" y=\"-304.8\" font-family=\"Helvetica,sans-Serif\" font-size=\"14.00\" fill=\"#000000\">value = [560, 213, 206]</text>\n</g>\n<!-- 1&#45;&gt;15 -->\n<g id=\"edge15\" class=\"edge\">\n<title>1&#45;&gt;15</title>\n<path fill=\"none\" stroke=\"#000000\" d=\"M1586.5,-400.9465C1586.5,-392.776 1586.5,-383.9318 1586.5,-375.3697\"/>\n<polygon fill=\"#000000\" stroke=\"#000000\" points=\"1590.0001,-375.13 1586.5,-365.13 1583.0001,-375.13 1590.0001,-375.13\"/>\n</g>\n<!-- 3 -->\n<g id=\"node4\" class=\"node\">\n<title>3</title>\n<path fill=\"#e58139\" stroke=\"#000000\" d=\"M513,-261C513,-261 364,-261 364,-261 358,-261 352,-255 352,-249 352,-249 352,-205 352,-205 352,-199 358,-193 364,-193 364,-193 513,-193 513,-193 519,-193 525,-199 525,-205 525,-205 525,-249 525,-249 525,-255 519,-261 513,-261\"/>\n<text text-anchor=\"start\" x=\"404.5\" y=\"-245.8\" font-family=\"Helvetica,sans-Serif\" font-size=\"14.00\" fill=\"#000000\">z ≤ 12.636</text>\n<text text-anchor=\"start\" x=\"400.5\" y=\"-230.8\" font-family=\"Helvetica,sans-Serif\" font-size=\"14.00\" fill=\"#000000\">gini = 0.001</text>\n<text text-anchor=\"start\" x=\"378\" y=\"-215.8\" font-family=\"Helvetica,sans-Serif\" font-size=\"14.00\" fill=\"#000000\">samples = 118764</text>\n<text text-anchor=\"start\" x=\"360\" y=\"-200.8\" font-family=\"Helvetica,sans-Serif\" font-size=\"14.00\" fill=\"#000000\">value = [118716, 30, 18]</text>\n</g>\n<!-- 2&#45;&gt;3 -->\n<g id=\"edge3\" class=\"edge\">\n<title>2&#45;&gt;3</title>\n<path fill=\"none\" stroke=\"#000000\" d=\"M595.8796,-296.9465C573.0517,-286.8008 547.8862,-275.6161 524.5013,-265.2228\"/>\n<polygon fill=\"#000000\" stroke=\"#000000\" points=\"525.8521,-261.9931 515.2925,-261.13 523.0091,-268.3898 525.8521,-261.9931\"/>\n</g>\n<!-- 10 -->\n<g id=\"node11\" class=\"node\">\n<title>10</title>\n<path fill=\"#e9965a\" stroke=\"#000000\" d=\"M722,-261C722,-261 623,-261 623,-261 617,-261 611,-255 611,-249 611,-249 611,-205 611,-205 611,-199 617,-193 623,-193 623,-193 722,-193 722,-193 728,-193 734,-199 734,-205 734,-205 734,-249 734,-249 734,-255 728,-261 722,-261\"/>\n<text text-anchor=\"start\" x=\"638\" y=\"-245.8\" font-family=\"Helvetica,sans-Serif\" font-size=\"14.00\" fill=\"#000000\">u ≤ 17.819</text>\n<text text-anchor=\"start\" x=\"634.5\" y=\"-230.8\" font-family=\"Helvetica,sans-Serif\" font-size=\"14.00\" fill=\"#000000\">gini = 0.272</text>\n<text text-anchor=\"start\" x=\"628.5\" y=\"-215.8\" font-family=\"Helvetica,sans-Serif\" font-size=\"14.00\" fill=\"#000000\">samples = 65</text>\n<text text-anchor=\"start\" x=\"619\" y=\"-200.8\" font-family=\"Helvetica,sans-Serif\" font-size=\"14.00\" fill=\"#000000\">value = [55, 5, 5]</text>\n</g>\n<!-- 2&#45;&gt;10 -->\n<g id=\"edge10\" class=\"edge\">\n<title>2&#45;&gt;10</title>\n<path fill=\"none\" stroke=\"#000000\" d=\"M672.5,-296.9465C672.5,-288.776 672.5,-279.9318 672.5,-271.3697\"/>\n<polygon fill=\"#000000\" stroke=\"#000000\" points=\"676.0001,-271.13 672.5,-261.13 669.0001,-271.13 676.0001,-271.13\"/>\n</g>\n<!-- 4 -->\n<g id=\"node5\" class=\"node\">\n<title>4</title>\n<path fill=\"#e99559\" stroke=\"#000000\" d=\"M248,-157C248,-157 149,-157 149,-157 143,-157 137,-151 137,-145 137,-145 137,-101 137,-101 137,-95 143,-89 149,-89 149,-89 248,-89 248,-89 254,-89 260,-95 260,-101 260,-101 260,-145 260,-145 260,-151 254,-157 248,-157\"/>\n<text text-anchor=\"start\" x=\"157\" y=\"-141.8\" font-family=\"Helvetica,sans-Serif\" font-size=\"14.00\" fill=\"#000000\">redshift ≤ 0.0</text>\n<text text-anchor=\"start\" x=\"160.5\" y=\"-126.8\" font-family=\"Helvetica,sans-Serif\" font-size=\"14.00\" fill=\"#000000\">gini = 0.259</text>\n<text text-anchor=\"start\" x=\"154.5\" y=\"-111.8\" font-family=\"Helvetica,sans-Serif\" font-size=\"14.00\" fill=\"#000000\">samples = 41</text>\n<text text-anchor=\"start\" x=\"145\" y=\"-96.8\" font-family=\"Helvetica,sans-Serif\" font-size=\"14.00\" fill=\"#000000\">value = [35, 2, 4]</text>\n</g>\n<!-- 3&#45;&gt;4 -->\n<g id=\"edge4\" class=\"edge\">\n<title>3&#45;&gt;4</title>\n<path fill=\"none\" stroke=\"#000000\" d=\"M359.915,-192.9465C330.806,-180.3326 297.9911,-166.1128 269.5872,-153.8045\"/>\n<polygon fill=\"#000000\" stroke=\"#000000\" points=\"270.7027,-150.4734 260.1355,-149.7087 267.9194,-156.8963 270.7027,-150.4734\"/>\n</g>\n<!-- 7 -->\n<g id=\"node8\" class=\"node\">\n<title>7</title>\n<path fill=\"#e58139\" stroke=\"#000000\" d=\"M513,-157C513,-157 364,-157 364,-157 358,-157 352,-151 352,-145 352,-145 352,-101 352,-101 352,-95 358,-89 364,-89 364,-89 513,-89 513,-89 519,-89 525,-95 525,-101 525,-101 525,-145 525,-145 525,-151 519,-157 513,-157\"/>\n<text text-anchor=\"start\" x=\"404\" y=\"-141.8\" font-family=\"Helvetica,sans-Serif\" font-size=\"14.00\" fill=\"#000000\">g ≤ 14.614</text>\n<text text-anchor=\"start\" x=\"400.5\" y=\"-126.8\" font-family=\"Helvetica,sans-Serif\" font-size=\"14.00\" fill=\"#000000\">gini = 0.001</text>\n<text text-anchor=\"start\" x=\"378\" y=\"-111.8\" font-family=\"Helvetica,sans-Serif\" font-size=\"14.00\" fill=\"#000000\">samples = 118723</text>\n<text text-anchor=\"start\" x=\"360\" y=\"-96.8\" font-family=\"Helvetica,sans-Serif\" font-size=\"14.00\" fill=\"#000000\">value = [118681, 28, 14]</text>\n</g>\n<!-- 3&#45;&gt;7 -->\n<g id=\"edge7\" class=\"edge\">\n<title>3&#45;&gt;7</title>\n<path fill=\"none\" stroke=\"#000000\" d=\"M438.5,-192.9465C438.5,-184.776 438.5,-175.9318 438.5,-167.3697\"/>\n<polygon fill=\"#000000\" stroke=\"#000000\" points=\"442.0001,-167.13 438.5,-157.13 435.0001,-167.13 442.0001,-167.13\"/>\n</g>\n<!-- 5 -->\n<g id=\"node6\" class=\"node\">\n<title>5</title>\n<path fill=\"#e58139\" stroke=\"#000000\" d=\"M111,-53C111,-53 12,-53 12,-53 6,-53 0,-47 0,-41 0,-41 0,-12 0,-12 0,-6 6,0 12,0 12,0 111,0 111,0 117,0 123,-6 123,-12 123,-12 123,-41 123,-41 123,-47 117,-53 111,-53\"/>\n<text text-anchor=\"start\" x=\"32\" y=\"-37.8\" font-family=\"Helvetica,sans-Serif\" font-size=\"14.00\" fill=\"#000000\">gini = 0.0</text>\n<text text-anchor=\"start\" x=\"17.5\" y=\"-22.8\" font-family=\"Helvetica,sans-Serif\" font-size=\"14.00\" fill=\"#000000\">samples = 31</text>\n<text text-anchor=\"start\" x=\"8\" y=\"-7.8\" font-family=\"Helvetica,sans-Serif\" font-size=\"14.00\" fill=\"#000000\">value = [31, 0, 0]</text>\n</g>\n<!-- 4&#45;&gt;5 -->\n<g id=\"edge5\" class=\"edge\">\n<title>4&#45;&gt;5</title>\n<path fill=\"none\" stroke=\"#000000\" d=\"M150.1989,-88.9777C136.4189,-79.2713 121.4411,-68.7213 107.7845,-59.1018\"/>\n<polygon fill=\"#000000\" stroke=\"#000000\" points=\"109.6655,-56.1457 99.4745,-53.2485 105.6345,-61.8686 109.6655,-56.1457\"/>\n</g>\n<!-- 6 -->\n<g id=\"node7\" class=\"node\">\n<title>6</title>\n<path fill=\"#ffffff\" stroke=\"#000000\" d=\"M244,-53C244,-53 153,-53 153,-53 147,-53 141,-47 141,-41 141,-41 141,-12 141,-12 141,-6 147,0 153,0 153,0 244,0 244,0 250,0 256,-6 256,-12 256,-12 256,-41 256,-41 256,-47 250,-53 244,-53\"/>\n<text text-anchor=\"start\" x=\"165\" y=\"-37.8\" font-family=\"Helvetica,sans-Serif\" font-size=\"14.00\" fill=\"#000000\">gini = 0.64</text>\n<text text-anchor=\"start\" x=\"154.5\" y=\"-22.8\" font-family=\"Helvetica,sans-Serif\" font-size=\"14.00\" fill=\"#000000\">samples = 10</text>\n<text text-anchor=\"start\" x=\"149\" y=\"-7.8\" font-family=\"Helvetica,sans-Serif\" font-size=\"14.00\" fill=\"#000000\">value = [4, 2, 4]</text>\n</g>\n<!-- 4&#45;&gt;6 -->\n<g id=\"edge6\" class=\"edge\">\n<title>4&#45;&gt;6</title>\n<path fill=\"none\" stroke=\"#000000\" d=\"M198.5,-88.9777C198.5,-80.7364 198.5,-71.887 198.5,-63.5153\"/>\n<polygon fill=\"#000000\" stroke=\"#000000\" points=\"202.0001,-63.2484 198.5,-53.2485 195.0001,-63.2485 202.0001,-63.2484\"/>\n</g>\n<!-- 8 -->\n<g id=\"node9\" class=\"node\">\n<title>8</title>\n<path fill=\"#e68843\" stroke=\"#000000\" d=\"M393,-53C393,-53 286,-53 286,-53 280,-53 274,-47 274,-41 274,-41 274,-12 274,-12 274,-6 280,0 286,0 286,0 393,0 393,0 399,0 405,-6 405,-12 405,-12 405,-41 405,-41 405,-47 399,-53 393,-53\"/>\n<text text-anchor=\"start\" x=\"301.5\" y=\"-37.8\" font-family=\"Helvetica,sans-Serif\" font-size=\"14.00\" fill=\"#000000\">gini = 0.096</text>\n<text text-anchor=\"start\" x=\"291.5\" y=\"-22.8\" font-family=\"Helvetica,sans-Serif\" font-size=\"14.00\" fill=\"#000000\">samples = 160</text>\n<text text-anchor=\"start\" x=\"282\" y=\"-7.8\" font-family=\"Helvetica,sans-Serif\" font-size=\"14.00\" fill=\"#000000\">value = [152, 6, 2]</text>\n</g>\n<!-- 7&#45;&gt;8 -->\n<g id=\"edge8\" class=\"edge\">\n<title>7&#45;&gt;8</title>\n<path fill=\"none\" stroke=\"#000000\" d=\"M403.5963,-88.9777C394.1082,-79.7292 383.8343,-69.7147 374.3491,-60.4691\"/>\n<polygon fill=\"#000000\" stroke=\"#000000\" points=\"376.5454,-57.7223 366.9414,-53.2485 371.6593,-62.7349 376.5454,-57.7223\"/>\n</g>\n<!-- 9 -->\n<g id=\"node10\" class=\"node\">\n<title>9</title>\n<path fill=\"#e58139\" stroke=\"#000000\" d=\"M584,-53C584,-53 435,-53 435,-53 429,-53 423,-47 423,-41 423,-41 423,-12 423,-12 423,-6 429,0 435,0 435,0 584,0 584,0 590,0 596,-6 596,-12 596,-12 596,-41 596,-41 596,-47 590,-53 584,-53\"/>\n<text text-anchor=\"start\" x=\"471.5\" y=\"-37.8\" font-family=\"Helvetica,sans-Serif\" font-size=\"14.00\" fill=\"#000000\">gini = 0.001</text>\n<text text-anchor=\"start\" x=\"449\" y=\"-22.8\" font-family=\"Helvetica,sans-Serif\" font-size=\"14.00\" fill=\"#000000\">samples = 118563</text>\n<text text-anchor=\"start\" x=\"431\" y=\"-7.8\" font-family=\"Helvetica,sans-Serif\" font-size=\"14.00\" fill=\"#000000\">value = [118529, 22, 12]</text>\n</g>\n<!-- 7&#45;&gt;9 -->\n<g id=\"edge9\" class=\"edge\">\n<title>7&#45;&gt;9</title>\n<path fill=\"none\" stroke=\"#000000\" d=\"M463.5319,-88.9777C470.0671,-80.0954 477.122,-70.5067 483.6964,-61.5711\"/>\n<polygon fill=\"#000000\" stroke=\"#000000\" points=\"486.7126,-63.3775 489.8198,-53.2485 481.0743,-59.229 486.7126,-63.3775\"/>\n</g>\n<!-- 11 -->\n<g id=\"node12\" class=\"node\">\n<title>11</title>\n<path fill=\"#f9e3d3\" stroke=\"#000000\" d=\"M650,-149.5C650,-149.5 559,-149.5 559,-149.5 553,-149.5 547,-143.5 547,-137.5 547,-137.5 547,-108.5 547,-108.5 547,-102.5 553,-96.5 559,-96.5 559,-96.5 650,-96.5 650,-96.5 656,-96.5 662,-102.5 662,-108.5 662,-108.5 662,-137.5 662,-137.5 662,-143.5 656,-149.5 650,-149.5\"/>\n<text text-anchor=\"start\" x=\"566.5\" y=\"-134.3\" font-family=\"Helvetica,sans-Serif\" font-size=\"14.00\" fill=\"#000000\">gini = 0.639</text>\n<text text-anchor=\"start\" x=\"560.5\" y=\"-119.3\" font-family=\"Helvetica,sans-Serif\" font-size=\"14.00\" fill=\"#000000\">samples = 13</text>\n<text text-anchor=\"start\" x=\"555\" y=\"-104.3\" font-family=\"Helvetica,sans-Serif\" font-size=\"14.00\" fill=\"#000000\">value = [6, 4, 3]</text>\n</g>\n<!-- 10&#45;&gt;11 -->\n<g id=\"edge11\" class=\"edge\">\n<title>10&#45;&gt;11</title>\n<path fill=\"none\" stroke=\"#000000\" d=\"M650.2343,-192.9465C642.9602,-181.8215 634.8694,-169.4473 627.5396,-158.237\"/>\n<polygon fill=\"#000000\" stroke=\"#000000\" points=\"630.2564,-155.9965 621.8545,-149.5422 624.3976,-159.8273 630.2564,-155.9965\"/>\n</g>\n<!-- 12 -->\n<g id=\"node13\" class=\"node\">\n<title>12</title>\n<path fill=\"#e78945\" stroke=\"#000000\" d=\"M799,-157C799,-157 692,-157 692,-157 686,-157 680,-151 680,-145 680,-145 680,-101 680,-101 680,-95 686,-89 692,-89 692,-89 799,-89 799,-89 805,-89 811,-95 811,-101 811,-101 811,-145 811,-145 811,-151 805,-157 799,-157\"/>\n<text text-anchor=\"start\" x=\"688\" y=\"-141.8\" font-family=\"Helvetica,sans-Serif\" font-size=\"14.00\" fill=\"#000000\">dered_u ≤ 20.504</text>\n<text text-anchor=\"start\" x=\"712\" y=\"-126.8\" font-family=\"Helvetica,sans-Serif\" font-size=\"14.00\" fill=\"#000000\">gini = 0.11</text>\n<text text-anchor=\"start\" x=\"701.5\" y=\"-111.8\" font-family=\"Helvetica,sans-Serif\" font-size=\"14.00\" fill=\"#000000\">samples = 52</text>\n<text text-anchor=\"start\" x=\"692\" y=\"-96.8\" font-family=\"Helvetica,sans-Serif\" font-size=\"14.00\" fill=\"#000000\">value = [49, 1, 2]</text>\n</g>\n<!-- 10&#45;&gt;12 -->\n<g id=\"edge12\" class=\"edge\">\n<title>10&#45;&gt;12</title>\n<path fill=\"none\" stroke=\"#000000\" d=\"M696.4029,-192.9465C702.5791,-184.1475 709.3038,-174.5672 715.739,-165.3993\"/>\n<polygon fill=\"#000000\" stroke=\"#000000\" points=\"718.6629,-167.3258 721.5434,-157.13 712.9334,-163.3041 718.6629,-167.3258\"/>\n</g>\n<!-- 13 -->\n<g id=\"node14\" class=\"node\">\n<title>13</title>\n<path fill=\"#e6843e\" stroke=\"#000000\" d=\"M725,-53C725,-53 626,-53 626,-53 620,-53 614,-47 614,-41 614,-41 614,-12 614,-12 614,-6 620,0 626,0 626,0 725,0 725,0 731,0 737,-6 737,-12 737,-12 737,-41 737,-41 737,-47 731,-53 725,-53\"/>\n<text text-anchor=\"start\" x=\"637.5\" y=\"-37.8\" font-family=\"Helvetica,sans-Serif\" font-size=\"14.00\" fill=\"#000000\">gini = 0.053</text>\n<text text-anchor=\"start\" x=\"631.5\" y=\"-22.8\" font-family=\"Helvetica,sans-Serif\" font-size=\"14.00\" fill=\"#000000\">samples = 37</text>\n<text text-anchor=\"start\" x=\"622\" y=\"-7.8\" font-family=\"Helvetica,sans-Serif\" font-size=\"14.00\" fill=\"#000000\">value = [36, 1, 0]</text>\n</g>\n<!-- 12&#45;&gt;13 -->\n<g id=\"edge13\" class=\"edge\">\n<title>12&#45;&gt;13</title>\n<path fill=\"none\" stroke=\"#000000\" d=\"M720.8206,-88.9777C714.3775,-80.0954 707.422,-70.5067 700.9402,-61.5711\"/>\n<polygon fill=\"#000000\" stroke=\"#000000\" points=\"703.6079,-59.288 694.903,-53.2485 697.9417,-63.3982 703.6079,-59.288\"/>\n</g>\n<!-- 14 -->\n<g id=\"node15\" class=\"node\">\n<title>14</title>\n<path fill=\"#e99457\" stroke=\"#000000\" d=\"M866,-53C866,-53 767,-53 767,-53 761,-53 755,-47 755,-41 755,-41 755,-12 755,-12 755,-6 761,0 767,0 767,0 866,0 866,0 872,0 878,-6 878,-12 878,-12 878,-41 878,-41 878,-47 872,-53 866,-53\"/>\n<text text-anchor=\"start\" x=\"778.5\" y=\"-37.8\" font-family=\"Helvetica,sans-Serif\" font-size=\"14.00\" fill=\"#000000\">gini = 0.231</text>\n<text text-anchor=\"start\" x=\"772.5\" y=\"-22.8\" font-family=\"Helvetica,sans-Serif\" font-size=\"14.00\" fill=\"#000000\">samples = 15</text>\n<text text-anchor=\"start\" x=\"763\" y=\"-7.8\" font-family=\"Helvetica,sans-Serif\" font-size=\"14.00\" fill=\"#000000\">value = [13, 0, 2]</text>\n</g>\n<!-- 12&#45;&gt;14 -->\n<g id=\"edge14\" class=\"edge\">\n<title>12&#45;&gt;14</title>\n<path fill=\"none\" stroke=\"#000000\" d=\"M770.5319,-88.9777C777.0671,-80.0954 784.122,-70.5067 790.6964,-61.5711\"/>\n<polygon fill=\"#000000\" stroke=\"#000000\" points=\"793.7126,-63.3775 796.8198,-53.2485 788.0743,-59.229 793.7126,-63.3775\"/>\n</g>\n<!-- 16 -->\n<g id=\"node17\" class=\"node\">\n<title>16</title>\n<path fill=\"#f9fefb\" stroke=\"#000000\" d=\"M1433.5,-261C1433.5,-261 1293.5,-261 1293.5,-261 1287.5,-261 1281.5,-255 1281.5,-249 1281.5,-249 1281.5,-205 1281.5,-205 1281.5,-199 1287.5,-193 1293.5,-193 1293.5,-193 1433.5,-193 1433.5,-193 1439.5,-193 1445.5,-199 1445.5,-205 1445.5,-205 1445.5,-249 1445.5,-249 1445.5,-255 1439.5,-261 1433.5,-261\"/>\n<text text-anchor=\"start\" x=\"1306.5\" y=\"-245.8\" font-family=\"Helvetica,sans-Serif\" font-size=\"14.00\" fill=\"#000000\">dered_z ≤ 16.262</text>\n<text text-anchor=\"start\" x=\"1325.5\" y=\"-230.8\" font-family=\"Helvetica,sans-Serif\" font-size=\"14.00\" fill=\"#000000\">gini = 0.656</text>\n<text text-anchor=\"start\" x=\"1315.5\" y=\"-215.8\" font-family=\"Helvetica,sans-Serif\" font-size=\"14.00\" fill=\"#000000\">samples = 441</text>\n<text text-anchor=\"start\" x=\"1289.5\" y=\"-200.8\" font-family=\"Helvetica,sans-Serif\" font-size=\"14.00\" fill=\"#000000\">value = [110, 170, 161]</text>\n</g>\n<!-- 15&#45;&gt;16 -->\n<g id=\"edge16\" class=\"edge\">\n<title>15&#45;&gt;16</title>\n<path fill=\"none\" stroke=\"#000000\" d=\"M1513.4815,-296.9465C1491.8229,-286.8457 1467.9563,-275.7151 1445.7544,-265.3608\"/>\n<polygon fill=\"#000000\" stroke=\"#000000\" points=\"1447.2248,-262.1847 1436.6826,-261.13 1444.2661,-268.5287 1447.2248,-262.1847\"/>\n</g>\n<!-- 23 -->\n<g id=\"node24\" class=\"node\">\n<title>23</title>\n<path fill=\"#ea975c\" stroke=\"#000000\" d=\"M1725.5,-261C1725.5,-261 1601.5,-261 1601.5,-261 1595.5,-261 1589.5,-255 1589.5,-249 1589.5,-249 1589.5,-205 1589.5,-205 1589.5,-199 1595.5,-193 1601.5,-193 1601.5,-193 1725.5,-193 1725.5,-193 1731.5,-193 1737.5,-199 1737.5,-205 1737.5,-205 1737.5,-249 1737.5,-249 1737.5,-255 1731.5,-261 1725.5,-261\"/>\n<text text-anchor=\"start\" x=\"1609\" y=\"-245.8\" font-family=\"Helvetica,sans-Serif\" font-size=\"14.00\" fill=\"#000000\">dered_i ≤ 20.975</text>\n<text text-anchor=\"start\" x=\"1625.5\" y=\"-230.8\" font-family=\"Helvetica,sans-Serif\" font-size=\"14.00\" fill=\"#000000\">gini = 0.287</text>\n<text text-anchor=\"start\" x=\"1615.5\" y=\"-215.8\" font-family=\"Helvetica,sans-Serif\" font-size=\"14.00\" fill=\"#000000\">samples = 538</text>\n<text text-anchor=\"start\" x=\"1597.5\" y=\"-200.8\" font-family=\"Helvetica,sans-Serif\" font-size=\"14.00\" fill=\"#000000\">value = [450, 43, 45]</text>\n</g>\n<!-- 15&#45;&gt;23 -->\n<g id=\"edge23\" class=\"edge\">\n<title>15&#45;&gt;23</title>\n<path fill=\"none\" stroke=\"#000000\" d=\"M1611.7127,-296.9465C1618.2273,-288.1475 1625.3205,-278.5672 1632.1082,-269.3993\"/>\n<polygon fill=\"#000000\" stroke=\"#000000\" points=\"1635.0931,-271.2496 1638.2307,-261.13 1629.4673,-267.0843 1635.0931,-271.2496\"/>\n</g>\n<!-- 17 -->\n<g id=\"node18\" class=\"node\">\n<title>17</title>\n<path fill=\"#e3d2f9\" stroke=\"#000000\" d=\"M1194.5,-157C1194.5,-157 1070.5,-157 1070.5,-157 1064.5,-157 1058.5,-151 1058.5,-145 1058.5,-145 1058.5,-101 1058.5,-101 1058.5,-95 1064.5,-89 1070.5,-89 1070.5,-89 1194.5,-89 1194.5,-89 1200.5,-89 1206.5,-95 1206.5,-101 1206.5,-101 1206.5,-145 1206.5,-145 1206.5,-151 1200.5,-157 1194.5,-157\"/>\n<text text-anchor=\"start\" x=\"1075\" y=\"-141.8\" font-family=\"Helvetica,sans-Serif\" font-size=\"14.00\" fill=\"#000000\">dered_u ≤ 16.942</text>\n<text text-anchor=\"start\" x=\"1094.5\" y=\"-126.8\" font-family=\"Helvetica,sans-Serif\" font-size=\"14.00\" fill=\"#000000\">gini = 0.645</text>\n<text text-anchor=\"start\" x=\"1084.5\" y=\"-111.8\" font-family=\"Helvetica,sans-Serif\" font-size=\"14.00\" fill=\"#000000\">samples = 307</text>\n<text text-anchor=\"start\" x=\"1066.5\" y=\"-96.8\" font-family=\"Helvetica,sans-Serif\" font-size=\"14.00\" fill=\"#000000\">value = [78, 90, 139]</text>\n</g>\n<!-- 16&#45;&gt;17 -->\n<g id=\"edge17\" class=\"edge\">\n<title>16&#45;&gt;17</title>\n<path fill=\"none\" stroke=\"#000000\" d=\"M1287.862,-192.9465C1264.8621,-182.5916 1239.4584,-171.1544 1215.9731,-160.5809\"/>\n<polygon fill=\"#000000\" stroke=\"#000000\" points=\"1217.2874,-157.3343 1206.732,-156.4205 1214.4136,-163.7173 1217.2874,-157.3343\"/>\n</g>\n<!-- 20 -->\n<g id=\"node21\" class=\"node\">\n<title>20</title>\n<path fill=\"#a2f3c4\" stroke=\"#000000\" d=\"M1421.5,-157C1421.5,-157 1305.5,-157 1305.5,-157 1299.5,-157 1293.5,-151 1293.5,-145 1293.5,-145 1293.5,-101 1293.5,-101 1293.5,-95 1299.5,-89 1305.5,-89 1305.5,-89 1421.5,-89 1421.5,-89 1427.5,-89 1433.5,-95 1433.5,-101 1433.5,-101 1433.5,-145 1433.5,-145 1433.5,-151 1427.5,-157 1421.5,-157\"/>\n<text text-anchor=\"start\" x=\"1329\" y=\"-141.8\" font-family=\"Helvetica,sans-Serif\" font-size=\"14.00\" fill=\"#000000\">u ≤ 17.735</text>\n<text text-anchor=\"start\" x=\"1330\" y=\"-126.8\" font-family=\"Helvetica,sans-Serif\" font-size=\"14.00\" fill=\"#000000\">gini = 0.56</text>\n<text text-anchor=\"start\" x=\"1315.5\" y=\"-111.8\" font-family=\"Helvetica,sans-Serif\" font-size=\"14.00\" fill=\"#000000\">samples = 134</text>\n<text text-anchor=\"start\" x=\"1301.5\" y=\"-96.8\" font-family=\"Helvetica,sans-Serif\" font-size=\"14.00\" fill=\"#000000\">value = [32, 80, 22]</text>\n</g>\n<!-- 16&#45;&gt;20 -->\n<g id=\"edge20\" class=\"edge\">\n<title>16&#45;&gt;20</title>\n<path fill=\"none\" stroke=\"#000000\" d=\"M1363.5,-192.9465C1363.5,-184.776 1363.5,-175.9318 1363.5,-167.3697\"/>\n<polygon fill=\"#000000\" stroke=\"#000000\" points=\"1367.0001,-167.13 1363.5,-157.13 1360.0001,-167.13 1367.0001,-167.13\"/>\n</g>\n<!-- 18 -->\n<g id=\"node19\" class=\"node\">\n<title>18</title>\n<path fill=\"#e4d4f9\" stroke=\"#000000\" d=\"M1032.5,-53C1032.5,-53 908.5,-53 908.5,-53 902.5,-53 896.5,-47 896.5,-41 896.5,-41 896.5,-12 896.5,-12 896.5,-6 902.5,0 908.5,0 908.5,0 1032.5,0 1032.5,0 1038.5,0 1044.5,-6 1044.5,-12 1044.5,-12 1044.5,-41 1044.5,-41 1044.5,-47 1038.5,-53 1032.5,-53\"/>\n<text text-anchor=\"start\" x=\"932.5\" y=\"-37.8\" font-family=\"Helvetica,sans-Serif\" font-size=\"14.00\" fill=\"#000000\">gini = 0.608</text>\n<text text-anchor=\"start\" x=\"922.5\" y=\"-22.8\" font-family=\"Helvetica,sans-Serif\" font-size=\"14.00\" fill=\"#000000\">samples = 209</text>\n<text text-anchor=\"start\" x=\"904.5\" y=\"-7.8\" font-family=\"Helvetica,sans-Serif\" font-size=\"14.00\" fill=\"#000000\">value = [32, 74, 103]</text>\n</g>\n<!-- 17&#45;&gt;18 -->\n<g id=\"edge18\" class=\"edge\">\n<title>17&#45;&gt;18</title>\n<path fill=\"none\" stroke=\"#000000\" d=\"M1075.3849,-88.9777C1058.7059,-79.0424 1040.5431,-68.2232 1024.0906,-58.4228\"/>\n<polygon fill=\"#000000\" stroke=\"#000000\" points=\"1025.529,-55.2058 1015.1466,-53.095 1021.9467,-61.2197 1025.529,-55.2058\"/>\n</g>\n<!-- 19 -->\n<g id=\"node20\" class=\"node\">\n<title>19</title>\n<path fill=\"#fbebdf\" stroke=\"#000000\" d=\"M1190.5,-53C1190.5,-53 1074.5,-53 1074.5,-53 1068.5,-53 1062.5,-47 1062.5,-41 1062.5,-41 1062.5,-12 1062.5,-12 1062.5,-6 1068.5,0 1074.5,0 1074.5,0 1190.5,0 1190.5,0 1196.5,0 1202.5,-6 1202.5,-12 1202.5,-12 1202.5,-41 1202.5,-41 1202.5,-47 1196.5,-53 1190.5,-53\"/>\n<text text-anchor=\"start\" x=\"1094.5\" y=\"-37.8\" font-family=\"Helvetica,sans-Serif\" font-size=\"14.00\" fill=\"#000000\">gini = 0.618</text>\n<text text-anchor=\"start\" x=\"1088.5\" y=\"-22.8\" font-family=\"Helvetica,sans-Serif\" font-size=\"14.00\" fill=\"#000000\">samples = 98</text>\n<text text-anchor=\"start\" x=\"1070.5\" y=\"-7.8\" font-family=\"Helvetica,sans-Serif\" font-size=\"14.00\" fill=\"#000000\">value = [46, 16, 36]</text>\n</g>\n<!-- 17&#45;&gt;19 -->\n<g id=\"edge19\" class=\"edge\">\n<title>17&#45;&gt;19</title>\n<path fill=\"none\" stroke=\"#000000\" d=\"M1132.5,-88.9777C1132.5,-80.7364 1132.5,-71.887 1132.5,-63.5153\"/>\n<polygon fill=\"#000000\" stroke=\"#000000\" points=\"1136.0001,-63.2484 1132.5,-53.2485 1129.0001,-63.2485 1136.0001,-63.2484\"/>\n</g>\n<!-- 21 -->\n<g id=\"node22\" class=\"node\">\n<title>21</title>\n<path fill=\"#50e890\" stroke=\"#000000\" d=\"M1332,-53C1332,-53 1233,-53 1233,-53 1227,-53 1221,-47 1221,-41 1221,-41 1221,-12 1221,-12 1221,-6 1227,0 1233,0 1233,0 1332,0 1332,0 1338,0 1344,-6 1344,-12 1344,-12 1344,-41 1344,-41 1344,-47 1338,-53 1332,-53\"/>\n<text text-anchor=\"start\" x=\"1244.5\" y=\"-37.8\" font-family=\"Helvetica,sans-Serif\" font-size=\"14.00\" fill=\"#000000\">gini = 0.194</text>\n<text text-anchor=\"start\" x=\"1238.5\" y=\"-22.8\" font-family=\"Helvetica,sans-Serif\" font-size=\"14.00\" fill=\"#000000\">samples = 47</text>\n<text text-anchor=\"start\" x=\"1229\" y=\"-7.8\" font-family=\"Helvetica,sans-Serif\" font-size=\"14.00\" fill=\"#000000\">value = [4, 42, 1]</text>\n</g>\n<!-- 20&#45;&gt;21 -->\n<g id=\"edge21\" class=\"edge\">\n<title>20&#45;&gt;21</title>\n<path fill=\"none\" stroke=\"#000000\" d=\"M1334.9424,-88.9777C1327.3331,-79.9123 1319.1061,-70.111 1311.4747,-61.0192\"/>\n<polygon fill=\"#000000\" stroke=\"#000000\" points=\"1314.062,-58.6577 1304.9521,-53.2485 1308.7005,-63.1581 1314.062,-58.6577\"/>\n</g>\n<!-- 22 -->\n<g id=\"node23\" class=\"node\">\n<title>22</title>\n<path fill=\"#ddfbea\" stroke=\"#000000\" d=\"M1490.5,-53C1490.5,-53 1374.5,-53 1374.5,-53 1368.5,-53 1362.5,-47 1362.5,-41 1362.5,-41 1362.5,-12 1362.5,-12 1362.5,-6 1368.5,0 1374.5,0 1374.5,0 1490.5,0 1490.5,0 1496.5,0 1502.5,-6 1502.5,-12 1502.5,-12 1502.5,-41 1502.5,-41 1502.5,-47 1496.5,-53 1490.5,-53\"/>\n<text text-anchor=\"start\" x=\"1394.5\" y=\"-37.8\" font-family=\"Helvetica,sans-Serif\" font-size=\"14.00\" fill=\"#000000\">gini = 0.647</text>\n<text text-anchor=\"start\" x=\"1388.5\" y=\"-22.8\" font-family=\"Helvetica,sans-Serif\" font-size=\"14.00\" fill=\"#000000\">samples = 87</text>\n<text text-anchor=\"start\" x=\"1370.5\" y=\"-7.8\" font-family=\"Helvetica,sans-Serif\" font-size=\"14.00\" fill=\"#000000\">value = [28, 38, 21]</text>\n</g>\n<!-- 20&#45;&gt;22 -->\n<g id=\"edge22\" class=\"edge\">\n<title>20&#45;&gt;22</title>\n<path fill=\"none\" stroke=\"#000000\" d=\"M1387.8268,-88.9777C1394.1779,-80.0954 1401.034,-70.5067 1407.4232,-61.5711\"/>\n<polygon fill=\"#000000\" stroke=\"#000000\" points=\"1410.4048,-63.4187 1413.3741,-53.2485 1404.7107,-59.3472 1410.4048,-63.4187\"/>\n</g>\n<!-- 24 -->\n<g id=\"node25\" class=\"node\">\n<title>24</title>\n<path fill=\"#e89051\" stroke=\"#000000\" d=\"M1725.5,-157C1725.5,-157 1601.5,-157 1601.5,-157 1595.5,-157 1589.5,-151 1589.5,-145 1589.5,-145 1589.5,-101 1589.5,-101 1589.5,-95 1595.5,-89 1601.5,-89 1601.5,-89 1725.5,-89 1725.5,-89 1731.5,-89 1737.5,-95 1737.5,-101 1737.5,-101 1737.5,-145 1737.5,-145 1737.5,-151 1731.5,-157 1725.5,-157\"/>\n<text text-anchor=\"start\" x=\"1629\" y=\"-141.8\" font-family=\"Helvetica,sans-Serif\" font-size=\"14.00\" fill=\"#000000\">u ≤ 19.053</text>\n<text text-anchor=\"start\" x=\"1625.5\" y=\"-126.8\" font-family=\"Helvetica,sans-Serif\" font-size=\"14.00\" fill=\"#000000\">gini = 0.211</text>\n<text text-anchor=\"start\" x=\"1615.5\" y=\"-111.8\" font-family=\"Helvetica,sans-Serif\" font-size=\"14.00\" fill=\"#000000\">samples = 458</text>\n<text text-anchor=\"start\" x=\"1597.5\" y=\"-96.8\" font-family=\"Helvetica,sans-Serif\" font-size=\"14.00\" fill=\"#000000\">value = [405, 26, 27]</text>\n</g>\n<!-- 23&#45;&gt;24 -->\n<g id=\"edge24\" class=\"edge\">\n<title>23&#45;&gt;24</title>\n<path fill=\"none\" stroke=\"#000000\" d=\"M1663.5,-192.9465C1663.5,-184.776 1663.5,-175.9318 1663.5,-167.3697\"/>\n<polygon fill=\"#000000\" stroke=\"#000000\" points=\"1667.0001,-167.13 1663.5,-157.13 1660.0001,-167.13 1667.0001,-167.13\"/>\n</g>\n<!-- 27 -->\n<g id=\"node28\" class=\"node\">\n<title>27</title>\n<path fill=\"#f4c8a9\" stroke=\"#000000\" d=\"M1960.5,-157C1960.5,-157 1844.5,-157 1844.5,-157 1838.5,-157 1832.5,-151 1832.5,-145 1832.5,-145 1832.5,-101 1832.5,-101 1832.5,-95 1838.5,-89 1844.5,-89 1844.5,-89 1960.5,-89 1960.5,-89 1966.5,-89 1972.5,-95 1972.5,-101 1972.5,-101 1972.5,-145 1972.5,-145 1972.5,-151 1966.5,-157 1960.5,-157\"/>\n<text text-anchor=\"start\" x=\"1868\" y=\"-141.8\" font-family=\"Helvetica,sans-Serif\" font-size=\"14.00\" fill=\"#000000\">g ≤ 22.147</text>\n<text text-anchor=\"start\" x=\"1864.5\" y=\"-126.8\" font-family=\"Helvetica,sans-Serif\" font-size=\"14.00\" fill=\"#000000\">gini = 0.588</text>\n<text text-anchor=\"start\" x=\"1858.5\" y=\"-111.8\" font-family=\"Helvetica,sans-Serif\" font-size=\"14.00\" fill=\"#000000\">samples = 80</text>\n<text text-anchor=\"start\" x=\"1840.5\" y=\"-96.8\" font-family=\"Helvetica,sans-Serif\" font-size=\"14.00\" fill=\"#000000\">value = [45, 17, 18]</text>\n</g>\n<!-- 23&#45;&gt;27 -->\n<g id=\"edge27\" class=\"edge\">\n<title>23&#45;&gt;27</title>\n<path fill=\"none\" stroke=\"#000000\" d=\"M1737.811,-194.6638C1764.8957,-182.878 1795.6125,-169.5117 1823.1205,-157.5417\"/>\n<polygon fill=\"#000000\" stroke=\"#000000\" points=\"1824.5435,-160.7396 1832.3164,-153.5401 1821.7504,-154.3209 1824.5435,-160.7396\"/>\n</g>\n<!-- 25 -->\n<g id=\"node26\" class=\"node\">\n<title>25</title>\n<path fill=\"#f2c09c\" stroke=\"#000000\" d=\"M1640,-53C1640,-53 1533,-53 1533,-53 1527,-53 1521,-47 1521,-41 1521,-41 1521,-12 1521,-12 1521,-6 1527,0 1533,0 1533,0 1640,0 1640,0 1646,0 1652,-6 1652,-12 1652,-12 1652,-41 1652,-41 1652,-47 1646,-53 1640,-53\"/>\n<text text-anchor=\"start\" x=\"1548.5\" y=\"-37.8\" font-family=\"Helvetica,sans-Serif\" font-size=\"14.00\" fill=\"#000000\">gini = 0.524</text>\n<text text-anchor=\"start\" x=\"1542.5\" y=\"-22.8\" font-family=\"Helvetica,sans-Serif\" font-size=\"14.00\" fill=\"#000000\">samples = 54</text>\n<text text-anchor=\"start\" x=\"1529\" y=\"-7.8\" font-family=\"Helvetica,sans-Serif\" font-size=\"14.00\" fill=\"#000000\">value = [34, 14, 6]</text>\n</g>\n<!-- 24&#45;&gt;25 -->\n<g id=\"edge25\" class=\"edge\">\n<title>24&#45;&gt;25</title>\n<path fill=\"none\" stroke=\"#000000\" d=\"M1636.3527,-88.9777C1629.1922,-80.0039 1621.4564,-70.3089 1614.2639,-61.295\"/>\n<polygon fill=\"#000000\" stroke=\"#000000\" points=\"1616.8163,-58.8821 1607.8433,-53.2485 1611.3446,-63.2481 1616.8163,-58.8821\"/>\n</g>\n<!-- 26 -->\n<g id=\"node27\" class=\"node\">\n<title>26</title>\n<path fill=\"#e78c4a\" stroke=\"#000000\" d=\"M1806.5,-53C1806.5,-53 1682.5,-53 1682.5,-53 1676.5,-53 1670.5,-47 1670.5,-41 1670.5,-41 1670.5,-12 1670.5,-12 1670.5,-6 1676.5,0 1682.5,0 1682.5,0 1806.5,0 1806.5,0 1812.5,0 1818.5,-6 1818.5,-12 1818.5,-12 1818.5,-41 1818.5,-41 1818.5,-47 1812.5,-53 1806.5,-53\"/>\n<text text-anchor=\"start\" x=\"1706.5\" y=\"-37.8\" font-family=\"Helvetica,sans-Serif\" font-size=\"14.00\" fill=\"#000000\">gini = 0.153</text>\n<text text-anchor=\"start\" x=\"1696.5\" y=\"-22.8\" font-family=\"Helvetica,sans-Serif\" font-size=\"14.00\" fill=\"#000000\">samples = 404</text>\n<text text-anchor=\"start\" x=\"1678.5\" y=\"-7.8\" font-family=\"Helvetica,sans-Serif\" font-size=\"14.00\" fill=\"#000000\">value = [371, 12, 21]</text>\n</g>\n<!-- 24&#45;&gt;26 -->\n<g id=\"edge26\" class=\"edge\">\n<title>24&#45;&gt;26</title>\n<path fill=\"none\" stroke=\"#000000\" d=\"M1692.0576,-88.9777C1699.6669,-79.9123 1707.8939,-70.111 1715.5253,-61.0192\"/>\n<polygon fill=\"#000000\" stroke=\"#000000\" points=\"1718.2995,-63.1581 1722.0479,-53.2485 1712.938,-58.6577 1718.2995,-63.1581\"/>\n</g>\n<!-- 28 -->\n<g id=\"node29\" class=\"node\">\n<title>28</title>\n<path fill=\"#e9fcf1\" stroke=\"#000000\" d=\"M1956,-53C1956,-53 1849,-53 1849,-53 1843,-53 1837,-47 1837,-41 1837,-41 1837,-12 1837,-12 1837,-6 1843,0 1849,0 1849,0 1956,0 1956,0 1962,0 1968,-6 1968,-12 1968,-12 1968,-41 1968,-41 1968,-47 1962,-53 1956,-53\"/>\n<text text-anchor=\"start\" x=\"1864.5\" y=\"-37.8\" font-family=\"Helvetica,sans-Serif\" font-size=\"14.00\" fill=\"#000000\">gini = 0.581</text>\n<text text-anchor=\"start\" x=\"1858.5\" y=\"-22.8\" font-family=\"Helvetica,sans-Serif\" font-size=\"14.00\" fill=\"#000000\">samples = 31</text>\n<text text-anchor=\"start\" x=\"1845\" y=\"-7.8\" font-family=\"Helvetica,sans-Serif\" font-size=\"14.00\" fill=\"#000000\">value = [3, 15, 13]</text>\n</g>\n<!-- 27&#45;&gt;28 -->\n<g id=\"edge28\" class=\"edge\">\n<title>27&#45;&gt;28</title>\n<path fill=\"none\" stroke=\"#000000\" d=\"M1902.5,-88.9777C1902.5,-80.7364 1902.5,-71.887 1902.5,-63.5153\"/>\n<polygon fill=\"#000000\" stroke=\"#000000\" points=\"1906.0001,-63.2484 1902.5,-53.2485 1899.0001,-63.2485 1906.0001,-63.2484\"/>\n</g>\n<!-- 29 -->\n<g id=\"node30\" class=\"node\">\n<title>29</title>\n<path fill=\"#e99559\" stroke=\"#000000\" d=\"M2097,-53C2097,-53 1998,-53 1998,-53 1992,-53 1986,-47 1986,-41 1986,-41 1986,-12 1986,-12 1986,-6 1992,0 1998,0 1998,0 2097,0 2097,0 2103,0 2109,-6 2109,-12 2109,-12 2109,-41 2109,-41 2109,-47 2103,-53 2097,-53\"/>\n<text text-anchor=\"start\" x=\"2009.5\" y=\"-37.8\" font-family=\"Helvetica,sans-Serif\" font-size=\"14.00\" fill=\"#000000\">gini = 0.253</text>\n<text text-anchor=\"start\" x=\"2003.5\" y=\"-22.8\" font-family=\"Helvetica,sans-Serif\" font-size=\"14.00\" fill=\"#000000\">samples = 49</text>\n<text text-anchor=\"start\" x=\"1994\" y=\"-7.8\" font-family=\"Helvetica,sans-Serif\" font-size=\"14.00\" fill=\"#000000\">value = [42, 2, 5]</text>\n</g>\n<!-- 27&#45;&gt;29 -->\n<g id=\"edge29\" class=\"edge\">\n<title>27&#45;&gt;29</title>\n<path fill=\"none\" stroke=\"#000000\" d=\"M1953.6216,-88.9777C1968.3439,-79.1798 1984.3579,-68.5222 1998.9215,-58.8298\"/>\n<polygon fill=\"#000000\" stroke=\"#000000\" points=\"2000.9222,-61.7026 2007.308,-53.2485 1997.0439,-55.8752 2000.9222,-61.7026\"/>\n</g>\n<!-- 31 -->\n<g id=\"node32\" class=\"node\">\n<title>31</title>\n<path fill=\"#9659e9\" stroke=\"#000000\" d=\"M2892,-365C2892,-365 2719,-365 2719,-365 2713,-365 2707,-359 2707,-353 2707,-353 2707,-309 2707,-309 2707,-303 2713,-297 2719,-297 2719,-297 2892,-297 2892,-297 2898,-297 2904,-303 2904,-309 2904,-309 2904,-353 2904,-353 2904,-359 2898,-365 2892,-365\"/>\n<text text-anchor=\"start\" x=\"2748\" y=\"-349.8\" font-family=\"Helvetica,sans-Serif\" font-size=\"14.00\" fill=\"#000000\">dered_u ≤ 19.041</text>\n<text text-anchor=\"start\" x=\"2767.5\" y=\"-334.8\" font-family=\"Helvetica,sans-Serif\" font-size=\"14.00\" fill=\"#000000\">gini = 0.242</text>\n<text text-anchor=\"start\" x=\"2745\" y=\"-319.8\" font-family=\"Helvetica,sans-Serif\" font-size=\"14.00\" fill=\"#000000\">samples = 160119</text>\n<text text-anchor=\"start\" x=\"2715\" y=\"-304.8\" font-family=\"Helvetica,sans-Serif\" font-size=\"14.00\" fill=\"#000000\">value = [96, 22466, 137557]</text>\n</g>\n<!-- 30&#45;&gt;31 -->\n<g id=\"edge31\" class=\"edge\">\n<title>30&#45;&gt;31</title>\n<path fill=\"none\" stroke=\"#000000\" d=\"M2805.5,-400.9465C2805.5,-392.776 2805.5,-383.9318 2805.5,-375.3697\"/>\n<polygon fill=\"#000000\" stroke=\"#000000\" points=\"2809.0001,-375.13 2805.5,-365.13 2802.0001,-375.13 2809.0001,-375.13\"/>\n</g>\n<!-- 46 -->\n<g id=\"node47\" class=\"node\">\n<title>46</title>\n<path fill=\"#f9fefb\" stroke=\"#000000\" d=\"M4085,-365C4085,-365 3912,-365 3912,-365 3906,-365 3900,-359 3900,-353 3900,-353 3900,-309 3900,-309 3900,-303 3906,-297 3912,-297 3912,-297 4085,-297 4085,-297 4091,-297 4097,-303 4097,-309 4097,-309 4097,-353 4097,-353 4097,-359 4091,-365 4085,-365\"/>\n<text text-anchor=\"start\" x=\"3941\" y=\"-349.8\" font-family=\"Helvetica,sans-Serif\" font-size=\"14.00\" fill=\"#000000\">dered_u ≤ 18.984</text>\n<text text-anchor=\"start\" x=\"3960.5\" y=\"-334.8\" font-family=\"Helvetica,sans-Serif\" font-size=\"14.00\" fill=\"#000000\">gini = 0.514</text>\n<text text-anchor=\"start\" x=\"3942.5\" y=\"-319.8\" font-family=\"Helvetica,sans-Serif\" font-size=\"14.00\" fill=\"#000000\">samples = 40073</text>\n<text text-anchor=\"start\" x=\"3908\" y=\"-304.8\" font-family=\"Helvetica,sans-Serif\" font-size=\"14.00\" fill=\"#000000\">value = [569, 20071, 19433]</text>\n</g>\n<!-- 30&#45;&gt;46 -->\n<g id=\"edge46\" class=\"edge\">\n<title>30&#45;&gt;46</title>\n<path fill=\"none\" stroke=\"#000000\" d=\"M2908.5059,-426.0204C3132.2752,-406.5133 3661.02,-360.4199 3889.8333,-340.473\"/>\n<polygon fill=\"#000000\" stroke=\"#000000\" points=\"3890.179,-343.9563 3899.8372,-339.6009 3889.571,-336.9827 3890.179,-343.9563\"/>\n</g>\n<!-- 32 -->\n<g id=\"node33\" class=\"node\">\n<title>32</title>\n<path fill=\"#a16bec\" stroke=\"#000000\" d=\"M2791,-261C2791,-261 2626,-261 2626,-261 2620,-261 2614,-255 2614,-249 2614,-249 2614,-205 2614,-205 2614,-199 2620,-193 2626,-193 2626,-193 2791,-193 2791,-193 2797,-193 2803,-199 2803,-205 2803,-205 2803,-249 2803,-249 2803,-255 2797,-261 2791,-261\"/>\n<text text-anchor=\"start\" x=\"2674.5\" y=\"-245.8\" font-family=\"Helvetica,sans-Serif\" font-size=\"14.00\" fill=\"#000000\">z ≤ 16.652</text>\n<text text-anchor=\"start\" x=\"2670.5\" y=\"-230.8\" font-family=\"Helvetica,sans-Serif\" font-size=\"14.00\" fill=\"#000000\">gini = 0.324</text>\n<text text-anchor=\"start\" x=\"2652.5\" y=\"-215.8\" font-family=\"Helvetica,sans-Serif\" font-size=\"14.00\" fill=\"#000000\">samples = 88040</text>\n<text text-anchor=\"start\" x=\"2622\" y=\"-200.8\" font-family=\"Helvetica,sans-Serif\" font-size=\"14.00\" fill=\"#000000\">value = [59, 17805, 70176]</text>\n</g>\n<!-- 31&#45;&gt;32 -->\n<g id=\"edge32\" class=\"edge\">\n<title>31&#45;&gt;32</title>\n<path fill=\"none\" stroke=\"#000000\" d=\"M2773.7386,-296.9465C2765.2806,-287.8782 2756.0486,-277.9799 2747.2613,-268.5585\"/>\n<polygon fill=\"#000000\" stroke=\"#000000\" points=\"2749.713,-266.0557 2740.3328,-261.13 2744.594,-270.8302 2749.713,-266.0557\"/>\n</g>\n<!-- 39 -->\n<g id=\"node40\" class=\"node\">\n<title>39</title>\n<path fill=\"#8a47e7\" stroke=\"#000000\" d=\"M3162,-261C3162,-261 3005,-261 3005,-261 2999,-261 2993,-255 2993,-249 2993,-249 2993,-205 2993,-205 2993,-199 2999,-193 3005,-193 3005,-193 3162,-193 3162,-193 3168,-193 3174,-199 3174,-205 3174,-205 3174,-249 3174,-249 3174,-255 3168,-261 3162,-261\"/>\n<text text-anchor=\"start\" x=\"3049.5\" y=\"-245.8\" font-family=\"Helvetica,sans-Serif\" font-size=\"14.00\" fill=\"#000000\">z ≤ 17.029</text>\n<text text-anchor=\"start\" x=\"3045.5\" y=\"-230.8\" font-family=\"Helvetica,sans-Serif\" font-size=\"14.00\" fill=\"#000000\">gini = 0.122</text>\n<text text-anchor=\"start\" x=\"3027.5\" y=\"-215.8\" font-family=\"Helvetica,sans-Serif\" font-size=\"14.00\" fill=\"#000000\">samples = 72079</text>\n<text text-anchor=\"start\" x=\"3001\" y=\"-200.8\" font-family=\"Helvetica,sans-Serif\" font-size=\"14.00\" fill=\"#000000\">value = [37, 4661, 67381]</text>\n</g>\n<!-- 31&#45;&gt;39 -->\n<g id=\"edge39\" class=\"edge\">\n<title>31&#45;&gt;39</title>\n<path fill=\"none\" stroke=\"#000000\" d=\"M2896.5276,-296.9465C2924.2702,-286.568 2954.9189,-275.1023 2983.2365,-264.5087\"/>\n<polygon fill=\"#000000\" stroke=\"#000000\" points=\"2984.6032,-267.7343 2992.7429,-260.9523 2982.1505,-261.1781 2984.6032,-267.7343\"/>\n</g>\n<!-- 33 -->\n<g id=\"node34\" class=\"node\">\n<title>33</title>\n<path fill=\"#9559e9\" stroke=\"#000000\" d=\"M2495,-157C2495,-157 2338,-157 2338,-157 2332,-157 2326,-151 2326,-145 2326,-145 2326,-101 2326,-101 2326,-95 2332,-89 2338,-89 2338,-89 2495,-89 2495,-89 2501,-89 2507,-95 2507,-101 2507,-101 2507,-145 2507,-145 2507,-151 2501,-157 2495,-157\"/>\n<text text-anchor=\"start\" x=\"2359\" y=\"-141.8\" font-family=\"Helvetica,sans-Serif\" font-size=\"14.00\" fill=\"#000000\">dered_u ≤ 18.279</text>\n<text text-anchor=\"start\" x=\"2378.5\" y=\"-126.8\" font-family=\"Helvetica,sans-Serif\" font-size=\"14.00\" fill=\"#000000\">gini = 0.239</text>\n<text text-anchor=\"start\" x=\"2360.5\" y=\"-111.8\" font-family=\"Helvetica,sans-Serif\" font-size=\"14.00\" fill=\"#000000\">samples = 64062</text>\n<text text-anchor=\"start\" x=\"2334\" y=\"-96.8\" font-family=\"Helvetica,sans-Serif\" font-size=\"14.00\" fill=\"#000000\">value = [26, 8853, 55183]</text>\n</g>\n<!-- 32&#45;&gt;33 -->\n<g id=\"edge33\" class=\"edge\">\n<title>32&#45;&gt;33</title>\n<path fill=\"none\" stroke=\"#000000\" d=\"M2613.696,-193.2342C2582.7583,-182.2153 2548.3089,-169.9456 2516.9696,-158.7837\"/>\n<polygon fill=\"#000000\" stroke=\"#000000\" points=\"2517.9455,-155.416 2507.3508,-155.3578 2515.5968,-162.0102 2517.9455,-155.416\"/>\n</g>\n<!-- 36 -->\n<g id=\"node37\" class=\"node\">\n<title>36</title>\n<path fill=\"#ccaff5\" stroke=\"#000000\" d=\"M2787,-157C2787,-157 2630,-157 2630,-157 2624,-157 2618,-151 2618,-145 2618,-145 2618,-101 2618,-101 2618,-95 2624,-89 2630,-89 2630,-89 2787,-89 2787,-89 2793,-89 2799,-95 2799,-101 2799,-101 2799,-145 2799,-145 2799,-151 2793,-157 2787,-157\"/>\n<text text-anchor=\"start\" x=\"2651\" y=\"-141.8\" font-family=\"Helvetica,sans-Serif\" font-size=\"14.00\" fill=\"#000000\">dered_u ≤ 18.555</text>\n<text text-anchor=\"start\" x=\"2675\" y=\"-126.8\" font-family=\"Helvetica,sans-Serif\" font-size=\"14.00\" fill=\"#000000\">gini = 0.47</text>\n<text text-anchor=\"start\" x=\"2652.5\" y=\"-111.8\" font-family=\"Helvetica,sans-Serif\" font-size=\"14.00\" fill=\"#000000\">samples = 23978</text>\n<text text-anchor=\"start\" x=\"2626\" y=\"-96.8\" font-family=\"Helvetica,sans-Serif\" font-size=\"14.00\" fill=\"#000000\">value = [33, 8952, 14993]</text>\n</g>\n<!-- 32&#45;&gt;36 -->\n<g id=\"edge36\" class=\"edge\">\n<title>32&#45;&gt;36</title>\n<path fill=\"none\" stroke=\"#000000\" d=\"M2708.5,-192.9465C2708.5,-184.776 2708.5,-175.9318 2708.5,-167.3697\"/>\n<polygon fill=\"#000000\" stroke=\"#000000\" points=\"2712.0001,-167.13 2708.5,-157.13 2705.0001,-167.13 2712.0001,-167.13\"/>\n</g>\n<!-- 34 -->\n<g id=\"node35\" class=\"node\">\n<title>34</title>\n<path fill=\"#a06aeb\" stroke=\"#000000\" d=\"M2296,-53C2296,-53 2139,-53 2139,-53 2133,-53 2127,-47 2127,-41 2127,-41 2127,-12 2127,-12 2127,-6 2133,0 2139,0 2139,0 2296,0 2296,0 2302,0 2308,-6 2308,-12 2308,-12 2308,-41 2308,-41 2308,-47 2302,-53 2296,-53\"/>\n<text text-anchor=\"start\" x=\"2179.5\" y=\"-37.8\" font-family=\"Helvetica,sans-Serif\" font-size=\"14.00\" fill=\"#000000\">gini = 0.317</text>\n<text text-anchor=\"start\" x=\"2161.5\" y=\"-22.8\" font-family=\"Helvetica,sans-Serif\" font-size=\"14.00\" fill=\"#000000\">samples = 32203</text>\n<text text-anchor=\"start\" x=\"2135\" y=\"-7.8\" font-family=\"Helvetica,sans-Serif\" font-size=\"14.00\" fill=\"#000000\">value = [16, 6331, 25856]</text>\n</g>\n<!-- 33&#45;&gt;34 -->\n<g id=\"edge34\" class=\"edge\">\n<title>33&#45;&gt;34</title>\n<path fill=\"none\" stroke=\"#000000\" d=\"M2346.34,-88.9777C2325.1877,-78.7204 2302.0926,-67.521 2281.3723,-57.4732\"/>\n<polygon fill=\"#000000\" stroke=\"#000000\" points=\"2282.8687,-54.3091 2272.3436,-53.095 2279.8143,-60.6076 2282.8687,-54.3091\"/>\n</g>\n<!-- 35 -->\n<g id=\"node36\" class=\"node\">\n<title>35</title>\n<path fill=\"#8c4ae7\" stroke=\"#000000\" d=\"M2495,-53C2495,-53 2338,-53 2338,-53 2332,-53 2326,-47 2326,-41 2326,-41 2326,-12 2326,-12 2326,-6 2332,0 2338,0 2338,0 2495,0 2495,0 2501,0 2507,-6 2507,-12 2507,-12 2507,-41 2507,-41 2507,-47 2501,-53 2495,-53\"/>\n<text text-anchor=\"start\" x=\"2378.5\" y=\"-37.8\" font-family=\"Helvetica,sans-Serif\" font-size=\"14.00\" fill=\"#000000\">gini = 0.146</text>\n<text text-anchor=\"start\" x=\"2360.5\" y=\"-22.8\" font-family=\"Helvetica,sans-Serif\" font-size=\"14.00\" fill=\"#000000\">samples = 31859</text>\n<text text-anchor=\"start\" x=\"2334\" y=\"-7.8\" font-family=\"Helvetica,sans-Serif\" font-size=\"14.00\" fill=\"#000000\">value = [10, 2522, 29327]</text>\n</g>\n<!-- 33&#45;&gt;35 -->\n<g id=\"edge35\" class=\"edge\">\n<title>33&#45;&gt;35</title>\n<path fill=\"none\" stroke=\"#000000\" d=\"M2416.5,-88.9777C2416.5,-80.7364 2416.5,-71.887 2416.5,-63.5153\"/>\n<polygon fill=\"#000000\" stroke=\"#000000\" points=\"2420.0001,-63.2484 2416.5,-53.2485 2413.0001,-63.2485 2420.0001,-63.2484\"/>\n</g>\n<!-- 37 -->\n<g id=\"node38\" class=\"node\">\n<title>37</title>\n<path fill=\"#b5f5d0\" stroke=\"#000000\" d=\"M2686,-53C2686,-53 2537,-53 2537,-53 2531,-53 2525,-47 2525,-41 2525,-41 2525,-12 2525,-12 2525,-6 2531,0 2537,0 2537,0 2686,0 2686,0 2692,0 2698,-6 2698,-12 2698,-12 2698,-41 2698,-41 2698,-47 2692,-53 2686,-53\"/>\n<text text-anchor=\"start\" x=\"2573.5\" y=\"-37.8\" font-family=\"Helvetica,sans-Serif\" font-size=\"14.00\" fill=\"#000000\">gini = 0.478</text>\n<text text-anchor=\"start\" x=\"2559.5\" y=\"-22.8\" font-family=\"Helvetica,sans-Serif\" font-size=\"14.00\" fill=\"#000000\">samples = 5402</text>\n<text text-anchor=\"start\" x=\"2533\" y=\"-7.8\" font-family=\"Helvetica,sans-Serif\" font-size=\"14.00\" fill=\"#000000\">value = [27, 3309, 2066]</text>\n</g>\n<!-- 36&#45;&gt;37 -->\n<g id=\"edge37\" class=\"edge\">\n<title>36&#45;&gt;37</title>\n<path fill=\"none\" stroke=\"#000000\" d=\"M2674.3014,-88.9777C2665.005,-79.7292 2654.9386,-69.7147 2645.6451,-60.4691\"/>\n<polygon fill=\"#000000\" stroke=\"#000000\" points=\"2647.9449,-57.82 2638.3871,-53.2485 2643.0079,-62.7825 2647.9449,-57.82\"/>\n</g>\n<!-- 38 -->\n<g id=\"node39\" class=\"node\">\n<title>38</title>\n<path fill=\"#b88ff0\" stroke=\"#000000\" d=\"M2877,-53C2877,-53 2728,-53 2728,-53 2722,-53 2716,-47 2716,-41 2716,-41 2716,-12 2716,-12 2716,-6 2722,0 2728,0 2728,0 2877,0 2877,0 2883,0 2889,-6 2889,-12 2889,-12 2889,-41 2889,-41 2889,-47 2883,-53 2877,-53\"/>\n<text text-anchor=\"start\" x=\"2764.5\" y=\"-37.8\" font-family=\"Helvetica,sans-Serif\" font-size=\"14.00\" fill=\"#000000\">gini = 0.423</text>\n<text text-anchor=\"start\" x=\"2746.5\" y=\"-22.8\" font-family=\"Helvetica,sans-Serif\" font-size=\"14.00\" fill=\"#000000\">samples = 18576</text>\n<text text-anchor=\"start\" x=\"2724\" y=\"-7.8\" font-family=\"Helvetica,sans-Serif\" font-size=\"14.00\" fill=\"#000000\">value = [6, 5643, 12927]</text>\n</g>\n<!-- 36&#45;&gt;38 -->\n<g id=\"edge38\" class=\"edge\">\n<title>36&#45;&gt;38</title>\n<path fill=\"none\" stroke=\"#000000\" d=\"M2741.6409,-88.9777C2750.6498,-79.7292 2760.4048,-69.7147 2769.4109,-60.4691\"/>\n<polygon fill=\"#000000\" stroke=\"#000000\" points=\"2771.9739,-62.8539 2776.4445,-53.2485 2766.9596,-57.9696 2771.9739,-62.8539\"/>\n</g>\n<!-- 40 -->\n<g id=\"node41\" class=\"node\">\n<title>40</title>\n<path fill=\"#8641e6\" stroke=\"#000000\" d=\"M3162,-157C3162,-157 3005,-157 3005,-157 2999,-157 2993,-151 2993,-145 2993,-145 2993,-101 2993,-101 2993,-95 2999,-89 3005,-89 3005,-89 3162,-89 3162,-89 3168,-89 3174,-95 3174,-101 3174,-101 3174,-145 3174,-145 3174,-151 3168,-157 3162,-157\"/>\n<text text-anchor=\"start\" x=\"3026.5\" y=\"-141.8\" font-family=\"Helvetica,sans-Serif\" font-size=\"14.00\" fill=\"#000000\">dered_z ≤ 16.761</text>\n<text text-anchor=\"start\" x=\"3045.5\" y=\"-126.8\" font-family=\"Helvetica,sans-Serif\" font-size=\"14.00\" fill=\"#000000\">gini = 0.075</text>\n<text text-anchor=\"start\" x=\"3027.5\" y=\"-111.8\" font-family=\"Helvetica,sans-Serif\" font-size=\"14.00\" fill=\"#000000\">samples = 51770</text>\n<text text-anchor=\"start\" x=\"3001\" y=\"-96.8\" font-family=\"Helvetica,sans-Serif\" font-size=\"14.00\" fill=\"#000000\">value = [22, 2004, 49744]</text>\n</g>\n<!-- 39&#45;&gt;40 -->\n<g id=\"edge40\" class=\"edge\">\n<title>39&#45;&gt;40</title>\n<path fill=\"none\" stroke=\"#000000\" d=\"M3083.5,-192.9465C3083.5,-184.776 3083.5,-175.9318 3083.5,-167.3697\"/>\n<polygon fill=\"#000000\" stroke=\"#000000\" points=\"3087.0001,-167.13 3083.5,-157.13 3080.0001,-167.13 3087.0001,-167.13\"/>\n</g>\n<!-- 43 -->\n<g id=\"node44\" class=\"node\">\n<title>43</title>\n<path fill=\"#9457e9\" stroke=\"#000000\" d=\"M3450,-157C3450,-157 3293,-157 3293,-157 3287,-157 3281,-151 3281,-145 3281,-145 3281,-101 3281,-101 3281,-95 3287,-89 3293,-89 3293,-89 3450,-89 3450,-89 3456,-89 3462,-95 3462,-101 3462,-101 3462,-145 3462,-145 3462,-151 3456,-157 3450,-157\"/>\n<text text-anchor=\"start\" x=\"3314\" y=\"-141.8\" font-family=\"Helvetica,sans-Serif\" font-size=\"14.00\" fill=\"#000000\">dered_u ≤ 19.392</text>\n<text text-anchor=\"start\" x=\"3333.5\" y=\"-126.8\" font-family=\"Helvetica,sans-Serif\" font-size=\"14.00\" fill=\"#000000\">gini = 0.229</text>\n<text text-anchor=\"start\" x=\"3315.5\" y=\"-111.8\" font-family=\"Helvetica,sans-Serif\" font-size=\"14.00\" fill=\"#000000\">samples = 20309</text>\n<text text-anchor=\"start\" x=\"3289\" y=\"-96.8\" font-family=\"Helvetica,sans-Serif\" font-size=\"14.00\" fill=\"#000000\">value = [15, 2657, 17637]</text>\n</g>\n<!-- 39&#45;&gt;43 -->\n<g id=\"edge43\" class=\"edge\">\n<title>39&#45;&gt;43</title>\n<path fill=\"none\" stroke=\"#000000\" d=\"M3174.2297,-194.2365C3205.0107,-183.1211 3239.5719,-170.6407 3271.0643,-159.2684\"/>\n<polygon fill=\"#000000\" stroke=\"#000000\" points=\"3272.5149,-162.4659 3280.7317,-155.7774 3270.1374,-155.882 3272.5149,-162.4659\"/>\n</g>\n<!-- 41 -->\n<g id=\"node42\" class=\"node\">\n<title>41</title>\n<path fill=\"#843ee6\" stroke=\"#000000\" d=\"M3068,-53C3068,-53 2919,-53 2919,-53 2913,-53 2907,-47 2907,-41 2907,-41 2907,-12 2907,-12 2907,-6 2913,0 2919,0 2919,0 3068,0 3068,0 3074,0 3080,-6 3080,-12 3080,-12 3080,-41 3080,-41 3080,-47 3074,-53 3068,-53\"/>\n<text text-anchor=\"start\" x=\"2955.5\" y=\"-37.8\" font-family=\"Helvetica,sans-Serif\" font-size=\"14.00\" fill=\"#000000\">gini = 0.048</text>\n<text text-anchor=\"start\" x=\"2937.5\" y=\"-22.8\" font-family=\"Helvetica,sans-Serif\" font-size=\"14.00\" fill=\"#000000\">samples = 32506</text>\n<text text-anchor=\"start\" x=\"2915\" y=\"-7.8\" font-family=\"Helvetica,sans-Serif\" font-size=\"14.00\" fill=\"#000000\">value = [18, 786, 31702]</text>\n</g>\n<!-- 40&#45;&gt;41 -->\n<g id=\"edge41\" class=\"edge\">\n<title>40&#45;&gt;41</title>\n<path fill=\"none\" stroke=\"#000000\" d=\"M3051.7694,-88.9777C3043.2292,-79.8207 3033.9887,-69.9129 3025.4374,-60.744\"/>\n<polygon fill=\"#000000\" stroke=\"#000000\" points=\"3027.8269,-58.1744 3018.4468,-53.2485 3022.7077,-62.9488 3027.8269,-58.1744\"/>\n</g>\n<!-- 42 -->\n<g id=\"node43\" class=\"node\">\n<title>42</title>\n<path fill=\"#8a46e7\" stroke=\"#000000\" d=\"M3259,-53C3259,-53 3110,-53 3110,-53 3104,-53 3098,-47 3098,-41 3098,-41 3098,-12 3098,-12 3098,-6 3104,0 3110,0 3110,0 3259,0 3259,0 3265,0 3271,-6 3271,-12 3271,-12 3271,-41 3271,-41 3271,-47 3265,-53 3259,-53\"/>\n<text text-anchor=\"start\" x=\"3146.5\" y=\"-37.8\" font-family=\"Helvetica,sans-Serif\" font-size=\"14.00\" fill=\"#000000\">gini = 0.119</text>\n<text text-anchor=\"start\" x=\"3128.5\" y=\"-22.8\" font-family=\"Helvetica,sans-Serif\" font-size=\"14.00\" fill=\"#000000\">samples = 19264</text>\n<text text-anchor=\"start\" x=\"3106\" y=\"-7.8\" font-family=\"Helvetica,sans-Serif\" font-size=\"14.00\" fill=\"#000000\">value = [4, 1218, 18042]</text>\n</g>\n<!-- 40&#45;&gt;42 -->\n<g id=\"edge42\" class=\"edge\">\n<title>40&#45;&gt;42</title>\n<path fill=\"none\" stroke=\"#000000\" d=\"M3119.1088,-88.9777C3128.8845,-79.6376 3139.4777,-69.5163 3149.234,-60.1947\"/>\n<polygon fill=\"#000000\" stroke=\"#000000\" points=\"3151.6917,-62.6873 3156.5042,-53.2485 3146.856,-57.6261 3151.6917,-62.6873\"/>\n</g>\n<!-- 44 -->\n<g id=\"node45\" class=\"node\">\n<title>44</title>\n<path fill=\"#a26dec\" stroke=\"#000000\" d=\"M3441.5,-53C3441.5,-53 3301.5,-53 3301.5,-53 3295.5,-53 3289.5,-47 3289.5,-41 3289.5,-41 3289.5,-12 3289.5,-12 3289.5,-6 3295.5,0 3301.5,0 3301.5,0 3441.5,0 3441.5,0 3447.5,0 3453.5,-6 3453.5,-12 3453.5,-12 3453.5,-41 3453.5,-41 3453.5,-47 3447.5,-53 3441.5,-53\"/>\n<text text-anchor=\"start\" x=\"3333.5\" y=\"-37.8\" font-family=\"Helvetica,sans-Serif\" font-size=\"14.00\" fill=\"#000000\">gini = 0.331</text>\n<text text-anchor=\"start\" x=\"3319.5\" y=\"-22.8\" font-family=\"Helvetica,sans-Serif\" font-size=\"14.00\" fill=\"#000000\">samples = 9118</text>\n<text text-anchor=\"start\" x=\"3297.5\" y=\"-7.8\" font-family=\"Helvetica,sans-Serif\" font-size=\"14.00\" fill=\"#000000\">value = [4, 1905, 7209]</text>\n</g>\n<!-- 43&#45;&gt;44 -->\n<g id=\"edge44\" class=\"edge\">\n<title>43&#45;&gt;44</title>\n<path fill=\"none\" stroke=\"#000000\" d=\"M3371.5,-88.9777C3371.5,-80.7364 3371.5,-71.887 3371.5,-63.5153\"/>\n<polygon fill=\"#000000\" stroke=\"#000000\" points=\"3375.0001,-63.2484 3371.5,-53.2485 3368.0001,-63.2485 3375.0001,-63.2484\"/>\n</g>\n<!-- 45 -->\n<g id=\"node46\" class=\"node\">\n<title>45</title>\n<path fill=\"#8a47e7\" stroke=\"#000000\" d=\"M3633,-53C3633,-53 3484,-53 3484,-53 3478,-53 3472,-47 3472,-41 3472,-41 3472,-12 3472,-12 3472,-6 3478,0 3484,0 3484,0 3633,0 3633,0 3639,0 3645,-6 3645,-12 3645,-12 3645,-41 3645,-41 3645,-47 3639,-53 3633,-53\"/>\n<text text-anchor=\"start\" x=\"3520.5\" y=\"-37.8\" font-family=\"Helvetica,sans-Serif\" font-size=\"14.00\" fill=\"#000000\">gini = 0.127</text>\n<text text-anchor=\"start\" x=\"3502.5\" y=\"-22.8\" font-family=\"Helvetica,sans-Serif\" font-size=\"14.00\" fill=\"#000000\">samples = 11191</text>\n<text text-anchor=\"start\" x=\"3480\" y=\"-7.8\" font-family=\"Helvetica,sans-Serif\" font-size=\"14.00\" fill=\"#000000\">value = [11, 752, 10428]</text>\n</g>\n<!-- 43&#45;&gt;45 -->\n<g id=\"edge45\" class=\"edge\">\n<title>43&#45;&gt;45</title>\n<path fill=\"none\" stroke=\"#000000\" d=\"M3437.4292,-88.9777C3457.1278,-78.8124 3478.6194,-67.7218 3497.9549,-57.7439\"/>\n<polygon fill=\"#000000\" stroke=\"#000000\" points=\"3499.682,-60.7912 3506.9635,-53.095 3496.4719,-54.5706 3499.682,-60.7912\"/>\n</g>\n<!-- 47 -->\n<g id=\"node48\" class=\"node\">\n<title>47</title>\n<path fill=\"#75eda7\" stroke=\"#000000\" d=\"M4068.5,-261C4068.5,-261 3928.5,-261 3928.5,-261 3922.5,-261 3916.5,-255 3916.5,-249 3916.5,-249 3916.5,-205 3916.5,-205 3916.5,-199 3922.5,-193 3928.5,-193 3928.5,-193 4068.5,-193 4068.5,-193 4074.5,-193 4080.5,-199 4080.5,-205 4080.5,-205 4080.5,-249 4080.5,-249 4080.5,-255 4074.5,-261 4068.5,-261\"/>\n<text text-anchor=\"start\" x=\"3943\" y=\"-245.8\" font-family=\"Helvetica,sans-Serif\" font-size=\"14.00\" fill=\"#000000\">dered_r ≤ 17.697</text>\n<text text-anchor=\"start\" x=\"3960.5\" y=\"-230.8\" font-family=\"Helvetica,sans-Serif\" font-size=\"14.00\" fill=\"#000000\">gini = 0.363</text>\n<text text-anchor=\"start\" x=\"3946.5\" y=\"-215.8\" font-family=\"Helvetica,sans-Serif\" font-size=\"14.00\" fill=\"#000000\">samples = 4356</text>\n<text text-anchor=\"start\" x=\"3924.5\" y=\"-200.8\" font-family=\"Helvetica,sans-Serif\" font-size=\"14.00\" fill=\"#000000\">value = [34, 3334, 988]</text>\n</g>\n<!-- 46&#45;&gt;47 -->\n<g id=\"edge47\" class=\"edge\">\n<title>46&#45;&gt;47</title>\n<path fill=\"none\" stroke=\"#000000\" d=\"M3998.5,-296.9465C3998.5,-288.776 3998.5,-279.9318 3998.5,-271.3697\"/>\n<polygon fill=\"#000000\" stroke=\"#000000\" points=\"4002.0001,-271.13 3998.5,-261.13 3995.0001,-271.13 4002.0001,-271.13\"/>\n</g>\n<!-- 54 -->\n<g id=\"node55\" class=\"node\">\n<title>54</title>\n<path fill=\"#f4edfd\" stroke=\"#000000\" d=\"M4579,-261C4579,-261 4406,-261 4406,-261 4400,-261 4394,-255 4394,-249 4394,-249 4394,-205 4394,-205 4394,-199 4400,-193 4406,-193 4406,-193 4579,-193 4579,-193 4585,-193 4591,-199 4591,-205 4591,-205 4591,-249 4591,-249 4591,-255 4585,-261 4579,-261\"/>\n<text text-anchor=\"start\" x=\"4435.5\" y=\"-245.8\" font-family=\"Helvetica,sans-Serif\" font-size=\"14.00\" fill=\"#000000\">dered_z ≤ 17.608</text>\n<text text-anchor=\"start\" x=\"4454.5\" y=\"-230.8\" font-family=\"Helvetica,sans-Serif\" font-size=\"14.00\" fill=\"#000000\">gini = 0.513</text>\n<text text-anchor=\"start\" x=\"4436.5\" y=\"-215.8\" font-family=\"Helvetica,sans-Serif\" font-size=\"14.00\" fill=\"#000000\">samples = 35717</text>\n<text text-anchor=\"start\" x=\"4402\" y=\"-200.8\" font-family=\"Helvetica,sans-Serif\" font-size=\"14.00\" fill=\"#000000\">value = [535, 16737, 18445]</text>\n</g>\n<!-- 46&#45;&gt;54 -->\n<g id=\"edge54\" class=\"edge\">\n<title>46&#45;&gt;54</title>\n<path fill=\"none\" stroke=\"#000000\" d=\"M4097.281,-310.204C4180.1587,-292.7561 4298.3657,-267.8704 4383.8895,-249.8654\"/>\n<polygon fill=\"#000000\" stroke=\"#000000\" points=\"4384.8258,-253.2451 4393.8902,-247.76 4383.3837,-246.3952 4384.8258,-253.2451\"/>\n</g>\n<!-- 48 -->\n<g id=\"node49\" class=\"node\">\n<title>48</title>\n<path fill=\"#99f2be\" stroke=\"#000000\" d=\"M3975.5,-157C3975.5,-157 3843.5,-157 3843.5,-157 3837.5,-157 3831.5,-151 3831.5,-145 3831.5,-145 3831.5,-101 3831.5,-101 3831.5,-95 3837.5,-89 3843.5,-89 3843.5,-89 3975.5,-89 3975.5,-89 3981.5,-89 3987.5,-95 3987.5,-101 3987.5,-101 3987.5,-145 3987.5,-145 3987.5,-151 3981.5,-157 3975.5,-157\"/>\n<text text-anchor=\"start\" x=\"3852\" y=\"-141.8\" font-family=\"Helvetica,sans-Serif\" font-size=\"14.00\" fill=\"#000000\">dered_u ≤ 18.773</text>\n<text text-anchor=\"start\" x=\"3871.5\" y=\"-126.8\" font-family=\"Helvetica,sans-Serif\" font-size=\"14.00\" fill=\"#000000\">gini = 0.442</text>\n<text text-anchor=\"start\" x=\"3857.5\" y=\"-111.8\" font-family=\"Helvetica,sans-Serif\" font-size=\"14.00\" fill=\"#000000\">samples = 2432</text>\n<text text-anchor=\"start\" x=\"3839.5\" y=\"-96.8\" font-family=\"Helvetica,sans-Serif\" font-size=\"14.00\" fill=\"#000000\">value = [5, 1636, 791]</text>\n</g>\n<!-- 47&#45;&gt;48 -->\n<g id=\"edge48\" class=\"edge\">\n<title>47&#45;&gt;48</title>\n<path fill=\"none\" stroke=\"#000000\" d=\"M3969.3581,-192.9465C3961.6745,-183.968 3953.2947,-174.1758 3945.3041,-164.8385\"/>\n<polygon fill=\"#000000\" stroke=\"#000000\" points=\"3947.8685,-162.4521 3938.7074,-157.13 3942.5501,-167.0034 3947.8685,-162.4521\"/>\n</g>\n<!-- 51 -->\n<g id=\"node52\" class=\"node\">\n<title>51</title>\n<path fill=\"#53e891\" stroke=\"#000000\" d=\"M4157.5,-157C4157.5,-157 4017.5,-157 4017.5,-157 4011.5,-157 4005.5,-151 4005.5,-145 4005.5,-145 4005.5,-101 4005.5,-101 4005.5,-95 4011.5,-89 4017.5,-89 4017.5,-89 4157.5,-89 4157.5,-89 4163.5,-89 4169.5,-95 4169.5,-101 4169.5,-101 4169.5,-145 4169.5,-145 4169.5,-151 4163.5,-157 4157.5,-157\"/>\n<text text-anchor=\"start\" x=\"4037.5\" y=\"-141.8\" font-family=\"Helvetica,sans-Serif\" font-size=\"14.00\" fill=\"#000000\">redshift ≤ 0.425</text>\n<text text-anchor=\"start\" x=\"4054\" y=\"-126.8\" font-family=\"Helvetica,sans-Serif\" font-size=\"14.00\" fill=\"#000000\">gini = 0.21</text>\n<text text-anchor=\"start\" x=\"4035.5\" y=\"-111.8\" font-family=\"Helvetica,sans-Serif\" font-size=\"14.00\" fill=\"#000000\">samples = 1924</text>\n<text text-anchor=\"start\" x=\"4013.5\" y=\"-96.8\" font-family=\"Helvetica,sans-Serif\" font-size=\"14.00\" fill=\"#000000\">value = [29, 1698, 197]</text>\n</g>\n<!-- 47&#45;&gt;51 -->\n<g id=\"edge51\" class=\"edge\">\n<title>47&#45;&gt;51</title>\n<path fill=\"none\" stroke=\"#000000\" d=\"M4027.6419,-192.9465C4035.3255,-183.968 4043.7053,-174.1758 4051.6959,-164.8385\"/>\n<polygon fill=\"#000000\" stroke=\"#000000\" points=\"4054.4499,-167.0034 4058.2926,-157.13 4049.1315,-162.4521 4054.4499,-167.0034\"/>\n</g>\n<!-- 49 -->\n<g id=\"node50\" class=\"node\">\n<title>49</title>\n<path fill=\"#66eb9d\" stroke=\"#000000\" d=\"M3807.5,-53C3807.5,-53 3675.5,-53 3675.5,-53 3669.5,-53 3663.5,-47 3663.5,-41 3663.5,-41 3663.5,-12 3663.5,-12 3663.5,-6 3669.5,0 3675.5,0 3675.5,0 3807.5,0 3807.5,0 3813.5,0 3819.5,-6 3819.5,-12 3819.5,-12 3819.5,-41 3819.5,-41 3819.5,-47 3813.5,-53 3807.5,-53\"/>\n<text text-anchor=\"start\" x=\"3703.5\" y=\"-37.8\" font-family=\"Helvetica,sans-Serif\" font-size=\"14.00\" fill=\"#000000\">gini = 0.302</text>\n<text text-anchor=\"start\" x=\"3689.5\" y=\"-22.8\" font-family=\"Helvetica,sans-Serif\" font-size=\"14.00\" fill=\"#000000\">samples = 1297</text>\n<text text-anchor=\"start\" x=\"3671.5\" y=\"-7.8\" font-family=\"Helvetica,sans-Serif\" font-size=\"14.00\" fill=\"#000000\">value = [5, 1058, 234]</text>\n</g>\n<!-- 48&#45;&gt;49 -->\n<g id=\"edge49\" class=\"edge\">\n<title>48&#45;&gt;49</title>\n<path fill=\"none\" stroke=\"#000000\" d=\"M3850.2695,-88.9777C3832.8126,-78.9504 3813.7883,-68.0228 3796.6019,-58.1508\"/>\n<polygon fill=\"#000000\" stroke=\"#000000\" points=\"3798.2148,-55.041 3787.8002,-53.095 3794.7281,-61.1109 3798.2148,-55.041\"/>\n</g>\n<!-- 50 -->\n<g id=\"node51\" class=\"node\">\n<title>50</title>\n<path fill=\"#f8fefa\" stroke=\"#000000\" d=\"M3973.5,-53C3973.5,-53 3849.5,-53 3849.5,-53 3843.5,-53 3837.5,-47 3837.5,-41 3837.5,-41 3837.5,-12 3837.5,-12 3837.5,-6 3843.5,0 3849.5,0 3849.5,0 3973.5,0 3973.5,0 3979.5,0 3985.5,-6 3985.5,-12 3985.5,-12 3985.5,-41 3985.5,-41 3985.5,-47 3979.5,-53 3973.5,-53\"/>\n<text text-anchor=\"start\" x=\"3882\" y=\"-37.8\" font-family=\"Helvetica,sans-Serif\" font-size=\"14.00\" fill=\"#000000\">gini = 0.5</text>\n<text text-anchor=\"start\" x=\"3859.5\" y=\"-22.8\" font-family=\"Helvetica,sans-Serif\" font-size=\"14.00\" fill=\"#000000\">samples = 1135</text>\n<text text-anchor=\"start\" x=\"3845.5\" y=\"-7.8\" font-family=\"Helvetica,sans-Serif\" font-size=\"14.00\" fill=\"#000000\">value = [0, 578, 557]</text>\n</g>\n<!-- 48&#45;&gt;50 -->\n<g id=\"edge50\" class=\"edge\">\n<title>48&#45;&gt;50</title>\n<path fill=\"none\" stroke=\"#000000\" d=\"M3910.2051,-88.9777C3910.3759,-80.7364 3910.5593,-71.887 3910.7328,-63.5153\"/>\n<polygon fill=\"#000000\" stroke=\"#000000\" points=\"3914.2376,-63.3189 3910.9456,-53.2485 3907.2391,-63.1738 3914.2376,-63.3189\"/>\n</g>\n<!-- 52 -->\n<g id=\"node53\" class=\"node\">\n<title>52</title>\n<path fill=\"#51e890\" stroke=\"#000000\" d=\"M4155.5,-53C4155.5,-53 4015.5,-53 4015.5,-53 4009.5,-53 4003.5,-47 4003.5,-41 4003.5,-41 4003.5,-12 4003.5,-12 4003.5,-6 4009.5,0 4015.5,0 4015.5,0 4155.5,0 4155.5,0 4161.5,0 4167.5,-6 4167.5,-12 4167.5,-12 4167.5,-41 4167.5,-41 4167.5,-47 4161.5,-53 4155.5,-53\"/>\n<text text-anchor=\"start\" x=\"4047.5\" y=\"-37.8\" font-family=\"Helvetica,sans-Serif\" font-size=\"14.00\" fill=\"#000000\">gini = 0.197</text>\n<text text-anchor=\"start\" x=\"4033.5\" y=\"-22.8\" font-family=\"Helvetica,sans-Serif\" font-size=\"14.00\" fill=\"#000000\">samples = 1908</text>\n<text text-anchor=\"start\" x=\"4011.5\" y=\"-7.8\" font-family=\"Helvetica,sans-Serif\" font-size=\"14.00\" fill=\"#000000\">value = [13, 1698, 197]</text>\n</g>\n<!-- 51&#45;&gt;52 -->\n<g id=\"edge52\" class=\"edge\">\n<title>51&#45;&gt;52</title>\n<path fill=\"none\" stroke=\"#000000\" d=\"M4086.7949,-88.9777C4086.6241,-80.7364 4086.4407,-71.887 4086.2672,-63.5153\"/>\n<polygon fill=\"#000000\" stroke=\"#000000\" points=\"4089.7609,-63.1738 4086.0544,-53.2485 4082.7624,-63.3189 4089.7609,-63.1738\"/>\n</g>\n<!-- 53 -->\n<g id=\"node54\" class=\"node\">\n<title>53</title>\n<path fill=\"#e58139\" stroke=\"#000000\" d=\"M4297,-53C4297,-53 4198,-53 4198,-53 4192,-53 4186,-47 4186,-41 4186,-41 4186,-12 4186,-12 4186,-6 4192,0 4198,0 4198,0 4297,0 4297,0 4303,0 4309,-6 4309,-12 4309,-12 4309,-41 4309,-41 4309,-47 4303,-53 4297,-53\"/>\n<text text-anchor=\"start\" x=\"4218\" y=\"-37.8\" font-family=\"Helvetica,sans-Serif\" font-size=\"14.00\" fill=\"#000000\">gini = 0.0</text>\n<text text-anchor=\"start\" x=\"4203.5\" y=\"-22.8\" font-family=\"Helvetica,sans-Serif\" font-size=\"14.00\" fill=\"#000000\">samples = 16</text>\n<text text-anchor=\"start\" x=\"4194\" y=\"-7.8\" font-family=\"Helvetica,sans-Serif\" font-size=\"14.00\" fill=\"#000000\">value = [16, 0, 0]</text>\n</g>\n<!-- 51&#45;&gt;53 -->\n<g id=\"edge53\" class=\"edge\">\n<title>51&#45;&gt;53</title>\n<path fill=\"none\" stroke=\"#000000\" d=\"M4143.91,-88.9777C4160.3831,-79.0424 4178.3217,-68.2232 4194.571,-58.4228\"/>\n<polygon fill=\"#000000\" stroke=\"#000000\" points=\"4196.6491,-61.2568 4203.4046,-53.095 4193.0339,-55.2626 4196.6491,-61.2568\"/>\n</g>\n<!-- 55 -->\n<g id=\"node56\" class=\"node\">\n<title>55</title>\n<path fill=\"#b68cf0\" stroke=\"#000000\" d=\"M4567,-157C4567,-157 4418,-157 4418,-157 4412,-157 4406,-151 4406,-145 4406,-145 4406,-101 4406,-101 4406,-95 4412,-89 4418,-89 4418,-89 4567,-89 4567,-89 4573,-89 4579,-95 4579,-101 4579,-101 4579,-145 4579,-145 4579,-151 4573,-157 4567,-157\"/>\n<text text-anchor=\"start\" x=\"4435\" y=\"-141.8\" font-family=\"Helvetica,sans-Serif\" font-size=\"14.00\" fill=\"#000000\">dered_u ≤ 19.213</text>\n<text text-anchor=\"start\" x=\"4454.5\" y=\"-126.8\" font-family=\"Helvetica,sans-Serif\" font-size=\"14.00\" fill=\"#000000\">gini = 0.416</text>\n<text text-anchor=\"start\" x=\"4440.5\" y=\"-111.8\" font-family=\"Helvetica,sans-Serif\" font-size=\"14.00\" fill=\"#000000\">samples = 9153</text>\n<text text-anchor=\"start\" x=\"4414\" y=\"-96.8\" font-family=\"Helvetica,sans-Serif\" font-size=\"14.00\" fill=\"#000000\">value = [10, 2685, 6458]</text>\n</g>\n<!-- 54&#45;&gt;55 -->\n<g id=\"edge55\" class=\"edge\">\n<title>54&#45;&gt;55</title>\n<path fill=\"none\" stroke=\"#000000\" d=\"M4492.5,-192.9465C4492.5,-184.776 4492.5,-175.9318 4492.5,-167.3697\"/>\n<polygon fill=\"#000000\" stroke=\"#000000\" points=\"4496.0001,-167.13 4492.5,-157.13 4489.0001,-167.13 4496.0001,-167.13\"/>\n</g>\n<!-- 58 -->\n<g id=\"node59\" class=\"node\">\n<title>58</title>\n<path fill=\"#e3fbed\" stroke=\"#000000\" d=\"M4865,-157C4865,-157 4692,-157 4692,-157 4686,-157 4680,-151 4680,-145 4680,-145 4680,-101 4680,-101 4680,-95 4686,-89 4692,-89 4692,-89 4865,-89 4865,-89 4871,-89 4877,-95 4877,-101 4877,-101 4877,-145 4877,-145 4877,-151 4871,-157 4865,-157\"/>\n<text text-anchor=\"start\" x=\"4744\" y=\"-141.8\" font-family=\"Helvetica,sans-Serif\" font-size=\"14.00\" fill=\"#000000\">u ≤ 20.239</text>\n<text text-anchor=\"start\" x=\"4740.5\" y=\"-126.8\" font-family=\"Helvetica,sans-Serif\" font-size=\"14.00\" fill=\"#000000\">gini = 0.516</text>\n<text text-anchor=\"start\" x=\"4722.5\" y=\"-111.8\" font-family=\"Helvetica,sans-Serif\" font-size=\"14.00\" fill=\"#000000\">samples = 26564</text>\n<text text-anchor=\"start\" x=\"4688\" y=\"-96.8\" font-family=\"Helvetica,sans-Serif\" font-size=\"14.00\" fill=\"#000000\">value = [525, 14052, 11987]</text>\n</g>\n<!-- 54&#45;&gt;58 -->\n<g id=\"edge58\" class=\"edge\">\n<title>54&#45;&gt;58</title>\n<path fill=\"none\" stroke=\"#000000\" d=\"M4586.1471,-192.9465C4614.5417,-182.6212 4645.8954,-171.2199 4674.9028,-160.6717\"/>\n<polygon fill=\"#000000\" stroke=\"#000000\" points=\"4676.4407,-163.8368 4684.6425,-157.13 4674.0484,-157.2582 4676.4407,-163.8368\"/>\n</g>\n<!-- 56 -->\n<g id=\"node57\" class=\"node\">\n<title>56</title>\n<path fill=\"#ede3fb\" stroke=\"#000000\" d=\"M4479.5,-53C4479.5,-53 4339.5,-53 4339.5,-53 4333.5,-53 4327.5,-47 4327.5,-41 4327.5,-41 4327.5,-12 4327.5,-12 4327.5,-6 4333.5,0 4339.5,0 4339.5,0 4479.5,0 4479.5,0 4485.5,0 4491.5,-6 4491.5,-12 4491.5,-12 4491.5,-41 4491.5,-41 4491.5,-47 4485.5,-53 4479.5,-53\"/>\n<text text-anchor=\"start\" x=\"4371.5\" y=\"-37.8\" font-family=\"Helvetica,sans-Serif\" font-size=\"14.00\" fill=\"#000000\">gini = 0.498</text>\n<text text-anchor=\"start\" x=\"4357.5\" y=\"-22.8\" font-family=\"Helvetica,sans-Serif\" font-size=\"14.00\" fill=\"#000000\">samples = 3019</text>\n<text text-anchor=\"start\" x=\"4335.5\" y=\"-7.8\" font-family=\"Helvetica,sans-Serif\" font-size=\"14.00\" fill=\"#000000\">value = [2, 1392, 1625]</text>\n</g>\n<!-- 55&#45;&gt;56 -->\n<g id=\"edge56\" class=\"edge\">\n<title>55&#45;&gt;56</title>\n<path fill=\"none\" stroke=\"#000000\" d=\"M4463.2373,-88.9777C4455.4401,-79.9123 4447.01,-70.111 4439.1901,-61.0192\"/>\n<polygon fill=\"#000000\" stroke=\"#000000\" points=\"4441.6809,-58.5477 4432.5065,-53.2485 4436.3738,-63.1123 4441.6809,-58.5477\"/>\n</g>\n<!-- 57 -->\n<g id=\"node58\" class=\"node\">\n<title>57</title>\n<path fill=\"#a36eec\" stroke=\"#000000\" d=\"M4661.5,-53C4661.5,-53 4521.5,-53 4521.5,-53 4515.5,-53 4509.5,-47 4509.5,-41 4509.5,-41 4509.5,-12 4509.5,-12 4509.5,-6 4515.5,0 4521.5,0 4521.5,0 4661.5,0 4661.5,0 4667.5,0 4673.5,-6 4673.5,-12 4673.5,-12 4673.5,-41 4673.5,-41 4673.5,-47 4667.5,-53 4661.5,-53\"/>\n<text text-anchor=\"start\" x=\"4553.5\" y=\"-37.8\" font-family=\"Helvetica,sans-Serif\" font-size=\"14.00\" fill=\"#000000\">gini = 0.335</text>\n<text text-anchor=\"start\" x=\"4539.5\" y=\"-22.8\" font-family=\"Helvetica,sans-Serif\" font-size=\"14.00\" fill=\"#000000\">samples = 6134</text>\n<text text-anchor=\"start\" x=\"4517.5\" y=\"-7.8\" font-family=\"Helvetica,sans-Serif\" font-size=\"14.00\" fill=\"#000000\">value = [8, 1293, 4833]</text>\n</g>\n<!-- 55&#45;&gt;57 -->\n<g id=\"edge57\" class=\"edge\">\n<title>55&#45;&gt;57</title>\n<path fill=\"none\" stroke=\"#000000\" d=\"M4527.4037,-88.9777C4536.8918,-79.7292 4547.1657,-69.7147 4556.6509,-60.4691\"/>\n<polygon fill=\"#000000\" stroke=\"#000000\" points=\"4559.3407,-62.7349 4564.0586,-53.2485 4554.4546,-57.7223 4559.3407,-62.7349\"/>\n</g>\n<!-- 59 -->\n<g id=\"node60\" class=\"node\">\n<title>59</title>\n<path fill=\"#81eeaf\" stroke=\"#000000\" d=\"M4853,-53C4853,-53 4704,-53 4704,-53 4698,-53 4692,-47 4692,-41 4692,-41 4692,-12 4692,-12 4692,-6 4698,0 4704,0 4704,0 4853,0 4853,0 4859,0 4865,-6 4865,-12 4865,-12 4865,-41 4865,-41 4865,-47 4859,-53 4853,-53\"/>\n<text text-anchor=\"start\" x=\"4740.5\" y=\"-37.8\" font-family=\"Helvetica,sans-Serif\" font-size=\"14.00\" fill=\"#000000\">gini = 0.396</text>\n<text text-anchor=\"start\" x=\"4726.5\" y=\"-22.8\" font-family=\"Helvetica,sans-Serif\" font-size=\"14.00\" fill=\"#000000\">samples = 9233</text>\n<text text-anchor=\"start\" x=\"4700\" y=\"-7.8\" font-family=\"Helvetica,sans-Serif\" font-size=\"14.00\" fill=\"#000000\">value = [46, 6752, 2435]</text>\n</g>\n<!-- 58&#45;&gt;59 -->\n<g id=\"edge59\" class=\"edge\">\n<title>58&#45;&gt;59</title>\n<path fill=\"none\" stroke=\"#000000\" d=\"M4778.5,-88.9777C4778.5,-80.7364 4778.5,-71.887 4778.5,-63.5153\"/>\n<polygon fill=\"#000000\" stroke=\"#000000\" points=\"4782.0001,-63.2484 4778.5,-53.2485 4775.0001,-63.2485 4782.0001,-63.2484\"/>\n</g>\n<!-- 60 -->\n<g id=\"node61\" class=\"node\">\n<title>60</title>\n<path fill=\"#e3d3f9\" stroke=\"#000000\" d=\"M5052,-53C5052,-53 4895,-53 4895,-53 4889,-53 4883,-47 4883,-41 4883,-41 4883,-12 4883,-12 4883,-6 4889,0 4895,0 4895,0 5052,0 5052,0 5058,0 5064,-6 5064,-12 5064,-12 5064,-41 5064,-41 5064,-47 5058,-53 5052,-53\"/>\n<text text-anchor=\"start\" x=\"4935.5\" y=\"-37.8\" font-family=\"Helvetica,sans-Serif\" font-size=\"14.00\" fill=\"#000000\">gini = 0.518</text>\n<text text-anchor=\"start\" x=\"4917.5\" y=\"-22.8\" font-family=\"Helvetica,sans-Serif\" font-size=\"14.00\" fill=\"#000000\">samples = 17331</text>\n<text text-anchor=\"start\" x=\"4891\" y=\"-7.8\" font-family=\"Helvetica,sans-Serif\" font-size=\"14.00\" fill=\"#000000\">value = [479, 7300, 9552]</text>\n</g>\n<!-- 58&#45;&gt;60 -->\n<g id=\"edge60\" class=\"edge\">\n<title>58&#45;&gt;60</title>\n<path fill=\"none\" stroke=\"#000000\" d=\"M4847.2497,-88.9777C4867.8839,-78.7664 4890.4049,-67.6214 4910.6383,-57.6085\"/>\n<polygon fill=\"#000000\" stroke=\"#000000\" points=\"4912.3485,-60.6673 4919.7588,-53.095 4909.2438,-54.3935 4912.3485,-60.6673\"/>\n</g>\n</g>\n</svg>\n"
          },
          "metadata": {
            "tags": []
          },
          "execution_count": 16
        }
      ]
    },
    {
      "cell_type": "markdown",
      "metadata": {
        "id": "Vycm5l3JDm3Q",
        "colab_type": "text"
      },
      "source": [
        "## 시험데이터 예측"
      ]
    },
    {
      "cell_type": "code",
      "metadata": {
        "ExecuteTime": {
          "end_time": "2020-09-21T07:58:30.388047Z",
          "start_time": "2020-09-21T07:58:30.324422Z"
        },
        "id": "MlMEWoF4Dm3R",
        "colab_type": "code",
        "colab": {
          "base_uri": "https://localhost:8080/",
          "height": 253
        },
        "outputId": "1ab699d5-468b-4810-fe14-5f3d1733eaa6"
      },
      "source": [
        "sub = pd.read_csv(sample_file, index_col=0)\n",
        "print(sub.shape)\n",
        "sub.head()"
      ],
      "execution_count": 17,
      "outputs": [
        {
          "output_type": "stream",
          "text": [
            "(80000, 1)\n"
          ],
          "name": "stdout"
        },
        {
          "output_type": "execute_result",
          "data": {
            "text/html": [
              "<div>\n",
              "<style scoped>\n",
              "    .dataframe tbody tr th:only-of-type {\n",
              "        vertical-align: middle;\n",
              "    }\n",
              "\n",
              "    .dataframe tbody tr th {\n",
              "        vertical-align: top;\n",
              "    }\n",
              "\n",
              "    .dataframe thead th {\n",
              "        text-align: right;\n",
              "    }\n",
              "</style>\n",
              "<table border=\"1\" class=\"dataframe\">\n",
              "  <thead>\n",
              "    <tr style=\"text-align: right;\">\n",
              "      <th></th>\n",
              "      <th>class</th>\n",
              "    </tr>\n",
              "    <tr>\n",
              "      <th>id</th>\n",
              "      <th></th>\n",
              "    </tr>\n",
              "  </thead>\n",
              "  <tbody>\n",
              "    <tr>\n",
              "      <th>320000</th>\n",
              "      <td>0</td>\n",
              "    </tr>\n",
              "    <tr>\n",
              "      <th>320001</th>\n",
              "      <td>0</td>\n",
              "    </tr>\n",
              "    <tr>\n",
              "      <th>320002</th>\n",
              "      <td>0</td>\n",
              "    </tr>\n",
              "    <tr>\n",
              "      <th>320003</th>\n",
              "      <td>0</td>\n",
              "    </tr>\n",
              "    <tr>\n",
              "      <th>320004</th>\n",
              "      <td>0</td>\n",
              "    </tr>\n",
              "  </tbody>\n",
              "</table>\n",
              "</div>"
            ],
            "text/plain": [
              "        class\n",
              "id           \n",
              "320000      0\n",
              "320001      0\n",
              "320002      0\n",
              "320003      0\n",
              "320004      0"
            ]
          },
          "metadata": {
            "tags": []
          },
          "execution_count": 17
        }
      ]
    },
    {
      "cell_type": "code",
      "metadata": {
        "ExecuteTime": {
          "end_time": "2020-09-21T07:58:30.444461Z",
          "start_time": "2020-09-21T07:58:30.391820Z"
        },
        "id": "rerTG83kDm3S",
        "colab_type": "code",
        "colab": {
          "base_uri": "https://localhost:8080/",
          "height": 235
        },
        "outputId": "4b01327c-796c-45d0-e203-58f01e691285"
      },
      "source": [
        "sub[target_col] = clf.predict(tst)\n",
        "sub.head()"
      ],
      "execution_count": 18,
      "outputs": [
        {
          "output_type": "execute_result",
          "data": {
            "text/html": [
              "<div>\n",
              "<style scoped>\n",
              "    .dataframe tbody tr th:only-of-type {\n",
              "        vertical-align: middle;\n",
              "    }\n",
              "\n",
              "    .dataframe tbody tr th {\n",
              "        vertical-align: top;\n",
              "    }\n",
              "\n",
              "    .dataframe thead th {\n",
              "        text-align: right;\n",
              "    }\n",
              "</style>\n",
              "<table border=\"1\" class=\"dataframe\">\n",
              "  <thead>\n",
              "    <tr style=\"text-align: right;\">\n",
              "      <th></th>\n",
              "      <th>class</th>\n",
              "    </tr>\n",
              "    <tr>\n",
              "      <th>id</th>\n",
              "      <th></th>\n",
              "    </tr>\n",
              "  </thead>\n",
              "  <tbody>\n",
              "    <tr>\n",
              "      <th>320000</th>\n",
              "      <td>2</td>\n",
              "    </tr>\n",
              "    <tr>\n",
              "      <th>320001</th>\n",
              "      <td>0</td>\n",
              "    </tr>\n",
              "    <tr>\n",
              "      <th>320002</th>\n",
              "      <td>2</td>\n",
              "    </tr>\n",
              "    <tr>\n",
              "      <th>320003</th>\n",
              "      <td>0</td>\n",
              "    </tr>\n",
              "    <tr>\n",
              "      <th>320004</th>\n",
              "      <td>2</td>\n",
              "    </tr>\n",
              "  </tbody>\n",
              "</table>\n",
              "</div>"
            ],
            "text/plain": [
              "        class\n",
              "id           \n",
              "320000      2\n",
              "320001      0\n",
              "320002      2\n",
              "320003      0\n",
              "320004      2"
            ]
          },
          "metadata": {
            "tags": []
          },
          "execution_count": 18
        }
      ]
    },
    {
      "cell_type": "code",
      "metadata": {
        "ExecuteTime": {
          "end_time": "2020-09-21T07:58:30.480636Z",
          "start_time": "2020-09-21T07:58:30.447567Z"
        },
        "id": "J7mz28VJDm3U",
        "colab_type": "code",
        "colab": {
          "base_uri": "https://localhost:8080/",
          "height": 89
        },
        "outputId": "87851e18-06e0-4cc4-a7d9-a357d7f88eeb"
      },
      "source": [
        "sub[target_col].value_counts()"
      ],
      "execution_count": 19,
      "outputs": [
        {
          "output_type": "execute_result",
          "data": {
            "text/plain": [
              "2    45299\n",
              "0    29882\n",
              "1     4819\n",
              "Name: class, dtype: int64"
            ]
          },
          "metadata": {
            "tags": []
          },
          "execution_count": 19
        }
      ]
    },
    {
      "cell_type": "markdown",
      "metadata": {
        "id": "MJ6eSg3PDm3V",
        "colab_type": "text"
      },
      "source": [
        "## 제출파일 저장"
      ]
    },
    {
      "cell_type": "code",
      "metadata": {
        "ExecuteTime": {
          "end_time": "2020-09-21T07:58:30.616584Z",
          "start_time": "2020-09-21T07:58:30.482921Z"
        },
        "id": "0CfbDE_bDm3W",
        "colab_type": "code",
        "colab": {}
      },
      "source": [
        "sub.to_csv(sub_file)"
      ],
      "execution_count": 20,
      "outputs": []
    },
    {
      "cell_type": "code",
      "metadata": {
        "id": "dwEnbcOhDm3X",
        "colab_type": "code",
        "colab": {}
      },
      "source": [
        ""
      ],
      "execution_count": null,
      "outputs": []
    }
  ]
}