{
  "nbformat": 4,
  "nbformat_minor": 0,
  "metadata": {
    "kernelspec": {
      "display_name": "Python 3",
      "language": "python",
      "name": "python3"
    },
    "language_info": {
      "codemirror_mode": {
        "name": "ipython",
        "version": 3
      },
      "file_extension": ".py",
      "mimetype": "text/x-python",
      "name": "python",
      "nbconvert_exporter": "python",
      "pygments_lexer": "ipython3",
      "version": "3.7.6"
    },
    "toc": {
      "base_numbering": 1,
      "nav_menu": {},
      "number_sections": true,
      "sideBar": true,
      "skip_h1_title": true,
      "title_cell": "Table of Contents",
      "title_sidebar": "Contents",
      "toc_cell": false,
      "toc_position": {},
      "toc_section_display": true,
      "toc_window_display": false
    },
    "colab": {
      "name": "08-stacking-lgb.ipynb",
      "provenance": [],
      "collapsed_sections": [],
      "include_colab_link": true
    }
  },
  "cells": [
    {
      "cell_type": "markdown",
      "metadata": {
        "id": "view-in-github",
        "colab_type": "text"
      },
      "source": [
        "<a href=\"https://colab.research.google.com/github/im-hjk/dankook_dacon/blob/master/08_stacking_lgb.ipynb\" target=\"_parent\"><img src=\"https://colab.research.google.com/assets/colab-badge.svg\" alt=\"Open In Colab\"/></a>"
      ]
    },
    {
      "cell_type": "markdown",
      "metadata": {
        "id": "oC3pP3zZb7C4"
      },
      "source": [
        "# lgb stacking"
      ]
    },
    {
      "cell_type": "markdown",
      "metadata": {
        "id": "UFYIJ_twb7C5"
      },
      "source": [
        "## 라이브러리 import 및 설정"
      ]
    },
    {
      "cell_type": "code",
      "metadata": {
        "ExecuteTime": {
          "end_time": "2020-09-28T05:43:14.031289Z",
          "start_time": "2020-09-28T05:43:13.691075Z"
        },
        "id": "irL9vJCDb7C5"
      },
      "source": [
        "%reload_ext autoreload\n",
        "%autoreload 2\n",
        "%matplotlib inline"
      ],
      "execution_count": 1,
      "outputs": []
    },
    {
      "cell_type": "code",
      "metadata": {
        "id": "CAG7F4PPqkaA",
        "outputId": "bea548e3-41c8-4e1c-ccb7-9a6244ea8b3f",
        "colab": {
          "base_uri": "https://localhost:8080/",
          "height": 35
        }
      },
      "source": [
        "from google.colab import drive \n",
        "drive.mount('/content/drive')"
      ],
      "execution_count": 2,
      "outputs": [
        {
          "output_type": "stream",
          "text": [
            "Mounted at /content/drive\n"
          ],
          "name": "stdout"
        }
      ]
    },
    {
      "cell_type": "code",
      "metadata": {
        "ExecuteTime": {
          "end_time": "2020-09-28T05:43:15.027358Z",
          "start_time": "2020-09-28T05:43:14.033429Z"
        },
        "id": "BOkfMdNgb7C7"
      },
      "source": [
        "import lightgbm as lgb\n",
        "from matplotlib import pyplot as plt\n",
        "from matplotlib import rcParams\n",
        "import numpy as np\n",
        "from pathlib import Path\n",
        "import io\n",
        "import pandas as pd\n",
        "from sklearn.metrics import accuracy_score\n",
        "from sklearn.model_selection import StratifiedKFold\n",
        "import seaborn as sns\n",
        "import warnings"
      ],
      "execution_count": 3,
      "outputs": []
    },
    {
      "cell_type": "code",
      "metadata": {
        "ExecuteTime": {
          "end_time": "2020-09-28T05:43:15.051234Z",
          "start_time": "2020-09-28T05:43:15.031049Z"
        },
        "id": "Pf2vNxZ_b7C9"
      },
      "source": [
        "rcParams['figure.figsize'] = (16, 8)\n",
        "plt.style.use('fivethirtyeight')\n",
        "pd.set_option('max_columns', 100)\n",
        "pd.set_option(\"display.precision\", 4)\n",
        "warnings.simplefilter('ignore')"
      ],
      "execution_count": 4,
      "outputs": []
    },
    {
      "cell_type": "markdown",
      "metadata": {
        "id": "YWCU5hqlb7C_"
      },
      "source": [
        "## 학습데이터 로드"
      ]
    },
    {
      "cell_type": "markdown",
      "metadata": {
        "id": "28pyWp0Ub7C_"
      },
      "source": [
        "[03-pandas-eda.ipynb](https://github.com/kaggler-tv/dku-kaggle-class/blob/master/notebook/03-pandas-eda.ipynb)에서 생성한 `feature.csv` 피처파일 사용"
      ]
    },
    {
      "cell_type": "code",
      "metadata": {
        "ExecuteTime": {
          "end_time": "2020-09-28T05:43:15.074207Z",
          "start_time": "2020-09-28T05:43:15.054223Z"
        },
        "id": "b-fMtgEbb7C_"
      },
      "source": [
        "main_path = Path('/content/drive/My Drive/Colab Notebooks/dacon_dkdkdk')\n",
        "data_dir = main_path / 'data/dacon-dku'\n",
        "feature_dir = main_path / 'build/feature'\n",
        "val_dir = main_path / 'build/val'\n",
        "tst_dir = main_path / 'build/tst'\n",
        "sub_dir = main_path / 'build/sub'\n",
        "\n",
        "trn_file = data_dir / 'train.csv'\n",
        "tst_file = data_dir / 'test.csv'\n",
        "sample_file = data_dir / 'sample_submission.csv'\n",
        "\n",
        "target_col = 'class'\n",
        "n_fold = 5\n",
        "n_class = 3\n",
        "seed = 42"
      ],
      "execution_count": 5,
      "outputs": []
    },
    {
      "cell_type": "code",
      "metadata": {
        "ExecuteTime": {
          "end_time": "2020-09-28T05:43:15.114867Z",
          "start_time": "2020-09-28T05:43:15.095929Z"
        },
        "id": "yVa1Rm4wb7DB"
      },
      "source": [
        "algo_name = 'lgbcv'\n",
        "feature_name = 'stacking1'\n",
        "model_name = f'{algo_name}_{feature_name}'\n",
        "\n",
        "feature_file = feature_dir / f'{feature_name}.csv'\n",
        "p_val_file = val_dir / f'{model_name}.val.csv'\n",
        "p_tst_file = tst_dir / f'{model_name}.tst.csv'\n",
        "sub_file = sub_dir / f'{model_name}.csv'"
      ],
      "execution_count": 6,
      "outputs": []
    },
    {
      "cell_type": "markdown",
      "metadata": {
        "id": "PS-qnXf_b7DD"
      },
      "source": [
        "## Stacking Feature 생성"
      ]
    },
    {
      "cell_type": "code",
      "metadata": {
        "ExecuteTime": {
          "end_time": "2020-09-28T05:43:21.585056Z",
          "start_time": "2020-09-28T05:43:21.562310Z"
        },
        "id": "IR13dLgbb7DD",
        "outputId": "db651c6a-0149-4c63-c6e9-e4093b1038c4",
        "colab": {
          "base_uri": "https://localhost:8080/",
          "height": 179
        }
      },
      "source": [
        "model_names = ['lrcv_polyfeature', 'rfcv_feature', 'lgbcv_feature']\n",
        "trn = []\n",
        "tst = []\n",
        "feature_names = []\n",
        "for model in model_names:\n",
        "    trn.append(np.loadtxt(val_dir / f'{model}.val.csv', delimiter=','))\n",
        "    tst.append(np.loadtxt(tst_dir / f'{model}.tst.csv', delimiter=','))\n",
        "    feature_names += [f'{model}_class0', f'{model}_class1', f'{model}_class2']\n",
        "    \n",
        "trn = np.hstack(trn)\n",
        "tst = np.hstack(tst)\n",
        "feature_names"
      ],
      "execution_count": 7,
      "outputs": [
        {
          "output_type": "execute_result",
          "data": {
            "text/plain": [
              "['lrcv_polyfeature_class0',\n",
              " 'lrcv_polyfeature_class1',\n",
              " 'lrcv_polyfeature_class2',\n",
              " 'rfcv_feature_class0',\n",
              " 'rfcv_feature_class1',\n",
              " 'rfcv_feature_class2',\n",
              " 'lgbcv_feature_class0',\n",
              " 'lgbcv_feature_class1',\n",
              " 'lgbcv_feature_class2']"
            ]
          },
          "metadata": {
            "tags": []
          },
          "execution_count": 7
        }
      ]
    },
    {
      "cell_type": "code",
      "metadata": {
        "ExecuteTime": {
          "end_time": "2020-09-28T05:43:22.033040Z",
          "start_time": "2020-09-28T05:43:21.587165Z"
        },
        "id": "Et3kV7CGb7DF",
        "outputId": "26166274-7610-4825-990a-16e155ba5d08",
        "colab": {
          "base_uri": "https://localhost:8080/",
          "height": 35
        }
      },
      "source": [
        "y = pd.read_csv(trn_file, index_col=0, usecols=['id', target_col]).values.flatten()\n",
        "y.shape"
      ],
      "execution_count": 8,
      "outputs": [
        {
          "output_type": "execute_result",
          "data": {
            "text/plain": [
              "(320000,)"
            ]
          },
          "metadata": {
            "tags": []
          },
          "execution_count": 8
        }
      ]
    },
    {
      "cell_type": "markdown",
      "metadata": {
        "id": "bLOxRmwVb7DH"
      },
      "source": [
        "## Stratified K-Fold Cross Validation"
      ]
    },
    {
      "cell_type": "code",
      "metadata": {
        "ExecuteTime": {
          "end_time": "2020-09-28T05:43:22.058304Z",
          "start_time": "2020-09-28T05:43:22.034882Z"
        },
        "id": "U5B0wkHVb7DH"
      },
      "source": [
        "cv = StratifiedKFold(n_splits=n_fold, shuffle=True, random_state=seed)"
      ],
      "execution_count": 9,
      "outputs": []
    },
    {
      "cell_type": "markdown",
      "metadata": {
        "id": "CQc1V7fyb7DJ"
      },
      "source": [
        "## LightGBM 모델 학습"
      ]
    },
    {
      "cell_type": "code",
      "metadata": {
        "ExecuteTime": {
          "end_time": "2020-09-28T05:43:37.381222Z",
          "start_time": "2020-09-28T05:43:22.061038Z"
        },
        "id": "k4IF_04wb7DJ",
        "outputId": "6e8b35d3-1e96-4f83-b9d5-001bbe9bc167",
        "colab": {
          "base_uri": "https://localhost:8080/",
          "height": 1000
        }
      },
      "source": [
        "p_val = np.zeros((trn.shape[0], n_class))\n",
        "p_tst = np.zeros((tst.shape[0], n_class))\n",
        "for i, (i_trn, i_val) in enumerate(cv.split(trn, y), 1):\n",
        "    print(f'training model for CV #{i}')\n",
        "    clf = lgb.LGBMClassifier(objective='multiclass',\n",
        "                             n_estimators=1000,\n",
        "                             num_leaves=64,\n",
        "                             learning_rate=0.1,\n",
        "                             min_child_samples=10,\n",
        "                             subsample=.5,\n",
        "                             subsample_freq=1,\n",
        "                             colsample_bytree=.8,\n",
        "                             random_state=seed,\n",
        "                             n_jobs=-1)\n",
        "    clf.fit(trn[i_trn], y[i_trn],\n",
        "            eval_set=[(trn[i_val], y[i_val])],\n",
        "            eval_metric='multiclass',\n",
        "            early_stopping_rounds=10)\n",
        "    \n",
        "    p_val[i_val, :] = clf.predict_proba(trn[i_val])\n",
        "    p_tst += clf.predict_proba(tst) / n_fold"
      ],
      "execution_count": 10,
      "outputs": [
        {
          "output_type": "stream",
          "text": [
            "training model for CV #1\n",
            "[1]\tvalid_0's multi_logloss: 0.871144\n",
            "Training until validation scores don't improve for 10 rounds.\n",
            "[2]\tvalid_0's multi_logloss: 0.778958\n",
            "[3]\tvalid_0's multi_logloss: 0.703082\n",
            "[4]\tvalid_0's multi_logloss: 0.63852\n",
            "[5]\tvalid_0's multi_logloss: 0.58355\n",
            "[6]\tvalid_0's multi_logloss: 0.536285\n",
            "[7]\tvalid_0's multi_logloss: 0.495184\n",
            "[8]\tvalid_0's multi_logloss: 0.459098\n",
            "[9]\tvalid_0's multi_logloss: 0.427516\n",
            "[10]\tvalid_0's multi_logloss: 0.399611\n",
            "[11]\tvalid_0's multi_logloss: 0.375274\n",
            "[12]\tvalid_0's multi_logloss: 0.353691\n",
            "[13]\tvalid_0's multi_logloss: 0.334407\n",
            "[14]\tvalid_0's multi_logloss: 0.317242\n",
            "[15]\tvalid_0's multi_logloss: 0.301961\n",
            "[16]\tvalid_0's multi_logloss: 0.288315\n",
            "[17]\tvalid_0's multi_logloss: 0.276098\n",
            "[18]\tvalid_0's multi_logloss: 0.265161\n",
            "[19]\tvalid_0's multi_logloss: 0.255508\n",
            "[20]\tvalid_0's multi_logloss: 0.246658\n",
            "[21]\tvalid_0's multi_logloss: 0.238807\n",
            "[22]\tvalid_0's multi_logloss: 0.231887\n",
            "[23]\tvalid_0's multi_logloss: 0.225734\n",
            "[24]\tvalid_0's multi_logloss: 0.219993\n",
            "[25]\tvalid_0's multi_logloss: 0.214818\n",
            "[26]\tvalid_0's multi_logloss: 0.210265\n",
            "[27]\tvalid_0's multi_logloss: 0.205914\n",
            "[28]\tvalid_0's multi_logloss: 0.202149\n",
            "[29]\tvalid_0's multi_logloss: 0.198636\n",
            "[30]\tvalid_0's multi_logloss: 0.195494\n",
            "[31]\tvalid_0's multi_logloss: 0.192666\n",
            "[32]\tvalid_0's multi_logloss: 0.190051\n",
            "[33]\tvalid_0's multi_logloss: 0.187661\n",
            "[34]\tvalid_0's multi_logloss: 0.185933\n",
            "[35]\tvalid_0's multi_logloss: 0.184248\n",
            "[36]\tvalid_0's multi_logloss: 0.182965\n",
            "[37]\tvalid_0's multi_logloss: 0.181368\n",
            "[38]\tvalid_0's multi_logloss: 0.179864\n",
            "[39]\tvalid_0's multi_logloss: 0.178972\n",
            "[40]\tvalid_0's multi_logloss: 0.177672\n",
            "[41]\tvalid_0's multi_logloss: 0.176545\n",
            "[42]\tvalid_0's multi_logloss: 0.175606\n",
            "[43]\tvalid_0's multi_logloss: 0.174659\n",
            "[44]\tvalid_0's multi_logloss: 0.17415\n",
            "[45]\tvalid_0's multi_logloss: 0.173339\n",
            "[46]\tvalid_0's multi_logloss: 0.172581\n",
            "[47]\tvalid_0's multi_logloss: 0.171926\n",
            "[48]\tvalid_0's multi_logloss: 0.171341\n",
            "[49]\tvalid_0's multi_logloss: 0.170795\n",
            "[50]\tvalid_0's multi_logloss: 0.170392\n",
            "[51]\tvalid_0's multi_logloss: 0.16987\n",
            "[52]\tvalid_0's multi_logloss: 0.169408\n",
            "[53]\tvalid_0's multi_logloss: 0.169012\n",
            "[54]\tvalid_0's multi_logloss: 0.168326\n",
            "[55]\tvalid_0's multi_logloss: 0.167842\n",
            "[56]\tvalid_0's multi_logloss: 0.167573\n",
            "[57]\tvalid_0's multi_logloss: 0.168289\n",
            "[58]\tvalid_0's multi_logloss: 0.168012\n",
            "[59]\tvalid_0's multi_logloss: 0.167754\n",
            "[60]\tvalid_0's multi_logloss: 0.167541\n",
            "[61]\tvalid_0's multi_logloss: 0.167309\n",
            "[62]\tvalid_0's multi_logloss: 0.167158\n",
            "[63]\tvalid_0's multi_logloss: 0.167016\n",
            "[64]\tvalid_0's multi_logloss: 0.166843\n",
            "[65]\tvalid_0's multi_logloss: 0.166551\n",
            "[66]\tvalid_0's multi_logloss: 0.166414\n",
            "[67]\tvalid_0's multi_logloss: 0.175802\n",
            "[68]\tvalid_0's multi_logloss: 0.173886\n",
            "[69]\tvalid_0's multi_logloss: 0.172928\n",
            "[70]\tvalid_0's multi_logloss: 0.172122\n",
            "[71]\tvalid_0's multi_logloss: 0.17119\n",
            "[72]\tvalid_0's multi_logloss: 0.170468\n",
            "[73]\tvalid_0's multi_logloss: 0.17025\n",
            "[74]\tvalid_0's multi_logloss: 0.169877\n",
            "[75]\tvalid_0's multi_logloss: 0.16946\n",
            "[76]\tvalid_0's multi_logloss: 0.169062\n",
            "Early stopping, best iteration is:\n",
            "[66]\tvalid_0's multi_logloss: 0.166414\n",
            "training model for CV #2\n",
            "[1]\tvalid_0's multi_logloss: 0.871658\n",
            "Training until validation scores don't improve for 10 rounds.\n",
            "[2]\tvalid_0's multi_logloss: 0.779919\n",
            "[3]\tvalid_0's multi_logloss: 0.703838\n",
            "[4]\tvalid_0's multi_logloss: 0.639663\n",
            "[5]\tvalid_0's multi_logloss: 0.584737\n",
            "[6]\tvalid_0's multi_logloss: 0.537502\n",
            "[7]\tvalid_0's multi_logloss: 0.49642\n",
            "[8]\tvalid_0's multi_logloss: 0.460477\n",
            "[9]\tvalid_0's multi_logloss: 0.428973\n",
            "[10]\tvalid_0's multi_logloss: 0.401226\n",
            "[11]\tvalid_0's multi_logloss: 0.376686\n",
            "[12]\tvalid_0's multi_logloss: 0.35494\n",
            "[13]\tvalid_0's multi_logloss: 0.335687\n",
            "[14]\tvalid_0's multi_logloss: 0.318622\n",
            "[15]\tvalid_0's multi_logloss: 0.303344\n",
            "[16]\tvalid_0's multi_logloss: 0.289699\n",
            "[17]\tvalid_0's multi_logloss: 0.277534\n",
            "[18]\tvalid_0's multi_logloss: 0.266622\n",
            "[19]\tvalid_0's multi_logloss: 0.256814\n",
            "[20]\tvalid_0's multi_logloss: 0.247989\n",
            "[21]\tvalid_0's multi_logloss: 0.240098\n",
            "[22]\tvalid_0's multi_logloss: 0.232957\n",
            "[23]\tvalid_0's multi_logloss: 0.226476\n",
            "[24]\tvalid_0's multi_logloss: 0.220707\n",
            "[25]\tvalid_0's multi_logloss: 0.215472\n",
            "[26]\tvalid_0's multi_logloss: 0.21075\n",
            "[27]\tvalid_0's multi_logloss: 0.206474\n",
            "[28]\tvalid_0's multi_logloss: 0.202619\n",
            "[29]\tvalid_0's multi_logloss: 0.199132\n",
            "[30]\tvalid_0's multi_logloss: 0.196001\n",
            "[31]\tvalid_0's multi_logloss: 0.193138\n",
            "[32]\tvalid_0's multi_logloss: 0.190505\n",
            "[33]\tvalid_0's multi_logloss: 0.188122\n",
            "[34]\tvalid_0's multi_logloss: 0.185982\n",
            "[35]\tvalid_0's multi_logloss: 0.184056\n",
            "[36]\tvalid_0's multi_logloss: 0.182239\n",
            "[37]\tvalid_0's multi_logloss: 0.180633\n",
            "[38]\tvalid_0's multi_logloss: 0.179123\n",
            "[39]\tvalid_0's multi_logloss: 0.177762\n",
            "[40]\tvalid_0's multi_logloss: 0.176531\n",
            "[41]\tvalid_0's multi_logloss: 0.175372\n",
            "[42]\tvalid_0's multi_logloss: 0.174303\n",
            "[43]\tvalid_0's multi_logloss: 0.173334\n",
            "[44]\tvalid_0's multi_logloss: 0.172433\n",
            "[45]\tvalid_0's multi_logloss: 0.171609\n",
            "[46]\tvalid_0's multi_logloss: 0.170896\n",
            "[47]\tvalid_0's multi_logloss: 0.170174\n",
            "[48]\tvalid_0's multi_logloss: 0.169553\n",
            "[49]\tvalid_0's multi_logloss: 0.168982\n",
            "[50]\tvalid_0's multi_logloss: 0.168444\n",
            "[51]\tvalid_0's multi_logloss: 0.167964\n",
            "[52]\tvalid_0's multi_logloss: 0.167524\n",
            "[53]\tvalid_0's multi_logloss: 0.167114\n",
            "[54]\tvalid_0's multi_logloss: 0.166729\n",
            "[55]\tvalid_0's multi_logloss: 0.166398\n",
            "[56]\tvalid_0's multi_logloss: 0.166044\n",
            "[57]\tvalid_0's multi_logloss: 0.165724\n",
            "[58]\tvalid_0's multi_logloss: 0.165441\n",
            "[59]\tvalid_0's multi_logloss: 0.165227\n",
            "[60]\tvalid_0's multi_logloss: 0.164986\n",
            "[61]\tvalid_0's multi_logloss: 0.16478\n",
            "[62]\tvalid_0's multi_logloss: 0.164563\n",
            "[63]\tvalid_0's multi_logloss: 0.164373\n",
            "[64]\tvalid_0's multi_logloss: 0.164192\n",
            "[65]\tvalid_0's multi_logloss: 0.164016\n",
            "[66]\tvalid_0's multi_logloss: 0.163841\n",
            "[67]\tvalid_0's multi_logloss: 0.16371\n",
            "[68]\tvalid_0's multi_logloss: 0.163619\n",
            "[69]\tvalid_0's multi_logloss: 0.163467\n",
            "[70]\tvalid_0's multi_logloss: 0.163377\n",
            "[71]\tvalid_0's multi_logloss: 0.163281\n",
            "[72]\tvalid_0's multi_logloss: 0.163153\n",
            "[73]\tvalid_0's multi_logloss: 0.163212\n",
            "[74]\tvalid_0's multi_logloss: 0.163136\n",
            "[75]\tvalid_0's multi_logloss: 0.16305\n",
            "[76]\tvalid_0's multi_logloss: 0.162973\n",
            "[77]\tvalid_0's multi_logloss: 0.162932\n",
            "[78]\tvalid_0's multi_logloss: 0.162863\n",
            "[79]\tvalid_0's multi_logloss: 0.162828\n",
            "[80]\tvalid_0's multi_logloss: 0.162795\n",
            "[81]\tvalid_0's multi_logloss: 0.162759\n",
            "[82]\tvalid_0's multi_logloss: 0.162684\n",
            "[83]\tvalid_0's multi_logloss: 0.162638\n",
            "[84]\tvalid_0's multi_logloss: 0.162574\n",
            "[85]\tvalid_0's multi_logloss: 0.16256\n",
            "[86]\tvalid_0's multi_logloss: 0.162541\n",
            "[87]\tvalid_0's multi_logloss: 0.162521\n",
            "[88]\tvalid_0's multi_logloss: 0.163647\n",
            "[89]\tvalid_0's multi_logloss: 0.163242\n",
            "[90]\tvalid_0's multi_logloss: 0.163207\n",
            "[91]\tvalid_0's multi_logloss: 0.193803\n",
            "[92]\tvalid_0's multi_logloss: 0.163713\n",
            "[93]\tvalid_0's multi_logloss: 0.163729\n",
            "[94]\tvalid_0's multi_logloss: 0.163722\n",
            "[95]\tvalid_0's multi_logloss: 0.16372\n",
            "[96]\tvalid_0's multi_logloss: 0.169628\n",
            "[97]\tvalid_0's multi_logloss: 0.178767\n",
            "Early stopping, best iteration is:\n",
            "[87]\tvalid_0's multi_logloss: 0.162521\n",
            "training model for CV #3\n",
            "[1]\tvalid_0's multi_logloss: 0.871659\n",
            "Training until validation scores don't improve for 10 rounds.\n",
            "[2]\tvalid_0's multi_logloss: 0.780062\n",
            "[3]\tvalid_0's multi_logloss: 0.704083\n",
            "[4]\tvalid_0's multi_logloss: 0.639957\n",
            "[5]\tvalid_0's multi_logloss: 0.58512\n",
            "[6]\tvalid_0's multi_logloss: 0.537819\n",
            "[7]\tvalid_0's multi_logloss: 0.496776\n",
            "[8]\tvalid_0's multi_logloss: 0.460933\n",
            "[9]\tvalid_0's multi_logloss: 0.429537\n",
            "[10]\tvalid_0's multi_logloss: 0.401814\n",
            "[11]\tvalid_0's multi_logloss: 0.377395\n",
            "[12]\tvalid_0's multi_logloss: 0.355777\n",
            "[13]\tvalid_0's multi_logloss: 0.336592\n",
            "[14]\tvalid_0's multi_logloss: 0.31945\n",
            "[15]\tvalid_0's multi_logloss: 0.304196\n",
            "[16]\tvalid_0's multi_logloss: 0.290629\n",
            "[17]\tvalid_0's multi_logloss: 0.278496\n",
            "[18]\tvalid_0's multi_logloss: 0.267626\n",
            "[19]\tvalid_0's multi_logloss: 0.257798\n",
            "[20]\tvalid_0's multi_logloss: 0.248967\n",
            "[21]\tvalid_0's multi_logloss: 0.241104\n",
            "[22]\tvalid_0's multi_logloss: 0.234015\n",
            "[23]\tvalid_0's multi_logloss: 0.227642\n",
            "[24]\tvalid_0's multi_logloss: 0.22189\n",
            "[25]\tvalid_0's multi_logloss: 0.216693\n",
            "[26]\tvalid_0's multi_logloss: 0.212015\n",
            "[27]\tvalid_0's multi_logloss: 0.20777\n",
            "[28]\tvalid_0's multi_logloss: 0.203948\n",
            "[29]\tvalid_0's multi_logloss: 0.200482\n",
            "[30]\tvalid_0's multi_logloss: 0.197337\n",
            "[31]\tvalid_0's multi_logloss: 0.194449\n",
            "[32]\tvalid_0's multi_logloss: 0.191861\n",
            "[33]\tvalid_0's multi_logloss: 0.189481\n",
            "[34]\tvalid_0's multi_logloss: 0.187325\n",
            "[35]\tvalid_0's multi_logloss: 0.185381\n",
            "[36]\tvalid_0's multi_logloss: 0.183609\n",
            "[37]\tvalid_0's multi_logloss: 0.181985\n",
            "[38]\tvalid_0's multi_logloss: 0.180509\n",
            "[39]\tvalid_0's multi_logloss: 0.179131\n",
            "[40]\tvalid_0's multi_logloss: 0.17793\n",
            "[41]\tvalid_0's multi_logloss: 0.176766\n",
            "[42]\tvalid_0's multi_logloss: 0.175721\n",
            "[43]\tvalid_0's multi_logloss: 0.174735\n",
            "[44]\tvalid_0's multi_logloss: 0.173829\n",
            "[45]\tvalid_0's multi_logloss: 0.173032\n",
            "[46]\tvalid_0's multi_logloss: 0.172314\n",
            "[47]\tvalid_0's multi_logloss: 0.171591\n",
            "[48]\tvalid_0's multi_logloss: 0.170993\n",
            "[49]\tvalid_0's multi_logloss: 0.170425\n",
            "[50]\tvalid_0's multi_logloss: 0.169876\n",
            "[51]\tvalid_0's multi_logloss: 0.169403\n",
            "[52]\tvalid_0's multi_logloss: 0.168968\n",
            "[53]\tvalid_0's multi_logloss: 0.168565\n",
            "[54]\tvalid_0's multi_logloss: 0.168183\n",
            "[55]\tvalid_0's multi_logloss: 0.16781\n",
            "[56]\tvalid_0's multi_logloss: 0.167469\n",
            "[57]\tvalid_0's multi_logloss: 0.167197\n",
            "[58]\tvalid_0's multi_logloss: 0.166903\n",
            "[59]\tvalid_0's multi_logloss: 0.166658\n",
            "[60]\tvalid_0's multi_logloss: 0.166398\n",
            "[61]\tvalid_0's multi_logloss: 0.166157\n",
            "[62]\tvalid_0's multi_logloss: 0.165927\n",
            "[63]\tvalid_0's multi_logloss: 0.165767\n",
            "[64]\tvalid_0's multi_logloss: 0.165562\n",
            "[65]\tvalid_0's multi_logloss: 0.165369\n",
            "[66]\tvalid_0's multi_logloss: 0.165202\n",
            "[67]\tvalid_0's multi_logloss: 0.165076\n",
            "[68]\tvalid_0's multi_logloss: 0.165\n",
            "[69]\tvalid_0's multi_logloss: 0.164882\n",
            "[70]\tvalid_0's multi_logloss: 0.164761\n",
            "[71]\tvalid_0's multi_logloss: 0.164654\n",
            "[72]\tvalid_0's multi_logloss: 0.16456\n",
            "[73]\tvalid_0's multi_logloss: 0.164452\n",
            "[74]\tvalid_0's multi_logloss: 0.164389\n",
            "[75]\tvalid_0's multi_logloss: 0.164327\n",
            "[76]\tvalid_0's multi_logloss: 0.164266\n",
            "[77]\tvalid_0's multi_logloss: 0.16421\n",
            "[78]\tvalid_0's multi_logloss: 0.164131\n",
            "[79]\tvalid_0's multi_logloss: 0.164087\n",
            "[80]\tvalid_0's multi_logloss: 0.16405\n",
            "[81]\tvalid_0's multi_logloss: 0.163982\n",
            "[82]\tvalid_0's multi_logloss: 0.163958\n",
            "[83]\tvalid_0's multi_logloss: 0.163899\n",
            "[84]\tvalid_0's multi_logloss: 0.163852\n",
            "[85]\tvalid_0's multi_logloss: 0.163827\n",
            "[86]\tvalid_0's multi_logloss: 0.163823\n",
            "[87]\tvalid_0's multi_logloss: 0.163785\n",
            "[88]\tvalid_0's multi_logloss: 0.163755\n",
            "[89]\tvalid_0's multi_logloss: 0.163728\n",
            "[90]\tvalid_0's multi_logloss: 0.163736\n",
            "[91]\tvalid_0's multi_logloss: 0.16578\n",
            "[92]\tvalid_0's multi_logloss: 0.1642\n",
            "[93]\tvalid_0's multi_logloss: 0.164215\n",
            "[94]\tvalid_0's multi_logloss: 0.164236\n",
            "[95]\tvalid_0's multi_logloss: 0.16424\n",
            "[96]\tvalid_0's multi_logloss: 0.164202\n",
            "[97]\tvalid_0's multi_logloss: 0.164217\n",
            "[98]\tvalid_0's multi_logloss: 0.164203\n",
            "[99]\tvalid_0's multi_logloss: 0.164208\n",
            "Early stopping, best iteration is:\n",
            "[89]\tvalid_0's multi_logloss: 0.163728\n",
            "training model for CV #4\n",
            "[1]\tvalid_0's multi_logloss: 0.872121\n",
            "Training until validation scores don't improve for 10 rounds.\n",
            "[2]\tvalid_0's multi_logloss: 0.781099\n",
            "[3]\tvalid_0's multi_logloss: 0.705422\n",
            "[4]\tvalid_0's multi_logloss: 0.641674\n",
            "[5]\tvalid_0's multi_logloss: 0.58711\n",
            "[6]\tvalid_0's multi_logloss: 0.540015\n",
            "[7]\tvalid_0's multi_logloss: 0.499025\n",
            "[8]\tvalid_0's multi_logloss: 0.463181\n",
            "[9]\tvalid_0's multi_logloss: 0.431829\n",
            "[10]\tvalid_0's multi_logloss: 0.404204\n",
            "[11]\tvalid_0's multi_logloss: 0.379778\n",
            "[12]\tvalid_0's multi_logloss: 0.358109\n",
            "[13]\tvalid_0's multi_logloss: 0.338899\n",
            "[14]\tvalid_0's multi_logloss: 0.321816\n",
            "[15]\tvalid_0's multi_logloss: 0.306451\n",
            "[16]\tvalid_0's multi_logloss: 0.292854\n",
            "[17]\tvalid_0's multi_logloss: 0.280648\n",
            "[18]\tvalid_0's multi_logloss: 0.269699\n",
            "[19]\tvalid_0's multi_logloss: 0.259852\n",
            "[20]\tvalid_0's multi_logloss: 0.251016\n",
            "[21]\tvalid_0's multi_logloss: 0.243128\n",
            "[22]\tvalid_0's multi_logloss: 0.236031\n",
            "[23]\tvalid_0's multi_logloss: 0.229638\n",
            "[24]\tvalid_0's multi_logloss: 0.22383\n",
            "[25]\tvalid_0's multi_logloss: 0.218551\n",
            "[26]\tvalid_0's multi_logloss: 0.213843\n",
            "[27]\tvalid_0's multi_logloss: 0.209582\n",
            "[28]\tvalid_0's multi_logloss: 0.205715\n",
            "[29]\tvalid_0's multi_logloss: 0.202206\n",
            "[30]\tvalid_0's multi_logloss: 0.19898\n",
            "[31]\tvalid_0's multi_logloss: 0.196075\n",
            "[32]\tvalid_0's multi_logloss: 0.19346\n",
            "[33]\tvalid_0's multi_logloss: 0.191065\n",
            "[34]\tvalid_0's multi_logloss: 0.188834\n",
            "[35]\tvalid_0's multi_logloss: 0.18688\n",
            "[36]\tvalid_0's multi_logloss: 0.185089\n",
            "[37]\tvalid_0's multi_logloss: 0.183452\n",
            "[38]\tvalid_0's multi_logloss: 0.181929\n",
            "[39]\tvalid_0's multi_logloss: 0.180548\n",
            "[40]\tvalid_0's multi_logloss: 0.179266\n",
            "[41]\tvalid_0's multi_logloss: 0.178096\n",
            "[42]\tvalid_0's multi_logloss: 0.177051\n",
            "[43]\tvalid_0's multi_logloss: 0.176109\n",
            "[44]\tvalid_0's multi_logloss: 0.175201\n",
            "[45]\tvalid_0's multi_logloss: 0.174395\n",
            "[46]\tvalid_0's multi_logloss: 0.173633\n",
            "[47]\tvalid_0's multi_logloss: 0.172921\n",
            "[48]\tvalid_0's multi_logloss: 0.172351\n",
            "[49]\tvalid_0's multi_logloss: 0.171757\n",
            "[50]\tvalid_0's multi_logloss: 0.171206\n",
            "[51]\tvalid_0's multi_logloss: 0.170724\n",
            "[52]\tvalid_0's multi_logloss: 0.170208\n",
            "[53]\tvalid_0's multi_logloss: 0.169767\n",
            "[54]\tvalid_0's multi_logloss: 0.169424\n",
            "[55]\tvalid_0's multi_logloss: 0.169055\n",
            "[56]\tvalid_0's multi_logloss: 0.168715\n",
            "[57]\tvalid_0's multi_logloss: 0.168386\n",
            "[58]\tvalid_0's multi_logloss: 0.168105\n",
            "[59]\tvalid_0's multi_logloss: 0.167876\n",
            "[60]\tvalid_0's multi_logloss: 0.1676\n",
            "[61]\tvalid_0's multi_logloss: 0.167365\n",
            "[62]\tvalid_0's multi_logloss: 0.167139\n",
            "[63]\tvalid_0's multi_logloss: 0.166952\n",
            "[64]\tvalid_0's multi_logloss: 0.166757\n",
            "[65]\tvalid_0's multi_logloss: 0.166588\n",
            "[66]\tvalid_0's multi_logloss: 0.166407\n",
            "[67]\tvalid_0's multi_logloss: 0.166283\n",
            "[68]\tvalid_0's multi_logloss: 0.166144\n",
            "[69]\tvalid_0's multi_logloss: 0.166012\n",
            "[70]\tvalid_0's multi_logloss: 0.165894\n",
            "[71]\tvalid_0's multi_logloss: 0.165846\n",
            "[72]\tvalid_0's multi_logloss: 0.16571\n",
            "[73]\tvalid_0's multi_logloss: 0.165622\n",
            "[74]\tvalid_0's multi_logloss: 0.165501\n",
            "[75]\tvalid_0's multi_logloss: 0.165436\n",
            "[76]\tvalid_0's multi_logloss: 0.165353\n",
            "[77]\tvalid_0's multi_logloss: 0.165276\n",
            "[78]\tvalid_0's multi_logloss: 0.165238\n",
            "[79]\tvalid_0's multi_logloss: 0.165168\n",
            "[80]\tvalid_0's multi_logloss: 0.16507\n",
            "[81]\tvalid_0's multi_logloss: 0.165023\n",
            "[82]\tvalid_0's multi_logloss: 0.164984\n",
            "[83]\tvalid_0's multi_logloss: 0.164949\n",
            "[84]\tvalid_0's multi_logloss: 0.1649\n",
            "[85]\tvalid_0's multi_logloss: 0.16484\n",
            "[86]\tvalid_0's multi_logloss: 0.164801\n",
            "[87]\tvalid_0's multi_logloss: 0.164786\n",
            "[88]\tvalid_0's multi_logloss: 0.164764\n",
            "[89]\tvalid_0's multi_logloss: 0.164744\n",
            "[90]\tvalid_0's multi_logloss: 0.164723\n",
            "[91]\tvalid_0's multi_logloss: 0.164699\n",
            "[92]\tvalid_0's multi_logloss: 0.164708\n",
            "[93]\tvalid_0's multi_logloss: 0.16471\n",
            "[94]\tvalid_0's multi_logloss: 0.164719\n",
            "[95]\tvalid_0's multi_logloss: 0.164725\n",
            "[96]\tvalid_0's multi_logloss: 0.164755\n",
            "[97]\tvalid_0's multi_logloss: 0.16477\n",
            "[98]\tvalid_0's multi_logloss: 0.164773\n",
            "[99]\tvalid_0's multi_logloss: 0.164759\n",
            "[100]\tvalid_0's multi_logloss: 0.164732\n",
            "[101]\tvalid_0's multi_logloss: 0.164684\n",
            "[102]\tvalid_0's multi_logloss: 0.164678\n",
            "[103]\tvalid_0's multi_logloss: 0.164666\n",
            "[104]\tvalid_0's multi_logloss: 0.164655\n",
            "[105]\tvalid_0's multi_logloss: 0.164654\n",
            "[106]\tvalid_0's multi_logloss: 0.164666\n",
            "[107]\tvalid_0's multi_logloss: 0.164659\n",
            "[108]\tvalid_0's multi_logloss: 0.164655\n",
            "[109]\tvalid_0's multi_logloss: 0.164652\n",
            "[110]\tvalid_0's multi_logloss: 0.164625\n",
            "[111]\tvalid_0's multi_logloss: 0.164629\n",
            "[112]\tvalid_0's multi_logloss: 0.164611\n",
            "[113]\tvalid_0's multi_logloss: 0.164639\n",
            "[114]\tvalid_0's multi_logloss: 0.16464\n",
            "[115]\tvalid_0's multi_logloss: 0.164652\n",
            "[116]\tvalid_0's multi_logloss: 0.164682\n",
            "[117]\tvalid_0's multi_logloss: 0.164672\n",
            "[118]\tvalid_0's multi_logloss: 0.164672\n",
            "[119]\tvalid_0's multi_logloss: 0.16467\n",
            "[120]\tvalid_0's multi_logloss: 0.164673\n",
            "[121]\tvalid_0's multi_logloss: 0.164699\n",
            "[122]\tvalid_0's multi_logloss: 0.16466\n",
            "Early stopping, best iteration is:\n",
            "[112]\tvalid_0's multi_logloss: 0.164611\n",
            "training model for CV #5\n",
            "[1]\tvalid_0's multi_logloss: 0.872384\n",
            "Training until validation scores don't improve for 10 rounds.\n",
            "[2]\tvalid_0's multi_logloss: 0.781337\n",
            "[3]\tvalid_0's multi_logloss: 0.705616\n",
            "[4]\tvalid_0's multi_logloss: 0.641626\n",
            "[5]\tvalid_0's multi_logloss: 0.586887\n",
            "[6]\tvalid_0's multi_logloss: 0.539606\n",
            "[7]\tvalid_0's multi_logloss: 0.498538\n",
            "[8]\tvalid_0's multi_logloss: 0.462621\n",
            "[9]\tvalid_0's multi_logloss: 0.431215\n",
            "[10]\tvalid_0's multi_logloss: 0.403513\n",
            "[11]\tvalid_0's multi_logloss: 0.379053\n",
            "[12]\tvalid_0's multi_logloss: 0.357271\n",
            "[13]\tvalid_0's multi_logloss: 0.337955\n",
            "[14]\tvalid_0's multi_logloss: 0.320798\n",
            "[15]\tvalid_0's multi_logloss: 0.305486\n",
            "[16]\tvalid_0's multi_logloss: 0.291767\n",
            "[17]\tvalid_0's multi_logloss: 0.279518\n",
            "[18]\tvalid_0's multi_logloss: 0.268497\n",
            "[19]\tvalid_0's multi_logloss: 0.258583\n",
            "[20]\tvalid_0's multi_logloss: 0.249716\n",
            "[21]\tvalid_0's multi_logloss: 0.241733\n",
            "[22]\tvalid_0's multi_logloss: 0.234591\n",
            "[23]\tvalid_0's multi_logloss: 0.228134\n",
            "[24]\tvalid_0's multi_logloss: 0.222317\n",
            "[25]\tvalid_0's multi_logloss: 0.217012\n",
            "[26]\tvalid_0's multi_logloss: 0.212301\n",
            "[27]\tvalid_0's multi_logloss: 0.208036\n",
            "[28]\tvalid_0's multi_logloss: 0.204118\n",
            "[29]\tvalid_0's multi_logloss: 0.200612\n",
            "[30]\tvalid_0's multi_logloss: 0.19741\n",
            "[31]\tvalid_0's multi_logloss: 0.194514\n",
            "[32]\tvalid_0's multi_logloss: 0.191858\n",
            "[33]\tvalid_0's multi_logloss: 0.189451\n",
            "[34]\tvalid_0's multi_logloss: 0.187282\n",
            "[35]\tvalid_0's multi_logloss: 0.185299\n",
            "[36]\tvalid_0's multi_logloss: 0.183491\n",
            "[37]\tvalid_0's multi_logloss: 0.181844\n",
            "[38]\tvalid_0's multi_logloss: 0.180357\n",
            "[39]\tvalid_0's multi_logloss: 0.178971\n",
            "[40]\tvalid_0's multi_logloss: 0.177705\n",
            "[41]\tvalid_0's multi_logloss: 0.176563\n",
            "[42]\tvalid_0's multi_logloss: 0.175526\n",
            "[43]\tvalid_0's multi_logloss: 0.174546\n",
            "[44]\tvalid_0's multi_logloss: 0.173652\n",
            "[45]\tvalid_0's multi_logloss: 0.172824\n",
            "[46]\tvalid_0's multi_logloss: 0.172098\n",
            "[47]\tvalid_0's multi_logloss: 0.171405\n",
            "[48]\tvalid_0's multi_logloss: 0.170781\n",
            "[49]\tvalid_0's multi_logloss: 0.170186\n",
            "[50]\tvalid_0's multi_logloss: 0.169661\n",
            "[51]\tvalid_0's multi_logloss: 0.169159\n",
            "[52]\tvalid_0's multi_logloss: 0.168733\n",
            "[53]\tvalid_0's multi_logloss: 0.168297\n",
            "[54]\tvalid_0's multi_logloss: 0.167899\n",
            "[55]\tvalid_0's multi_logloss: 0.167522\n",
            "[56]\tvalid_0's multi_logloss: 0.167176\n",
            "[57]\tvalid_0's multi_logloss: 0.166873\n",
            "[58]\tvalid_0's multi_logloss: 0.166579\n",
            "[59]\tvalid_0's multi_logloss: 0.166319\n",
            "[60]\tvalid_0's multi_logloss: 0.166077\n",
            "[61]\tvalid_0's multi_logloss: 0.165864\n",
            "[62]\tvalid_0's multi_logloss: 0.165642\n",
            "[63]\tvalid_0's multi_logloss: 0.165434\n",
            "[64]\tvalid_0's multi_logloss: 0.165213\n",
            "[65]\tvalid_0's multi_logloss: 0.165017\n",
            "[66]\tvalid_0's multi_logloss: 0.164845\n",
            "[67]\tvalid_0's multi_logloss: 0.164685\n",
            "[68]\tvalid_0's multi_logloss: 0.164533\n",
            "[69]\tvalid_0's multi_logloss: 0.164398\n",
            "[70]\tvalid_0's multi_logloss: 0.16426\n",
            "[71]\tvalid_0's multi_logloss: 0.16439\n",
            "[72]\tvalid_0's multi_logloss: 0.164211\n",
            "[73]\tvalid_0's multi_logloss: 0.164732\n",
            "[74]\tvalid_0's multi_logloss: 0.164578\n",
            "[75]\tvalid_0's multi_logloss: 0.164454\n",
            "[76]\tvalid_0's multi_logloss: 0.164335\n",
            "[77]\tvalid_0's multi_logloss: 0.16425\n",
            "[78]\tvalid_0's multi_logloss: 0.164163\n",
            "[79]\tvalid_0's multi_logloss: 0.164033\n",
            "[80]\tvalid_0's multi_logloss: 0.163945\n",
            "[81]\tvalid_0's multi_logloss: 0.163814\n",
            "[82]\tvalid_0's multi_logloss: 0.163743\n",
            "[83]\tvalid_0's multi_logloss: 0.163622\n",
            "[84]\tvalid_0's multi_logloss: 0.163539\n",
            "[85]\tvalid_0's multi_logloss: 0.163471\n",
            "[86]\tvalid_0's multi_logloss: 0.163393\n",
            "[87]\tvalid_0's multi_logloss: 0.163372\n",
            "[88]\tvalid_0's multi_logloss: 0.163311\n",
            "[89]\tvalid_0's multi_logloss: 0.163258\n",
            "[90]\tvalid_0's multi_logloss: 0.163213\n",
            "[91]\tvalid_0's multi_logloss: 0.163173\n",
            "[92]\tvalid_0's multi_logloss: 0.163132\n",
            "[93]\tvalid_0's multi_logloss: 0.163082\n",
            "[94]\tvalid_0's multi_logloss: 0.16306\n",
            "[95]\tvalid_0's multi_logloss: 0.16305\n",
            "[96]\tvalid_0's multi_logloss: 0.163031\n",
            "[97]\tvalid_0's multi_logloss: 0.16299\n",
            "[98]\tvalid_0's multi_logloss: 0.162946\n",
            "[99]\tvalid_0's multi_logloss: 0.162953\n",
            "[100]\tvalid_0's multi_logloss: 0.16295\n",
            "[101]\tvalid_0's multi_logloss: 0.162916\n",
            "[102]\tvalid_0's multi_logloss: 0.166163\n",
            "[103]\tvalid_0's multi_logloss: 0.1651\n",
            "[104]\tvalid_0's multi_logloss: 0.165076\n",
            "[105]\tvalid_0's multi_logloss: 0.165085\n",
            "[106]\tvalid_0's multi_logloss: 0.165066\n",
            "[107]\tvalid_0's multi_logloss: 0.165587\n",
            "[108]\tvalid_0's multi_logloss: 0.165045\n",
            "[109]\tvalid_0's multi_logloss: 0.165046\n",
            "[110]\tvalid_0's multi_logloss: 0.165039\n",
            "[111]\tvalid_0's multi_logloss: 0.165043\n",
            "Early stopping, best iteration is:\n",
            "[101]\tvalid_0's multi_logloss: 0.162916\n"
          ],
          "name": "stdout"
        }
      ]
    },
    {
      "cell_type": "code",
      "metadata": {
        "ExecuteTime": {
          "end_time": "2020-09-28T05:43:37.438933Z",
          "start_time": "2020-09-28T05:43:37.383525Z"
        },
        "id": "pTW1FhGAb7DL",
        "outputId": "48b9a6a3-1c20-4768-9797-a93e7ba11461",
        "colab": {
          "base_uri": "https://localhost:8080/",
          "height": 35
        }
      },
      "source": [
        "print(f'{accuracy_score(y, np.argmax(p_val, axis=1)) * 100:.4f}%')"
      ],
      "execution_count": 11,
      "outputs": [
        {
          "output_type": "stream",
          "text": [
            "93.1713%\n"
          ],
          "name": "stdout"
        }
      ]
    },
    {
      "cell_type": "code",
      "metadata": {
        "ExecuteTime": {
          "end_time": "2020-09-28T05:43:37.471851Z",
          "start_time": "2020-09-28T05:43:37.441418Z"
        },
        "id": "Bq8tPwknb7DM",
        "outputId": "0bf34315-6432-40d8-8262-844e9dfeac63",
        "colab": {
          "base_uri": "https://localhost:8080/",
          "height": 35
        }
      },
      "source": [
        "print(p_val.shape, p_tst.shape)"
      ],
      "execution_count": 12,
      "outputs": [
        {
          "output_type": "stream",
          "text": [
            "(320000, 3) (80000, 3)\n"
          ],
          "name": "stdout"
        }
      ]
    },
    {
      "cell_type": "code",
      "metadata": {
        "ExecuteTime": {
          "end_time": "2020-09-28T05:43:38.307946Z",
          "start_time": "2020-09-28T05:43:37.475036Z"
        },
        "id": "7IgR_xJob7DO"
      },
      "source": [
        "np.savetxt(p_val_file, p_val, fmt='%.6f', delimiter=',')\n",
        "np.savetxt(p_tst_file, p_tst, fmt='%.6f', delimiter=',')"
      ],
      "execution_count": 13,
      "outputs": []
    },
    {
      "cell_type": "markdown",
      "metadata": {
        "id": "oCjO8C4Gb7DQ"
      },
      "source": [
        "## 피처 중요도 시각화"
      ]
    },
    {
      "cell_type": "code",
      "metadata": {
        "ExecuteTime": {
          "end_time": "2020-09-28T05:43:38.496250Z",
          "start_time": "2020-09-28T05:43:38.309625Z"
        },
        "id": "lNqZAZZ1b7DQ",
        "outputId": "e9e98c9a-e8ad-4b9c-f6a9-8314a20ea520",
        "colab": {
          "base_uri": "https://localhost:8080/",
          "height": 172
        }
      },
      "source": [
        "#clf.coef_.shape"
      ],
      "execution_count": 14,
      "outputs": [
        {
          "output_type": "error",
          "ename": "AttributeError",
          "evalue": "ignored",
          "traceback": [
            "\u001b[0;31m---------------------------------------------------------------------------\u001b[0m",
            "\u001b[0;31mAttributeError\u001b[0m                            Traceback (most recent call last)",
            "\u001b[0;32m<ipython-input-14-742ca016ff99>\u001b[0m in \u001b[0;36m<module>\u001b[0;34m()\u001b[0m\n\u001b[0;32m----> 1\u001b[0;31m \u001b[0mclf\u001b[0m\u001b[0;34m.\u001b[0m\u001b[0mcoef_\u001b[0m\u001b[0;34m.\u001b[0m\u001b[0mshape\u001b[0m\u001b[0;34m\u001b[0m\u001b[0;34m\u001b[0m\u001b[0m\n\u001b[0m",
            "\u001b[0;31mAttributeError\u001b[0m: 'LGBMClassifier' object has no attribute 'coef_'"
          ]
        }
      ]
    },
    {
      "cell_type": "code",
      "metadata": {
        "ExecuteTime": {
          "end_time": "2020-09-28T05:43:38.498268Z",
          "start_time": "2020-09-28T05:43:13.700Z"
        },
        "scrolled": false,
        "id": "Gen4enPLb7DS",
        "outputId": "376c9901-9e58-4199-d92a-336c193b54fa",
        "colab": {
          "base_uri": "https://localhost:8080/",
          "height": 533
        }
      },
      "source": [
        "imp = pd.DataFrame({'feature': feature_names, 'importance': clf.feature_importances_})\n",
        "imp = imp.sort_values('importance').set_index('feature')\n",
        "imp.plot(kind='barh')"
      ],
      "execution_count": 15,
      "outputs": [
        {
          "output_type": "execute_result",
          "data": {
            "text/plain": [
              "<matplotlib.axes._subplots.AxesSubplot at 0x7fb932cd8b00>"
            ]
          },
          "metadata": {
            "tags": []
          },
          "execution_count": 15
        },
        {
          "output_type": "display_data",
          "data": {
            "image/png": "[encoded data removed]",
            "text/plain": [
              "<Figure size 1152x576 with 1 Axes>"
            ]
          },
          "metadata": {
            "tags": []
          }
        }
      ]
    },
    {
      "cell_type": "markdown",
      "metadata": {
        "id": "rT7IBQGeb7DU"
      },
      "source": [
        "## 제출 파일 생성"
      ]
    },
    {
      "cell_type": "code",
      "metadata": {
        "ExecuteTime": {
          "end_time": "2020-09-28T05:43:38.499448Z",
          "start_time": "2020-09-28T05:43:13.702Z"
        },
        "id": "YY7IHhSbb7DU",
        "outputId": "fb28cc0b-643a-453f-9d6c-5d15aaaffb94",
        "colab": {
          "base_uri": "https://localhost:8080/",
          "height": 253
        }
      },
      "source": [
        "sub = pd.read_csv(sample_file, index_col=0)\n",
        "print(sub.shape)\n",
        "sub.head()"
      ],
      "execution_count": 16,
      "outputs": [
        {
          "output_type": "stream",
          "text": [
            "(80000, 1)\n"
          ],
          "name": "stdout"
        },
        {
          "output_type": "execute_result",
          "data": {
            "text/html": [
              "<div>\n",
              "<style scoped>\n",
              "    .dataframe tbody tr th:only-of-type {\n",
              "        vertical-align: middle;\n",
              "    }\n",
              "\n",
              "    .dataframe tbody tr th {\n",
              "        vertical-align: top;\n",
              "    }\n",
              "\n",
              "    .dataframe thead th {\n",
              "        text-align: right;\n",
              "    }\n",
              "</style>\n",
              "<table border=\"1\" class=\"dataframe\">\n",
              "  <thead>\n",
              "    <tr style=\"text-align: right;\">\n",
              "      <th></th>\n",
              "      <th>class</th>\n",
              "    </tr>\n",
              "    <tr>\n",
              "      <th>id</th>\n",
              "      <th></th>\n",
              "    </tr>\n",
              "  </thead>\n",
              "  <tbody>\n",
              "    <tr>\n",
              "      <th>320000</th>\n",
              "      <td>0</td>\n",
              "    </tr>\n",
              "    <tr>\n",
              "      <th>320001</th>\n",
              "      <td>0</td>\n",
              "    </tr>\n",
              "    <tr>\n",
              "      <th>320002</th>\n",
              "      <td>0</td>\n",
              "    </tr>\n",
              "    <tr>\n",
              "      <th>320003</th>\n",
              "      <td>0</td>\n",
              "    </tr>\n",
              "    <tr>\n",
              "      <th>320004</th>\n",
              "      <td>0</td>\n",
              "    </tr>\n",
              "  </tbody>\n",
              "</table>\n",
              "</div>"
            ],
            "text/plain": [
              "        class\n",
              "id           \n",
              "320000      0\n",
              "320001      0\n",
              "320002      0\n",
              "320003      0\n",
              "320004      0"
            ]
          },
          "metadata": {
            "tags": []
          },
          "execution_count": 16
        }
      ]
    },
    {
      "cell_type": "code",
      "metadata": {
        "ExecuteTime": {
          "end_time": "2020-09-28T05:43:38.500730Z",
          "start_time": "2020-09-28T05:43:13.704Z"
        },
        "id": "5IFGKCq_b7DV",
        "outputId": "a30ee0eb-23f9-4727-ccb5-52d37472138f",
        "colab": {
          "base_uri": "https://localhost:8080/",
          "height": 235
        }
      },
      "source": [
        "sub[target_col] = np.argmax(p_tst, axis=1)\n",
        "sub.head()"
      ],
      "execution_count": 17,
      "outputs": [
        {
          "output_type": "execute_result",
          "data": {
            "text/html": [
              "<div>\n",
              "<style scoped>\n",
              "    .dataframe tbody tr th:only-of-type {\n",
              "        vertical-align: middle;\n",
              "    }\n",
              "\n",
              "    .dataframe tbody tr th {\n",
              "        vertical-align: top;\n",
              "    }\n",
              "\n",
              "    .dataframe thead th {\n",
              "        text-align: right;\n",
              "    }\n",
              "</style>\n",
              "<table border=\"1\" class=\"dataframe\">\n",
              "  <thead>\n",
              "    <tr style=\"text-align: right;\">\n",
              "      <th></th>\n",
              "      <th>class</th>\n",
              "    </tr>\n",
              "    <tr>\n",
              "      <th>id</th>\n",
              "      <th></th>\n",
              "    </tr>\n",
              "  </thead>\n",
              "  <tbody>\n",
              "    <tr>\n",
              "      <th>320000</th>\n",
              "      <td>2</td>\n",
              "    </tr>\n",
              "    <tr>\n",
              "      <th>320001</th>\n",
              "      <td>0</td>\n",
              "    </tr>\n",
              "    <tr>\n",
              "      <th>320002</th>\n",
              "      <td>2</td>\n",
              "    </tr>\n",
              "    <tr>\n",
              "      <th>320003</th>\n",
              "      <td>0</td>\n",
              "    </tr>\n",
              "    <tr>\n",
              "      <th>320004</th>\n",
              "      <td>2</td>\n",
              "    </tr>\n",
              "  </tbody>\n",
              "</table>\n",
              "</div>"
            ],
            "text/plain": [
              "        class\n",
              "id           \n",
              "320000      2\n",
              "320001      0\n",
              "320002      2\n",
              "320003      0\n",
              "320004      2"
            ]
          },
          "metadata": {
            "tags": []
          },
          "execution_count": 17
        }
      ]
    },
    {
      "cell_type": "code",
      "metadata": {
        "ExecuteTime": {
          "end_time": "2020-09-28T05:43:38.501965Z",
          "start_time": "2020-09-28T05:43:13.706Z"
        },
        "id": "9IRbzG90b7DX",
        "outputId": "3aa82774-17d8-4f4d-b41c-244c36f75aae",
        "colab": {
          "base_uri": "https://localhost:8080/",
          "height": 89
        }
      },
      "source": [
        "sub[target_col].value_counts()"
      ],
      "execution_count": 18,
      "outputs": [
        {
          "output_type": "execute_result",
          "data": {
            "text/plain": [
              "2    40611\n",
              "0    29987\n",
              "1     9402\n",
              "Name: class, dtype: int64"
            ]
          },
          "metadata": {
            "tags": []
          },
          "execution_count": 18
        }
      ]
    },
    {
      "cell_type": "code",
      "metadata": {
        "ExecuteTime": {
          "end_time": "2020-09-28T05:43:38.503045Z",
          "start_time": "2020-09-28T05:43:13.707Z"
        },
        "id": "oPhOdhH8b7DY"
      },
      "source": [
        "sub.to_csv(sub_file)"
      ],
      "execution_count": 19,
      "outputs": []
    },
    {
      "cell_type": "code",
      "metadata": {
        "id": "4ERzGn5_b7Da"
      },
      "source": [
        ""
      ],
      "execution_count": null,
      "outputs": []
    }
  ]
}