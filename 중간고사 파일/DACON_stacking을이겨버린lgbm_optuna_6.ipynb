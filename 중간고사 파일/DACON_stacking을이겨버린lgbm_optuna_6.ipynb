{
  "nbformat": 4,
  "nbformat_minor": 0,
  "metadata": {
    "kernelspec": {
      "display_name": "Python 3",
      "language": "python",
      "name": "python3"
    },
    "language_info": {
      "codemirror_mode": {
        "name": "ipython",
        "version": 3
      },
      "file_extension": ".py",
      "mimetype": "text/x-python",
      "name": "python",
      "nbconvert_exporter": "python",
      "pygments_lexer": "ipython3",
      "version": "3.7.6"
    },
    "toc": {
      "base_numbering": 1,
      "nav_menu": {},
      "number_sections": true,
      "sideBar": true,
      "skip_h1_title": true,
      "title_cell": "Table of Contents",
      "title_sidebar": "Contents",
      "toc_cell": false,
      "toc_position": {},
      "toc_section_display": true,
      "toc_window_display": false
    },
    "colab": {
      "name": "DACON_stacking을이겨버린lgbm-optuna_6.ipynb",
      "provenance": [],
      "collapsed_sections": [],
      "include_colab_link": true
    }
  },
  "cells": [
    {
      "cell_type": "markdown",
      "metadata": {
        "id": "view-in-github",
        "colab_type": "text"
      },
      "source": [
        "<a href=\"https://colab.research.google.com/github/im-hjk/dankook_dacon/blob/master/DACON_stacking%EC%9D%84%EC%9D%B4%EA%B2%A8%EB%B2%84%EB%A6%B0lgbm_optuna_6.ipynb\" target=\"_parent\"><img src=\"https://colab.research.google.com/assets/colab-badge.svg\" alt=\"Open In Colab\"/></a>"
      ]
    },
    {
      "cell_type": "markdown",
      "metadata": {
        "id": "xQO3ZDmBtjqs"
      },
      "source": [
        "## 라이브러리 import 및 설정"
      ]
    },
    {
      "cell_type": "code",
      "metadata": {
        "ExecuteTime": {
          "end_time": "2020-10-05T08:38:53.774831Z",
          "start_time": "2020-10-05T08:38:53.486186Z"
        },
        "id": "qn1gjvrztjqs"
      },
      "source": [
        "%reload_ext autoreload\n",
        "%autoreload 2\n",
        "%matplotlib inline"
      ],
      "execution_count": null,
      "outputs": []
    },
    {
      "cell_type": "code",
      "metadata": {
        "id": "jcivVXRktpSs",
        "outputId": "c4ac2c50-f23c-4f38-aac9-d4c764fe31f9",
        "colab": {
          "base_uri": "https://localhost:8080/",
          "height": 35
        }
      },
      "source": [
        "from google.colab import drive \n",
        "drive.mount('/content/drive')"
      ],
      "execution_count": null,
      "outputs": [
        {
          "output_type": "stream",
          "text": [
            "Drive already mounted at /content/drive; to attempt to forcibly remount, call drive.mount(\"/content/drive\", force_remount=True).\n"
          ],
          "name": "stdout"
        }
      ]
    },
    {
      "cell_type": "code",
      "metadata": {
        "id": "joqviwl6YyKk",
        "outputId": "9c5536a9-fcd1-4012-ad1e-e94ef136ae34",
        "colab": {
          "base_uri": "https://localhost:8080/",
          "height": 539
        }
      },
      "source": [
        "!pip install optuna"
      ],
      "execution_count": null,
      "outputs": [
        {
          "output_type": "stream",
          "text": [
            "Requirement already satisfied: optuna in /usr/local/lib/python3.6/dist-packages (2.2.0)\n",
            "Requirement already satisfied: scipy!=1.4.0 in /usr/local/lib/python3.6/dist-packages (from optuna) (1.4.1)\n",
            "Requirement already satisfied: tqdm in /usr/local/lib/python3.6/dist-packages (from optuna) (4.41.1)\n",
            "Requirement already satisfied: cmaes>=0.6.0 in /usr/local/lib/python3.6/dist-packages (from optuna) (0.6.1)\n",
            "Requirement already satisfied: colorlog in /usr/local/lib/python3.6/dist-packages (from optuna) (4.4.0)\n",
            "Requirement already satisfied: cliff in /usr/local/lib/python3.6/dist-packages (from optuna) (3.4.0)\n",
            "Requirement already satisfied: joblib in /usr/local/lib/python3.6/dist-packages (from optuna) (0.16.0)\n",
            "Requirement already satisfied: alembic in /usr/local/lib/python3.6/dist-packages (from optuna) (1.4.3)\n",
            "Requirement already satisfied: sqlalchemy>=1.1.0 in /usr/local/lib/python3.6/dist-packages (from optuna) (1.3.19)\n",
            "Requirement already satisfied: packaging>=20.0 in /usr/local/lib/python3.6/dist-packages (from optuna) (20.4)\n",
            "Requirement already satisfied: numpy in /usr/local/lib/python3.6/dist-packages (from optuna) (1.18.5)\n",
            "Requirement already satisfied: cmd2!=0.8.3,>=0.8.0 in /usr/local/lib/python3.6/dist-packages (from cliff->optuna) (1.3.11)\n",
            "Requirement already satisfied: PrettyTable<0.8,>=0.7.2 in /usr/local/lib/python3.6/dist-packages (from cliff->optuna) (0.7.2)\n",
            "Requirement already satisfied: pyparsing>=2.1.0 in /usr/local/lib/python3.6/dist-packages (from cliff->optuna) (2.4.7)\n",
            "Requirement already satisfied: stevedore>=2.0.1 in /usr/local/lib/python3.6/dist-packages (from cliff->optuna) (3.2.2)\n",
            "Requirement already satisfied: pbr!=2.1.0,>=2.0.0 in /usr/local/lib/python3.6/dist-packages (from cliff->optuna) (5.5.0)\n",
            "Requirement already satisfied: PyYAML>=3.12 in /usr/local/lib/python3.6/dist-packages (from cliff->optuna) (3.13)\n",
            "Requirement already satisfied: six>=1.10.0 in /usr/local/lib/python3.6/dist-packages (from cliff->optuna) (1.15.0)\n",
            "Requirement already satisfied: python-editor>=0.3 in /usr/local/lib/python3.6/dist-packages (from alembic->optuna) (1.0.4)\n",
            "Requirement already satisfied: python-dateutil in /usr/local/lib/python3.6/dist-packages (from alembic->optuna) (2.8.1)\n",
            "Requirement already satisfied: Mako in /usr/local/lib/python3.6/dist-packages (from alembic->optuna) (1.1.3)\n",
            "Requirement already satisfied: pyperclip>=1.6 in /usr/local/lib/python3.6/dist-packages (from cmd2!=0.8.3,>=0.8.0->cliff->optuna) (1.8.0)\n",
            "Requirement already satisfied: setuptools>=34.4 in /usr/local/lib/python3.6/dist-packages (from cmd2!=0.8.3,>=0.8.0->cliff->optuna) (50.3.0)\n",
            "Requirement already satisfied: wcwidth>=0.1.7 in /usr/local/lib/python3.6/dist-packages (from cmd2!=0.8.3,>=0.8.0->cliff->optuna) (0.2.5)\n",
            "Requirement already satisfied: importlib-metadata>=1.6.0; python_version < \"3.8\" in /usr/local/lib/python3.6/dist-packages (from cmd2!=0.8.3,>=0.8.0->cliff->optuna) (2.0.0)\n",
            "Requirement already satisfied: attrs>=16.3.0 in /usr/local/lib/python3.6/dist-packages (from cmd2!=0.8.3,>=0.8.0->cliff->optuna) (20.2.0)\n",
            "Requirement already satisfied: colorama>=0.3.7 in /usr/local/lib/python3.6/dist-packages (from cmd2!=0.8.3,>=0.8.0->cliff->optuna) (0.4.3)\n",
            "Requirement already satisfied: MarkupSafe>=0.9.2 in /usr/local/lib/python3.6/dist-packages (from Mako->alembic->optuna) (1.1.1)\n",
            "Requirement already satisfied: zipp>=0.5 in /usr/local/lib/python3.6/dist-packages (from importlib-metadata>=1.6.0; python_version < \"3.8\"->cmd2!=0.8.3,>=0.8.0->cliff->optuna) (3.2.0)\n"
          ],
          "name": "stdout"
        }
      ]
    },
    {
      "cell_type": "code",
      "metadata": {
        "ExecuteTime": {
          "end_time": "2020-10-05T08:53:10.431515Z",
          "start_time": "2020-10-05T08:53:10.398638Z"
        },
        "id": "pzap0TBItjqv"
      },
      "source": [
        "from lightgbm import LGBMClassifier\n",
        "from matplotlib import pyplot as plt\n",
        "from matplotlib import rcParams\n",
        "import numpy as np\n",
        "import optuna.integration.lightgbm as lgb\n",
        "import io\n",
        "from pathlib import Path\n",
        "import pandas as pd\n",
        "from sklearn.metrics import accuracy_score\n",
        "from sklearn.model_selection import StratifiedKFold, train_test_split\n",
        "import seaborn as sns\n",
        "import warnings"
      ],
      "execution_count": null,
      "outputs": []
    },
    {
      "cell_type": "code",
      "metadata": {
        "ExecuteTime": {
          "end_time": "2020-10-05T08:38:55.047271Z",
          "start_time": "2020-10-05T08:38:55.018323Z"
        },
        "id": "zfM-EoMgtjqw"
      },
      "source": [
        "rcParams['figure.figsize'] = (16, 8)\n",
        "plt.style.use('fivethirtyeight')\n",
        "pd.set_option('max_columns', 100)\n",
        "pd.set_option(\"display.precision\", 4)\n",
        "warnings.simplefilter('ignore')"
      ],
      "execution_count": null,
      "outputs": []
    },
    {
      "cell_type": "markdown",
      "metadata": {
        "id": "w0Ql9nIatjqy"
      },
      "source": [
        "## 학습데이터 로드"
      ]
    },
    {
      "cell_type": "markdown",
      "metadata": {
        "id": "NvKV8Ffotjqy"
      },
      "source": [
        "[03-pandas-eda.ipynb](https://github.com/kaggler-tv/dku-kaggle-class/blob/master/notebook/03-pandas-eda.ipynb)에서 생성한 `feature.csv` 피처파일 사용"
      ]
    },
    {
      "cell_type": "code",
      "metadata": {
        "ExecuteTime": {
          "end_time": "2020-10-05T08:38:55.079180Z",
          "start_time": "2020-10-05T08:38:55.050994Z"
        },
        "id": "-K3cOAkptjqz"
      },
      "source": [
        "main_path = Path('/content/drive/My Drive/Colab Notebooks/dacon_dkdkdk')\n",
        "data_dir = main_path / 'data/dacon-dku'\n",
        "feature_dir = main_path / 'build/feature'\n",
        "val_dir = main_path / 'build/val'\n",
        "tst_dir = main_path / 'build/tst'\n",
        "sub_dir = main_path / 'build/sub'\n",
        "\n",
        "trn_file = data_dir / 'train.csv'\n",
        "tst_file = data_dir / 'test.csv'\n",
        "sample_file = data_dir / 'sample_submission.csv'\n",
        "\n",
        "target_col = 'class'\n",
        "n_fold = 5\n",
        "n_class = 3\n",
        "seed = 42"
      ],
      "execution_count": null,
      "outputs": []
    },
    {
      "cell_type": "code",
      "metadata": {
        "ExecuteTime": {
          "end_time": "2020-10-05T08:38:55.109220Z",
          "start_time": "2020-10-05T08:38:55.081365Z"
        },
        "id": "bTUqeLqNtjq1"
      },
      "source": [
        "algo_name = 'lgb_optuna'\n",
        "feature_name = 'feature'\n",
        "model_name = f'{algo_name}_{feature_name}'\n",
        "\n",
        "feature_file = feature_dir / f'{feature_name}.csv'\n",
        "p_val_file = val_dir / f'{model_name}.val.csv'\n",
        "p_tst_file = tst_dir / f'{model_name}.tst.csv'\n",
        "sub_file = sub_dir / f'{model_name}.csv'"
      ],
      "execution_count": null,
      "outputs": []
    },
    {
      "cell_type": "code",
      "metadata": {
        "ExecuteTime": {
          "end_time": "2020-10-05T08:38:56.480522Z",
          "start_time": "2020-10-05T08:38:55.111305Z"
        },
        "id": "tNAnzJkptjq2",
        "outputId": "7a544a77-27f7-46e8-e8a6-8a1bedd7d62a",
        "colab": {
          "base_uri": "https://localhost:8080/",
          "height": 358
        }
      },
      "source": [
        "df = pd.read_csv(feature_file, index_col=0)\n",
        "print(df.shape)\n",
        "df.head()"
      ],
      "execution_count": null,
      "outputs": [
        {
          "output_type": "stream",
          "text": [
            "(400000, 29)\n"
          ],
          "name": "stdout"
        },
        {
          "output_type": "execute_result",
          "data": {
            "text/html": [
              "<div>\n",
              "<style scoped>\n",
              "    .dataframe tbody tr th:only-of-type {\n",
              "        vertical-align: middle;\n",
              "    }\n",
              "\n",
              "    .dataframe tbody tr th {\n",
              "        vertical-align: top;\n",
              "    }\n",
              "\n",
              "    .dataframe thead th {\n",
              "        text-align: right;\n",
              "    }\n",
              "</style>\n",
              "<table border=\"1\" class=\"dataframe\">\n",
              "  <thead>\n",
              "    <tr style=\"text-align: right;\">\n",
              "      <th></th>\n",
              "      <th>z</th>\n",
              "      <th>redshift</th>\n",
              "      <th>dered_u</th>\n",
              "      <th>dered_g</th>\n",
              "      <th>dered_r</th>\n",
              "      <th>dered_i</th>\n",
              "      <th>dered_z</th>\n",
              "      <th>nDetect</th>\n",
              "      <th>class</th>\n",
              "      <th>airmass</th>\n",
              "      <th>n_obMde</th>\n",
              "      <th>d_dered_u</th>\n",
              "      <th>d_dered_g</th>\n",
              "      <th>d_dered_r</th>\n",
              "      <th>d_dered_i</th>\n",
              "      <th>d_dered_z</th>\n",
              "      <th>u/g</th>\n",
              "      <th>u/r</th>\n",
              "      <th>u/i</th>\n",
              "      <th>u/z</th>\n",
              "      <th>g/i</th>\n",
              "      <th>g/z</th>\n",
              "      <th>r/i</th>\n",
              "      <th>r/z</th>\n",
              "      <th>i/z</th>\n",
              "      <th>d_dered_ig</th>\n",
              "      <th>d_dered_zg</th>\n",
              "      <th>d_dered_rz</th>\n",
              "      <th>d_dered_iz</th>\n",
              "    </tr>\n",
              "    <tr>\n",
              "      <th>id</th>\n",
              "      <th></th>\n",
              "      <th></th>\n",
              "      <th></th>\n",
              "      <th></th>\n",
              "      <th></th>\n",
              "      <th></th>\n",
              "      <th></th>\n",
              "      <th></th>\n",
              "      <th></th>\n",
              "      <th></th>\n",
              "      <th></th>\n",
              "      <th></th>\n",
              "      <th></th>\n",
              "      <th></th>\n",
              "      <th></th>\n",
              "      <th></th>\n",
              "      <th></th>\n",
              "      <th></th>\n",
              "      <th></th>\n",
              "      <th></th>\n",
              "      <th></th>\n",
              "      <th></th>\n",
              "      <th></th>\n",
              "      <th></th>\n",
              "      <th></th>\n",
              "      <th></th>\n",
              "      <th></th>\n",
              "      <th></th>\n",
              "      <th></th>\n",
              "    </tr>\n",
              "  </thead>\n",
              "  <tbody>\n",
              "    <tr>\n",
              "      <th>0</th>\n",
              "      <td>16.9396</td>\n",
              "      <td>-8.1086e-05</td>\n",
              "      <td>23.1243</td>\n",
              "      <td>20.2578</td>\n",
              "      <td>18.9551</td>\n",
              "      <td>17.6321</td>\n",
              "      <td>16.9089</td>\n",
              "      <td>18</td>\n",
              "      <td>0.0</td>\n",
              "      <td>1.1898</td>\n",
              "      <td>0</td>\n",
              "      <td>-0.1397</td>\n",
              "      <td>-0.0790</td>\n",
              "      <td>-0.0544</td>\n",
              "      <td>-0.0403</td>\n",
              "      <td>-0.0307</td>\n",
              "      <td>1.1439</td>\n",
              "      <td>1.2238</td>\n",
              "      <td>1.3164</td>\n",
              "      <td>1.3733</td>\n",
              "      <td>1.1508</td>\n",
              "      <td>1.2005</td>\n",
              "      <td>1.0757</td>\n",
              "      <td>1.1222</td>\n",
              "      <td>1.0433</td>\n",
              "      <td>-2.6257</td>\n",
              "      <td>-3.3488</td>\n",
              "      <td>2.0462</td>\n",
              "      <td>0.7232</td>\n",
              "    </tr>\n",
              "    <tr>\n",
              "      <th>1</th>\n",
              "      <td>13.1689</td>\n",
              "      <td>4.5061e-03</td>\n",
              "      <td>14.9664</td>\n",
              "      <td>14.0045</td>\n",
              "      <td>13.4114</td>\n",
              "      <td>13.2363</td>\n",
              "      <td>13.1347</td>\n",
              "      <td>1</td>\n",
              "      <td>1.0</td>\n",
              "      <td>1.2533</td>\n",
              "      <td>0</td>\n",
              "      <td>-0.0857</td>\n",
              "      <td>-0.0574</td>\n",
              "      <td>-0.0410</td>\n",
              "      <td>-0.0322</td>\n",
              "      <td>-0.0343</td>\n",
              "      <td>1.0704</td>\n",
              "      <td>1.1189</td>\n",
              "      <td>1.1344</td>\n",
              "      <td>1.1430</td>\n",
              "      <td>1.0598</td>\n",
              "      <td>1.0678</td>\n",
              "      <td>1.0139</td>\n",
              "      <td>1.0215</td>\n",
              "      <td>1.0076</td>\n",
              "      <td>-0.7683</td>\n",
              "      <td>-0.8698</td>\n",
              "      <td>0.2767</td>\n",
              "      <td>0.1016</td>\n",
              "    </tr>\n",
              "    <tr>\n",
              "      <th>2</th>\n",
              "      <td>15.3500</td>\n",
              "      <td>4.7198e-04</td>\n",
              "      <td>16.6076</td>\n",
              "      <td>15.6866</td>\n",
              "      <td>15.4400</td>\n",
              "      <td>15.3217</td>\n",
              "      <td>15.2961</td>\n",
              "      <td>2</td>\n",
              "      <td>0.0</td>\n",
              "      <td>1.0225</td>\n",
              "      <td>0</td>\n",
              "      <td>-0.1787</td>\n",
              "      <td>-0.1388</td>\n",
              "      <td>-0.0963</td>\n",
              "      <td>-0.0718</td>\n",
              "      <td>-0.0540</td>\n",
              "      <td>1.0607</td>\n",
              "      <td>1.0805</td>\n",
              "      <td>1.0905</td>\n",
              "      <td>1.0936</td>\n",
              "      <td>1.0281</td>\n",
              "      <td>1.0310</td>\n",
              "      <td>1.0093</td>\n",
              "      <td>1.0121</td>\n",
              "      <td>1.0028</td>\n",
              "      <td>-0.3649</td>\n",
              "      <td>-0.3905</td>\n",
              "      <td>0.1440</td>\n",
              "      <td>0.0257</td>\n",
              "    </tr>\n",
              "    <tr>\n",
              "      <th>3</th>\n",
              "      <td>19.6346</td>\n",
              "      <td>5.8143e-06</td>\n",
              "      <td>25.3536</td>\n",
              "      <td>20.9947</td>\n",
              "      <td>20.0873</td>\n",
              "      <td>19.7947</td>\n",
              "      <td>19.5552</td>\n",
              "      <td>3</td>\n",
              "      <td>0.0</td>\n",
              "      <td>1.2054</td>\n",
              "      <td>1</td>\n",
              "      <td>-0.3070</td>\n",
              "      <td>-0.1941</td>\n",
              "      <td>-0.1339</td>\n",
              "      <td>-0.1003</td>\n",
              "      <td>-0.0795</td>\n",
              "      <td>1.2111</td>\n",
              "      <td>1.2690</td>\n",
              "      <td>1.2898</td>\n",
              "      <td>1.3069</td>\n",
              "      <td>1.0650</td>\n",
              "      <td>1.0791</td>\n",
              "      <td>1.0164</td>\n",
              "      <td>1.0299</td>\n",
              "      <td>1.0133</td>\n",
              "      <td>-1.2000</td>\n",
              "      <td>-1.4395</td>\n",
              "      <td>0.5321</td>\n",
              "      <td>0.2395</td>\n",
              "    </tr>\n",
              "    <tr>\n",
              "      <th>4</th>\n",
              "      <td>17.9826</td>\n",
              "      <td>-3.3247e-05</td>\n",
              "      <td>23.7714</td>\n",
              "      <td>20.4338</td>\n",
              "      <td>18.8630</td>\n",
              "      <td>18.1903</td>\n",
              "      <td>17.8759</td>\n",
              "      <td>12</td>\n",
              "      <td>0.0</td>\n",
              "      <td>1.1940</td>\n",
              "      <td>1</td>\n",
              "      <td>-0.6820</td>\n",
              "      <td>-0.2653</td>\n",
              "      <td>-0.1794</td>\n",
              "      <td>-0.1339</td>\n",
              "      <td>-0.1067</td>\n",
              "      <td>1.1814</td>\n",
              "      <td>1.2842</td>\n",
              "      <td>1.3345</td>\n",
              "      <td>1.3598</td>\n",
              "      <td>1.1296</td>\n",
              "      <td>1.1511</td>\n",
              "      <td>1.0392</td>\n",
              "      <td>1.0589</td>\n",
              "      <td>1.0190</td>\n",
              "      <td>-2.2436</td>\n",
              "      <td>-2.5579</td>\n",
              "      <td>0.9871</td>\n",
              "      <td>0.3144</td>\n",
              "    </tr>\n",
              "  </tbody>\n",
              "</table>\n",
              "</div>"
            ],
            "text/plain": [
              "          z    redshift  dered_u  dered_g  dered_r  dered_i  dered_z  nDetect  \\\n",
              "id                                                                              \n",
              "0   16.9396 -8.1086e-05  23.1243  20.2578  18.9551  17.6321  16.9089       18   \n",
              "1   13.1689  4.5061e-03  14.9664  14.0045  13.4114  13.2363  13.1347        1   \n",
              "2   15.3500  4.7198e-04  16.6076  15.6866  15.4400  15.3217  15.2961        2   \n",
              "3   19.6346  5.8143e-06  25.3536  20.9947  20.0873  19.7947  19.5552        3   \n",
              "4   17.9826 -3.3247e-05  23.7714  20.4338  18.8630  18.1903  17.8759       12   \n",
              "\n",
              "    class  airmass  n_obMde  d_dered_u  d_dered_g  d_dered_r  d_dered_i  \\\n",
              "id                                                                        \n",
              "0     0.0   1.1898        0    -0.1397    -0.0790    -0.0544    -0.0403   \n",
              "1     1.0   1.2533        0    -0.0857    -0.0574    -0.0410    -0.0322   \n",
              "2     0.0   1.0225        0    -0.1787    -0.1388    -0.0963    -0.0718   \n",
              "3     0.0   1.2054        1    -0.3070    -0.1941    -0.1339    -0.1003   \n",
              "4     0.0   1.1940        1    -0.6820    -0.2653    -0.1794    -0.1339   \n",
              "\n",
              "    d_dered_z     u/g     u/r     u/i     u/z     g/i     g/z     r/i     r/z  \\\n",
              "id                                                                              \n",
              "0     -0.0307  1.1439  1.2238  1.3164  1.3733  1.1508  1.2005  1.0757  1.1222   \n",
              "1     -0.0343  1.0704  1.1189  1.1344  1.1430  1.0598  1.0678  1.0139  1.0215   \n",
              "2     -0.0540  1.0607  1.0805  1.0905  1.0936  1.0281  1.0310  1.0093  1.0121   \n",
              "3     -0.0795  1.2111  1.2690  1.2898  1.3069  1.0650  1.0791  1.0164  1.0299   \n",
              "4     -0.1067  1.1814  1.2842  1.3345  1.3598  1.1296  1.1511  1.0392  1.0589   \n",
              "\n",
              "       i/z  d_dered_ig  d_dered_zg  d_dered_rz  d_dered_iz  \n",
              "id                                                          \n",
              "0   1.0433     -2.6257     -3.3488      2.0462      0.7232  \n",
              "1   1.0076     -0.7683     -0.8698      0.2767      0.1016  \n",
              "2   1.0028     -0.3649     -0.3905      0.1440      0.0257  \n",
              "3   1.0133     -1.2000     -1.4395      0.5321      0.2395  \n",
              "4   1.0190     -2.2436     -2.5579      0.9871      0.3144  "
            ]
          },
          "metadata": {
            "tags": []
          },
          "execution_count": 12
        }
      ]
    },
    {
      "cell_type": "code",
      "metadata": {
        "ExecuteTime": {
          "end_time": "2020-10-05T08:38:56.553068Z",
          "start_time": "2020-10-05T08:38:56.482710Z"
        },
        "id": "gZRrzhRItjq4",
        "outputId": "cec6da33-2d45-432d-aece-bd6fd58af47b",
        "colab": {
          "base_uri": "https://localhost:8080/",
          "height": 35
        }
      },
      "source": [
        "y = df[target_col].values[:320000]\n",
        "df.drop(target_col, axis=1, inplace=True)\n",
        "trn = df.iloc[:320000].values\n",
        "tst = df.iloc[320000:].values\n",
        "feature_name = df.columns.tolist()\n",
        "print(y.shape, trn.shape, tst.shape)"
      ],
      "execution_count": null,
      "outputs": [
        {
          "output_type": "stream",
          "text": [
            "(320000,) (320000, 28) (80000, 28)\n"
          ],
          "name": "stdout"
        }
      ]
    },
    {
      "cell_type": "markdown",
      "metadata": {
        "id": "8bay1xNjtjq6"
      },
      "source": [
        "## Hyperparameter Tuning"
      ]
    },
    {
      "cell_type": "code",
      "metadata": {
        "ExecuteTime": {
          "end_time": "2020-10-05T08:38:56.690768Z",
          "start_time": "2020-10-05T08:38:56.556065Z"
        },
        "id": "m1npBi5ctjq7"
      },
      "source": [
        "X_trn, X_val, y_trn, y_val = train_test_split(trn, y, test_size=.2, random_state=seed)"
      ],
      "execution_count": null,
      "outputs": []
    },
    {
      "cell_type": "code",
      "metadata": {
        "ExecuteTime": {
          "end_time": "2020-10-05T08:38:56.723614Z",
          "start_time": "2020-10-05T08:38:56.693535Z"
        },
        "id": "hJ_T8dHmtjq8"
      },
      "source": [
        "params = {\n",
        "    \"objective\": \"multiclass\",\n",
        "    \"metric\": \"multi_logloss\",\n",
        "    \"num_class\": 3,\n",
        "    \"n_estimators\": 3000,\n",
        "    \"subsample_freq\": 1,\n",
        "    \"lambda_l1\": 0.,\n",
        "    \"lambda_l2\": 0.,\n",
        "    \"random_state\": seed,\n",
        "    \"n_jobs\": -1,\n",
        "}"
      ],
      "execution_count": null,
      "outputs": []
    },
    {
      "cell_type": "code",
      "metadata": {
        "ExecuteTime": {
          "end_time": "2020-10-05T08:51:30.834862Z",
          "start_time": "2020-10-05T08:38:56.725742Z"
        },
        "id": "ZGlb467ytjq-",
        "outputId": "16c4e9da-dd8e-4132-881a-793ff2daa8f3",
        "colab": {
          "base_uri": "https://localhost:8080/",
          "height": 1000
        }
      },
      "source": [
        "dtrain = lgb.Dataset(X_trn, label=y_trn)\n",
        "dval = lgb.Dataset(X_val, label=y_val)\n",
        "\n",
        "model = lgb.train(params, dtrain, valid_sets=[dtrain, dval], \n",
        "                  verbose_eval=100, early_stopping_rounds=10)\n",
        "\n",
        "prediction = np.argmax(model.predict(X_val, num_iteration=model.best_iteration), \n",
        "                       axis=1)\n",
        "accuracy = accuracy_score(y_val, prediction)\n",
        "\n",
        "params = model.params\n",
        "print(\"Best params:\", params)\n",
        "print(\"  Accuracy = {}\".format(accuracy))\n",
        "print(\"  Params: \")\n",
        "for key, value in params.items():\n",
        "    print(\"    {}: {}\".format(key, value))"
      ],
      "execution_count": null,
      "outputs": [
        {
          "output_type": "stream",
          "text": [
            "\u001b[32m[I 2020-10-09 08:04:34,104]\u001b[0m A new study created in memory with name: no-name-0169f949-097b-4cad-9489-639683bde26b\u001b[0m\n",
            "feature_fraction, val_score: inf:   0%|          | 0/7 [00:00<?, ?it/s]"
          ],
          "name": "stderr"
        },
        {
          "output_type": "stream",
          "text": [
            "Training until validation scores don't improve for 10 rounds.\n",
            "[100]\ttraining's multi_logloss: 0.150635\tvalid_1's multi_logloss: 0.163905\n",
            "[200]\ttraining's multi_logloss: 0.138147\tvalid_1's multi_logloss: 0.16072\n"
          ],
          "name": "stdout"
        },
        {
          "output_type": "stream",
          "text": [
            "feature_fraction, val_score: 0.159674:  14%|#4        | 1/7 [00:45<04:34, 45.72s/it]\u001b[32m[I 2020-10-09 08:05:19,838]\u001b[0m Trial 0 finished with value: 0.1596735256743699 and parameters: {'feature_fraction': 1.0}. Best is trial 0 with value: 0.1596735256743699.\u001b[0m\n",
            "feature_fraction, val_score: 0.159674:  14%|#4        | 1/7 [00:45<04:34, 45.72s/it]"
          ],
          "name": "stderr"
        },
        {
          "output_type": "stream",
          "text": [
            "Early stopping, best iteration is:\n",
            "[289]\ttraining's multi_logloss: 0.130603\tvalid_1's multi_logloss: 0.159674\n",
            "Training until validation scores don't improve for 10 rounds.\n",
            "[100]\ttraining's multi_logloss: 0.154048\tvalid_1's multi_logloss: 0.165613\n",
            "[200]\ttraining's multi_logloss: 0.140209\tvalid_1's multi_logloss: 0.160506\n",
            "[300]\ttraining's multi_logloss: 0.132047\tvalid_1's multi_logloss: 0.159359\n"
          ],
          "name": "stdout"
        },
        {
          "output_type": "stream",
          "text": [
            "feature_fraction, val_score: 0.159160:  29%|##8       | 2/7 [01:25<03:39, 43.85s/it]\u001b[32m[I 2020-10-09 08:05:59,303]\u001b[0m Trial 1 finished with value: 0.15915963441656988 and parameters: {'feature_fraction': 0.5}. Best is trial 1 with value: 0.15915963441656988.\u001b[0m\n",
            "feature_fraction, val_score: 0.159160:  29%|##8       | 2/7 [01:25<03:39, 43.85s/it]"
          ],
          "name": "stderr"
        },
        {
          "output_type": "stream",
          "text": [
            "Early stopping, best iteration is:\n",
            "[336]\ttraining's multi_logloss: 0.129622\tvalid_1's multi_logloss: 0.15916\n",
            "Training until validation scores don't improve for 10 rounds.\n",
            "[100]\ttraining's multi_logloss: 0.15106\tvalid_1's multi_logloss: 0.163866\n",
            "[200]\ttraining's multi_logloss: 0.138467\tvalid_1's multi_logloss: 0.160175\n"
          ],
          "name": "stdout"
        },
        {
          "output_type": "stream",
          "text": [
            "feature_fraction, val_score: 0.159160:  43%|####2     | 3/7 [02:11<02:57, 44.47s/it]\u001b[32m[I 2020-10-09 08:06:45,214]\u001b[0m Trial 2 finished with value: 0.15928339043760842 and parameters: {'feature_fraction': 0.8}. Best is trial 1 with value: 0.15915963441656988.\u001b[0m\n",
            "feature_fraction, val_score: 0.159160:  43%|####2     | 3/7 [02:11<02:57, 44.47s/it]"
          ],
          "name": "stderr"
        },
        {
          "output_type": "stream",
          "text": [
            "Early stopping, best iteration is:\n",
            "[278]\ttraining's multi_logloss: 0.131821\tvalid_1's multi_logloss: 0.159283\n",
            "Training until validation scores don't improve for 10 rounds.\n",
            "[100]\ttraining's multi_logloss: 0.15078\tvalid_1's multi_logloss: 0.163945\n",
            "[200]\ttraining's multi_logloss: 0.138098\tvalid_1's multi_logloss: 0.16045\n",
            "[300]\ttraining's multi_logloss: 0.129697\tvalid_1's multi_logloss: 0.159532\n"
          ],
          "name": "stdout"
        },
        {
          "output_type": "stream",
          "text": [
            "feature_fraction, val_score: 0.159160:  57%|#####7    | 4/7 [03:02<02:19, 46.48s/it]\u001b[32m[I 2020-10-09 08:07:36,400]\u001b[0m Trial 3 finished with value: 0.15926431402445285 and parameters: {'feature_fraction': 0.8999999999999999}. Best is trial 1 with value: 0.15915963441656988.\u001b[0m\n",
            "feature_fraction, val_score: 0.159160:  57%|#####7    | 4/7 [03:02<02:19, 46.48s/it]"
          ],
          "name": "stderr"
        },
        {
          "output_type": "stream",
          "text": [
            "Early stopping, best iteration is:\n",
            "[346]\ttraining's multi_logloss: 0.126377\tvalid_1's multi_logloss: 0.159264\n",
            "Training until validation scores don't improve for 10 rounds.\n",
            "[100]\ttraining's multi_logloss: 0.151586\tvalid_1's multi_logloss: 0.164353\n",
            "[200]\ttraining's multi_logloss: 0.138927\tvalid_1's multi_logloss: 0.160386\n",
            "[300]\ttraining's multi_logloss: 0.130618\tvalid_1's multi_logloss: 0.159228\n"
          ],
          "name": "stdout"
        },
        {
          "output_type": "stream",
          "text": [
            "\rfeature_fraction, val_score: 0.158875:  57%|#####7    | 4/7 [03:49<02:19, 46.48s/it]"
          ],
          "name": "stderr"
        },
        {
          "output_type": "stream",
          "text": [
            "Early stopping, best iteration is:\n",
            "[359]\ttraining's multi_logloss: 0.126501\tvalid_1's multi_logloss: 0.158875\n"
          ],
          "name": "stdout"
        },
        {
          "output_type": "stream",
          "text": [
            "feature_fraction, val_score: 0.158875:  71%|#######1  | 5/7 [03:49<01:33, 46.69s/it]\u001b[32m[I 2020-10-09 08:08:23,587]\u001b[0m Trial 4 finished with value: 0.1588747356898734 and parameters: {'feature_fraction': 0.7}. Best is trial 4 with value: 0.1588747356898734.\u001b[0m\n",
            "feature_fraction, val_score: 0.158875:  71%|#######1  | 5/7 [03:49<01:33, 46.69s/it]"
          ],
          "name": "stderr"
        },
        {
          "output_type": "stream",
          "text": [
            "Training until validation scores don't improve for 10 rounds.\n",
            "[100]\ttraining's multi_logloss: 0.152449\tvalid_1's multi_logloss: 0.164452\n",
            "[200]\ttraining's multi_logloss: 0.139542\tvalid_1's multi_logloss: 0.160285\n",
            "[300]\ttraining's multi_logloss: 0.131343\tvalid_1's multi_logloss: 0.159348\n"
          ],
          "name": "stdout"
        },
        {
          "output_type": "stream",
          "text": [
            "feature_fraction, val_score: 0.158875:  86%|########5 | 6/7 [04:30<00:44, 44.91s/it]\u001b[32m[I 2020-10-09 08:09:04,332]\u001b[0m Trial 5 finished with value: 0.1590574951091544 and parameters: {'feature_fraction': 0.6}. Best is trial 4 with value: 0.1588747356898734.\u001b[0m\n",
            "feature_fraction, val_score: 0.158875:  86%|########5 | 6/7 [04:30<00:44, 44.91s/it]"
          ],
          "name": "stderr"
        },
        {
          "output_type": "stream",
          "text": [
            "Early stopping, best iteration is:\n",
            "[335]\ttraining's multi_logloss: 0.128859\tvalid_1's multi_logloss: 0.159057\n",
            "Training until validation scores don't improve for 10 rounds.\n",
            "[100]\ttraining's multi_logloss: 0.156762\tvalid_1's multi_logloss: 0.167809\n",
            "[200]\ttraining's multi_logloss: 0.141257\tvalid_1's multi_logloss: 0.160545\n",
            "[300]\ttraining's multi_logloss: 0.133083\tvalid_1's multi_logloss: 0.159359\n",
            "[400]\ttraining's multi_logloss: 0.12644\tvalid_1's multi_logloss: 0.158752\n",
            "Early stopping, best iteration is:\n",
            "[406]\ttraining's multi_logloss: 0.126069\tvalid_1's multi_logloss: 0.158718\n"
          ],
          "name": "stdout"
        },
        {
          "output_type": "stream",
          "text": [
            "feature_fraction, val_score: 0.158718: 100%|##########| 7/7 [05:14<00:00, 44.64s/it]\u001b[32m[I 2020-10-09 08:09:48,340]\u001b[0m Trial 6 finished with value: 0.15871770282030861 and parameters: {'feature_fraction': 0.4}. Best is trial 6 with value: 0.15871770282030861.\u001b[0m\n",
            "feature_fraction, val_score: 0.158718: 100%|##########| 7/7 [05:14<00:00, 44.89s/it]\n",
            "num_leaves, val_score: 0.158718:   0%|          | 0/20 [00:00<?, ?it/s]"
          ],
          "name": "stderr"
        },
        {
          "output_type": "stream",
          "text": [
            "Training until validation scores don't improve for 10 rounds.\n",
            "[100]\ttraining's multi_logloss: 0.130037\tvalid_1's multi_logloss: 0.161865\n",
            "[200]\ttraining's multi_logloss: 0.105674\tvalid_1's multi_logloss: 0.158305\n",
            "Early stopping, best iteration is:\n",
            "[198]\ttraining's multi_logloss: 0.106063\tvalid_1's multi_logloss: 0.158278\n"
          ],
          "name": "stdout"
        },
        {
          "output_type": "stream",
          "text": [
            "num_leaves, val_score: 0.158278:   5%|5         | 1/20 [00:31<09:54, 31.29s/it]\u001b[32m[I 2020-10-09 08:10:19,640]\u001b[0m Trial 7 finished with value: 0.15827798783306576 and parameters: {'num_leaves': 121}. Best is trial 7 with value: 0.15827798783306576.\u001b[0m\n",
            "num_leaves, val_score: 0.158278:   5%|5         | 1/20 [00:31<09:54, 31.29s/it]"
          ],
          "name": "stderr"
        },
        {
          "output_type": "stream",
          "text": [
            "Training until validation scores don't improve for 10 rounds.\n",
            "[100]\ttraining's multi_logloss: 0.120332\tvalid_1's multi_logloss: 0.161474\n",
            "Early stopping, best iteration is:\n",
            "[185]\ttraining's multi_logloss: 0.0956357\tvalid_1's multi_logloss: 0.158607\n"
          ],
          "name": "stdout"
        },
        {
          "output_type": "stream",
          "text": [
            "num_leaves, val_score: 0.158278:  10%|#         | 2/20 [01:04<09:32, 31.79s/it]\u001b[32m[I 2020-10-09 08:10:52,591]\u001b[0m Trial 8 finished with value: 0.15860713275912713 and parameters: {'num_leaves': 169}. Best is trial 7 with value: 0.15827798783306576.\u001b[0m\n",
            "num_leaves, val_score: 0.158278:  10%|#         | 2/20 [01:04<09:32, 31.79s/it]"
          ],
          "name": "stderr"
        },
        {
          "output_type": "stream",
          "text": [
            "Training until validation scores don't improve for 10 rounds.\n",
            "[100]\ttraining's multi_logloss: 0.166384\tvalid_1's multi_logloss: 0.173649\n",
            "[200]\ttraining's multi_logloss: 0.151842\tvalid_1's multi_logloss: 0.164594\n"
          ],
          "name": "stdout"
        },
        {
          "output_type": "stream",
          "text": [
            "num_leaves, val_score: 0.158278:  15%|#5        | 3/20 [01:25<08:06, 28.63s/it]\u001b[32m[I 2020-10-09 08:11:13,841]\u001b[0m Trial 9 finished with value: 0.16371954254281748 and parameters: {'num_leaves': 17}. Best is trial 7 with value: 0.15827798783306576.\u001b[0m\n",
            "num_leaves, val_score: 0.158278:  15%|#5        | 3/20 [01:25<08:06, 28.63s/it]"
          ],
          "name": "stderr"
        },
        {
          "output_type": "stream",
          "text": [
            "Early stopping, best iteration is:\n",
            "[195]\ttraining's multi_logloss: 0.152097\tvalid_1's multi_logloss: 0.16372\n",
            "Training until validation scores don't improve for 10 rounds.\n",
            "[100]\ttraining's multi_logloss: 0.141858\tvalid_1's multi_logloss: 0.16375\n",
            "[200]\ttraining's multi_logloss: 0.121841\tvalid_1's multi_logloss: 0.159023\n",
            "Early stopping, best iteration is:\n",
            "[267]\ttraining's multi_logloss: 0.113196\tvalid_1's multi_logloss: 0.158647\n"
          ],
          "name": "stdout"
        },
        {
          "output_type": "stream",
          "text": [
            "num_leaves, val_score: 0.158278:  20%|##        | 4/20 [02:01<08:14, 30.93s/it]\u001b[32m[I 2020-10-09 08:11:50,137]\u001b[0m Trial 10 finished with value: 0.15864732650755026 and parameters: {'num_leaves': 73}. Best is trial 7 with value: 0.15827798783306576.\u001b[0m\n",
            "num_leaves, val_score: 0.158278:  20%|##        | 4/20 [02:01<08:14, 30.93s/it]"
          ],
          "name": "stderr"
        },
        {
          "output_type": "stream",
          "text": [
            "Training until validation scores don't improve for 10 rounds.\n",
            "[100]\ttraining's multi_logloss: 0.113348\tvalid_1's multi_logloss: 0.161069\n",
            "Early stopping, best iteration is:\n",
            "[159]\ttraining's multi_logloss: 0.0937651\tvalid_1's multi_logloss: 0.158679\n"
          ],
          "name": "stdout"
        },
        {
          "output_type": "stream",
          "text": [
            "num_leaves, val_score: 0.158278:  25%|##5       | 5/20 [02:33<07:45, 31.05s/it]\u001b[32m[I 2020-10-09 08:12:21,489]\u001b[0m Trial 11 finished with value: 0.15867928522155766 and parameters: {'num_leaves': 206}. Best is trial 7 with value: 0.15827798783306576.\u001b[0m\n",
            "num_leaves, val_score: 0.158278:  25%|##5       | 5/20 [02:33<07:45, 31.05s/it]"
          ],
          "name": "stderr"
        },
        {
          "output_type": "stream",
          "text": [
            "Training until validation scores don't improve for 10 rounds.\n",
            "[100]\ttraining's multi_logloss: 0.120332\tvalid_1's multi_logloss: 0.161474\n",
            "Early stopping, best iteration is:\n",
            "[185]\ttraining's multi_logloss: 0.0956357\tvalid_1's multi_logloss: 0.158607\n"
          ],
          "name": "stdout"
        },
        {
          "output_type": "stream",
          "text": [
            "num_leaves, val_score: 0.158278:  30%|###       | 6/20 [03:06<07:22, 31.64s/it]\u001b[32m[I 2020-10-09 08:12:54,481]\u001b[0m Trial 12 finished with value: 0.15860713275912713 and parameters: {'num_leaves': 169}. Best is trial 7 with value: 0.15827798783306576.\u001b[0m\n",
            "num_leaves, val_score: 0.158278:  30%|###       | 6/20 [03:06<07:22, 31.64s/it]"
          ],
          "name": "stderr"
        },
        {
          "output_type": "stream",
          "text": [
            "Training until validation scores don't improve for 10 rounds.\n",
            "[100]\ttraining's multi_logloss: 0.130439\tvalid_1's multi_logloss: 0.161949\n",
            "[200]\ttraining's multi_logloss: 0.106144\tvalid_1's multi_logloss: 0.15817\n",
            "Early stopping, best iteration is:\n",
            "[195]\ttraining's multi_logloss: 0.106949\tvalid_1's multi_logloss: 0.158142\n"
          ],
          "name": "stdout"
        },
        {
          "output_type": "stream",
          "text": [
            "num_leaves, val_score: 0.158142:  35%|###5      | 7/20 [03:37<06:50, 31.57s/it]\u001b[32m[I 2020-10-09 08:13:25,904]\u001b[0m Trial 13 finished with value: 0.158141968096901 and parameters: {'num_leaves': 119}. Best is trial 13 with value: 0.158141968096901.\u001b[0m\n",
            "num_leaves, val_score: 0.158142:  35%|###5      | 7/20 [03:37<06:50, 31.57s/it]"
          ],
          "name": "stderr"
        },
        {
          "output_type": "stream",
          "text": [
            "Training until validation scores don't improve for 10 rounds.\n",
            "[100]\ttraining's multi_logloss: 0.13318\tvalid_1's multi_logloss: 0.162519\n",
            "[200]\ttraining's multi_logloss: 0.109872\tvalid_1's multi_logloss: 0.158645\n",
            "Early stopping, best iteration is:\n",
            "[209]\ttraining's multi_logloss: 0.108356\tvalid_1's multi_logloss: 0.158582\n"
          ],
          "name": "stdout"
        },
        {
          "output_type": "stream",
          "text": [
            "num_leaves, val_score: 0.158142:  40%|####      | 8/20 [04:09<06:21, 31.78s/it]\u001b[32m[I 2020-10-09 08:13:58,178]\u001b[0m Trial 14 finished with value: 0.15858150276862218 and parameters: {'num_leaves': 107}. Best is trial 13 with value: 0.158141968096901.\u001b[0m\n",
            "num_leaves, val_score: 0.158142:  40%|####      | 8/20 [04:09<06:21, 31.78s/it]"
          ],
          "name": "stderr"
        },
        {
          "output_type": "stream",
          "text": [
            "Training until validation scores don't improve for 10 rounds.\n",
            "[100]\ttraining's multi_logloss: 0.140916\tvalid_1's multi_logloss: 0.163599\n",
            "[200]\ttraining's multi_logloss: 0.120449\tvalid_1's multi_logloss: 0.158839\n",
            "Early stopping, best iteration is:\n",
            "[225]\ttraining's multi_logloss: 0.117083\tvalid_1's multi_logloss: 0.158724\n"
          ],
          "name": "stdout"
        },
        {
          "output_type": "stream",
          "text": [
            "num_leaves, val_score: 0.158142:  45%|####5     | 9/20 [04:41<05:48, 31.71s/it]\u001b[32m[I 2020-10-09 08:14:29,735]\u001b[0m Trial 15 finished with value: 0.15872371185259504 and parameters: {'num_leaves': 76}. Best is trial 13 with value: 0.158141968096901.\u001b[0m\n",
            "num_leaves, val_score: 0.158142:  45%|####5     | 9/20 [04:41<05:48, 31.71s/it]"
          ],
          "name": "stderr"
        },
        {
          "output_type": "stream",
          "text": [
            "Training until validation scores don't improve for 10 rounds.\n",
            "[100]\ttraining's multi_logloss: 0.127619\tvalid_1's multi_logloss: 0.161906\n",
            "[200]\ttraining's multi_logloss: 0.102374\tvalid_1's multi_logloss: 0.15838\n",
            "Early stopping, best iteration is:\n",
            "[200]\ttraining's multi_logloss: 0.102374\tvalid_1's multi_logloss: 0.15838\n"
          ],
          "name": "stdout"
        },
        {
          "output_type": "stream",
          "text": [
            "num_leaves, val_score: 0.158142:  50%|#####     | 10/20 [05:14<05:20, 32.01s/it]\u001b[32m[I 2020-10-09 08:15:02,443]\u001b[0m Trial 16 finished with value: 0.15838010193911947 and parameters: {'num_leaves': 132}. Best is trial 13 with value: 0.158141968096901.\u001b[0m\n",
            "num_leaves, val_score: 0.158142:  50%|#####     | 10/20 [05:14<05:20, 32.01s/it]"
          ],
          "name": "stderr"
        },
        {
          "output_type": "stream",
          "text": [
            "Training until validation scores don't improve for 10 rounds.\n",
            "[100]\ttraining's multi_logloss: 0.153701\tvalid_1's multi_logloss: 0.16653\n",
            "[200]\ttraining's multi_logloss: 0.137463\tvalid_1's multi_logloss: 0.160136\n",
            "[300]\ttraining's multi_logloss: 0.128285\tvalid_1's multi_logloss: 0.159202\n",
            "Early stopping, best iteration is:\n",
            "[332]\ttraining's multi_logloss: 0.125731\tvalid_1's multi_logloss: 0.159032\n"
          ],
          "name": "stdout"
        },
        {
          "output_type": "stream",
          "text": [
            "num_leaves, val_score: 0.158142:  55%|#####5    | 11/20 [05:52<05:05, 33.93s/it]\u001b[32m[I 2020-10-09 08:15:40,847]\u001b[0m Trial 17 finished with value: 0.15903173090611714 and parameters: {'num_leaves': 38}. Best is trial 13 with value: 0.158141968096901.\u001b[0m\n",
            "num_leaves, val_score: 0.158142:  55%|#####5    | 11/20 [05:52<05:05, 33.93s/it]"
          ],
          "name": "stderr"
        },
        {
          "output_type": "stream",
          "text": [
            "Training until validation scores don't improve for 10 rounds.\n",
            "[100]\ttraining's multi_logloss: 0.128526\tvalid_1's multi_logloss: 0.161981\n",
            "[200]\ttraining's multi_logloss: 0.103772\tvalid_1's multi_logloss: 0.158297\n",
            "Early stopping, best iteration is:\n",
            "[202]\ttraining's multi_logloss: 0.103417\tvalid_1's multi_logloss: 0.158296\n"
          ],
          "name": "stdout"
        },
        {
          "output_type": "stream",
          "text": [
            "num_leaves, val_score: 0.158142:  60%|######    | 12/20 [06:25<04:28, 33.58s/it]\u001b[32m[I 2020-10-09 08:16:13,620]\u001b[0m Trial 18 finished with value: 0.15829640629835348 and parameters: {'num_leaves': 128}. Best is trial 13 with value: 0.158141968096901.\u001b[0m\n",
            "num_leaves, val_score: 0.158142:  60%|######    | 12/20 [06:25<04:28, 33.58s/it]"
          ],
          "name": "stderr"
        },
        {
          "output_type": "stream",
          "text": [
            "Training until validation scores don't improve for 10 rounds.\n",
            "[100]\ttraining's multi_logloss: 0.105475\tvalid_1's multi_logloss: 0.161121\n",
            "Early stopping, best iteration is:\n",
            "[154]\ttraining's multi_logloss: 0.0862036\tvalid_1's multi_logloss: 0.159035\n"
          ],
          "name": "stdout"
        },
        {
          "output_type": "stream",
          "text": [
            "num_leaves, val_score: 0.158142:  65%|######5   | 13/20 [07:05<04:08, 35.50s/it]\u001b[32m[I 2020-10-09 08:16:53,603]\u001b[0m Trial 19 finished with value: 0.159034608183395 and parameters: {'num_leaves': 256}. Best is trial 13 with value: 0.158141968096901.\u001b[0m\n",
            "num_leaves, val_score: 0.158142:  65%|######5   | 13/20 [07:05<04:08, 35.50s/it]"
          ],
          "name": "stderr"
        },
        {
          "output_type": "stream",
          "text": [
            "Training until validation scores don't improve for 10 rounds.\n",
            "[100]\ttraining's multi_logloss: 0.119413\tvalid_1's multi_logloss: 0.161594\n",
            "Early stopping, best iteration is:\n",
            "[174]\ttraining's multi_logloss: 0.0970844\tvalid_1's multi_logloss: 0.158827\n"
          ],
          "name": "stdout"
        },
        {
          "output_type": "stream",
          "text": [
            "num_leaves, val_score: 0.158142:  70%|#######   | 14/20 [07:37<03:26, 34.47s/it]\u001b[32m[I 2020-10-09 08:17:25,675]\u001b[0m Trial 20 finished with value: 0.15882741141414938 and parameters: {'num_leaves': 173}. Best is trial 13 with value: 0.158141968096901.\u001b[0m\n",
            "num_leaves, val_score: 0.158142:  70%|#######   | 14/20 [07:37<03:26, 34.47s/it]"
          ],
          "name": "stderr"
        },
        {
          "output_type": "stream",
          "text": [
            "Training until validation scores don't improve for 10 rounds.\n",
            "[100]\ttraining's multi_logloss: 0.131599\tvalid_1's multi_logloss: 0.162316\n",
            "[200]\ttraining's multi_logloss: 0.107872\tvalid_1's multi_logloss: 0.158418\n",
            "Early stopping, best iteration is:\n",
            "[200]\ttraining's multi_logloss: 0.107872\tvalid_1's multi_logloss: 0.158418\n"
          ],
          "name": "stdout"
        },
        {
          "output_type": "stream",
          "text": [
            "num_leaves, val_score: 0.158142:  75%|#######5  | 15/20 [08:08<02:47, 33.60s/it]\u001b[32m[I 2020-10-09 08:17:57,221]\u001b[0m Trial 21 finished with value: 0.1584182088677145 and parameters: {'num_leaves': 113}. Best is trial 13 with value: 0.158141968096901.\u001b[0m\n",
            "num_leaves, val_score: 0.158142:  75%|#######5  | 15/20 [08:08<02:47, 33.60s/it]"
          ],
          "name": "stderr"
        },
        {
          "output_type": "stream",
          "text": [
            "Training until validation scores don't improve for 10 rounds.\n",
            "[100]\ttraining's multi_logloss: 0.126708\tvalid_1's multi_logloss: 0.162025\n",
            "[200]\ttraining's multi_logloss: 0.101048\tvalid_1's multi_logloss: 0.158357\n",
            "Early stopping, best iteration is:\n",
            "[200]\ttraining's multi_logloss: 0.101048\tvalid_1's multi_logloss: 0.158357\n"
          ],
          "name": "stdout"
        },
        {
          "output_type": "stream",
          "text": [
            "num_leaves, val_score: 0.158142:  80%|########  | 16/20 [08:42<02:13, 33.49s/it]\u001b[32m[I 2020-10-09 08:18:30,470]\u001b[0m Trial 22 finished with value: 0.15835706770398303 and parameters: {'num_leaves': 136}. Best is trial 13 with value: 0.158141968096901.\u001b[0m\n",
            "num_leaves, val_score: 0.158142:  80%|########  | 16/20 [08:42<02:13, 33.49s/it]"
          ],
          "name": "stderr"
        },
        {
          "output_type": "stream",
          "text": [
            "Training until validation scores don't improve for 10 rounds.\n",
            "[100]\ttraining's multi_logloss: 0.139112\tvalid_1's multi_logloss: 0.163471\n",
            "[200]\ttraining's multi_logloss: 0.118074\tvalid_1's multi_logloss: 0.159043\n",
            "Early stopping, best iteration is:\n",
            "[241]\ttraining's multi_logloss: 0.112218\tvalid_1's multi_logloss: 0.158853\n"
          ],
          "name": "stdout"
        },
        {
          "output_type": "stream",
          "text": [
            "num_leaves, val_score: 0.158142:  85%|########5 | 17/20 [09:16<01:41, 33.77s/it]\u001b[32m[I 2020-10-09 08:19:04,893]\u001b[0m Trial 23 finished with value: 0.15885333739324664 and parameters: {'num_leaves': 83}. Best is trial 13 with value: 0.158141968096901.\u001b[0m\n",
            "num_leaves, val_score: 0.158142:  85%|########5 | 17/20 [09:16<01:41, 33.77s/it]"
          ],
          "name": "stderr"
        },
        {
          "output_type": "stream",
          "text": [
            "Training until validation scores don't improve for 10 rounds.\n",
            "[100]\ttraining's multi_logloss: 0.126309\tvalid_1's multi_logloss: 0.161659\n",
            "[200]\ttraining's multi_logloss: 0.100574\tvalid_1's multi_logloss: 0.158268\n",
            "Early stopping, best iteration is:\n",
            "[194]\ttraining's multi_logloss: 0.101732\tvalid_1's multi_logloss: 0.158267\n"
          ],
          "name": "stdout"
        },
        {
          "output_type": "stream",
          "text": [
            "num_leaves, val_score: 0.158142:  90%|######### | 18/20 [09:49<01:06, 33.45s/it]\u001b[32m[I 2020-10-09 08:19:37,588]\u001b[0m Trial 24 finished with value: 0.15826733655923175 and parameters: {'num_leaves': 138}. Best is trial 13 with value: 0.158141968096901.\u001b[0m\n",
            "num_leaves, val_score: 0.158142:  90%|######### | 18/20 [09:49<01:06, 33.45s/it]"
          ],
          "name": "stderr"
        },
        {
          "output_type": "stream",
          "text": [
            "Training until validation scores don't improve for 10 rounds.\n",
            "[100]\ttraining's multi_logloss: 0.12463\tvalid_1's multi_logloss: 0.161911\n",
            "Early stopping, best iteration is:\n",
            "[160]\ttraining's multi_logloss: 0.106963\tvalid_1's multi_logloss: 0.158864\n"
          ],
          "name": "stdout"
        },
        {
          "output_type": "stream",
          "text": [
            "num_leaves, val_score: 0.158142:  95%|#########5| 19/20 [10:17<00:31, 31.94s/it]\u001b[32m[I 2020-10-09 08:20:05,993]\u001b[0m Trial 25 finished with value: 0.15886356750557545 and parameters: {'num_leaves': 146}. Best is trial 13 with value: 0.158141968096901.\u001b[0m\n",
            "num_leaves, val_score: 0.158142:  95%|#########5| 19/20 [10:17<00:31, 31.94s/it]"
          ],
          "name": "stderr"
        },
        {
          "output_type": "stream",
          "text": [
            "Training until validation scores don't improve for 10 rounds.\n",
            "[100]\ttraining's multi_logloss: 0.113549\tvalid_1's multi_logloss: 0.161016\n",
            "Early stopping, best iteration is:\n",
            "[173]\ttraining's multi_logloss: 0.0904945\tvalid_1's multi_logloss: 0.158279\n"
          ],
          "name": "stdout"
        },
        {
          "output_type": "stream",
          "text": [
            "num_leaves, val_score: 0.158142: 100%|##########| 20/20 [10:51<00:00, 32.47s/it]\u001b[32m[I 2020-10-09 08:20:39,699]\u001b[0m Trial 26 finished with value: 0.1582788670122336 and parameters: {'num_leaves': 205}. Best is trial 13 with value: 0.158141968096901.\u001b[0m\n",
            "num_leaves, val_score: 0.158142: 100%|##########| 20/20 [10:51<00:00, 32.57s/it]\n",
            "bagging, val_score: 0.158142:   0%|          | 0/10 [00:00<?, ?it/s]"
          ],
          "name": "stderr"
        },
        {
          "output_type": "stream",
          "text": [
            "Training until validation scores don't improve for 10 rounds.\n",
            "[100]\ttraining's multi_logloss: 0.132101\tvalid_1's multi_logloss: 0.163018\n",
            "[200]\ttraining's multi_logloss: 0.106378\tvalid_1's multi_logloss: 0.159647\n",
            "Early stopping, best iteration is:\n",
            "[196]\ttraining's multi_logloss: 0.107181\tvalid_1's multi_logloss: 0.159581\n"
          ],
          "name": "stdout"
        },
        {
          "output_type": "stream",
          "text": [
            "bagging, val_score: 0.158142:  10%|#         | 1/10 [00:35<05:15, 35.01s/it]\u001b[32m[I 2020-10-09 08:21:14,728]\u001b[0m Trial 27 finished with value: 0.15958067326501577 and parameters: {'bagging_fraction': 0.52643611680558, 'bagging_freq': 6}. Best is trial 27 with value: 0.15958067326501577.\u001b[0m\n",
            "bagging, val_score: 0.158142:  10%|#         | 1/10 [00:35<05:15, 35.01s/it]"
          ],
          "name": "stderr"
        },
        {
          "output_type": "stream",
          "text": [
            "Training until validation scores don't improve for 10 rounds.\n",
            "[100]\ttraining's multi_logloss: 0.130645\tvalid_1's multi_logloss: 0.162136\n",
            "[200]\ttraining's multi_logloss: 0.105471\tvalid_1's multi_logloss: 0.158344\n",
            "Early stopping, best iteration is:\n",
            "[208]\ttraining's multi_logloss: 0.10397\tvalid_1's multi_logloss: 0.158304\n"
          ],
          "name": "stdout"
        },
        {
          "output_type": "stream",
          "text": [
            "bagging, val_score: 0.158142:  20%|##        | 2/10 [01:10<04:40, 35.04s/it]\u001b[32m[I 2020-10-09 08:21:49,819]\u001b[0m Trial 28 finished with value: 0.15830417782382325 and parameters: {'bagging_fraction': 0.9031734842488877, 'bagging_freq': 1}. Best is trial 28 with value: 0.15830417782382325.\u001b[0m\n",
            "bagging, val_score: 0.158142:  20%|##        | 2/10 [01:10<04:40, 35.04s/it]"
          ],
          "name": "stderr"
        },
        {
          "output_type": "stream",
          "text": [
            "Training until validation scores don't improve for 10 rounds.\n",
            "[100]\ttraining's multi_logloss: 0.130405\tvalid_1's multi_logloss: 0.162113\n",
            "[200]\ttraining's multi_logloss: 0.105902\tvalid_1's multi_logloss: 0.158209\n",
            "Early stopping, best iteration is:\n",
            "[197]\ttraining's multi_logloss: 0.106396\tvalid_1's multi_logloss: 0.15818\n"
          ],
          "name": "stdout"
        },
        {
          "output_type": "stream",
          "text": [
            "bagging, val_score: 0.158142:  30%|###       | 3/10 [01:43<04:01, 34.48s/it]\u001b[32m[I 2020-10-09 08:22:22,990]\u001b[0m Trial 29 finished with value: 0.15818025805575808 and parameters: {'bagging_fraction': 0.9894130001651597, 'bagging_freq': 1}. Best is trial 29 with value: 0.15818025805575808.\u001b[0m\n",
            "bagging, val_score: 0.158142:  30%|###       | 3/10 [01:43<04:01, 34.48s/it]"
          ],
          "name": "stderr"
        },
        {
          "output_type": "stream",
          "text": [
            "Training until validation scores don't improve for 10 rounds.\n",
            "[100]\ttraining's multi_logloss: 0.130305\tvalid_1's multi_logloss: 0.16237\n",
            "[200]\ttraining's multi_logloss: 0.105969\tvalid_1's multi_logloss: 0.158735\n",
            "Early stopping, best iteration is:\n",
            "[207]\ttraining's multi_logloss: 0.104699\tvalid_1's multi_logloss: 0.158732\n"
          ],
          "name": "stdout"
        },
        {
          "output_type": "stream",
          "text": [
            "bagging, val_score: 0.158142:  40%|####      | 4/10 [02:17<03:26, 34.41s/it]\u001b[32m[I 2020-10-09 08:22:57,251]\u001b[0m Trial 30 finished with value: 0.1587322299575238 and parameters: {'bagging_fraction': 0.9972750882705312, 'bagging_freq': 1}. Best is trial 29 with value: 0.15818025805575808.\u001b[0m\n",
            "bagging, val_score: 0.158142:  40%|####      | 4/10 [02:17<03:26, 34.41s/it]"
          ],
          "name": "stderr"
        },
        {
          "output_type": "stream",
          "text": [
            "Training until validation scores don't improve for 10 rounds.\n",
            "[100]\ttraining's multi_logloss: 0.130894\tvalid_1's multi_logloss: 0.162452\n",
            "[200]\ttraining's multi_logloss: 0.105381\tvalid_1's multi_logloss: 0.158627\n",
            "Early stopping, best iteration is:\n",
            "[191]\ttraining's multi_logloss: 0.107142\tvalid_1's multi_logloss: 0.158595\n"
          ],
          "name": "stdout"
        },
        {
          "output_type": "stream",
          "text": [
            "bagging, val_score: 0.158142:  50%|#####     | 5/10 [02:56<02:58, 35.63s/it]\u001b[32m[I 2020-10-09 08:23:35,728]\u001b[0m Trial 31 finished with value: 0.15859521595314538 and parameters: {'bagging_fraction': 0.7742633271552806, 'bagging_freq': 3}. Best is trial 29 with value: 0.15818025805575808.\u001b[0m\n",
            "bagging, val_score: 0.158142:  50%|#####     | 5/10 [02:56<02:58, 35.63s/it]"
          ],
          "name": "stderr"
        },
        {
          "output_type": "stream",
          "text": [
            "Training until validation scores don't improve for 10 rounds.\n",
            "[100]\ttraining's multi_logloss: 0.132828\tvalid_1's multi_logloss: 0.163238\n",
            "Early stopping, best iteration is:\n",
            "[178]\ttraining's multi_logloss: 0.111253\tvalid_1's multi_logloss: 0.160163\n"
          ],
          "name": "stdout"
        },
        {
          "output_type": "stream",
          "text": [
            "bagging, val_score: 0.158142:  60%|######    | 6/10 [03:27<02:17, 34.43s/it]\u001b[32m[I 2020-10-09 08:24:07,337]\u001b[0m Trial 32 finished with value: 0.16016310151877391 and parameters: {'bagging_fraction': 0.4238130585636909, 'bagging_freq': 4}. Best is trial 29 with value: 0.15818025805575808.\u001b[0m\n",
            "bagging, val_score: 0.158142:  60%|######    | 6/10 [03:27<02:17, 34.43s/it]"
          ],
          "name": "stderr"
        },
        {
          "output_type": "stream",
          "text": [
            "Training until validation scores don't improve for 10 rounds.\n",
            "[100]\ttraining's multi_logloss: 0.131176\tvalid_1's multi_logloss: 0.162742\n",
            "[200]\ttraining's multi_logloss: 0.105263\tvalid_1's multi_logloss: 0.159274\n",
            "Early stopping, best iteration is:\n",
            "[195]\ttraining's multi_logloss: 0.106233\tvalid_1's multi_logloss: 0.159214\n"
          ],
          "name": "stdout"
        },
        {
          "output_type": "stream",
          "text": [
            "bagging, val_score: 0.158142:  70%|#######   | 7/10 [04:05<01:46, 35.37s/it]\u001b[32m[I 2020-10-09 08:24:44,926]\u001b[0m Trial 33 finished with value: 0.1592143589140377 and parameters: {'bagging_fraction': 0.6726566231981269, 'bagging_freq': 3}. Best is trial 29 with value: 0.15818025805575808.\u001b[0m\n",
            "bagging, val_score: 0.158142:  70%|#######   | 7/10 [04:05<01:46, 35.37s/it]"
          ],
          "name": "stderr"
        },
        {
          "output_type": "stream",
          "text": [
            "Training until validation scores don't improve for 10 rounds.\n",
            "[100]\ttraining's multi_logloss: 0.130257\tvalid_1's multi_logloss: 0.162441\n",
            "Early stopping, best iteration is:\n",
            "[186]\ttraining's multi_logloss: 0.108188\tvalid_1's multi_logloss: 0.158493\n"
          ],
          "name": "stdout"
        },
        {
          "output_type": "stream",
          "text": [
            "bagging, val_score: 0.158142:  80%|########  | 8/10 [04:44<01:12, 36.48s/it]\u001b[32m[I 2020-10-09 08:25:24,003]\u001b[0m Trial 34 finished with value: 0.15849344545423105 and parameters: {'bagging_fraction': 0.9843674044845212, 'bagging_freq': 7}. Best is trial 29 with value: 0.15818025805575808.\u001b[0m\n",
            "bagging, val_score: 0.158142:  80%|########  | 8/10 [04:44<01:12, 36.48s/it]"
          ],
          "name": "stderr"
        },
        {
          "output_type": "stream",
          "text": [
            "Training until validation scores don't improve for 10 rounds.\n",
            "[100]\ttraining's multi_logloss: 0.130814\tvalid_1's multi_logloss: 0.162149\n",
            "Early stopping, best iteration is:\n",
            "[183]\ttraining's multi_logloss: 0.10857\tvalid_1's multi_logloss: 0.158469\n"
          ],
          "name": "stdout"
        },
        {
          "output_type": "stream",
          "text": [
            "bagging, val_score: 0.158142:  90%|######### | 9/10 [05:15<00:34, 34.87s/it]\u001b[32m[I 2020-10-09 08:25:55,088]\u001b[0m Trial 35 finished with value: 0.15846927782779008 and parameters: {'bagging_fraction': 0.8129574509532146, 'bagging_freq': 1}. Best is trial 29 with value: 0.15818025805575808.\u001b[0m\n",
            "bagging, val_score: 0.158142:  90%|######### | 9/10 [05:15<00:34, 34.87s/it]"
          ],
          "name": "stderr"
        },
        {
          "output_type": "stream",
          "text": [
            "Training until validation scores don't improve for 10 rounds.\n",
            "[100]\ttraining's multi_logloss: 0.131251\tvalid_1's multi_logloss: 0.162726\n",
            "Early stopping, best iteration is:\n",
            "[185]\ttraining's multi_logloss: 0.108245\tvalid_1's multi_logloss: 0.158845\n"
          ],
          "name": "stdout"
        },
        {
          "output_type": "stream",
          "text": [
            "bagging, val_score: 0.158142: 100%|##########| 10/10 [05:50<00:00, 35.03s/it]\u001b[32m[I 2020-10-09 08:26:30,485]\u001b[0m Trial 36 finished with value: 0.15884526603505497 and parameters: {'bagging_fraction': 0.6638171520401132, 'bagging_freq': 4}. Best is trial 29 with value: 0.15818025805575808.\u001b[0m\n",
            "bagging, val_score: 0.158142: 100%|##########| 10/10 [05:50<00:00, 35.08s/it]\n",
            "feature_fraction_stage2, val_score: 0.158142:   0%|          | 0/3 [00:00<?, ?it/s]"
          ],
          "name": "stderr"
        },
        {
          "output_type": "stream",
          "text": [
            "Training until validation scores don't improve for 10 rounds.\n",
            "[100]\ttraining's multi_logloss: 0.130439\tvalid_1's multi_logloss: 0.161949\n",
            "[200]\ttraining's multi_logloss: 0.106144\tvalid_1's multi_logloss: 0.15817\n",
            "Early stopping, best iteration is:\n",
            "[195]\ttraining's multi_logloss: 0.106949\tvalid_1's multi_logloss: 0.158142\n"
          ],
          "name": "stdout"
        },
        {
          "output_type": "stream",
          "text": [
            "feature_fraction_stage2, val_score: 0.158142:  33%|###3      | 1/3 [00:37<01:14, 37.46s/it]\u001b[32m[I 2020-10-09 08:27:07,963]\u001b[0m Trial 37 finished with value: 0.158141968096901 and parameters: {'feature_fraction': 0.41600000000000004}. Best is trial 37 with value: 0.158141968096901.\u001b[0m\n",
            "feature_fraction_stage2, val_score: 0.158142:  33%|###3      | 1/3 [00:37<01:14, 37.46s/it]"
          ],
          "name": "stderr"
        },
        {
          "output_type": "stream",
          "text": [
            "Training until validation scores don't improve for 10 rounds.\n",
            "[100]\ttraining's multi_logloss: 0.12873\tvalid_1's multi_logloss: 0.161168\n",
            "[200]\ttraining's multi_logloss: 0.105484\tvalid_1's multi_logloss: 0.158384\n",
            "Early stopping, best iteration is:\n",
            "[191]\ttraining's multi_logloss: 0.107039\tvalid_1's multi_logloss: 0.158371\n"
          ],
          "name": "stdout"
        },
        {
          "output_type": "stream",
          "text": [
            "feature_fraction_stage2, val_score: 0.158142:  67%|######6   | 2/3 [01:08<00:35, 35.63s/it]\u001b[32m[I 2020-10-09 08:27:39,319]\u001b[0m Trial 38 finished with value: 0.15837079134679016 and parameters: {'feature_fraction': 0.44800000000000006}. Best is trial 37 with value: 0.158141968096901.\u001b[0m\n",
            "feature_fraction_stage2, val_score: 0.158142:  67%|######6   | 2/3 [01:08<00:35, 35.63s/it]"
          ],
          "name": "stderr"
        },
        {
          "output_type": "stream",
          "text": [
            "Training until validation scores don't improve for 10 rounds.\n",
            "[100]\ttraining's multi_logloss: 0.127827\tvalid_1's multi_logloss: 0.160985\n",
            "Early stopping, best iteration is:\n",
            "[159]\ttraining's multi_logloss: 0.112415\tvalid_1's multi_logloss: 0.1586\n"
          ],
          "name": "stdout"
        },
        {
          "output_type": "stream",
          "text": [
            "feature_fraction_stage2, val_score: 0.158142: 100%|##########| 3/3 [01:36<00:00, 33.26s/it]\u001b[32m[I 2020-10-09 08:28:07,062]\u001b[0m Trial 39 finished with value: 0.15860046301853503 and parameters: {'feature_fraction': 0.48000000000000004}. Best is trial 37 with value: 0.158141968096901.\u001b[0m\n",
            "feature_fraction_stage2, val_score: 0.158142: 100%|##########| 3/3 [01:36<00:00, 32.19s/it]\n",
            "regularization_factors, val_score: 0.158142:   0%|          | 0/20 [00:00<?, ?it/s]"
          ],
          "name": "stderr"
        },
        {
          "output_type": "stream",
          "text": [
            "Training until validation scores don't improve for 10 rounds.\n",
            "[100]\ttraining's multi_logloss: 0.130423\tvalid_1's multi_logloss: 0.16219\n",
            "[200]\ttraining's multi_logloss: 0.106186\tvalid_1's multi_logloss: 0.158585\n",
            "Early stopping, best iteration is:\n",
            "[190]\ttraining's multi_logloss: 0.107894\tvalid_1's multi_logloss: 0.158547\n"
          ],
          "name": "stdout"
        },
        {
          "output_type": "stream",
          "text": [
            "regularization_factors, val_score: 0.158142:   5%|5         | 1/20 [00:30<09:44, 30.75s/it]\u001b[32m[I 2020-10-09 08:28:37,824]\u001b[0m Trial 40 finished with value: 0.15854673805197536 and parameters: {'lambda_l1': 0.013616282965219809, 'lambda_l2': 2.0568953111463953e-07}. Best is trial 40 with value: 0.15854673805197536.\u001b[0m\n",
            "regularization_factors, val_score: 0.158142:   5%|5         | 1/20 [00:30<09:44, 30.75s/it]"
          ],
          "name": "stderr"
        },
        {
          "output_type": "stream",
          "text": [
            "Training until validation scores don't improve for 10 rounds.\n",
            "[100]\ttraining's multi_logloss: 0.135759\tvalid_1's multi_logloss: 0.16251\n",
            "[200]\ttraining's multi_logloss: 0.114737\tvalid_1's multi_logloss: 0.158161\n",
            "Early stopping, best iteration is:\n",
            "[256]\ttraining's multi_logloss: 0.10712\tvalid_1's multi_logloss: 0.157949\n"
          ],
          "name": "stdout"
        },
        {
          "output_type": "stream",
          "text": [
            "regularization_factors, val_score: 0.157949:  10%|#         | 2/20 [01:12<10:15, 34.20s/it]\u001b[32m[I 2020-10-09 08:29:20,054]\u001b[0m Trial 41 finished with value: 0.15794940940398738 and parameters: {'lambda_l1': 1.727667362174989e-08, 'lambda_l2': 6.232406926967285}. Best is trial 41 with value: 0.15794940940398738.\u001b[0m\n",
            "regularization_factors, val_score: 0.157949:  10%|#         | 2/20 [01:12<10:15, 34.20s/it]"
          ],
          "name": "stderr"
        },
        {
          "output_type": "stream",
          "text": [
            "Training until validation scores don't improve for 10 rounds.\n",
            "[100]\ttraining's multi_logloss: 0.136266\tvalid_1's multi_logloss: 0.162311\n",
            "[200]\ttraining's multi_logloss: 0.115561\tvalid_1's multi_logloss: 0.157963\n",
            "Early stopping, best iteration is:\n",
            "[239]\ttraining's multi_logloss: 0.110055\tvalid_1's multi_logloss: 0.157746\n"
          ],
          "name": "stdout"
        },
        {
          "output_type": "stream",
          "text": [
            "regularization_factors, val_score: 0.157746:  15%|#5        | 3/20 [01:52<10:08, 35.81s/it]\u001b[32m[I 2020-10-09 08:29:59,620]\u001b[0m Trial 42 finished with value: 0.1577462159288306 and parameters: {'lambda_l1': 1.6189202148025895e-08, 'lambda_l2': 7.410688264307839}. Best is trial 42 with value: 0.1577462159288306.\u001b[0m\n",
            "regularization_factors, val_score: 0.157746:  15%|#5        | 3/20 [01:52<10:08, 35.81s/it]"
          ],
          "name": "stderr"
        },
        {
          "output_type": "stream",
          "text": [
            "Training until validation scores don't improve for 10 rounds.\n",
            "[100]\ttraining's multi_logloss: 0.135242\tvalid_1's multi_logloss: 0.162313\n",
            "[200]\ttraining's multi_logloss: 0.11381\tvalid_1's multi_logloss: 0.158189\n",
            "Early stopping, best iteration is:\n",
            "[206]\ttraining's multi_logloss: 0.112934\tvalid_1's multi_logloss: 0.158144\n"
          ],
          "name": "stdout"
        },
        {
          "output_type": "stream",
          "text": [
            "regularization_factors, val_score: 0.157746:  20%|##        | 4/20 [02:27<09:26, 35.40s/it]\u001b[32m[I 2020-10-09 08:30:34,075]\u001b[0m Trial 43 finished with value: 0.1581435905258908 and parameters: {'lambda_l1': 2.8718842843752094e-08, 'lambda_l2': 5.133926686379626}. Best is trial 42 with value: 0.1577462159288306.\u001b[0m\n",
            "regularization_factors, val_score: 0.157746:  20%|##        | 4/20 [02:27<09:26, 35.40s/it]"
          ],
          "name": "stderr"
        },
        {
          "output_type": "stream",
          "text": [
            "Training until validation scores don't improve for 10 rounds.\n",
            "[100]\ttraining's multi_logloss: 0.137084\tvalid_1's multi_logloss: 0.162645\n",
            "[200]\ttraining's multi_logloss: 0.116978\tvalid_1's multi_logloss: 0.158095\n",
            "Early stopping, best iteration is:\n",
            "[227]\ttraining's multi_logloss: 0.113096\tvalid_1's multi_logloss: 0.157923\n"
          ],
          "name": "stdout"
        },
        {
          "output_type": "stream",
          "text": [
            "regularization_factors, val_score: 0.157746:  25%|##5       | 5/20 [03:05<09:03, 36.21s/it]\u001b[32m[I 2020-10-09 08:31:12,175]\u001b[0m Trial 44 finished with value: 0.15792337284638505 and parameters: {'lambda_l1': 1.795460098723978e-08, 'lambda_l2': 9.745112985237425}. Best is trial 42 with value: 0.1577462159288306.\u001b[0m\n",
            "regularization_factors, val_score: 0.157746:  25%|##5       | 5/20 [03:05<09:03, 36.21s/it]"
          ],
          "name": "stderr"
        },
        {
          "output_type": "stream",
          "text": [
            "Training until validation scores don't improve for 10 rounds.\n",
            "[100]\ttraining's multi_logloss: 0.13624\tvalid_1's multi_logloss: 0.162496\n",
            "[200]\ttraining's multi_logloss: 0.115276\tvalid_1's multi_logloss: 0.157973\n",
            "Early stopping, best iteration is:\n",
            "[226]\ttraining's multi_logloss: 0.111865\tvalid_1's multi_logloss: 0.15788\n"
          ],
          "name": "stdout"
        },
        {
          "output_type": "stream",
          "text": [
            "regularization_factors, val_score: 0.157746:  30%|###       | 6/20 [03:42<08:32, 36.60s/it]\u001b[32m[I 2020-10-09 08:31:49,702]\u001b[0m Trial 45 finished with value: 0.15787957373371314 and parameters: {'lambda_l1': 1.0431099287542479e-08, 'lambda_l2': 7.423495810946611}. Best is trial 42 with value: 0.1577462159288306.\u001b[0m\n",
            "regularization_factors, val_score: 0.157746:  30%|###       | 6/20 [03:42<08:32, 36.60s/it]"
          ],
          "name": "stderr"
        },
        {
          "output_type": "stream",
          "text": [
            "Training until validation scores don't improve for 10 rounds.\n",
            "[100]\ttraining's multi_logloss: 0.136974\tvalid_1's multi_logloss: 0.162608\n",
            "[200]\ttraining's multi_logloss: 0.116661\tvalid_1's multi_logloss: 0.158113\n",
            "Early stopping, best iteration is:\n",
            "[222]\ttraining's multi_logloss: 0.113478\tvalid_1's multi_logloss: 0.158032\n"
          ],
          "name": "stdout"
        },
        {
          "output_type": "stream",
          "text": [
            "regularization_factors, val_score: 0.157746:  35%|###5      | 7/20 [04:19<07:57, 36.77s/it]\u001b[32m[I 2020-10-09 08:32:26,843]\u001b[0m Trial 46 finished with value: 0.15803236810074697 and parameters: {'lambda_l1': 1.2661714332592246e-08, 'lambda_l2': 9.261844915469576}. Best is trial 42 with value: 0.1577462159288306.\u001b[0m\n",
            "regularization_factors, val_score: 0.157746:  35%|###5      | 7/20 [04:19<07:57, 36.77s/it]"
          ],
          "name": "stderr"
        },
        {
          "output_type": "stream",
          "text": [
            "Training until validation scores don't improve for 10 rounds.\n",
            "[100]\ttraining's multi_logloss: 0.13625\tvalid_1's multi_logloss: 0.16242\n",
            "[200]\ttraining's multi_logloss: 0.115169\tvalid_1's multi_logloss: 0.157896\n",
            "Early stopping, best iteration is:\n",
            "[236]\ttraining's multi_logloss: 0.1101\tvalid_1's multi_logloss: 0.157781\n"
          ],
          "name": "stdout"
        },
        {
          "output_type": "stream",
          "text": [
            "regularization_factors, val_score: 0.157746:  40%|####      | 8/20 [04:58<07:29, 37.44s/it]\u001b[32m[I 2020-10-09 08:33:05,854]\u001b[0m Trial 47 finished with value: 0.15778050746247924 and parameters: {'lambda_l1': 1.1036598871106428e-08, 'lambda_l2': 7.116310285648037}. Best is trial 42 with value: 0.1577462159288306.\u001b[0m\n",
            "regularization_factors, val_score: 0.157746:  40%|####      | 8/20 [04:58<07:29, 37.44s/it]"
          ],
          "name": "stderr"
        },
        {
          "output_type": "stream",
          "text": [
            "Training until validation scores don't improve for 10 rounds.\n",
            "[100]\ttraining's multi_logloss: 0.135754\tvalid_1's multi_logloss: 0.162288\n",
            "[200]\ttraining's multi_logloss: 0.114789\tvalid_1's multi_logloss: 0.15802\n",
            "Early stopping, best iteration is:\n",
            "[208]\ttraining's multi_logloss: 0.113684\tvalid_1's multi_logloss: 0.157989\n"
          ],
          "name": "stdout"
        },
        {
          "output_type": "stream",
          "text": [
            "regularization_factors, val_score: 0.157746:  45%|####5     | 9/20 [05:33<06:42, 36.57s/it]\u001b[32m[I 2020-10-09 08:33:40,382]\u001b[0m Trial 48 finished with value: 0.1579894153522627 and parameters: {'lambda_l1': 1.2446853759197551e-08, 'lambda_l2': 6.251765679701918}. Best is trial 42 with value: 0.1577462159288306.\u001b[0m\n",
            "regularization_factors, val_score: 0.157746:  45%|####5     | 9/20 [05:33<06:42, 36.57s/it]"
          ],
          "name": "stderr"
        },
        {
          "output_type": "stream",
          "text": [
            "Training until validation scores don't improve for 10 rounds.\n",
            "[100]\ttraining's multi_logloss: 0.136925\tvalid_1's multi_logloss: 0.162653\n",
            "[200]\ttraining's multi_logloss: 0.116464\tvalid_1's multi_logloss: 0.158039\n",
            "Early stopping, best iteration is:\n",
            "[241]\ttraining's multi_logloss: 0.110911\tvalid_1's multi_logloss: 0.157898\n"
          ],
          "name": "stdout"
        },
        {
          "output_type": "stream",
          "text": [
            "regularization_factors, val_score: 0.157746:  50%|#####     | 10/20 [06:13<06:16, 37.68s/it]\u001b[32m[I 2020-10-09 08:34:20,665]\u001b[0m Trial 49 finished with value: 0.15789783371559662 and parameters: {'lambda_l1': 1.7384174942526162e-08, 'lambda_l2': 9.143996323086641}. Best is trial 42 with value: 0.1577462159288306.\u001b[0m\n",
            "regularization_factors, val_score: 0.157746:  50%|#####     | 10/20 [06:13<06:16, 37.68s/it]"
          ],
          "name": "stderr"
        },
        {
          "output_type": "stream",
          "text": [
            "Training until validation scores don't improve for 10 rounds.\n",
            "[100]\ttraining's multi_logloss: 0.136747\tvalid_1's multi_logloss: 0.162669\n",
            "[200]\ttraining's multi_logloss: 0.116292\tvalid_1's multi_logloss: 0.158301\n",
            "Early stopping, best iteration is:\n",
            "[235]\ttraining's multi_logloss: 0.111415\tvalid_1's multi_logloss: 0.158191\n"
          ],
          "name": "stdout"
        },
        {
          "output_type": "stream",
          "text": [
            "regularization_factors, val_score: 0.157746:  55%|#####5    | 11/20 [06:52<05:43, 38.15s/it]\u001b[32m[I 2020-10-09 08:34:59,919]\u001b[0m Trial 50 finished with value: 0.15819056922786415 and parameters: {'lambda_l1': 1.0457660972041971e-08, 'lambda_l2': 8.707773931498973}. Best is trial 42 with value: 0.1577462159288306.\u001b[0m\n",
            "regularization_factors, val_score: 0.157746:  55%|#####5    | 11/20 [06:52<05:43, 38.15s/it]"
          ],
          "name": "stderr"
        },
        {
          "output_type": "stream",
          "text": [
            "Training until validation scores don't improve for 10 rounds.\n",
            "[100]\ttraining's multi_logloss: 0.136863\tvalid_1's multi_logloss: 0.1626\n",
            "[200]\ttraining's multi_logloss: 0.116187\tvalid_1's multi_logloss: 0.158114\n",
            "Early stopping, best iteration is:\n",
            "[224]\ttraining's multi_logloss: 0.112947\tvalid_1's multi_logloss: 0.157999\n"
          ],
          "name": "stdout"
        },
        {
          "output_type": "stream",
          "text": [
            "regularization_factors, val_score: 0.157746:  60%|######    | 12/20 [07:30<05:04, 38.04s/it]\u001b[32m[I 2020-10-09 08:35:37,684]\u001b[0m Trial 51 finished with value: 0.15799890793864096 and parameters: {'lambda_l1': 2.034539024325042e-08, 'lambda_l2': 8.824976654549125}. Best is trial 42 with value: 0.1577462159288306.\u001b[0m\n",
            "regularization_factors, val_score: 0.157746:  60%|######    | 12/20 [07:30<05:04, 38.04s/it]"
          ],
          "name": "stderr"
        },
        {
          "output_type": "stream",
          "text": [
            "Training until validation scores don't improve for 10 rounds.\n",
            "[100]\ttraining's multi_logloss: 0.137076\tvalid_1's multi_logloss: 0.162636\n",
            "[200]\ttraining's multi_logloss: 0.116763\tvalid_1's multi_logloss: 0.158124\n",
            "Early stopping, best iteration is:\n",
            "[240]\ttraining's multi_logloss: 0.111468\tvalid_1's multi_logloss: 0.157952\n"
          ],
          "name": "stdout"
        },
        {
          "output_type": "stream",
          "text": [
            "regularization_factors, val_score: 0.157746:  65%|######5   | 13/20 [08:10<04:30, 38.59s/it]\u001b[32m[I 2020-10-09 08:36:17,575]\u001b[0m Trial 52 finished with value: 0.15795176642230088 and parameters: {'lambda_l1': 6.336539908812146e-08, 'lambda_l2': 9.832193379561723}. Best is trial 42 with value: 0.1577462159288306.\u001b[0m\n",
            "regularization_factors, val_score: 0.157746:  65%|######5   | 13/20 [08:10<04:30, 38.59s/it]"
          ],
          "name": "stderr"
        },
        {
          "output_type": "stream",
          "text": [
            "Training until validation scores don't improve for 10 rounds.\n",
            "[100]\ttraining's multi_logloss: 0.13085\tvalid_1's multi_logloss: 0.162503\n",
            "[200]\ttraining's multi_logloss: 0.106697\tvalid_1's multi_logloss: 0.158505\n",
            "Early stopping, best iteration is:\n",
            "[195]\ttraining's multi_logloss: 0.107564\tvalid_1's multi_logloss: 0.158476\n"
          ],
          "name": "stdout"
        },
        {
          "output_type": "stream",
          "text": [
            "regularization_factors, val_score: 0.157746:  70%|#######   | 14/20 [08:48<03:50, 38.36s/it]\u001b[32m[I 2020-10-09 08:36:55,381]\u001b[0m Trial 53 finished with value: 0.1584755709710293 and parameters: {'lambda_l1': 4.93158381616147e-06, 'lambda_l2': 0.14220036595469923}. Best is trial 42 with value: 0.1577462159288306.\u001b[0m\n",
            "regularization_factors, val_score: 0.157746:  70%|#######   | 14/20 [08:48<03:50, 38.36s/it]"
          ],
          "name": "stderr"
        },
        {
          "output_type": "stream",
          "text": [
            "Training until validation scores don't improve for 10 rounds.\n",
            "[100]\ttraining's multi_logloss: 0.130846\tvalid_1's multi_logloss: 0.162293\n",
            "[200]\ttraining's multi_logloss: 0.106786\tvalid_1's multi_logloss: 0.158349\n",
            "Early stopping, best iteration is:\n",
            "[200]\ttraining's multi_logloss: 0.106786\tvalid_1's multi_logloss: 0.158349\n"
          ],
          "name": "stdout"
        },
        {
          "output_type": "stream",
          "text": [
            "regularization_factors, val_score: 0.157746:  75%|#######5  | 15/20 [09:20<03:02, 36.57s/it]\u001b[32m[I 2020-10-09 08:37:27,770]\u001b[0m Trial 54 finished with value: 0.15834943388714173 and parameters: {'lambda_l1': 5.127735054661721e-07, 'lambda_l2': 0.13726002788005398}. Best is trial 42 with value: 0.1577462159288306.\u001b[0m\n",
            "regularization_factors, val_score: 0.157746:  75%|#######5  | 15/20 [09:20<03:02, 36.57s/it]"
          ],
          "name": "stderr"
        },
        {
          "output_type": "stream",
          "text": [
            "Training until validation scores don't improve for 10 rounds.\n",
            "[100]\ttraining's multi_logloss: 0.131067\tvalid_1's multi_logloss: 0.162326\n",
            "[200]\ttraining's multi_logloss: 0.107066\tvalid_1's multi_logloss: 0.158705\n",
            "Early stopping, best iteration is:\n",
            "[208]\ttraining's multi_logloss: 0.105729\tvalid_1's multi_logloss: 0.158683\n"
          ],
          "name": "stdout"
        },
        {
          "output_type": "stream",
          "text": [
            "regularization_factors, val_score: 0.157746:  80%|########  | 16/20 [09:54<02:22, 35.68s/it]\u001b[32m[I 2020-10-09 08:38:01,390]\u001b[0m Trial 55 finished with value: 0.15868321936405258 and parameters: {'lambda_l1': 1.0651797636672062e-08, 'lambda_l2': 0.2461670900977588}. Best is trial 42 with value: 0.1577462159288306.\u001b[0m\n",
            "regularization_factors, val_score: 0.157746:  80%|########  | 16/20 [09:54<02:22, 35.68s/it]"
          ],
          "name": "stderr"
        },
        {
          "output_type": "stream",
          "text": [
            "Training until validation scores don't improve for 10 rounds.\n",
            "[100]\ttraining's multi_logloss: 0.131731\tvalid_1's multi_logloss: 0.162073\n",
            "[200]\ttraining's multi_logloss: 0.108275\tvalid_1's multi_logloss: 0.158244\n",
            "Early stopping, best iteration is:\n",
            "[215]\ttraining's multi_logloss: 0.105879\tvalid_1's multi_logloss: 0.15821\n"
          ],
          "name": "stdout"
        },
        {
          "output_type": "stream",
          "text": [
            "regularization_factors, val_score: 0.157746:  85%|########5 | 17/20 [10:29<01:46, 35.44s/it]\u001b[32m[I 2020-10-09 08:38:36,247]\u001b[0m Trial 56 finished with value: 0.15821012848666574 and parameters: {'lambda_l1': 2.6078350557654763e-07, 'lambda_l2': 0.6585398556266522}. Best is trial 42 with value: 0.1577462159288306.\u001b[0m\n",
            "regularization_factors, val_score: 0.157746:  85%|########5 | 17/20 [10:29<01:46, 35.44s/it]"
          ],
          "name": "stderr"
        },
        {
          "output_type": "stream",
          "text": [
            "Training until validation scores don't improve for 10 rounds.\n",
            "[100]\ttraining's multi_logloss: 0.141281\tvalid_1's multi_logloss: 0.163416\n",
            "[200]\ttraining's multi_logloss: 0.123028\tvalid_1's multi_logloss: 0.158597\n",
            "Early stopping, best iteration is:\n",
            "[253]\ttraining's multi_logloss: 0.116961\tvalid_1's multi_logloss: 0.158329\n"
          ],
          "name": "stdout"
        },
        {
          "output_type": "stream",
          "text": [
            "regularization_factors, val_score: 0.157746:  90%|######### | 18/20 [11:10<01:14, 37.24s/it]\u001b[32m[I 2020-10-09 08:39:17,703]\u001b[0m Trial 57 finished with value: 0.15832926052992072 and parameters: {'lambda_l1': 5.712111090905114, 'lambda_l2': 1.5789109482198769}. Best is trial 42 with value: 0.1577462159288306.\u001b[0m\n",
            "regularization_factors, val_score: 0.157746:  90%|######### | 18/20 [11:10<01:14, 37.24s/it]"
          ],
          "name": "stderr"
        },
        {
          "output_type": "stream",
          "text": [
            "Training until validation scores don't improve for 10 rounds.\n",
            "[100]\ttraining's multi_logloss: 0.130302\tvalid_1's multi_logloss: 0.162148\n",
            "[200]\ttraining's multi_logloss: 0.106161\tvalid_1's multi_logloss: 0.158158\n",
            "Early stopping, best iteration is:\n",
            "[200]\ttraining's multi_logloss: 0.106161\tvalid_1's multi_logloss: 0.158158\n"
          ],
          "name": "stdout"
        },
        {
          "output_type": "stream",
          "text": [
            "regularization_factors, val_score: 0.157746:  95%|#########5| 19/20 [11:42<00:35, 35.71s/it]\u001b[32m[I 2020-10-09 08:39:49,826]\u001b[0m Trial 58 finished with value: 0.15815792201509293 and parameters: {'lambda_l1': 3.8967442486900903e-07, 'lambda_l2': 0.0007562460919355552}. Best is trial 42 with value: 0.1577462159288306.\u001b[0m\n",
            "regularization_factors, val_score: 0.157746:  95%|#########5| 19/20 [11:42<00:35, 35.71s/it]"
          ],
          "name": "stderr"
        },
        {
          "output_type": "stream",
          "text": [
            "Training until validation scores don't improve for 10 rounds.\n",
            "[100]\ttraining's multi_logloss: 0.132644\tvalid_1's multi_logloss: 0.162212\n",
            "[200]\ttraining's multi_logloss: 0.109781\tvalid_1's multi_logloss: 0.158277\n",
            "Early stopping, best iteration is:\n",
            "[198]\ttraining's multi_logloss: 0.110123\tvalid_1's multi_logloss: 0.158247\n"
          ],
          "name": "stdout"
        },
        {
          "output_type": "stream",
          "text": [
            "regularization_factors, val_score: 0.157746: 100%|##########| 20/20 [12:15<00:00, 34.69s/it]\u001b[32m[I 2020-10-09 08:40:22,160]\u001b[0m Trial 59 finished with value: 0.15824715432984193 and parameters: {'lambda_l1': 1.1266702887109443e-08, 'lambda_l2': 1.3519542834313254}. Best is trial 42 with value: 0.1577462159288306.\u001b[0m\n",
            "regularization_factors, val_score: 0.157746: 100%|##########| 20/20 [12:15<00:00, 36.75s/it]\n",
            "min_data_in_leaf, val_score: 0.157746:   0%|          | 0/5 [00:00<?, ?it/s]"
          ],
          "name": "stderr"
        },
        {
          "output_type": "stream",
          "text": [
            "Training until validation scores don't improve for 10 rounds.\n",
            "[100]\ttraining's multi_logloss: 0.136028\tvalid_1's multi_logloss: 0.162345\n",
            "[200]\ttraining's multi_logloss: 0.115534\tvalid_1's multi_logloss: 0.158008\n",
            "Early stopping, best iteration is:\n",
            "[211]\ttraining's multi_logloss: 0.114013\tvalid_1's multi_logloss: 0.157949\n"
          ],
          "name": "stdout"
        },
        {
          "output_type": "stream",
          "text": [
            "min_data_in_leaf, val_score: 0.157746:  20%|##        | 1/5 [00:35<02:23, 35.87s/it]\u001b[32m[I 2020-10-09 08:40:58,037]\u001b[0m Trial 60 finished with value: 0.15794897374420866 and parameters: {'min_child_samples': 5}. Best is trial 60 with value: 0.15794897374420866.\u001b[0m\n",
            "min_data_in_leaf, val_score: 0.157746:  20%|##        | 1/5 [00:35<02:23, 35.87s/it]"
          ],
          "name": "stderr"
        },
        {
          "output_type": "stream",
          "text": [
            "Training until validation scores don't improve for 10 rounds.\n",
            "[100]\ttraining's multi_logloss: 0.136302\tvalid_1's multi_logloss: 0.162482\n",
            "[200]\ttraining's multi_logloss: 0.115721\tvalid_1's multi_logloss: 0.158311\n",
            "Early stopping, best iteration is:\n",
            "[225]\ttraining's multi_logloss: 0.112235\tvalid_1's multi_logloss: 0.158227\n"
          ],
          "name": "stdout"
        },
        {
          "output_type": "stream",
          "text": [
            "min_data_in_leaf, val_score: 0.157746:  40%|####      | 2/5 [01:13<01:49, 36.36s/it]\u001b[32m[I 2020-10-09 08:41:35,563]\u001b[0m Trial 61 finished with value: 0.15822685882301118 and parameters: {'min_child_samples': 25}. Best is trial 60 with value: 0.15794897374420866.\u001b[0m\n",
            "min_data_in_leaf, val_score: 0.157746:  40%|####      | 2/5 [01:13<01:49, 36.36s/it]"
          ],
          "name": "stderr"
        },
        {
          "output_type": "stream",
          "text": [
            "Training until validation scores don't improve for 10 rounds.\n",
            "[100]\ttraining's multi_logloss: 0.13617\tvalid_1's multi_logloss: 0.162458\n",
            "[200]\ttraining's multi_logloss: 0.115619\tvalid_1's multi_logloss: 0.158072\n",
            "Early stopping, best iteration is:\n",
            "[202]\ttraining's multi_logloss: 0.115332\tvalid_1's multi_logloss: 0.158031\n"
          ],
          "name": "stdout"
        },
        {
          "output_type": "stream",
          "text": [
            "min_data_in_leaf, val_score: 0.157746:  60%|######    | 3/5 [01:47<01:11, 35.67s/it]\u001b[32m[I 2020-10-09 08:42:09,603]\u001b[0m Trial 62 finished with value: 0.15803075608344988 and parameters: {'min_child_samples': 10}. Best is trial 60 with value: 0.15794897374420866.\u001b[0m\n",
            "min_data_in_leaf, val_score: 0.157746:  60%|######    | 3/5 [01:47<01:11, 35.67s/it]"
          ],
          "name": "stderr"
        },
        {
          "output_type": "stream",
          "text": [
            "Training until validation scores don't improve for 10 rounds.\n",
            "[100]\ttraining's multi_logloss: 0.137242\tvalid_1's multi_logloss: 0.162549\n",
            "[200]\ttraining's multi_logloss: 0.116483\tvalid_1's multi_logloss: 0.158065\n",
            "Early stopping, best iteration is:\n",
            "[252]\ttraining's multi_logloss: 0.109314\tvalid_1's multi_logloss: 0.157822\n"
          ],
          "name": "stdout"
        },
        {
          "output_type": "stream",
          "text": [
            "min_data_in_leaf, val_score: 0.157746:  80%|########  | 4/5 [02:29<00:37, 37.65s/it]\u001b[32m[I 2020-10-09 08:42:51,871]\u001b[0m Trial 63 finished with value: 0.15782232653626724 and parameters: {'min_child_samples': 100}. Best is trial 63 with value: 0.15782232653626724.\u001b[0m\n",
            "min_data_in_leaf, val_score: 0.157746:  80%|########  | 4/5 [02:29<00:37, 37.65s/it]"
          ],
          "name": "stderr"
        },
        {
          "output_type": "stream",
          "text": [
            "Training until validation scores don't improve for 10 rounds.\n",
            "[100]\ttraining's multi_logloss: 0.136739\tvalid_1's multi_logloss: 0.162716\n",
            "[200]\ttraining's multi_logloss: 0.115821\tvalid_1's multi_logloss: 0.158294\n",
            "Early stopping, best iteration is:\n",
            "[219]\ttraining's multi_logloss: 0.113112\tvalid_1's multi_logloss: 0.1582\n"
          ],
          "name": "stdout"
        },
        {
          "output_type": "stream",
          "text": [
            "min_data_in_leaf, val_score: 0.157746: 100%|##########| 5/5 [03:06<00:00, 37.27s/it]\u001b[32m[I 2020-10-09 08:43:28,274]\u001b[0m Trial 64 finished with value: 0.15820036984736158 and parameters: {'min_child_samples': 50}. Best is trial 63 with value: 0.15782232653626724.\u001b[0m\n",
            "min_data_in_leaf, val_score: 0.157746: 100%|##########| 5/5 [03:06<00:00, 37.22s/it]\n"
          ],
          "name": "stderr"
        },
        {
          "output_type": "stream",
          "text": [
            "Best params: {'objective': 'multiclass', 'metric': 'multi_logloss', 'num_class': 3, 'lambda_l1': 1.6189202148025895e-08, 'lambda_l2': 7.410688264307839, 'random_state': 42, 'n_jobs': -1, 'feature_pre_filter': False, 'bagging_freq': 1, 'num_leaves': 119, 'feature_fraction': 0.4, 'bagging_fraction': 1.0, 'min_child_samples': 20}\n",
            "  Accuracy = 0.93365625\n",
            "  Params: \n",
            "    objective: multiclass\n",
            "    metric: multi_logloss\n",
            "    num_class: 3\n",
            "    lambda_l1: 1.6189202148025895e-08\n",
            "    lambda_l2: 7.410688264307839\n",
            "    random_state: 42\n",
            "    n_jobs: -1\n",
            "    feature_pre_filter: False\n",
            "    bagging_freq: 1\n",
            "    num_leaves: 119\n",
            "    feature_fraction: 0.4\n",
            "    bagging_fraction: 1.0\n",
            "    min_child_samples: 20\n"
          ],
          "name": "stdout"
        }
      ]
    },
    {
      "cell_type": "markdown",
      "metadata": {
        "id": "yYbjY_b5tjrA"
      },
      "source": [
        "## Stratified K-Fold Cross Validation"
      ]
    },
    {
      "cell_type": "code",
      "metadata": {
        "ExecuteTime": {
          "end_time": "2020-10-05T08:51:30.898328Z",
          "start_time": "2020-10-05T08:51:30.838172Z"
        },
        "id": "F4tAX9pftjrA"
      },
      "source": [
        "cv = StratifiedKFold(n_splits=n_fold, shuffle=True, random_state=seed)"
      ],
      "execution_count": null,
      "outputs": []
    },
    {
      "cell_type": "markdown",
      "metadata": {
        "id": "jOMf08RmtjrC"
      },
      "source": [
        "## LightGBM 모델 학습"
      ]
    },
    {
      "cell_type": "code",
      "metadata": {
        "ExecuteTime": {
          "end_time": "2020-10-05T08:54:00.359900Z",
          "start_time": "2020-10-05T08:53:24.061986Z"
        },
        "scrolled": true,
        "id": "9P5kPi0stjrC",
        "outputId": "35d96b29-e9ef-4db6-d4f1-c8f835ca2023",
        "colab": {
          "base_uri": "https://localhost:8080/",
          "height": 1000
        }
      },
      "source": [
        "p_val = np.zeros((trn.shape[0], n_class))\n",
        "p_tst = np.zeros((tst.shape[0], n_class))\n",
        "for i, (i_trn, i_val) in enumerate(cv.split(trn, y), 1):\n",
        "    print(f'training model for CV #{i}')\n",
        "    clf = LGBMClassifier(**params)\n",
        "    clf.fit(trn[i_trn], y[i_trn],\n",
        "            eval_set=[(trn[i_val], y[i_val])],\n",
        "            eval_metric='multiclass',\n",
        "            early_stopping_rounds=10\n",
        "            )\n",
        "    \n",
        "    p_val[i_val, :] = clf.predict_proba(trn[i_val])\n",
        "    p_tst += clf.predict_proba(tst) / n_fold"
      ],
      "execution_count": null,
      "outputs": [
        {
          "output_type": "stream",
          "text": [
            "training model for CV #1\n",
            "[1]\tvalid_0's multi_logloss: 0.879971\tvalid_0's multi_logloss: 0.879971\n",
            "Training until validation scores don't improve for 10 rounds.\n",
            "[2]\tvalid_0's multi_logloss: 0.79408\tvalid_0's multi_logloss: 0.79408\n",
            "[3]\tvalid_0's multi_logloss: 0.720777\tvalid_0's multi_logloss: 0.720777\n",
            "[4]\tvalid_0's multi_logloss: 0.661654\tvalid_0's multi_logloss: 0.661654\n",
            "[5]\tvalid_0's multi_logloss: 0.607757\tvalid_0's multi_logloss: 0.607757\n",
            "[6]\tvalid_0's multi_logloss: 0.5641\tvalid_0's multi_logloss: 0.5641\n",
            "[7]\tvalid_0's multi_logloss: 0.523582\tvalid_0's multi_logloss: 0.523582\n",
            "[8]\tvalid_0's multi_logloss: 0.489913\tvalid_0's multi_logloss: 0.489913\n",
            "[9]\tvalid_0's multi_logloss: 0.456677\tvalid_0's multi_logloss: 0.456677\n",
            "[10]\tvalid_0's multi_logloss: 0.430618\tvalid_0's multi_logloss: 0.430618\n",
            "[11]\tvalid_0's multi_logloss: 0.40615\tvalid_0's multi_logloss: 0.40615\n",
            "[12]\tvalid_0's multi_logloss: 0.381702\tvalid_0's multi_logloss: 0.381702\n",
            "[13]\tvalid_0's multi_logloss: 0.363139\tvalid_0's multi_logloss: 0.363139\n",
            "[14]\tvalid_0's multi_logloss: 0.344196\tvalid_0's multi_logloss: 0.344196\n",
            "[15]\tvalid_0's multi_logloss: 0.329671\tvalid_0's multi_logloss: 0.329671\n",
            "[16]\tvalid_0's multi_logloss: 0.314475\tvalid_0's multi_logloss: 0.314475\n",
            "[17]\tvalid_0's multi_logloss: 0.300192\tvalid_0's multi_logloss: 0.300192\n",
            "[18]\tvalid_0's multi_logloss: 0.288969\tvalid_0's multi_logloss: 0.288969\n",
            "[19]\tvalid_0's multi_logloss: 0.277973\tvalid_0's multi_logloss: 0.277973\n",
            "[20]\tvalid_0's multi_logloss: 0.268637\tvalid_0's multi_logloss: 0.268637\n",
            "[21]\tvalid_0's multi_logloss: 0.259462\tvalid_0's multi_logloss: 0.259462\n",
            "[22]\tvalid_0's multi_logloss: 0.251634\tvalid_0's multi_logloss: 0.251634\n",
            "[23]\tvalid_0's multi_logloss: 0.243192\tvalid_0's multi_logloss: 0.243192\n",
            "[24]\tvalid_0's multi_logloss: 0.236086\tvalid_0's multi_logloss: 0.236086\n",
            "[25]\tvalid_0's multi_logloss: 0.229928\tvalid_0's multi_logloss: 0.229928\n",
            "[26]\tvalid_0's multi_logloss: 0.223739\tvalid_0's multi_logloss: 0.223739\n",
            "[27]\tvalid_0's multi_logloss: 0.218545\tvalid_0's multi_logloss: 0.218545\n",
            "[28]\tvalid_0's multi_logloss: 0.214206\tvalid_0's multi_logloss: 0.214206\n",
            "[29]\tvalid_0's multi_logloss: 0.209407\tvalid_0's multi_logloss: 0.209407\n",
            "[30]\tvalid_0's multi_logloss: 0.205945\tvalid_0's multi_logloss: 0.205945\n",
            "[31]\tvalid_0's multi_logloss: 0.202602\tvalid_0's multi_logloss: 0.202602\n",
            "[32]\tvalid_0's multi_logloss: 0.198949\tvalid_0's multi_logloss: 0.198949\n",
            "[33]\tvalid_0's multi_logloss: 0.196054\tvalid_0's multi_logloss: 0.196054\n",
            "[34]\tvalid_0's multi_logloss: 0.192881\tvalid_0's multi_logloss: 0.192881\n",
            "[35]\tvalid_0's multi_logloss: 0.190217\tvalid_0's multi_logloss: 0.190217\n",
            "[36]\tvalid_0's multi_logloss: 0.188064\tvalid_0's multi_logloss: 0.188064\n",
            "[37]\tvalid_0's multi_logloss: 0.185662\tvalid_0's multi_logloss: 0.185662\n",
            "[38]\tvalid_0's multi_logloss: 0.183728\tvalid_0's multi_logloss: 0.183728\n",
            "[39]\tvalid_0's multi_logloss: 0.181756\tvalid_0's multi_logloss: 0.181756\n",
            "[40]\tvalid_0's multi_logloss: 0.179867\tvalid_0's multi_logloss: 0.179867\n",
            "[41]\tvalid_0's multi_logloss: 0.17818\tvalid_0's multi_logloss: 0.17818\n",
            "[42]\tvalid_0's multi_logloss: 0.176913\tvalid_0's multi_logloss: 0.176913\n",
            "[43]\tvalid_0's multi_logloss: 0.17564\tvalid_0's multi_logloss: 0.17564\n",
            "[44]\tvalid_0's multi_logloss: 0.174458\tvalid_0's multi_logloss: 0.174458\n",
            "[45]\tvalid_0's multi_logloss: 0.173176\tvalid_0's multi_logloss: 0.173176\n",
            "[46]\tvalid_0's multi_logloss: 0.172155\tvalid_0's multi_logloss: 0.172155\n",
            "[47]\tvalid_0's multi_logloss: 0.171174\tvalid_0's multi_logloss: 0.171174\n",
            "[48]\tvalid_0's multi_logloss: 0.170534\tvalid_0's multi_logloss: 0.170534\n",
            "[49]\tvalid_0's multi_logloss: 0.169756\tvalid_0's multi_logloss: 0.169756\n",
            "[50]\tvalid_0's multi_logloss: 0.168934\tvalid_0's multi_logloss: 0.168934\n",
            "[51]\tvalid_0's multi_logloss: 0.168251\tvalid_0's multi_logloss: 0.168251\n",
            "[52]\tvalid_0's multi_logloss: 0.167538\tvalid_0's multi_logloss: 0.167538\n",
            "[53]\tvalid_0's multi_logloss: 0.166841\tvalid_0's multi_logloss: 0.166841\n",
            "[54]\tvalid_0's multi_logloss: 0.166322\tvalid_0's multi_logloss: 0.166322\n",
            "[55]\tvalid_0's multi_logloss: 0.165929\tvalid_0's multi_logloss: 0.165929\n",
            "[56]\tvalid_0's multi_logloss: 0.165411\tvalid_0's multi_logloss: 0.165411\n",
            "[57]\tvalid_0's multi_logloss: 0.165117\tvalid_0's multi_logloss: 0.165117\n",
            "[58]\tvalid_0's multi_logloss: 0.164542\tvalid_0's multi_logloss: 0.164542\n",
            "[59]\tvalid_0's multi_logloss: 0.164026\tvalid_0's multi_logloss: 0.164026\n",
            "[60]\tvalid_0's multi_logloss: 0.163727\tvalid_0's multi_logloss: 0.163727\n",
            "[61]\tvalid_0's multi_logloss: 0.163521\tvalid_0's multi_logloss: 0.163521\n",
            "[62]\tvalid_0's multi_logloss: 0.163137\tvalid_0's multi_logloss: 0.163137\n",
            "[63]\tvalid_0's multi_logloss: 0.162693\tvalid_0's multi_logloss: 0.162693\n",
            "[64]\tvalid_0's multi_logloss: 0.162343\tvalid_0's multi_logloss: 0.162343\n",
            "[65]\tvalid_0's multi_logloss: 0.16205\tvalid_0's multi_logloss: 0.16205\n",
            "[66]\tvalid_0's multi_logloss: 0.161844\tvalid_0's multi_logloss: 0.161844\n",
            "[67]\tvalid_0's multi_logloss: 0.161566\tvalid_0's multi_logloss: 0.161566\n",
            "[68]\tvalid_0's multi_logloss: 0.161334\tvalid_0's multi_logloss: 0.161334\n",
            "[69]\tvalid_0's multi_logloss: 0.161122\tvalid_0's multi_logloss: 0.161122\n",
            "[70]\tvalid_0's multi_logloss: 0.160775\tvalid_0's multi_logloss: 0.160775\n",
            "[71]\tvalid_0's multi_logloss: 0.16057\tvalid_0's multi_logloss: 0.16057\n",
            "[72]\tvalid_0's multi_logloss: 0.160301\tvalid_0's multi_logloss: 0.160301\n",
            "[73]\tvalid_0's multi_logloss: 0.160126\tvalid_0's multi_logloss: 0.160126\n",
            "[74]\tvalid_0's multi_logloss: 0.159957\tvalid_0's multi_logloss: 0.159957\n",
            "[75]\tvalid_0's multi_logloss: 0.159814\tvalid_0's multi_logloss: 0.159814\n",
            "[76]\tvalid_0's multi_logloss: 0.159608\tvalid_0's multi_logloss: 0.159608\n",
            "[77]\tvalid_0's multi_logloss: 0.159391\tvalid_0's multi_logloss: 0.159391\n",
            "[78]\tvalid_0's multi_logloss: 0.159272\tvalid_0's multi_logloss: 0.159272\n",
            "[79]\tvalid_0's multi_logloss: 0.159184\tvalid_0's multi_logloss: 0.159184\n",
            "[80]\tvalid_0's multi_logloss: 0.159027\tvalid_0's multi_logloss: 0.159027\n",
            "[81]\tvalid_0's multi_logloss: 0.158888\tvalid_0's multi_logloss: 0.158888\n",
            "[82]\tvalid_0's multi_logloss: 0.158763\tvalid_0's multi_logloss: 0.158763\n",
            "[83]\tvalid_0's multi_logloss: 0.158629\tvalid_0's multi_logloss: 0.158629\n",
            "[84]\tvalid_0's multi_logloss: 0.158567\tvalid_0's multi_logloss: 0.158567\n",
            "[85]\tvalid_0's multi_logloss: 0.158461\tvalid_0's multi_logloss: 0.158461\n",
            "[86]\tvalid_0's multi_logloss: 0.15832\tvalid_0's multi_logloss: 0.15832\n",
            "[87]\tvalid_0's multi_logloss: 0.158231\tvalid_0's multi_logloss: 0.158231\n",
            "[88]\tvalid_0's multi_logloss: 0.158107\tvalid_0's multi_logloss: 0.158107\n",
            "[89]\tvalid_0's multi_logloss: 0.157941\tvalid_0's multi_logloss: 0.157941\n",
            "[90]\tvalid_0's multi_logloss: 0.157858\tvalid_0's multi_logloss: 0.157858\n",
            "[91]\tvalid_0's multi_logloss: 0.15776\tvalid_0's multi_logloss: 0.15776\n",
            "[92]\tvalid_0's multi_logloss: 0.157641\tvalid_0's multi_logloss: 0.157641\n",
            "[93]\tvalid_0's multi_logloss: 0.157582\tvalid_0's multi_logloss: 0.157582\n",
            "[94]\tvalid_0's multi_logloss: 0.157494\tvalid_0's multi_logloss: 0.157494\n",
            "[95]\tvalid_0's multi_logloss: 0.157438\tvalid_0's multi_logloss: 0.157438\n",
            "[96]\tvalid_0's multi_logloss: 0.157432\tvalid_0's multi_logloss: 0.157432\n",
            "[97]\tvalid_0's multi_logloss: 0.157367\tvalid_0's multi_logloss: 0.157367\n",
            "[98]\tvalid_0's multi_logloss: 0.157366\tvalid_0's multi_logloss: 0.157366\n",
            "[99]\tvalid_0's multi_logloss: 0.157291\tvalid_0's multi_logloss: 0.157291\n",
            "[100]\tvalid_0's multi_logloss: 0.15725\tvalid_0's multi_logloss: 0.15725\n",
            "[101]\tvalid_0's multi_logloss: 0.157239\tvalid_0's multi_logloss: 0.157239\n",
            "[102]\tvalid_0's multi_logloss: 0.157228\tvalid_0's multi_logloss: 0.157228\n",
            "[103]\tvalid_0's multi_logloss: 0.157209\tvalid_0's multi_logloss: 0.157209\n",
            "[104]\tvalid_0's multi_logloss: 0.157185\tvalid_0's multi_logloss: 0.157185\n",
            "[105]\tvalid_0's multi_logloss: 0.15712\tvalid_0's multi_logloss: 0.15712\n",
            "[106]\tvalid_0's multi_logloss: 0.157127\tvalid_0's multi_logloss: 0.157127\n",
            "[107]\tvalid_0's multi_logloss: 0.157143\tvalid_0's multi_logloss: 0.157143\n",
            "[108]\tvalid_0's multi_logloss: 0.157087\tvalid_0's multi_logloss: 0.157087\n",
            "[109]\tvalid_0's multi_logloss: 0.157095\tvalid_0's multi_logloss: 0.157095\n",
            "[110]\tvalid_0's multi_logloss: 0.157067\tvalid_0's multi_logloss: 0.157067\n",
            "[111]\tvalid_0's multi_logloss: 0.157028\tvalid_0's multi_logloss: 0.157028\n",
            "[112]\tvalid_0's multi_logloss: 0.157034\tvalid_0's multi_logloss: 0.157034\n",
            "[113]\tvalid_0's multi_logloss: 0.156999\tvalid_0's multi_logloss: 0.156999\n",
            "[114]\tvalid_0's multi_logloss: 0.156962\tvalid_0's multi_logloss: 0.156962\n",
            "[115]\tvalid_0's multi_logloss: 0.156961\tvalid_0's multi_logloss: 0.156961\n",
            "[116]\tvalid_0's multi_logloss: 0.156959\tvalid_0's multi_logloss: 0.156959\n",
            "[117]\tvalid_0's multi_logloss: 0.156942\tvalid_0's multi_logloss: 0.156942\n",
            "[118]\tvalid_0's multi_logloss: 0.156938\tvalid_0's multi_logloss: 0.156938\n",
            "[119]\tvalid_0's multi_logloss: 0.156895\tvalid_0's multi_logloss: 0.156895\n",
            "[120]\tvalid_0's multi_logloss: 0.156883\tvalid_0's multi_logloss: 0.156883\n",
            "[121]\tvalid_0's multi_logloss: 0.156878\tvalid_0's multi_logloss: 0.156878\n",
            "[122]\tvalid_0's multi_logloss: 0.156865\tvalid_0's multi_logloss: 0.156865\n",
            "[123]\tvalid_0's multi_logloss: 0.156865\tvalid_0's multi_logloss: 0.156865\n",
            "[124]\tvalid_0's multi_logloss: 0.15691\tvalid_0's multi_logloss: 0.15691\n",
            "[125]\tvalid_0's multi_logloss: 0.156926\tvalid_0's multi_logloss: 0.156926\n",
            "[126]\tvalid_0's multi_logloss: 0.156919\tvalid_0's multi_logloss: 0.156919\n",
            "[127]\tvalid_0's multi_logloss: 0.156925\tvalid_0's multi_logloss: 0.156925\n",
            "[128]\tvalid_0's multi_logloss: 0.156922\tvalid_0's multi_logloss: 0.156922\n",
            "[129]\tvalid_0's multi_logloss: 0.156932\tvalid_0's multi_logloss: 0.156932\n",
            "[130]\tvalid_0's multi_logloss: 0.156952\tvalid_0's multi_logloss: 0.156952\n",
            "[131]\tvalid_0's multi_logloss: 0.156914\tvalid_0's multi_logloss: 0.156914\n",
            "[132]\tvalid_0's multi_logloss: 0.156899\tvalid_0's multi_logloss: 0.156899\n",
            "[133]\tvalid_0's multi_logloss: 0.156905\tvalid_0's multi_logloss: 0.156905\n",
            "Early stopping, best iteration is:\n",
            "[123]\tvalid_0's multi_logloss: 0.156865\tvalid_0's multi_logloss: 0.156865\n",
            "training model for CV #2\n",
            "[1]\tvalid_0's multi_logloss: 0.880254\tvalid_0's multi_logloss: 0.880254\n",
            "Training until validation scores don't improve for 10 rounds.\n",
            "[2]\tvalid_0's multi_logloss: 0.794461\tvalid_0's multi_logloss: 0.794461\n",
            "[3]\tvalid_0's multi_logloss: 0.721285\tvalid_0's multi_logloss: 0.721285\n",
            "[4]\tvalid_0's multi_logloss: 0.662159\tvalid_0's multi_logloss: 0.662159\n",
            "[5]\tvalid_0's multi_logloss: 0.608266\tvalid_0's multi_logloss: 0.608266\n",
            "[6]\tvalid_0's multi_logloss: 0.564985\tvalid_0's multi_logloss: 0.564985\n",
            "[7]\tvalid_0's multi_logloss: 0.524571\tvalid_0's multi_logloss: 0.524571\n",
            "[8]\tvalid_0's multi_logloss: 0.490949\tvalid_0's multi_logloss: 0.490949\n",
            "[9]\tvalid_0's multi_logloss: 0.457837\tvalid_0's multi_logloss: 0.457837\n",
            "[10]\tvalid_0's multi_logloss: 0.431831\tvalid_0's multi_logloss: 0.431831\n",
            "[11]\tvalid_0's multi_logloss: 0.407491\tvalid_0's multi_logloss: 0.407491\n",
            "[12]\tvalid_0's multi_logloss: 0.383007\tvalid_0's multi_logloss: 0.383007\n",
            "[13]\tvalid_0's multi_logloss: 0.364472\tvalid_0's multi_logloss: 0.364472\n",
            "[14]\tvalid_0's multi_logloss: 0.345632\tvalid_0's multi_logloss: 0.345632\n",
            "[15]\tvalid_0's multi_logloss: 0.331148\tvalid_0's multi_logloss: 0.331148\n",
            "[16]\tvalid_0's multi_logloss: 0.316009\tvalid_0's multi_logloss: 0.316009\n",
            "[17]\tvalid_0's multi_logloss: 0.301611\tvalid_0's multi_logloss: 0.301611\n",
            "[18]\tvalid_0's multi_logloss: 0.29037\tvalid_0's multi_logloss: 0.29037\n",
            "[19]\tvalid_0's multi_logloss: 0.279365\tvalid_0's multi_logloss: 0.279365\n",
            "[20]\tvalid_0's multi_logloss: 0.270071\tvalid_0's multi_logloss: 0.270071\n",
            "[21]\tvalid_0's multi_logloss: 0.260878\tvalid_0's multi_logloss: 0.260878\n",
            "[22]\tvalid_0's multi_logloss: 0.253033\tvalid_0's multi_logloss: 0.253033\n",
            "[23]\tvalid_0's multi_logloss: 0.244735\tvalid_0's multi_logloss: 0.244735\n",
            "[24]\tvalid_0's multi_logloss: 0.237755\tvalid_0's multi_logloss: 0.237755\n",
            "[25]\tvalid_0's multi_logloss: 0.231584\tvalid_0's multi_logloss: 0.231584\n",
            "[26]\tvalid_0's multi_logloss: 0.225457\tvalid_0's multi_logloss: 0.225457\n",
            "[27]\tvalid_0's multi_logloss: 0.220281\tvalid_0's multi_logloss: 0.220281\n",
            "[28]\tvalid_0's multi_logloss: 0.215835\tvalid_0's multi_logloss: 0.215835\n",
            "[29]\tvalid_0's multi_logloss: 0.21112\tvalid_0's multi_logloss: 0.21112\n",
            "[30]\tvalid_0's multi_logloss: 0.20764\tvalid_0's multi_logloss: 0.20764\n",
            "[31]\tvalid_0's multi_logloss: 0.204298\tvalid_0's multi_logloss: 0.204298\n",
            "[32]\tvalid_0's multi_logloss: 0.200563\tvalid_0's multi_logloss: 0.200563\n",
            "[33]\tvalid_0's multi_logloss: 0.197626\tvalid_0's multi_logloss: 0.197626\n",
            "[34]\tvalid_0's multi_logloss: 0.194397\tvalid_0's multi_logloss: 0.194397\n",
            "[35]\tvalid_0's multi_logloss: 0.191804\tvalid_0's multi_logloss: 0.191804\n",
            "[36]\tvalid_0's multi_logloss: 0.189713\tvalid_0's multi_logloss: 0.189713\n",
            "[37]\tvalid_0's multi_logloss: 0.187112\tvalid_0's multi_logloss: 0.187112\n",
            "[38]\tvalid_0's multi_logloss: 0.185079\tvalid_0's multi_logloss: 0.185079\n",
            "[39]\tvalid_0's multi_logloss: 0.183131\tvalid_0's multi_logloss: 0.183131\n",
            "[40]\tvalid_0's multi_logloss: 0.181175\tvalid_0's multi_logloss: 0.181175\n",
            "[41]\tvalid_0's multi_logloss: 0.179448\tvalid_0's multi_logloss: 0.179448\n",
            "[42]\tvalid_0's multi_logloss: 0.17818\tvalid_0's multi_logloss: 0.17818\n",
            "[43]\tvalid_0's multi_logloss: 0.176767\tvalid_0's multi_logloss: 0.176767\n",
            "[44]\tvalid_0's multi_logloss: 0.175608\tvalid_0's multi_logloss: 0.175608\n",
            "[45]\tvalid_0's multi_logloss: 0.174331\tvalid_0's multi_logloss: 0.174331\n",
            "[46]\tvalid_0's multi_logloss: 0.17328\tvalid_0's multi_logloss: 0.17328\n",
            "[47]\tvalid_0's multi_logloss: 0.17233\tvalid_0's multi_logloss: 0.17233\n",
            "[48]\tvalid_0's multi_logloss: 0.171688\tvalid_0's multi_logloss: 0.171688\n",
            "[49]\tvalid_0's multi_logloss: 0.170851\tvalid_0's multi_logloss: 0.170851\n",
            "[50]\tvalid_0's multi_logloss: 0.170029\tvalid_0's multi_logloss: 0.170029\n",
            "[51]\tvalid_0's multi_logloss: 0.169312\tvalid_0's multi_logloss: 0.169312\n",
            "[52]\tvalid_0's multi_logloss: 0.168519\tvalid_0's multi_logloss: 0.168519\n",
            "[53]\tvalid_0's multi_logloss: 0.167738\tvalid_0's multi_logloss: 0.167738\n",
            "[54]\tvalid_0's multi_logloss: 0.167158\tvalid_0's multi_logloss: 0.167158\n",
            "[55]\tvalid_0's multi_logloss: 0.166764\tvalid_0's multi_logloss: 0.166764\n",
            "[56]\tvalid_0's multi_logloss: 0.166261\tvalid_0's multi_logloss: 0.166261\n",
            "[57]\tvalid_0's multi_logloss: 0.165995\tvalid_0's multi_logloss: 0.165995\n",
            "[58]\tvalid_0's multi_logloss: 0.165399\tvalid_0's multi_logloss: 0.165399\n",
            "[59]\tvalid_0's multi_logloss: 0.164923\tvalid_0's multi_logloss: 0.164923\n",
            "[60]\tvalid_0's multi_logloss: 0.164626\tvalid_0's multi_logloss: 0.164626\n",
            "[61]\tvalid_0's multi_logloss: 0.164344\tvalid_0's multi_logloss: 0.164344\n",
            "[62]\tvalid_0's multi_logloss: 0.163959\tvalid_0's multi_logloss: 0.163959\n",
            "[63]\tvalid_0's multi_logloss: 0.163462\tvalid_0's multi_logloss: 0.163462\n",
            "[64]\tvalid_0's multi_logloss: 0.163065\tvalid_0's multi_logloss: 0.163065\n",
            "[65]\tvalid_0's multi_logloss: 0.162815\tvalid_0's multi_logloss: 0.162815\n",
            "[66]\tvalid_0's multi_logloss: 0.162606\tvalid_0's multi_logloss: 0.162606\n",
            "[67]\tvalid_0's multi_logloss: 0.16227\tvalid_0's multi_logloss: 0.16227\n",
            "[68]\tvalid_0's multi_logloss: 0.162027\tvalid_0's multi_logloss: 0.162027\n",
            "[69]\tvalid_0's multi_logloss: 0.161825\tvalid_0's multi_logloss: 0.161825\n",
            "[70]\tvalid_0's multi_logloss: 0.161539\tvalid_0's multi_logloss: 0.161539\n",
            "[71]\tvalid_0's multi_logloss: 0.16138\tvalid_0's multi_logloss: 0.16138\n",
            "[72]\tvalid_0's multi_logloss: 0.161069\tvalid_0's multi_logloss: 0.161069\n",
            "[73]\tvalid_0's multi_logloss: 0.160921\tvalid_0's multi_logloss: 0.160921\n",
            "[74]\tvalid_0's multi_logloss: 0.160728\tvalid_0's multi_logloss: 0.160728\n",
            "[75]\tvalid_0's multi_logloss: 0.160522\tvalid_0's multi_logloss: 0.160522\n",
            "[76]\tvalid_0's multi_logloss: 0.160286\tvalid_0's multi_logloss: 0.160286\n",
            "[77]\tvalid_0's multi_logloss: 0.160158\tvalid_0's multi_logloss: 0.160158\n",
            "[78]\tvalid_0's multi_logloss: 0.160057\tvalid_0's multi_logloss: 0.160057\n",
            "[79]\tvalid_0's multi_logloss: 0.159925\tvalid_0's multi_logloss: 0.159925\n",
            "[80]\tvalid_0's multi_logloss: 0.159735\tvalid_0's multi_logloss: 0.159735\n",
            "[81]\tvalid_0's multi_logloss: 0.159658\tvalid_0's multi_logloss: 0.159658\n",
            "[82]\tvalid_0's multi_logloss: 0.159531\tvalid_0's multi_logloss: 0.159531\n",
            "[83]\tvalid_0's multi_logloss: 0.15941\tvalid_0's multi_logloss: 0.15941\n",
            "[84]\tvalid_0's multi_logloss: 0.15938\tvalid_0's multi_logloss: 0.15938\n",
            "[85]\tvalid_0's multi_logloss: 0.159309\tvalid_0's multi_logloss: 0.159309\n",
            "[86]\tvalid_0's multi_logloss: 0.159227\tvalid_0's multi_logloss: 0.159227\n",
            "[87]\tvalid_0's multi_logloss: 0.159067\tvalid_0's multi_logloss: 0.159067\n",
            "[88]\tvalid_0's multi_logloss: 0.158999\tvalid_0's multi_logloss: 0.158999\n",
            "[89]\tvalid_0's multi_logloss: 0.1589\tvalid_0's multi_logloss: 0.1589\n",
            "[90]\tvalid_0's multi_logloss: 0.158823\tvalid_0's multi_logloss: 0.158823\n",
            "[91]\tvalid_0's multi_logloss: 0.158729\tvalid_0's multi_logloss: 0.158729\n",
            "[92]\tvalid_0's multi_logloss: 0.158697\tvalid_0's multi_logloss: 0.158697\n",
            "[93]\tvalid_0's multi_logloss: 0.158636\tvalid_0's multi_logloss: 0.158636\n",
            "[94]\tvalid_0's multi_logloss: 0.158567\tvalid_0's multi_logloss: 0.158567\n",
            "[95]\tvalid_0's multi_logloss: 0.158529\tvalid_0's multi_logloss: 0.158529\n",
            "[96]\tvalid_0's multi_logloss: 0.158478\tvalid_0's multi_logloss: 0.158478\n",
            "[97]\tvalid_0's multi_logloss: 0.158412\tvalid_0's multi_logloss: 0.158412\n",
            "[98]\tvalid_0's multi_logloss: 0.158379\tvalid_0's multi_logloss: 0.158379\n",
            "[99]\tvalid_0's multi_logloss: 0.15835\tvalid_0's multi_logloss: 0.15835\n",
            "[100]\tvalid_0's multi_logloss: 0.158312\tvalid_0's multi_logloss: 0.158312\n",
            "[101]\tvalid_0's multi_logloss: 0.158303\tvalid_0's multi_logloss: 0.158303\n",
            "[102]\tvalid_0's multi_logloss: 0.158273\tvalid_0's multi_logloss: 0.158273\n",
            "[103]\tvalid_0's multi_logloss: 0.158278\tvalid_0's multi_logloss: 0.158278\n",
            "[104]\tvalid_0's multi_logloss: 0.158249\tvalid_0's multi_logloss: 0.158249\n",
            "[105]\tvalid_0's multi_logloss: 0.158204\tvalid_0's multi_logloss: 0.158204\n",
            "[106]\tvalid_0's multi_logloss: 0.158161\tvalid_0's multi_logloss: 0.158161\n",
            "[107]\tvalid_0's multi_logloss: 0.158144\tvalid_0's multi_logloss: 0.158144\n",
            "[108]\tvalid_0's multi_logloss: 0.158065\tvalid_0's multi_logloss: 0.158065\n",
            "[109]\tvalid_0's multi_logloss: 0.158057\tvalid_0's multi_logloss: 0.158057\n",
            "[110]\tvalid_0's multi_logloss: 0.158044\tvalid_0's multi_logloss: 0.158044\n",
            "[111]\tvalid_0's multi_logloss: 0.158055\tvalid_0's multi_logloss: 0.158055\n",
            "[112]\tvalid_0's multi_logloss: 0.158083\tvalid_0's multi_logloss: 0.158083\n",
            "[113]\tvalid_0's multi_logloss: 0.158086\tvalid_0's multi_logloss: 0.158086\n",
            "[114]\tvalid_0's multi_logloss: 0.158072\tvalid_0's multi_logloss: 0.158072\n",
            "[115]\tvalid_0's multi_logloss: 0.1581\tvalid_0's multi_logloss: 0.1581\n",
            "[116]\tvalid_0's multi_logloss: 0.158059\tvalid_0's multi_logloss: 0.158059\n",
            "[117]\tvalid_0's multi_logloss: 0.158049\tvalid_0's multi_logloss: 0.158049\n",
            "[118]\tvalid_0's multi_logloss: 0.15807\tvalid_0's multi_logloss: 0.15807\n",
            "[119]\tvalid_0's multi_logloss: 0.158009\tvalid_0's multi_logloss: 0.158009\n",
            "[120]\tvalid_0's multi_logloss: 0.158017\tvalid_0's multi_logloss: 0.158017\n",
            "[121]\tvalid_0's multi_logloss: 0.157998\tvalid_0's multi_logloss: 0.157998\n",
            "[122]\tvalid_0's multi_logloss: 0.157999\tvalid_0's multi_logloss: 0.157999\n",
            "[123]\tvalid_0's multi_logloss: 0.158003\tvalid_0's multi_logloss: 0.158003\n",
            "[124]\tvalid_0's multi_logloss: 0.157986\tvalid_0's multi_logloss: 0.157986\n",
            "[125]\tvalid_0's multi_logloss: 0.158016\tvalid_0's multi_logloss: 0.158016\n",
            "[126]\tvalid_0's multi_logloss: 0.158025\tvalid_0's multi_logloss: 0.158025\n",
            "[127]\tvalid_0's multi_logloss: 0.158055\tvalid_0's multi_logloss: 0.158055\n",
            "[128]\tvalid_0's multi_logloss: 0.158101\tvalid_0's multi_logloss: 0.158101\n",
            "[129]\tvalid_0's multi_logloss: 0.158089\tvalid_0's multi_logloss: 0.158089\n",
            "[130]\tvalid_0's multi_logloss: 0.15809\tvalid_0's multi_logloss: 0.15809\n",
            "[131]\tvalid_0's multi_logloss: 0.158106\tvalid_0's multi_logloss: 0.158106\n",
            "[132]\tvalid_0's multi_logloss: 0.158102\tvalid_0's multi_logloss: 0.158102\n",
            "[133]\tvalid_0's multi_logloss: 0.158101\tvalid_0's multi_logloss: 0.158101\n",
            "[134]\tvalid_0's multi_logloss: 0.158087\tvalid_0's multi_logloss: 0.158087\n",
            "Early stopping, best iteration is:\n",
            "[124]\tvalid_0's multi_logloss: 0.157986\tvalid_0's multi_logloss: 0.157986\n",
            "training model for CV #3\n",
            "[1]\tvalid_0's multi_logloss: 0.880301\tvalid_0's multi_logloss: 0.880301\n",
            "Training until validation scores don't improve for 10 rounds.\n",
            "[2]\tvalid_0's multi_logloss: 0.794777\tvalid_0's multi_logloss: 0.794777\n",
            "[3]\tvalid_0's multi_logloss: 0.721537\tvalid_0's multi_logloss: 0.721537\n",
            "[4]\tvalid_0's multi_logloss: 0.662336\tvalid_0's multi_logloss: 0.662336\n",
            "[5]\tvalid_0's multi_logloss: 0.608686\tvalid_0's multi_logloss: 0.608686\n",
            "[6]\tvalid_0's multi_logloss: 0.565477\tvalid_0's multi_logloss: 0.565477\n",
            "[7]\tvalid_0's multi_logloss: 0.525115\tvalid_0's multi_logloss: 0.525115\n",
            "[8]\tvalid_0's multi_logloss: 0.491477\tvalid_0's multi_logloss: 0.491477\n",
            "[9]\tvalid_0's multi_logloss: 0.458324\tvalid_0's multi_logloss: 0.458324\n",
            "[10]\tvalid_0's multi_logloss: 0.432322\tvalid_0's multi_logloss: 0.432322\n",
            "[11]\tvalid_0's multi_logloss: 0.408094\tvalid_0's multi_logloss: 0.408094\n",
            "[12]\tvalid_0's multi_logloss: 0.383703\tvalid_0's multi_logloss: 0.383703\n",
            "[13]\tvalid_0's multi_logloss: 0.365283\tvalid_0's multi_logloss: 0.365283\n",
            "[14]\tvalid_0's multi_logloss: 0.346485\tvalid_0's multi_logloss: 0.346485\n",
            "[15]\tvalid_0's multi_logloss: 0.331856\tvalid_0's multi_logloss: 0.331856\n",
            "[16]\tvalid_0's multi_logloss: 0.316722\tvalid_0's multi_logloss: 0.316722\n",
            "[17]\tvalid_0's multi_logloss: 0.302326\tvalid_0's multi_logloss: 0.302326\n",
            "[18]\tvalid_0's multi_logloss: 0.291075\tvalid_0's multi_logloss: 0.291075\n",
            "[19]\tvalid_0's multi_logloss: 0.280067\tvalid_0's multi_logloss: 0.280067\n",
            "[20]\tvalid_0's multi_logloss: 0.270795\tvalid_0's multi_logloss: 0.270795\n",
            "[21]\tvalid_0's multi_logloss: 0.261617\tvalid_0's multi_logloss: 0.261617\n",
            "[22]\tvalid_0's multi_logloss: 0.253875\tvalid_0's multi_logloss: 0.253875\n",
            "[23]\tvalid_0's multi_logloss: 0.245563\tvalid_0's multi_logloss: 0.245563\n",
            "[24]\tvalid_0's multi_logloss: 0.238565\tvalid_0's multi_logloss: 0.238565\n",
            "[25]\tvalid_0's multi_logloss: 0.232424\tvalid_0's multi_logloss: 0.232424\n",
            "[26]\tvalid_0's multi_logloss: 0.226251\tvalid_0's multi_logloss: 0.226251\n",
            "[27]\tvalid_0's multi_logloss: 0.221051\tvalid_0's multi_logloss: 0.221051\n",
            "[28]\tvalid_0's multi_logloss: 0.216616\tvalid_0's multi_logloss: 0.216616\n",
            "[29]\tvalid_0's multi_logloss: 0.211828\tvalid_0's multi_logloss: 0.211828\n",
            "[30]\tvalid_0's multi_logloss: 0.208376\tvalid_0's multi_logloss: 0.208376\n",
            "[31]\tvalid_0's multi_logloss: 0.204998\tvalid_0's multi_logloss: 0.204998\n",
            "[32]\tvalid_0's multi_logloss: 0.201239\tvalid_0's multi_logloss: 0.201239\n",
            "[33]\tvalid_0's multi_logloss: 0.198327\tvalid_0's multi_logloss: 0.198327\n",
            "[34]\tvalid_0's multi_logloss: 0.195071\tvalid_0's multi_logloss: 0.195071\n",
            "[35]\tvalid_0's multi_logloss: 0.192421\tvalid_0's multi_logloss: 0.192421\n",
            "[36]\tvalid_0's multi_logloss: 0.190264\tvalid_0's multi_logloss: 0.190264\n",
            "[37]\tvalid_0's multi_logloss: 0.187719\tvalid_0's multi_logloss: 0.187719\n",
            "[38]\tvalid_0's multi_logloss: 0.185745\tvalid_0's multi_logloss: 0.185745\n",
            "[39]\tvalid_0's multi_logloss: 0.183755\tvalid_0's multi_logloss: 0.183755\n",
            "[40]\tvalid_0's multi_logloss: 0.181767\tvalid_0's multi_logloss: 0.181767\n",
            "[41]\tvalid_0's multi_logloss: 0.180045\tvalid_0's multi_logloss: 0.180045\n",
            "[42]\tvalid_0's multi_logloss: 0.178738\tvalid_0's multi_logloss: 0.178738\n",
            "[43]\tvalid_0's multi_logloss: 0.177326\tvalid_0's multi_logloss: 0.177326\n",
            "[44]\tvalid_0's multi_logloss: 0.176161\tvalid_0's multi_logloss: 0.176161\n",
            "[45]\tvalid_0's multi_logloss: 0.174951\tvalid_0's multi_logloss: 0.174951\n",
            "[46]\tvalid_0's multi_logloss: 0.173936\tvalid_0's multi_logloss: 0.173936\n",
            "[47]\tvalid_0's multi_logloss: 0.17297\tvalid_0's multi_logloss: 0.17297\n",
            "[48]\tvalid_0's multi_logloss: 0.172262\tvalid_0's multi_logloss: 0.172262\n",
            "[49]\tvalid_0's multi_logloss: 0.171502\tvalid_0's multi_logloss: 0.171502\n",
            "[50]\tvalid_0's multi_logloss: 0.17065\tvalid_0's multi_logloss: 0.17065\n",
            "[51]\tvalid_0's multi_logloss: 0.170066\tvalid_0's multi_logloss: 0.170066\n",
            "[52]\tvalid_0's multi_logloss: 0.169337\tvalid_0's multi_logloss: 0.169337\n",
            "[53]\tvalid_0's multi_logloss: 0.168645\tvalid_0's multi_logloss: 0.168645\n",
            "[54]\tvalid_0's multi_logloss: 0.16814\tvalid_0's multi_logloss: 0.16814\n",
            "[55]\tvalid_0's multi_logloss: 0.167716\tvalid_0's multi_logloss: 0.167716\n",
            "[56]\tvalid_0's multi_logloss: 0.167188\tvalid_0's multi_logloss: 0.167188\n",
            "[57]\tvalid_0's multi_logloss: 0.166897\tvalid_0's multi_logloss: 0.166897\n",
            "[58]\tvalid_0's multi_logloss: 0.166327\tvalid_0's multi_logloss: 0.166327\n",
            "[59]\tvalid_0's multi_logloss: 0.165812\tvalid_0's multi_logloss: 0.165812\n",
            "[60]\tvalid_0's multi_logloss: 0.165452\tvalid_0's multi_logloss: 0.165452\n",
            "[61]\tvalid_0's multi_logloss: 0.165207\tvalid_0's multi_logloss: 0.165207\n",
            "[62]\tvalid_0's multi_logloss: 0.164841\tvalid_0's multi_logloss: 0.164841\n",
            "[63]\tvalid_0's multi_logloss: 0.164411\tvalid_0's multi_logloss: 0.164411\n",
            "[64]\tvalid_0's multi_logloss: 0.164063\tvalid_0's multi_logloss: 0.164063\n",
            "[65]\tvalid_0's multi_logloss: 0.163814\tvalid_0's multi_logloss: 0.163814\n",
            "[66]\tvalid_0's multi_logloss: 0.163576\tvalid_0's multi_logloss: 0.163576\n",
            "[67]\tvalid_0's multi_logloss: 0.163267\tvalid_0's multi_logloss: 0.163267\n",
            "[68]\tvalid_0's multi_logloss: 0.163021\tvalid_0's multi_logloss: 0.163021\n",
            "[69]\tvalid_0's multi_logloss: 0.162806\tvalid_0's multi_logloss: 0.162806\n",
            "[70]\tvalid_0's multi_logloss: 0.162537\tvalid_0's multi_logloss: 0.162537\n",
            "[71]\tvalid_0's multi_logloss: 0.162376\tvalid_0's multi_logloss: 0.162376\n",
            "[72]\tvalid_0's multi_logloss: 0.162091\tvalid_0's multi_logloss: 0.162091\n",
            "[73]\tvalid_0's multi_logloss: 0.161979\tvalid_0's multi_logloss: 0.161979\n",
            "[74]\tvalid_0's multi_logloss: 0.161736\tvalid_0's multi_logloss: 0.161736\n",
            "[75]\tvalid_0's multi_logloss: 0.161563\tvalid_0's multi_logloss: 0.161563\n",
            "[76]\tvalid_0's multi_logloss: 0.161417\tvalid_0's multi_logloss: 0.161417\n",
            "[77]\tvalid_0's multi_logloss: 0.161223\tvalid_0's multi_logloss: 0.161223\n",
            "[78]\tvalid_0's multi_logloss: 0.161037\tvalid_0's multi_logloss: 0.161037\n",
            "[79]\tvalid_0's multi_logloss: 0.16093\tvalid_0's multi_logloss: 0.16093\n",
            "[80]\tvalid_0's multi_logloss: 0.160766\tvalid_0's multi_logloss: 0.160766\n",
            "[81]\tvalid_0's multi_logloss: 0.160657\tvalid_0's multi_logloss: 0.160657\n",
            "[82]\tvalid_0's multi_logloss: 0.160587\tvalid_0's multi_logloss: 0.160587\n",
            "[83]\tvalid_0's multi_logloss: 0.160435\tvalid_0's multi_logloss: 0.160435\n",
            "[84]\tvalid_0's multi_logloss: 0.160409\tvalid_0's multi_logloss: 0.160409\n",
            "[85]\tvalid_0's multi_logloss: 0.160304\tvalid_0's multi_logloss: 0.160304\n",
            "[86]\tvalid_0's multi_logloss: 0.160215\tvalid_0's multi_logloss: 0.160215\n",
            "[87]\tvalid_0's multi_logloss: 0.160046\tvalid_0's multi_logloss: 0.160046\n",
            "[88]\tvalid_0's multi_logloss: 0.15988\tvalid_0's multi_logloss: 0.15988\n",
            "[89]\tvalid_0's multi_logloss: 0.159744\tvalid_0's multi_logloss: 0.159744\n",
            "[90]\tvalid_0's multi_logloss: 0.159735\tvalid_0's multi_logloss: 0.159735\n",
            "[91]\tvalid_0's multi_logloss: 0.159619\tvalid_0's multi_logloss: 0.159619\n",
            "[92]\tvalid_0's multi_logloss: 0.159558\tvalid_0's multi_logloss: 0.159558\n",
            "[93]\tvalid_0's multi_logloss: 0.15951\tvalid_0's multi_logloss: 0.15951\n",
            "[94]\tvalid_0's multi_logloss: 0.159446\tvalid_0's multi_logloss: 0.159446\n",
            "[95]\tvalid_0's multi_logloss: 0.159396\tvalid_0's multi_logloss: 0.159396\n",
            "[96]\tvalid_0's multi_logloss: 0.159377\tvalid_0's multi_logloss: 0.159377\n",
            "[97]\tvalid_0's multi_logloss: 0.159296\tvalid_0's multi_logloss: 0.159296\n",
            "[98]\tvalid_0's multi_logloss: 0.159301\tvalid_0's multi_logloss: 0.159301\n",
            "[99]\tvalid_0's multi_logloss: 0.159205\tvalid_0's multi_logloss: 0.159205\n",
            "[100]\tvalid_0's multi_logloss: 0.15916\tvalid_0's multi_logloss: 0.15916\n",
            "[101]\tvalid_0's multi_logloss: 0.159135\tvalid_0's multi_logloss: 0.159135\n",
            "[102]\tvalid_0's multi_logloss: 0.159051\tvalid_0's multi_logloss: 0.159051\n",
            "[103]\tvalid_0's multi_logloss: 0.159048\tvalid_0's multi_logloss: 0.159048\n",
            "[104]\tvalid_0's multi_logloss: 0.158996\tvalid_0's multi_logloss: 0.158996\n",
            "[105]\tvalid_0's multi_logloss: 0.158973\tvalid_0's multi_logloss: 0.158973\n",
            "[106]\tvalid_0's multi_logloss: 0.158922\tvalid_0's multi_logloss: 0.158922\n",
            "[107]\tvalid_0's multi_logloss: 0.158913\tvalid_0's multi_logloss: 0.158913\n",
            "[108]\tvalid_0's multi_logloss: 0.158864\tvalid_0's multi_logloss: 0.158864\n",
            "[109]\tvalid_0's multi_logloss: 0.15882\tvalid_0's multi_logloss: 0.15882\n",
            "[110]\tvalid_0's multi_logloss: 0.158818\tvalid_0's multi_logloss: 0.158818\n",
            "[111]\tvalid_0's multi_logloss: 0.158794\tvalid_0's multi_logloss: 0.158794\n",
            "[112]\tvalid_0's multi_logloss: 0.158852\tvalid_0's multi_logloss: 0.158852\n",
            "[113]\tvalid_0's multi_logloss: 0.158809\tvalid_0's multi_logloss: 0.158809\n",
            "[114]\tvalid_0's multi_logloss: 0.158792\tvalid_0's multi_logloss: 0.158792\n",
            "[115]\tvalid_0's multi_logloss: 0.158759\tvalid_0's multi_logloss: 0.158759\n",
            "[116]\tvalid_0's multi_logloss: 0.158794\tvalid_0's multi_logloss: 0.158794\n",
            "[117]\tvalid_0's multi_logloss: 0.158771\tvalid_0's multi_logloss: 0.158771\n",
            "[118]\tvalid_0's multi_logloss: 0.158762\tvalid_0's multi_logloss: 0.158762\n",
            "[119]\tvalid_0's multi_logloss: 0.158745\tvalid_0's multi_logloss: 0.158745\n",
            "[120]\tvalid_0's multi_logloss: 0.158732\tvalid_0's multi_logloss: 0.158732\n",
            "[121]\tvalid_0's multi_logloss: 0.158744\tvalid_0's multi_logloss: 0.158744\n",
            "[122]\tvalid_0's multi_logloss: 0.158773\tvalid_0's multi_logloss: 0.158773\n",
            "[123]\tvalid_0's multi_logloss: 0.158789\tvalid_0's multi_logloss: 0.158789\n",
            "[124]\tvalid_0's multi_logloss: 0.158795\tvalid_0's multi_logloss: 0.158795\n",
            "[125]\tvalid_0's multi_logloss: 0.158818\tvalid_0's multi_logloss: 0.158818\n",
            "[126]\tvalid_0's multi_logloss: 0.158828\tvalid_0's multi_logloss: 0.158828\n",
            "[127]\tvalid_0's multi_logloss: 0.158823\tvalid_0's multi_logloss: 0.158823\n",
            "[128]\tvalid_0's multi_logloss: 0.158788\tvalid_0's multi_logloss: 0.158788\n",
            "[129]\tvalid_0's multi_logloss: 0.158814\tvalid_0's multi_logloss: 0.158814\n",
            "[130]\tvalid_0's multi_logloss: 0.158814\tvalid_0's multi_logloss: 0.158814\n",
            "Early stopping, best iteration is:\n",
            "[120]\tvalid_0's multi_logloss: 0.158732\tvalid_0's multi_logloss: 0.158732\n",
            "training model for CV #4\n",
            "[1]\tvalid_0's multi_logloss: 0.880201\tvalid_0's multi_logloss: 0.880201\n",
            "Training until validation scores don't improve for 10 rounds.\n",
            "[2]\tvalid_0's multi_logloss: 0.79469\tvalid_0's multi_logloss: 0.79469\n",
            "[3]\tvalid_0's multi_logloss: 0.721721\tvalid_0's multi_logloss: 0.721721\n",
            "[4]\tvalid_0's multi_logloss: 0.662685\tvalid_0's multi_logloss: 0.662685\n",
            "[5]\tvalid_0's multi_logloss: 0.608874\tvalid_0's multi_logloss: 0.608874\n",
            "[6]\tvalid_0's multi_logloss: 0.565308\tvalid_0's multi_logloss: 0.565308\n",
            "[7]\tvalid_0's multi_logloss: 0.524797\tvalid_0's multi_logloss: 0.524797\n",
            "[8]\tvalid_0's multi_logloss: 0.491152\tvalid_0's multi_logloss: 0.491152\n",
            "[9]\tvalid_0's multi_logloss: 0.45801\tvalid_0's multi_logloss: 0.45801\n",
            "[10]\tvalid_0's multi_logloss: 0.432057\tvalid_0's multi_logloss: 0.432057\n",
            "[11]\tvalid_0's multi_logloss: 0.407615\tvalid_0's multi_logloss: 0.407615\n",
            "[12]\tvalid_0's multi_logloss: 0.383234\tvalid_0's multi_logloss: 0.383234\n",
            "[13]\tvalid_0's multi_logloss: 0.36471\tvalid_0's multi_logloss: 0.36471\n",
            "[14]\tvalid_0's multi_logloss: 0.345985\tvalid_0's multi_logloss: 0.345985\n",
            "[15]\tvalid_0's multi_logloss: 0.331361\tvalid_0's multi_logloss: 0.331361\n",
            "[16]\tvalid_0's multi_logloss: 0.316167\tvalid_0's multi_logloss: 0.316167\n",
            "[17]\tvalid_0's multi_logloss: 0.301728\tvalid_0's multi_logloss: 0.301728\n",
            "[18]\tvalid_0's multi_logloss: 0.290437\tvalid_0's multi_logloss: 0.290437\n",
            "[19]\tvalid_0's multi_logloss: 0.279506\tvalid_0's multi_logloss: 0.279506\n",
            "[20]\tvalid_0's multi_logloss: 0.270243\tvalid_0's multi_logloss: 0.270243\n",
            "[21]\tvalid_0's multi_logloss: 0.261057\tvalid_0's multi_logloss: 0.261057\n",
            "[22]\tvalid_0's multi_logloss: 0.253167\tvalid_0's multi_logloss: 0.253167\n",
            "[23]\tvalid_0's multi_logloss: 0.244791\tvalid_0's multi_logloss: 0.244791\n",
            "[24]\tvalid_0's multi_logloss: 0.237824\tvalid_0's multi_logloss: 0.237824\n",
            "[25]\tvalid_0's multi_logloss: 0.231598\tvalid_0's multi_logloss: 0.231598\n",
            "[26]\tvalid_0's multi_logloss: 0.225322\tvalid_0's multi_logloss: 0.225322\n",
            "[27]\tvalid_0's multi_logloss: 0.22006\tvalid_0's multi_logloss: 0.22006\n",
            "[28]\tvalid_0's multi_logloss: 0.215639\tvalid_0's multi_logloss: 0.215639\n",
            "[29]\tvalid_0's multi_logloss: 0.210867\tvalid_0's multi_logloss: 0.210867\n",
            "[30]\tvalid_0's multi_logloss: 0.207348\tvalid_0's multi_logloss: 0.207348\n",
            "[31]\tvalid_0's multi_logloss: 0.203981\tvalid_0's multi_logloss: 0.203981\n",
            "[32]\tvalid_0's multi_logloss: 0.200176\tvalid_0's multi_logloss: 0.200176\n",
            "[33]\tvalid_0's multi_logloss: 0.197181\tvalid_0's multi_logloss: 0.197181\n",
            "[34]\tvalid_0's multi_logloss: 0.193943\tvalid_0's multi_logloss: 0.193943\n",
            "[35]\tvalid_0's multi_logloss: 0.191222\tvalid_0's multi_logloss: 0.191222\n",
            "[36]\tvalid_0's multi_logloss: 0.189126\tvalid_0's multi_logloss: 0.189126\n",
            "[37]\tvalid_0's multi_logloss: 0.186671\tvalid_0's multi_logloss: 0.186671\n",
            "[38]\tvalid_0's multi_logloss: 0.184689\tvalid_0's multi_logloss: 0.184689\n",
            "[39]\tvalid_0's multi_logloss: 0.182717\tvalid_0's multi_logloss: 0.182717\n",
            "[40]\tvalid_0's multi_logloss: 0.180768\tvalid_0's multi_logloss: 0.180768\n",
            "[41]\tvalid_0's multi_logloss: 0.17905\tvalid_0's multi_logloss: 0.17905\n",
            "[42]\tvalid_0's multi_logloss: 0.177835\tvalid_0's multi_logloss: 0.177835\n",
            "[43]\tvalid_0's multi_logloss: 0.176439\tvalid_0's multi_logloss: 0.176439\n",
            "[44]\tvalid_0's multi_logloss: 0.175212\tvalid_0's multi_logloss: 0.175212\n",
            "[45]\tvalid_0's multi_logloss: 0.17398\tvalid_0's multi_logloss: 0.17398\n",
            "[46]\tvalid_0's multi_logloss: 0.173026\tvalid_0's multi_logloss: 0.173026\n",
            "[47]\tvalid_0's multi_logloss: 0.172026\tvalid_0's multi_logloss: 0.172026\n",
            "[48]\tvalid_0's multi_logloss: 0.171301\tvalid_0's multi_logloss: 0.171301\n",
            "[49]\tvalid_0's multi_logloss: 0.170474\tvalid_0's multi_logloss: 0.170474\n",
            "[50]\tvalid_0's multi_logloss: 0.169663\tvalid_0's multi_logloss: 0.169663\n",
            "[51]\tvalid_0's multi_logloss: 0.169045\tvalid_0's multi_logloss: 0.169045\n",
            "[52]\tvalid_0's multi_logloss: 0.168297\tvalid_0's multi_logloss: 0.168297\n",
            "[53]\tvalid_0's multi_logloss: 0.16761\tvalid_0's multi_logloss: 0.16761\n",
            "[54]\tvalid_0's multi_logloss: 0.167048\tvalid_0's multi_logloss: 0.167048\n",
            "[55]\tvalid_0's multi_logloss: 0.166582\tvalid_0's multi_logloss: 0.166582\n",
            "[56]\tvalid_0's multi_logloss: 0.166011\tvalid_0's multi_logloss: 0.166011\n",
            "[57]\tvalid_0's multi_logloss: 0.165691\tvalid_0's multi_logloss: 0.165691\n",
            "[58]\tvalid_0's multi_logloss: 0.165058\tvalid_0's multi_logloss: 0.165058\n",
            "[59]\tvalid_0's multi_logloss: 0.16456\tvalid_0's multi_logloss: 0.16456\n",
            "[60]\tvalid_0's multi_logloss: 0.164325\tvalid_0's multi_logloss: 0.164325\n",
            "[61]\tvalid_0's multi_logloss: 0.164055\tvalid_0's multi_logloss: 0.164055\n",
            "[62]\tvalid_0's multi_logloss: 0.163671\tvalid_0's multi_logloss: 0.163671\n",
            "[63]\tvalid_0's multi_logloss: 0.163275\tvalid_0's multi_logloss: 0.163275\n",
            "[64]\tvalid_0's multi_logloss: 0.162914\tvalid_0's multi_logloss: 0.162914\n",
            "[65]\tvalid_0's multi_logloss: 0.162561\tvalid_0's multi_logloss: 0.162561\n",
            "[66]\tvalid_0's multi_logloss: 0.162335\tvalid_0's multi_logloss: 0.162335\n",
            "[67]\tvalid_0's multi_logloss: 0.162024\tvalid_0's multi_logloss: 0.162024\n",
            "[68]\tvalid_0's multi_logloss: 0.161784\tvalid_0's multi_logloss: 0.161784\n",
            "[69]\tvalid_0's multi_logloss: 0.161557\tvalid_0's multi_logloss: 0.161557\n",
            "[70]\tvalid_0's multi_logloss: 0.161272\tvalid_0's multi_logloss: 0.161272\n",
            "[71]\tvalid_0's multi_logloss: 0.161107\tvalid_0's multi_logloss: 0.161107\n",
            "[72]\tvalid_0's multi_logloss: 0.16084\tvalid_0's multi_logloss: 0.16084\n",
            "[73]\tvalid_0's multi_logloss: 0.16065\tvalid_0's multi_logloss: 0.16065\n",
            "[74]\tvalid_0's multi_logloss: 0.160477\tvalid_0's multi_logloss: 0.160477\n",
            "[75]\tvalid_0's multi_logloss: 0.160298\tvalid_0's multi_logloss: 0.160298\n",
            "[76]\tvalid_0's multi_logloss: 0.160113\tvalid_0's multi_logloss: 0.160113\n",
            "[77]\tvalid_0's multi_logloss: 0.159955\tvalid_0's multi_logloss: 0.159955\n",
            "[78]\tvalid_0's multi_logloss: 0.159793\tvalid_0's multi_logloss: 0.159793\n",
            "[79]\tvalid_0's multi_logloss: 0.159687\tvalid_0's multi_logloss: 0.159687\n",
            "[80]\tvalid_0's multi_logloss: 0.159543\tvalid_0's multi_logloss: 0.159543\n",
            "[81]\tvalid_0's multi_logloss: 0.159425\tvalid_0's multi_logloss: 0.159425\n",
            "[82]\tvalid_0's multi_logloss: 0.159303\tvalid_0's multi_logloss: 0.159303\n",
            "[83]\tvalid_0's multi_logloss: 0.159145\tvalid_0's multi_logloss: 0.159145\n",
            "[84]\tvalid_0's multi_logloss: 0.159085\tvalid_0's multi_logloss: 0.159085\n",
            "[85]\tvalid_0's multi_logloss: 0.15899\tvalid_0's multi_logloss: 0.15899\n",
            "[86]\tvalid_0's multi_logloss: 0.158866\tvalid_0's multi_logloss: 0.158866\n",
            "[87]\tvalid_0's multi_logloss: 0.158775\tvalid_0's multi_logloss: 0.158775\n",
            "[88]\tvalid_0's multi_logloss: 0.158712\tvalid_0's multi_logloss: 0.158712\n",
            "[89]\tvalid_0's multi_logloss: 0.158544\tvalid_0's multi_logloss: 0.158544\n",
            "[90]\tvalid_0's multi_logloss: 0.158488\tvalid_0's multi_logloss: 0.158488\n",
            "[91]\tvalid_0's multi_logloss: 0.158413\tvalid_0's multi_logloss: 0.158413\n",
            "[92]\tvalid_0's multi_logloss: 0.158333\tvalid_0's multi_logloss: 0.158333\n",
            "[93]\tvalid_0's multi_logloss: 0.158318\tvalid_0's multi_logloss: 0.158318\n",
            "[94]\tvalid_0's multi_logloss: 0.158271\tvalid_0's multi_logloss: 0.158271\n",
            "[95]\tvalid_0's multi_logloss: 0.158224\tvalid_0's multi_logloss: 0.158224\n",
            "[96]\tvalid_0's multi_logloss: 0.15821\tvalid_0's multi_logloss: 0.15821\n",
            "[97]\tvalid_0's multi_logloss: 0.158193\tvalid_0's multi_logloss: 0.158193\n",
            "[98]\tvalid_0's multi_logloss: 0.158186\tvalid_0's multi_logloss: 0.158186\n",
            "[99]\tvalid_0's multi_logloss: 0.158134\tvalid_0's multi_logloss: 0.158134\n",
            "[100]\tvalid_0's multi_logloss: 0.158125\tvalid_0's multi_logloss: 0.158125\n",
            "[101]\tvalid_0's multi_logloss: 0.158149\tvalid_0's multi_logloss: 0.158149\n",
            "[102]\tvalid_0's multi_logloss: 0.158123\tvalid_0's multi_logloss: 0.158123\n",
            "[103]\tvalid_0's multi_logloss: 0.158062\tvalid_0's multi_logloss: 0.158062\n",
            "[104]\tvalid_0's multi_logloss: 0.158023\tvalid_0's multi_logloss: 0.158023\n",
            "[105]\tvalid_0's multi_logloss: 0.157984\tvalid_0's multi_logloss: 0.157984\n",
            "[106]\tvalid_0's multi_logloss: 0.157994\tvalid_0's multi_logloss: 0.157994\n",
            "[107]\tvalid_0's multi_logloss: 0.157987\tvalid_0's multi_logloss: 0.157987\n",
            "[108]\tvalid_0's multi_logloss: 0.157922\tvalid_0's multi_logloss: 0.157922\n",
            "[109]\tvalid_0's multi_logloss: 0.157896\tvalid_0's multi_logloss: 0.157896\n",
            "[110]\tvalid_0's multi_logloss: 0.157888\tvalid_0's multi_logloss: 0.157888\n",
            "[111]\tvalid_0's multi_logloss: 0.157847\tvalid_0's multi_logloss: 0.157847\n",
            "[112]\tvalid_0's multi_logloss: 0.157845\tvalid_0's multi_logloss: 0.157845\n",
            "[113]\tvalid_0's multi_logloss: 0.157827\tvalid_0's multi_logloss: 0.157827\n",
            "[114]\tvalid_0's multi_logloss: 0.157827\tvalid_0's multi_logloss: 0.157827\n",
            "[115]\tvalid_0's multi_logloss: 0.157805\tvalid_0's multi_logloss: 0.157805\n",
            "[116]\tvalid_0's multi_logloss: 0.157789\tvalid_0's multi_logloss: 0.157789\n",
            "[117]\tvalid_0's multi_logloss: 0.157801\tvalid_0's multi_logloss: 0.157801\n",
            "[118]\tvalid_0's multi_logloss: 0.157807\tvalid_0's multi_logloss: 0.157807\n",
            "[119]\tvalid_0's multi_logloss: 0.157827\tvalid_0's multi_logloss: 0.157827\n",
            "[120]\tvalid_0's multi_logloss: 0.157869\tvalid_0's multi_logloss: 0.157869\n",
            "[121]\tvalid_0's multi_logloss: 0.157879\tvalid_0's multi_logloss: 0.157879\n",
            "[122]\tvalid_0's multi_logloss: 0.157845\tvalid_0's multi_logloss: 0.157845\n",
            "[123]\tvalid_0's multi_logloss: 0.15783\tvalid_0's multi_logloss: 0.15783\n",
            "[124]\tvalid_0's multi_logloss: 0.157833\tvalid_0's multi_logloss: 0.157833\n",
            "[125]\tvalid_0's multi_logloss: 0.157874\tvalid_0's multi_logloss: 0.157874\n",
            "[126]\tvalid_0's multi_logloss: 0.157874\tvalid_0's multi_logloss: 0.157874\n",
            "Early stopping, best iteration is:\n",
            "[116]\tvalid_0's multi_logloss: 0.157789\tvalid_0's multi_logloss: 0.157789\n",
            "training model for CV #5\n",
            "[1]\tvalid_0's multi_logloss: 0.880122\tvalid_0's multi_logloss: 0.880122\n",
            "Training until validation scores don't improve for 10 rounds.\n",
            "[2]\tvalid_0's multi_logloss: 0.794459\tvalid_0's multi_logloss: 0.794459\n",
            "[3]\tvalid_0's multi_logloss: 0.721103\tvalid_0's multi_logloss: 0.721103\n",
            "[4]\tvalid_0's multi_logloss: 0.661992\tvalid_0's multi_logloss: 0.661992\n",
            "[5]\tvalid_0's multi_logloss: 0.608126\tvalid_0's multi_logloss: 0.608126\n",
            "[6]\tvalid_0's multi_logloss: 0.564724\tvalid_0's multi_logloss: 0.564724\n",
            "[7]\tvalid_0's multi_logloss: 0.524154\tvalid_0's multi_logloss: 0.524154\n",
            "[8]\tvalid_0's multi_logloss: 0.490466\tvalid_0's multi_logloss: 0.490466\n",
            "[9]\tvalid_0's multi_logloss: 0.457297\tvalid_0's multi_logloss: 0.457297\n",
            "[10]\tvalid_0's multi_logloss: 0.431176\tvalid_0's multi_logloss: 0.431176\n",
            "[11]\tvalid_0's multi_logloss: 0.406779\tvalid_0's multi_logloss: 0.406779\n",
            "[12]\tvalid_0's multi_logloss: 0.382413\tvalid_0's multi_logloss: 0.382413\n",
            "[13]\tvalid_0's multi_logloss: 0.363757\tvalid_0's multi_logloss: 0.363757\n",
            "[14]\tvalid_0's multi_logloss: 0.344845\tvalid_0's multi_logloss: 0.344845\n",
            "[15]\tvalid_0's multi_logloss: 0.330264\tvalid_0's multi_logloss: 0.330264\n",
            "[16]\tvalid_0's multi_logloss: 0.314939\tvalid_0's multi_logloss: 0.314939\n",
            "[17]\tvalid_0's multi_logloss: 0.300439\tvalid_0's multi_logloss: 0.300439\n",
            "[18]\tvalid_0's multi_logloss: 0.289115\tvalid_0's multi_logloss: 0.289115\n",
            "[19]\tvalid_0's multi_logloss: 0.278014\tvalid_0's multi_logloss: 0.278014\n",
            "[20]\tvalid_0's multi_logloss: 0.268737\tvalid_0's multi_logloss: 0.268737\n",
            "[21]\tvalid_0's multi_logloss: 0.25952\tvalid_0's multi_logloss: 0.25952\n",
            "[22]\tvalid_0's multi_logloss: 0.251642\tvalid_0's multi_logloss: 0.251642\n",
            "[23]\tvalid_0's multi_logloss: 0.243284\tvalid_0's multi_logloss: 0.243284\n",
            "[24]\tvalid_0's multi_logloss: 0.236239\tvalid_0's multi_logloss: 0.236239\n",
            "[25]\tvalid_0's multi_logloss: 0.230102\tvalid_0's multi_logloss: 0.230102\n",
            "[26]\tvalid_0's multi_logloss: 0.223888\tvalid_0's multi_logloss: 0.223888\n",
            "[27]\tvalid_0's multi_logloss: 0.218651\tvalid_0's multi_logloss: 0.218651\n",
            "[28]\tvalid_0's multi_logloss: 0.214179\tvalid_0's multi_logloss: 0.214179\n",
            "[29]\tvalid_0's multi_logloss: 0.20944\tvalid_0's multi_logloss: 0.20944\n",
            "[30]\tvalid_0's multi_logloss: 0.205944\tvalid_0's multi_logloss: 0.205944\n",
            "[31]\tvalid_0's multi_logloss: 0.202609\tvalid_0's multi_logloss: 0.202609\n",
            "[32]\tvalid_0's multi_logloss: 0.198757\tvalid_0's multi_logloss: 0.198757\n",
            "[33]\tvalid_0's multi_logloss: 0.195796\tvalid_0's multi_logloss: 0.195796\n",
            "[34]\tvalid_0's multi_logloss: 0.19259\tvalid_0's multi_logloss: 0.19259\n",
            "[35]\tvalid_0's multi_logloss: 0.18994\tvalid_0's multi_logloss: 0.18994\n",
            "[36]\tvalid_0's multi_logloss: 0.187622\tvalid_0's multi_logloss: 0.187622\n",
            "[37]\tvalid_0's multi_logloss: 0.185034\tvalid_0's multi_logloss: 0.185034\n",
            "[38]\tvalid_0's multi_logloss: 0.183013\tvalid_0's multi_logloss: 0.183013\n",
            "[39]\tvalid_0's multi_logloss: 0.181006\tvalid_0's multi_logloss: 0.181006\n",
            "[40]\tvalid_0's multi_logloss: 0.179102\tvalid_0's multi_logloss: 0.179102\n",
            "[41]\tvalid_0's multi_logloss: 0.177388\tvalid_0's multi_logloss: 0.177388\n",
            "[42]\tvalid_0's multi_logloss: 0.17614\tvalid_0's multi_logloss: 0.17614\n",
            "[43]\tvalid_0's multi_logloss: 0.174736\tvalid_0's multi_logloss: 0.174736\n",
            "[44]\tvalid_0's multi_logloss: 0.173508\tvalid_0's multi_logloss: 0.173508\n",
            "[45]\tvalid_0's multi_logloss: 0.172203\tvalid_0's multi_logloss: 0.172203\n",
            "[46]\tvalid_0's multi_logloss: 0.1712\tvalid_0's multi_logloss: 0.1712\n",
            "[47]\tvalid_0's multi_logloss: 0.170192\tvalid_0's multi_logloss: 0.170192\n",
            "[48]\tvalid_0's multi_logloss: 0.169457\tvalid_0's multi_logloss: 0.169457\n",
            "[49]\tvalid_0's multi_logloss: 0.168748\tvalid_0's multi_logloss: 0.168748\n",
            "[50]\tvalid_0's multi_logloss: 0.167924\tvalid_0's multi_logloss: 0.167924\n",
            "[51]\tvalid_0's multi_logloss: 0.167208\tvalid_0's multi_logloss: 0.167208\n",
            "[52]\tvalid_0's multi_logloss: 0.166448\tvalid_0's multi_logloss: 0.166448\n",
            "[53]\tvalid_0's multi_logloss: 0.165754\tvalid_0's multi_logloss: 0.165754\n",
            "[54]\tvalid_0's multi_logloss: 0.165246\tvalid_0's multi_logloss: 0.165246\n",
            "[55]\tvalid_0's multi_logloss: 0.164812\tvalid_0's multi_logloss: 0.164812\n",
            "[56]\tvalid_0's multi_logloss: 0.164201\tvalid_0's multi_logloss: 0.164201\n",
            "[57]\tvalid_0's multi_logloss: 0.163833\tvalid_0's multi_logloss: 0.163833\n",
            "[58]\tvalid_0's multi_logloss: 0.163251\tvalid_0's multi_logloss: 0.163251\n",
            "[59]\tvalid_0's multi_logloss: 0.162721\tvalid_0's multi_logloss: 0.162721\n",
            "[60]\tvalid_0's multi_logloss: 0.162463\tvalid_0's multi_logloss: 0.162463\n",
            "[61]\tvalid_0's multi_logloss: 0.162216\tvalid_0's multi_logloss: 0.162216\n",
            "[62]\tvalid_0's multi_logloss: 0.161853\tvalid_0's multi_logloss: 0.161853\n",
            "[63]\tvalid_0's multi_logloss: 0.161355\tvalid_0's multi_logloss: 0.161355\n",
            "[64]\tvalid_0's multi_logloss: 0.161011\tvalid_0's multi_logloss: 0.161011\n",
            "[65]\tvalid_0's multi_logloss: 0.16073\tvalid_0's multi_logloss: 0.16073\n",
            "[66]\tvalid_0's multi_logloss: 0.160533\tvalid_0's multi_logloss: 0.160533\n",
            "[67]\tvalid_0's multi_logloss: 0.16027\tvalid_0's multi_logloss: 0.16027\n",
            "[68]\tvalid_0's multi_logloss: 0.16002\tvalid_0's multi_logloss: 0.16002\n",
            "[69]\tvalid_0's multi_logloss: 0.159818\tvalid_0's multi_logloss: 0.159818\n",
            "[70]\tvalid_0's multi_logloss: 0.159488\tvalid_0's multi_logloss: 0.159488\n",
            "[71]\tvalid_0's multi_logloss: 0.15929\tvalid_0's multi_logloss: 0.15929\n",
            "[72]\tvalid_0's multi_logloss: 0.158978\tvalid_0's multi_logloss: 0.158978\n",
            "[73]\tvalid_0's multi_logloss: 0.158792\tvalid_0's multi_logloss: 0.158792\n",
            "[74]\tvalid_0's multi_logloss: 0.158568\tvalid_0's multi_logloss: 0.158568\n",
            "[75]\tvalid_0's multi_logloss: 0.158371\tvalid_0's multi_logloss: 0.158371\n",
            "[76]\tvalid_0's multi_logloss: 0.158147\tvalid_0's multi_logloss: 0.158147\n",
            "[77]\tvalid_0's multi_logloss: 0.157962\tvalid_0's multi_logloss: 0.157962\n",
            "[78]\tvalid_0's multi_logloss: 0.157787\tvalid_0's multi_logloss: 0.157787\n",
            "[79]\tvalid_0's multi_logloss: 0.157645\tvalid_0's multi_logloss: 0.157645\n",
            "[80]\tvalid_0's multi_logloss: 0.1575\tvalid_0's multi_logloss: 0.1575\n",
            "[81]\tvalid_0's multi_logloss: 0.157418\tvalid_0's multi_logloss: 0.157418\n",
            "[82]\tvalid_0's multi_logloss: 0.15728\tvalid_0's multi_logloss: 0.15728\n",
            "[83]\tvalid_0's multi_logloss: 0.157152\tvalid_0's multi_logloss: 0.157152\n",
            "[84]\tvalid_0's multi_logloss: 0.157093\tvalid_0's multi_logloss: 0.157093\n",
            "[85]\tvalid_0's multi_logloss: 0.157003\tvalid_0's multi_logloss: 0.157003\n",
            "[86]\tvalid_0's multi_logloss: 0.156914\tvalid_0's multi_logloss: 0.156914\n",
            "[87]\tvalid_0's multi_logloss: 0.156763\tvalid_0's multi_logloss: 0.156763\n",
            "[88]\tvalid_0's multi_logloss: 0.156683\tvalid_0's multi_logloss: 0.156683\n",
            "[89]\tvalid_0's multi_logloss: 0.156584\tvalid_0's multi_logloss: 0.156584\n",
            "[90]\tvalid_0's multi_logloss: 0.156499\tvalid_0's multi_logloss: 0.156499\n",
            "[91]\tvalid_0's multi_logloss: 0.156422\tvalid_0's multi_logloss: 0.156422\n",
            "[92]\tvalid_0's multi_logloss: 0.156327\tvalid_0's multi_logloss: 0.156327\n",
            "[93]\tvalid_0's multi_logloss: 0.156296\tvalid_0's multi_logloss: 0.156296\n",
            "[94]\tvalid_0's multi_logloss: 0.156211\tvalid_0's multi_logloss: 0.156211\n",
            "[95]\tvalid_0's multi_logloss: 0.156175\tvalid_0's multi_logloss: 0.156175\n",
            "[96]\tvalid_0's multi_logloss: 0.156158\tvalid_0's multi_logloss: 0.156158\n",
            "[97]\tvalid_0's multi_logloss: 0.156135\tvalid_0's multi_logloss: 0.156135\n",
            "[98]\tvalid_0's multi_logloss: 0.156124\tvalid_0's multi_logloss: 0.156124\n",
            "[99]\tvalid_0's multi_logloss: 0.15608\tvalid_0's multi_logloss: 0.15608\n",
            "[100]\tvalid_0's multi_logloss: 0.156042\tvalid_0's multi_logloss: 0.156042\n",
            "[101]\tvalid_0's multi_logloss: 0.155968\tvalid_0's multi_logloss: 0.155968\n",
            "[102]\tvalid_0's multi_logloss: 0.155932\tvalid_0's multi_logloss: 0.155932\n",
            "[103]\tvalid_0's multi_logloss: 0.155884\tvalid_0's multi_logloss: 0.155884\n",
            "[104]\tvalid_0's multi_logloss: 0.155813\tvalid_0's multi_logloss: 0.155813\n",
            "[105]\tvalid_0's multi_logloss: 0.155761\tvalid_0's multi_logloss: 0.155761\n",
            "[106]\tvalid_0's multi_logloss: 0.15574\tvalid_0's multi_logloss: 0.15574\n",
            "[107]\tvalid_0's multi_logloss: 0.155757\tvalid_0's multi_logloss: 0.155757\n",
            "[108]\tvalid_0's multi_logloss: 0.155737\tvalid_0's multi_logloss: 0.155737\n",
            "[109]\tvalid_0's multi_logloss: 0.155701\tvalid_0's multi_logloss: 0.155701\n",
            "[110]\tvalid_0's multi_logloss: 0.15569\tvalid_0's multi_logloss: 0.15569\n",
            "[111]\tvalid_0's multi_logloss: 0.155643\tvalid_0's multi_logloss: 0.155643\n",
            "[112]\tvalid_0's multi_logloss: 0.155681\tvalid_0's multi_logloss: 0.155681\n",
            "[113]\tvalid_0's multi_logloss: 0.155704\tvalid_0's multi_logloss: 0.155704\n",
            "[114]\tvalid_0's multi_logloss: 0.155739\tvalid_0's multi_logloss: 0.155739\n",
            "[115]\tvalid_0's multi_logloss: 0.155702\tvalid_0's multi_logloss: 0.155702\n",
            "[116]\tvalid_0's multi_logloss: 0.155745\tvalid_0's multi_logloss: 0.155745\n",
            "[117]\tvalid_0's multi_logloss: 0.155732\tvalid_0's multi_logloss: 0.155732\n",
            "[118]\tvalid_0's multi_logloss: 0.155754\tvalid_0's multi_logloss: 0.155754\n",
            "[119]\tvalid_0's multi_logloss: 0.155753\tvalid_0's multi_logloss: 0.155753\n",
            "[120]\tvalid_0's multi_logloss: 0.155767\tvalid_0's multi_logloss: 0.155767\n",
            "[121]\tvalid_0's multi_logloss: 0.155769\tvalid_0's multi_logloss: 0.155769\n",
            "Early stopping, best iteration is:\n",
            "[111]\tvalid_0's multi_logloss: 0.155643\tvalid_0's multi_logloss: 0.155643\n"
          ],
          "name": "stdout"
        }
      ]
    },
    {
      "cell_type": "code",
      "metadata": {
        "ExecuteTime": {
          "end_time": "2020-10-05T08:54:00.428750Z",
          "start_time": "2020-10-05T08:54:00.363125Z"
        },
        "id": "ZUqbSjJvtjrD",
        "outputId": "3bf5cc7c-c18e-463f-c906-03b804433b6c",
        "colab": {
          "base_uri": "https://localhost:8080/",
          "height": 35
        }
      },
      "source": [
        "print(f'{accuracy_score(y, np.argmax(p_val, axis=1)) * 100:.4f}%')"
      ],
      "execution_count": null,
      "outputs": [
        {
          "output_type": "stream",
          "text": [
            "93.4184%\n"
          ],
          "name": "stdout"
        }
      ]
    },
    {
      "cell_type": "code",
      "metadata": {
        "ExecuteTime": {
          "end_time": "2020-10-05T08:54:00.469957Z",
          "start_time": "2020-10-05T08:54:00.431515Z"
        },
        "id": "seNf7mE5tjrF",
        "outputId": "7fbcb4b6-fa4d-47d2-fe33-af826346aede",
        "colab": {
          "base_uri": "https://localhost:8080/",
          "height": 35
        }
      },
      "source": [
        "print(p_val.shape, p_tst.shape)"
      ],
      "execution_count": null,
      "outputs": [
        {
          "output_type": "stream",
          "text": [
            "(320000, 3) (80000, 3)\n"
          ],
          "name": "stdout"
        }
      ]
    },
    {
      "cell_type": "code",
      "metadata": {
        "ExecuteTime": {
          "end_time": "2020-10-05T08:54:01.328066Z",
          "start_time": "2020-10-05T08:54:00.472868Z"
        },
        "id": "HHeoTJE7tjrH"
      },
      "source": [
        "np.savetxt(p_val_file, p_val, fmt='%.6f', delimiter=',')\n",
        "np.savetxt(p_tst_file, p_tst, fmt='%.6f', delimiter=',')"
      ],
      "execution_count": null,
      "outputs": []
    },
    {
      "cell_type": "markdown",
      "metadata": {
        "id": "8jTUoT-utjrI"
      },
      "source": [
        "## 피처 중요도 시각화"
      ]
    },
    {
      "cell_type": "code",
      "metadata": {
        "ExecuteTime": {
          "end_time": "2020-10-05T08:54:01.664554Z",
          "start_time": "2020-10-05T08:54:01.331052Z"
        },
        "id": "bpk0BoIytjrJ",
        "outputId": "18e87a0d-32ae-4fb4-b947-8dddbf1ae3f4",
        "colab": {
          "base_uri": "https://localhost:8080/",
          "height": 461
        }
      },
      "source": [
        "imp = pd.DataFrame({'feature': df.columns, 'importance': clf.feature_importances_})\n",
        "imp = imp.sort_values('importance').set_index('feature')\n",
        "imp.plot(kind='barh')"
      ],
      "execution_count": null,
      "outputs": [
        {
          "output_type": "execute_result",
          "data": {
            "text/plain": [
              "<matplotlib.axes._subplots.AxesSubplot at 0x7f4d661a0a90>"
            ]
          },
          "metadata": {
            "tags": []
          },
          "execution_count": 22
        },
        {
          "output_type": "display_data",
          "data": {
            "image/png": "[encoded data removed]",
            "text/plain": [
              "<Figure size 1152x576 with 1 Axes>"
            ]
          },
          "metadata": {
            "tags": []
          }
        }
      ]
    },
    {
      "cell_type": "markdown",
      "metadata": {
        "id": "pc3UP5yPtjrK"
      },
      "source": [
        "## 제출 파일 생성"
      ]
    },
    {
      "cell_type": "code",
      "metadata": {
        "ExecuteTime": {
          "end_time": "2020-10-05T08:54:01.717722Z",
          "start_time": "2020-10-05T08:54:01.667076Z"
        },
        "id": "0ekA4n-2tjrL",
        "outputId": "95aa3327-cf41-4068-ad4f-97d01b035e21",
        "colab": {
          "base_uri": "https://localhost:8080/",
          "height": 253
        }
      },
      "source": [
        "sub = pd.read_csv(sample_file, index_col=0)\n",
        "print(sub.shape)\n",
        "sub.head()"
      ],
      "execution_count": null,
      "outputs": [
        {
          "output_type": "stream",
          "text": [
            "(80000, 1)\n"
          ],
          "name": "stdout"
        },
        {
          "output_type": "execute_result",
          "data": {
            "text/html": [
              "<div>\n",
              "<style scoped>\n",
              "    .dataframe tbody tr th:only-of-type {\n",
              "        vertical-align: middle;\n",
              "    }\n",
              "\n",
              "    .dataframe tbody tr th {\n",
              "        vertical-align: top;\n",
              "    }\n",
              "\n",
              "    .dataframe thead th {\n",
              "        text-align: right;\n",
              "    }\n",
              "</style>\n",
              "<table border=\"1\" class=\"dataframe\">\n",
              "  <thead>\n",
              "    <tr style=\"text-align: right;\">\n",
              "      <th></th>\n",
              "      <th>class</th>\n",
              "    </tr>\n",
              "    <tr>\n",
              "      <th>id</th>\n",
              "      <th></th>\n",
              "    </tr>\n",
              "  </thead>\n",
              "  <tbody>\n",
              "    <tr>\n",
              "      <th>320000</th>\n",
              "      <td>0</td>\n",
              "    </tr>\n",
              "    <tr>\n",
              "      <th>320001</th>\n",
              "      <td>0</td>\n",
              "    </tr>\n",
              "    <tr>\n",
              "      <th>320002</th>\n",
              "      <td>0</td>\n",
              "    </tr>\n",
              "    <tr>\n",
              "      <th>320003</th>\n",
              "      <td>0</td>\n",
              "    </tr>\n",
              "    <tr>\n",
              "      <th>320004</th>\n",
              "      <td>0</td>\n",
              "    </tr>\n",
              "  </tbody>\n",
              "</table>\n",
              "</div>"
            ],
            "text/plain": [
              "        class\n",
              "id           \n",
              "320000      0\n",
              "320001      0\n",
              "320002      0\n",
              "320003      0\n",
              "320004      0"
            ]
          },
          "metadata": {
            "tags": []
          },
          "execution_count": 23
        }
      ]
    },
    {
      "cell_type": "code",
      "metadata": {
        "ExecuteTime": {
          "end_time": "2020-10-05T08:54:01.754346Z",
          "start_time": "2020-10-05T08:54:01.720089Z"
        },
        "id": "h29KJuaYtjrO",
        "outputId": "7ee287f5-3896-46eb-ddaf-68b1b17744b6",
        "colab": {
          "base_uri": "https://localhost:8080/",
          "height": 235
        }
      },
      "source": [
        "sub[target_col] = np.argmax(p_tst, axis=1)\n",
        "sub.head()"
      ],
      "execution_count": null,
      "outputs": [
        {
          "output_type": "execute_result",
          "data": {
            "text/html": [
              "<div>\n",
              "<style scoped>\n",
              "    .dataframe tbody tr th:only-of-type {\n",
              "        vertical-align: middle;\n",
              "    }\n",
              "\n",
              "    .dataframe tbody tr th {\n",
              "        vertical-align: top;\n",
              "    }\n",
              "\n",
              "    .dataframe thead th {\n",
              "        text-align: right;\n",
              "    }\n",
              "</style>\n",
              "<table border=\"1\" class=\"dataframe\">\n",
              "  <thead>\n",
              "    <tr style=\"text-align: right;\">\n",
              "      <th></th>\n",
              "      <th>class</th>\n",
              "    </tr>\n",
              "    <tr>\n",
              "      <th>id</th>\n",
              "      <th></th>\n",
              "    </tr>\n",
              "  </thead>\n",
              "  <tbody>\n",
              "    <tr>\n",
              "      <th>320000</th>\n",
              "      <td>2</td>\n",
              "    </tr>\n",
              "    <tr>\n",
              "      <th>320001</th>\n",
              "      <td>0</td>\n",
              "    </tr>\n",
              "    <tr>\n",
              "      <th>320002</th>\n",
              "      <td>2</td>\n",
              "    </tr>\n",
              "    <tr>\n",
              "      <th>320003</th>\n",
              "      <td>0</td>\n",
              "    </tr>\n",
              "    <tr>\n",
              "      <th>320004</th>\n",
              "      <td>2</td>\n",
              "    </tr>\n",
              "  </tbody>\n",
              "</table>\n",
              "</div>"
            ],
            "text/plain": [
              "        class\n",
              "id           \n",
              "320000      2\n",
              "320001      0\n",
              "320002      2\n",
              "320003      0\n",
              "320004      2"
            ]
          },
          "metadata": {
            "tags": []
          },
          "execution_count": 24
        }
      ]
    },
    {
      "cell_type": "code",
      "metadata": {
        "ExecuteTime": {
          "end_time": "2020-10-05T08:54:01.788659Z",
          "start_time": "2020-10-05T08:54:01.756610Z"
        },
        "id": "7LcCdan6tjrQ",
        "outputId": "c7642d43-9862-47bf-e85b-a3d4a0e8645f",
        "colab": {
          "base_uri": "https://localhost:8080/",
          "height": 89
        }
      },
      "source": [
        "sub[target_col].value_counts()"
      ],
      "execution_count": null,
      "outputs": [
        {
          "output_type": "execute_result",
          "data": {
            "text/plain": [
              "2    40740\n",
              "0    29978\n",
              "1     9282\n",
              "Name: class, dtype: int64"
            ]
          },
          "metadata": {
            "tags": []
          },
          "execution_count": 25
        }
      ]
    },
    {
      "cell_type": "code",
      "metadata": {
        "ExecuteTime": {
          "end_time": "2020-10-05T08:54:01.936033Z",
          "start_time": "2020-10-05T08:54:01.791219Z"
        },
        "id": "7moq2y6htjrR"
      },
      "source": [
        "sub.to_csv(sub_file)"
      ],
      "execution_count": null,
      "outputs": []
    },
    {
      "cell_type": "code",
      "metadata": {
        "id": "vogtzaqFtjrT"
      },
      "source": [
        ""
      ],
      "execution_count": null,
      "outputs": []
    }
  ]
}