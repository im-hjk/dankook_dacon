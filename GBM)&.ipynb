{
  "nbformat": 4,
  "nbformat_minor": 0,
  "metadata": {
    "colab": {
      "name": "GBM)&.ipynb",
      "provenance": [],
      "collapsed_sections": [],
      "authorship_tag": "ABX9TyPeRx8pbUvXsJ9ifuy/KCfm",
      "include_colab_link": true
    },
    "kernelspec": {
      "name": "python3",
      "display_name": "Python 3"
    }
  },
  "cells": [
    {
      "cell_type": "markdown",
      "metadata": {
        "id": "view-in-github",
        "colab_type": "text"
      },
      "source": [
        "<a href=\"https://colab.research.google.com/github/im-hjk/dankook_dacon/blob/master/GBM)%26.ipynb\" target=\"_parent\"><img src=\"https://colab.research.google.com/assets/colab-badge.svg\" alt=\"Open In Colab\"/></a>"
      ]
    },
    {
      "cell_type": "markdown",
      "metadata": {
        "id": "8XJMceeWlbNV"
      },
      "source": [
        "# 임포트 하는 부분!"
      ]
    },
    {
      "cell_type": "code",
      "metadata": {
        "id": "KpYfmlIwiudZ"
      },
      "source": [
        "%reload_ext autoreload\n",
        "%autoreload 2\n",
        "%matplotlib inline"
      ],
      "execution_count": 1,
      "outputs": []
    },
    {
      "cell_type": "code",
      "metadata": {
        "id": "MkXkyC2YlNqN",
        "outputId": "642ff0bb-afe4-4a91-c554-b7755e850bc9",
        "colab": {
          "base_uri": "https://localhost:8080/",
          "height": 35
        }
      },
      "source": [
        "from google.colab import drive \n",
        "drive.mount('/content/drive')"
      ],
      "execution_count": 2,
      "outputs": [
        {
          "output_type": "stream",
          "text": [
            "Mounted at /content/drive\n"
          ],
          "name": "stdout"
        }
      ]
    },
    {
      "cell_type": "code",
      "metadata": {
        "id": "pApBJfc-lNsD",
        "outputId": "573d1254-41f2-4ef7-bd7f-a9f298b7a11f",
        "colab": {
          "base_uri": "https://localhost:8080/",
          "height": 53
        }
      },
      "source": [
        "import graphviz\n",
        "from matplotlib import pyplot as plt\n",
        "from matplotlib import rcParams\n",
        "import numpy as np\n",
        "from pathlib import Path\n",
        "import io\n",
        "import pandas as pd\n",
        "import lightgbm as lgb\n",
        "from sklearn.metrics import accuracy_score\n",
        "from sklearn.model_selection import train_test_split\n",
        "import seaborn as sns\n",
        "import warnings"
      ],
      "execution_count": 3,
      "outputs": [
        {
          "output_type": "stream",
          "text": [
            "/usr/local/lib/python3.6/dist-packages/statsmodels/tools/_testing.py:19: FutureWarning: pandas.util.testing is deprecated. Use the functions in the public API at pandas.testing instead.\n",
            "  import pandas.util.testing as tm\n"
          ],
          "name": "stderr"
        }
      ]
    },
    {
      "cell_type": "code",
      "metadata": {
        "id": "9jFUiiM0lNuS"
      },
      "source": [
        "rcParams['figure.figsize'] = (16, 8)\n",
        "plt.style.use('fivethirtyeight')\n",
        "pd.set_option('max_columns', 100)\n",
        "pd.set_option(\"display.precision\", 4)\n",
        "warnings.simplefilter('ignore')"
      ],
      "execution_count": 4,
      "outputs": []
    },
    {
      "cell_type": "markdown",
      "metadata": {
        "id": "j1yUkQFzlXpO"
      },
      "source": [
        "#데이터 로딩!!"
      ]
    },
    {
      "cell_type": "code",
      "metadata": {
        "id": "8QDtoiG_lNwO"
      },
      "source": [
        "data_dir = Path('/content/drive/My Drive/Colab Notebooks/dacon_dkdkdk/data/dacon-dku')\n",
        "feature_dir = Path('/content/drive/My Drive/Colab Notebooks/dacon_dkdkdk/build/feature')\n",
        "sub_dir = Path('/content/drive/My Drive/Colab Notebooks/dacon_dkdkdk/build/sub')\n",
        "\n",
        "trn_file = data_dir / 'train.csv'\n",
        "tst_file = data_dir / 'test.csv'\n",
        "sample_file = data_dir / 'sample_submission.csv'\n",
        "\n",
        "target_col = 'class'\n",
        "seed = 42"
      ],
      "execution_count": 5,
      "outputs": []
    },
    {
      "cell_type": "code",
      "metadata": {
        "id": "e1kilwpblNyE"
      },
      "source": [
        "algo_name = 'lgb'\n",
        "feature_name = 'feature'\n",
        "model_name = f'{algo_name}_{feature_name}'\n",
        "\n",
        "feature_file = feature_dir / f'{feature_name}.csv'\n",
        "sub_file = sub_dir / f'{model_name}.csv'"
      ],
      "execution_count": 6,
      "outputs": []
    },
    {
      "cell_type": "code",
      "metadata": {
        "id": "ED7-Pm2alNz7",
        "outputId": "9e9350d8-b973-42de-8b2c-dd2b6c5a1bbf",
        "colab": {
          "base_uri": "https://localhost:8080/",
          "height": 253
        }
      },
      "source": [
        "df = pd.read_csv(feature_file, index_col=0)\n",
        "print(df.shape)\n",
        "df.head()"
      ],
      "execution_count": 7,
      "outputs": [
        {
          "output_type": "stream",
          "text": [
            "(400000, 20)\n"
          ],
          "name": "stdout"
        },
        {
          "output_type": "execute_result",
          "data": {
            "text/html": [
              "<div>\n",
              "<style scoped>\n",
              "    .dataframe tbody tr th:only-of-type {\n",
              "        vertical-align: middle;\n",
              "    }\n",
              "\n",
              "    .dataframe tbody tr th {\n",
              "        vertical-align: top;\n",
              "    }\n",
              "\n",
              "    .dataframe thead th {\n",
              "        text-align: right;\n",
              "    }\n",
              "</style>\n",
              "<table border=\"1\" class=\"dataframe\">\n",
              "  <thead>\n",
              "    <tr style=\"text-align: right;\">\n",
              "      <th></th>\n",
              "      <th>z</th>\n",
              "      <th>redshift</th>\n",
              "      <th>dered_u</th>\n",
              "      <th>dered_g</th>\n",
              "      <th>dered_r</th>\n",
              "      <th>dered_i</th>\n",
              "      <th>dered_z</th>\n",
              "      <th>nObserve</th>\n",
              "      <th>airmass_u</th>\n",
              "      <th>class</th>\n",
              "      <th>d_dered_u</th>\n",
              "      <th>d_dered_g</th>\n",
              "      <th>d_dered_r</th>\n",
              "      <th>d_dered_i</th>\n",
              "      <th>d_dered_z</th>\n",
              "      <th>d_dered_ig</th>\n",
              "      <th>d_dered_zg</th>\n",
              "      <th>d_dered_rz</th>\n",
              "      <th>d_dered_iz</th>\n",
              "      <th>d_obs_det</th>\n",
              "    </tr>\n",
              "    <tr>\n",
              "      <th>id</th>\n",
              "      <th></th>\n",
              "      <th></th>\n",
              "      <th></th>\n",
              "      <th></th>\n",
              "      <th></th>\n",
              "      <th></th>\n",
              "      <th></th>\n",
              "      <th></th>\n",
              "      <th></th>\n",
              "      <th></th>\n",
              "      <th></th>\n",
              "      <th></th>\n",
              "      <th></th>\n",
              "      <th></th>\n",
              "      <th></th>\n",
              "      <th></th>\n",
              "      <th></th>\n",
              "      <th></th>\n",
              "      <th></th>\n",
              "      <th></th>\n",
              "    </tr>\n",
              "  </thead>\n",
              "  <tbody>\n",
              "    <tr>\n",
              "      <th>0</th>\n",
              "      <td>16.9396</td>\n",
              "      <td>-8.1086e-05</td>\n",
              "      <td>23.1243</td>\n",
              "      <td>20.2578</td>\n",
              "      <td>18.9551</td>\n",
              "      <td>17.6321</td>\n",
              "      <td>16.9089</td>\n",
              "      <td>2.9444</td>\n",
              "      <td>1.1898</td>\n",
              "      <td>0.0</td>\n",
              "      <td>-0.1397</td>\n",
              "      <td>-0.0790</td>\n",
              "      <td>-0.0544</td>\n",
              "      <td>-0.0403</td>\n",
              "      <td>-0.0307</td>\n",
              "      <td>-2.6257</td>\n",
              "      <td>-3.3488</td>\n",
              "      <td>2.0462</td>\n",
              "      <td>0.7232</td>\n",
              "      <td>-15.0556</td>\n",
              "    </tr>\n",
              "    <tr>\n",
              "      <th>1</th>\n",
              "      <td>13.1689</td>\n",
              "      <td>4.5061e-03</td>\n",
              "      <td>14.9664</td>\n",
              "      <td>14.0045</td>\n",
              "      <td>13.4114</td>\n",
              "      <td>13.2363</td>\n",
              "      <td>13.1347</td>\n",
              "      <td>0.6931</td>\n",
              "      <td>1.2533</td>\n",
              "      <td>1.0</td>\n",
              "      <td>-0.0857</td>\n",
              "      <td>-0.0574</td>\n",
              "      <td>-0.0410</td>\n",
              "      <td>-0.0322</td>\n",
              "      <td>-0.0343</td>\n",
              "      <td>-0.7683</td>\n",
              "      <td>-0.8698</td>\n",
              "      <td>0.2767</td>\n",
              "      <td>0.1016</td>\n",
              "      <td>-0.3069</td>\n",
              "    </tr>\n",
              "    <tr>\n",
              "      <th>2</th>\n",
              "      <td>15.3500</td>\n",
              "      <td>4.7198e-04</td>\n",
              "      <td>16.6076</td>\n",
              "      <td>15.6866</td>\n",
              "      <td>15.4400</td>\n",
              "      <td>15.3217</td>\n",
              "      <td>15.2961</td>\n",
              "      <td>1.0986</td>\n",
              "      <td>1.0225</td>\n",
              "      <td>0.0</td>\n",
              "      <td>-0.1787</td>\n",
              "      <td>-0.1388</td>\n",
              "      <td>-0.0963</td>\n",
              "      <td>-0.0718</td>\n",
              "      <td>-0.0540</td>\n",
              "      <td>-0.3649</td>\n",
              "      <td>-0.3905</td>\n",
              "      <td>0.1440</td>\n",
              "      <td>0.0257</td>\n",
              "      <td>-0.9014</td>\n",
              "    </tr>\n",
              "    <tr>\n",
              "      <th>3</th>\n",
              "      <td>19.6346</td>\n",
              "      <td>5.8143e-06</td>\n",
              "      <td>25.3536</td>\n",
              "      <td>20.9947</td>\n",
              "      <td>20.0873</td>\n",
              "      <td>19.7947</td>\n",
              "      <td>19.5552</td>\n",
              "      <td>1.6094</td>\n",
              "      <td>1.2054</td>\n",
              "      <td>0.0</td>\n",
              "      <td>-0.3070</td>\n",
              "      <td>-0.1941</td>\n",
              "      <td>-0.1339</td>\n",
              "      <td>-0.1003</td>\n",
              "      <td>-0.0795</td>\n",
              "      <td>-1.2000</td>\n",
              "      <td>-1.4395</td>\n",
              "      <td>0.5321</td>\n",
              "      <td>0.2395</td>\n",
              "      <td>-1.3906</td>\n",
              "    </tr>\n",
              "    <tr>\n",
              "      <th>4</th>\n",
              "      <td>17.9826</td>\n",
              "      <td>-3.3247e-05</td>\n",
              "      <td>23.7714</td>\n",
              "      <td>20.4338</td>\n",
              "      <td>18.8630</td>\n",
              "      <td>18.1903</td>\n",
              "      <td>17.8759</td>\n",
              "      <td>2.6391</td>\n",
              "      <td>1.1939</td>\n",
              "      <td>0.0</td>\n",
              "      <td>-0.6820</td>\n",
              "      <td>-0.2653</td>\n",
              "      <td>-0.1794</td>\n",
              "      <td>-0.1339</td>\n",
              "      <td>-0.1067</td>\n",
              "      <td>-2.2436</td>\n",
              "      <td>-2.5579</td>\n",
              "      <td>0.9871</td>\n",
              "      <td>0.3144</td>\n",
              "      <td>-9.3609</td>\n",
              "    </tr>\n",
              "  </tbody>\n",
              "</table>\n",
              "</div>"
            ],
            "text/plain": [
              "          z    redshift  dered_u  dered_g  dered_r  dered_i  dered_z  \\\n",
              "id                                                                     \n",
              "0   16.9396 -8.1086e-05  23.1243  20.2578  18.9551  17.6321  16.9089   \n",
              "1   13.1689  4.5061e-03  14.9664  14.0045  13.4114  13.2363  13.1347   \n",
              "2   15.3500  4.7198e-04  16.6076  15.6866  15.4400  15.3217  15.2961   \n",
              "3   19.6346  5.8143e-06  25.3536  20.9947  20.0873  19.7947  19.5552   \n",
              "4   17.9826 -3.3247e-05  23.7714  20.4338  18.8630  18.1903  17.8759   \n",
              "\n",
              "    nObserve  airmass_u  class  d_dered_u  d_dered_g  d_dered_r  d_dered_i  \\\n",
              "id                                                                           \n",
              "0     2.9444     1.1898    0.0    -0.1397    -0.0790    -0.0544    -0.0403   \n",
              "1     0.6931     1.2533    1.0    -0.0857    -0.0574    -0.0410    -0.0322   \n",
              "2     1.0986     1.0225    0.0    -0.1787    -0.1388    -0.0963    -0.0718   \n",
              "3     1.6094     1.2054    0.0    -0.3070    -0.1941    -0.1339    -0.1003   \n",
              "4     2.6391     1.1939    0.0    -0.6820    -0.2653    -0.1794    -0.1339   \n",
              "\n",
              "    d_dered_z  d_dered_ig  d_dered_zg  d_dered_rz  d_dered_iz  d_obs_det  \n",
              "id                                                                        \n",
              "0     -0.0307     -2.6257     -3.3488      2.0462      0.7232   -15.0556  \n",
              "1     -0.0343     -0.7683     -0.8698      0.2767      0.1016    -0.3069  \n",
              "2     -0.0540     -0.3649     -0.3905      0.1440      0.0257    -0.9014  \n",
              "3     -0.0795     -1.2000     -1.4395      0.5321      0.2395    -1.3906  \n",
              "4     -0.1067     -2.2436     -2.5579      0.9871      0.3144    -9.3609  "
            ]
          },
          "metadata": {
            "tags": []
          },
          "execution_count": 7
        }
      ]
    },
    {
      "cell_type": "code",
      "metadata": {
        "id": "6rNtZvXEKu28",
        "outputId": "ea6870dc-c85b-49a6-a636-e463ad1634fa",
        "colab": {
          "base_uri": "https://localhost:8080/",
          "height": 35
        }
      },
      "source": [
        "y = df[target_col].values[:320000]\n",
        "df.drop(target_col, axis=1, inplace=True)\n",
        "trn = df.iloc[:320000]\n",
        "tst = df.iloc[320000:]\n",
        "feature_name = df.columns.tolist()\n",
        "print(y.shape, trn.shape, tst.shape)"
      ],
      "execution_count": 8,
      "outputs": [
        {
          "output_type": "stream",
          "text": [
            "(320000,) (320000, 19) (80000, 19)\n"
          ],
          "name": "stdout"
        }
      ]
    },
    {
      "cell_type": "markdown",
      "metadata": {
        "id": "CoZ4bwUkKyM7"
      },
      "source": [
        "#학습 / 검증 구분하기!!\n"
      ]
    },
    {
      "cell_type": "code",
      "metadata": {
        "id": "Bi1L7bEsK1pH",
        "outputId": "09da511c-4e4c-4309-8555-c7f6f54adbfd",
        "colab": {
          "base_uri": "https://localhost:8080/",
          "height": 35
        }
      },
      "source": [
        "X_trn, X_val, y_trn, y_val = train_test_split(trn, y, test_size=.2, random_state=seed)\n",
        "print(X_trn.shape, X_val.shape, y_trn.shape, y_val.shape)"
      ],
      "execution_count": 9,
      "outputs": [
        {
          "output_type": "stream",
          "text": [
            "(256000, 19) (64000, 19) (256000,) (64000,)\n"
          ],
          "name": "stdout"
        }
      ]
    },
    {
      "cell_type": "markdown",
      "metadata": {
        "id": "YUjB5P8Wl7ku"
      },
      "source": [
        "#학습하기!!!\n"
      ]
    },
    {
      "cell_type": "code",
      "metadata": {
        "id": "GZngSm9il9dh",
        "outputId": "732964d5-bed4-4fb5-d553-a634c82ec20b",
        "colab": {
          "base_uri": "https://localhost:8080/",
          "height": 1000
        }
      },
      "source": [
        "clf = lgb.LGBMClassifier(objective='multiclass',\n",
        "                         n_estimators=1000,\n",
        "                         num_leaves=64,\n",
        "                         learning_rate=0.1,\n",
        "                         min_child_samples=10,\n",
        "                         subsample=.5,\n",
        "                         subsample_freq=1,\n",
        "                         colsample_bytree=.8,\n",
        "                         random_state=seed,\n",
        "                         n_jobs=-1)\n",
        "clf.fit(X_trn, y_trn,\n",
        "        eval_set=[(X_val, y_val)],\n",
        "        eval_metric='multiclass',\n",
        "        early_stopping_rounds=10)\n",
        "p_val = clf.predict(X_val)\n",
        "p_tst = clf.predict(tst)"
      ],
      "execution_count": 10,
      "outputs": [
        {
          "output_type": "stream",
          "text": [
            "[1]\tvalid_0's multi_logloss: 0.889466\n",
            "Training until validation scores don't improve for 10 rounds.\n",
            "[2]\tvalid_0's multi_logloss: 0.809411\n",
            "[3]\tvalid_0's multi_logloss: 0.737205\n",
            "[4]\tvalid_0's multi_logloss: 0.67578\n",
            "[5]\tvalid_0's multi_logloss: 0.622648\n",
            "[6]\tvalid_0's multi_logloss: 0.58102\n",
            "[7]\tvalid_0's multi_logloss: 0.541851\n",
            "[8]\tvalid_0's multi_logloss: 0.509749\n",
            "[9]\tvalid_0's multi_logloss: 0.48277\n",
            "[10]\tvalid_0's multi_logloss: 0.453402\n",
            "[11]\tvalid_0's multi_logloss: 0.427857\n",
            "[12]\tvalid_0's multi_logloss: 0.404554\n",
            "[13]\tvalid_0's multi_logloss: 0.383858\n",
            "[14]\tvalid_0's multi_logloss: 0.364991\n",
            "[15]\tvalid_0's multi_logloss: 0.348485\n",
            "[16]\tvalid_0's multi_logloss: 0.334275\n",
            "[17]\tvalid_0's multi_logloss: 0.321026\n",
            "[18]\tvalid_0's multi_logloss: 0.308562\n",
            "[19]\tvalid_0's multi_logloss: 0.297153\n",
            "[20]\tvalid_0's multi_logloss: 0.287213\n",
            "[21]\tvalid_0's multi_logloss: 0.277694\n",
            "[22]\tvalid_0's multi_logloss: 0.268968\n",
            "[23]\tvalid_0's multi_logloss: 0.261297\n",
            "[24]\tvalid_0's multi_logloss: 0.254532\n",
            "[25]\tvalid_0's multi_logloss: 0.248445\n",
            "[26]\tvalid_0's multi_logloss: 0.243844\n",
            "[27]\tvalid_0's multi_logloss: 0.238223\n",
            "[28]\tvalid_0's multi_logloss: 0.233057\n",
            "[29]\tvalid_0's multi_logloss: 0.228361\n",
            "[30]\tvalid_0's multi_logloss: 0.223884\n",
            "[31]\tvalid_0's multi_logloss: 0.220737\n",
            "[32]\tvalid_0's multi_logloss: 0.21734\n",
            "[33]\tvalid_0's multi_logloss: 0.213778\n",
            "[34]\tvalid_0's multi_logloss: 0.21062\n",
            "[35]\tvalid_0's multi_logloss: 0.207613\n",
            "[36]\tvalid_0's multi_logloss: 0.205098\n",
            "[37]\tvalid_0's multi_logloss: 0.202626\n",
            "[38]\tvalid_0's multi_logloss: 0.200221\n",
            "[39]\tvalid_0's multi_logloss: 0.198121\n",
            "[40]\tvalid_0's multi_logloss: 0.196101\n",
            "[41]\tvalid_0's multi_logloss: 0.194195\n",
            "[42]\tvalid_0's multi_logloss: 0.192606\n",
            "[43]\tvalid_0's multi_logloss: 0.191051\n",
            "[44]\tvalid_0's multi_logloss: 0.189511\n",
            "[45]\tvalid_0's multi_logloss: 0.188333\n",
            "[46]\tvalid_0's multi_logloss: 0.186999\n",
            "[47]\tvalid_0's multi_logloss: 0.185805\n",
            "[48]\tvalid_0's multi_logloss: 0.184816\n",
            "[49]\tvalid_0's multi_logloss: 0.183725\n",
            "[50]\tvalid_0's multi_logloss: 0.182696\n",
            "[51]\tvalid_0's multi_logloss: 0.181666\n",
            "[52]\tvalid_0's multi_logloss: 0.180837\n",
            "[53]\tvalid_0's multi_logloss: 0.180102\n",
            "[54]\tvalid_0's multi_logloss: 0.179444\n",
            "[55]\tvalid_0's multi_logloss: 0.178804\n",
            "[56]\tvalid_0's multi_logloss: 0.178246\n",
            "[57]\tvalid_0's multi_logloss: 0.177698\n",
            "[58]\tvalid_0's multi_logloss: 0.177127\n",
            "[59]\tvalid_0's multi_logloss: 0.176559\n",
            "[60]\tvalid_0's multi_logloss: 0.176047\n",
            "[61]\tvalid_0's multi_logloss: 0.17546\n",
            "[62]\tvalid_0's multi_logloss: 0.174944\n",
            "[63]\tvalid_0's multi_logloss: 0.174552\n",
            "[64]\tvalid_0's multi_logloss: 0.174033\n",
            "[65]\tvalid_0's multi_logloss: 0.173549\n",
            "[66]\tvalid_0's multi_logloss: 0.173208\n",
            "[67]\tvalid_0's multi_logloss: 0.172818\n",
            "[68]\tvalid_0's multi_logloss: 0.172445\n",
            "[69]\tvalid_0's multi_logloss: 0.172092\n",
            "[70]\tvalid_0's multi_logloss: 0.171624\n",
            "[71]\tvalid_0's multi_logloss: 0.1714\n",
            "[72]\tvalid_0's multi_logloss: 0.171168\n",
            "[73]\tvalid_0's multi_logloss: 0.170877\n",
            "[74]\tvalid_0's multi_logloss: 0.170658\n",
            "[75]\tvalid_0's multi_logloss: 0.170434\n",
            "[76]\tvalid_0's multi_logloss: 0.170178\n",
            "[77]\tvalid_0's multi_logloss: 0.169887\n",
            "[78]\tvalid_0's multi_logloss: 0.169659\n",
            "[79]\tvalid_0's multi_logloss: 0.169507\n",
            "[80]\tvalid_0's multi_logloss: 0.169304\n",
            "[81]\tvalid_0's multi_logloss: 0.169153\n",
            "[82]\tvalid_0's multi_logloss: 0.169537\n",
            "[83]\tvalid_0's multi_logloss: 0.168887\n",
            "[84]\tvalid_0's multi_logloss: 0.168684\n",
            "[85]\tvalid_0's multi_logloss: 0.170404\n",
            "[86]\tvalid_0's multi_logloss: 0.169608\n",
            "[87]\tvalid_0's multi_logloss: 0.169212\n",
            "[88]\tvalid_0's multi_logloss: 0.16904\n",
            "[89]\tvalid_0's multi_logloss: 0.16891\n",
            "[90]\tvalid_0's multi_logloss: 0.168799\n",
            "[91]\tvalid_0's multi_logloss: 0.171905\n",
            "[92]\tvalid_0's multi_logloss: 0.170851\n",
            "[93]\tvalid_0's multi_logloss: 0.170291\n",
            "[94]\tvalid_0's multi_logloss: 0.170121\n",
            "Early stopping, best iteration is:\n",
            "[84]\tvalid_0's multi_logloss: 0.168684\n"
          ],
          "name": "stdout"
        }
      ]
    },
    {
      "cell_type": "code",
      "metadata": {
        "id": "-Gio2xV2l9i_",
        "outputId": "30f42b68-219d-4119-828c-ca877de771af",
        "colab": {
          "base_uri": "https://localhost:8080/",
          "height": 35
        }
      },
      "source": [
        "print(f'{accuracy_score(y_val, p_val) * 100:.4f}%')"
      ],
      "execution_count": 11,
      "outputs": [
        {
          "output_type": "stream",
          "text": [
            "92.9359%\n"
          ],
          "name": "stdout"
        }
      ]
    },
    {
      "cell_type": "markdown",
      "metadata": {
        "id": "cFe5Nk44K59_"
      },
      "source": [
        "#중요도 시각화!!"
      ]
    },
    {
      "cell_type": "code",
      "metadata": {
        "id": "9pDPNbTPl9lc",
        "outputId": "905016b9-80d8-4cd8-cd32-d8377db64bd8",
        "colab": {
          "base_uri": "https://localhost:8080/",
          "height": 533
        }
      },
      "source": [
        "imp = pd.DataFrame({'feature': trn.columns, 'importance': clf.feature_importances_})\n",
        "imp = imp.sort_values('importance').set_index('feature')\n",
        "imp.plot(kind='barh')"
      ],
      "execution_count": 12,
      "outputs": [
        {
          "output_type": "execute_result",
          "data": {
            "text/plain": [
              "<matplotlib.axes._subplots.AxesSubplot at 0x7f218bec9748>"
            ]
          },
          "metadata": {
            "tags": []
          },
          "execution_count": 12
        },
        {
          "output_type": "display_data",
          "data": {
            "image/png": "[encoded data removed]",
            "text/plain": [
              "<Figure size 1152x576 with 1 Axes>"
            ]
          },
          "metadata": {
            "tags": []
          }
        }
      ]
    },
    {
      "cell_type": "markdown",
      "metadata": {
        "id": "ke2RiwROLCQk"
      },
      "source": [
        "#제출파일 생성!!"
      ]
    },
    {
      "cell_type": "code",
      "metadata": {
        "id": "iJ6Ir_Qdl9nL",
        "outputId": "3ecd44cb-b70b-4860-e75b-7dfdf080dcb7",
        "colab": {
          "base_uri": "https://localhost:8080/",
          "height": 253
        }
      },
      "source": [
        "sub = pd.read_csv(sample_file, index_col=0)\n",
        "print(sub.shape)\n",
        "sub.head()"
      ],
      "execution_count": 13,
      "outputs": [
        {
          "output_type": "stream",
          "text": [
            "(80000, 1)\n"
          ],
          "name": "stdout"
        },
        {
          "output_type": "execute_result",
          "data": {
            "text/html": [
              "<div>\n",
              "<style scoped>\n",
              "    .dataframe tbody tr th:only-of-type {\n",
              "        vertical-align: middle;\n",
              "    }\n",
              "\n",
              "    .dataframe tbody tr th {\n",
              "        vertical-align: top;\n",
              "    }\n",
              "\n",
              "    .dataframe thead th {\n",
              "        text-align: right;\n",
              "    }\n",
              "</style>\n",
              "<table border=\"1\" class=\"dataframe\">\n",
              "  <thead>\n",
              "    <tr style=\"text-align: right;\">\n",
              "      <th></th>\n",
              "      <th>class</th>\n",
              "    </tr>\n",
              "    <tr>\n",
              "      <th>id</th>\n",
              "      <th></th>\n",
              "    </tr>\n",
              "  </thead>\n",
              "  <tbody>\n",
              "    <tr>\n",
              "      <th>320000</th>\n",
              "      <td>0</td>\n",
              "    </tr>\n",
              "    <tr>\n",
              "      <th>320001</th>\n",
              "      <td>0</td>\n",
              "    </tr>\n",
              "    <tr>\n",
              "      <th>320002</th>\n",
              "      <td>0</td>\n",
              "    </tr>\n",
              "    <tr>\n",
              "      <th>320003</th>\n",
              "      <td>0</td>\n",
              "    </tr>\n",
              "    <tr>\n",
              "      <th>320004</th>\n",
              "      <td>0</td>\n",
              "    </tr>\n",
              "  </tbody>\n",
              "</table>\n",
              "</div>"
            ],
            "text/plain": [
              "        class\n",
              "id           \n",
              "320000      0\n",
              "320001      0\n",
              "320002      0\n",
              "320003      0\n",
              "320004      0"
            ]
          },
          "metadata": {
            "tags": []
          },
          "execution_count": 13
        }
      ]
    },
    {
      "cell_type": "code",
      "metadata": {
        "id": "zzVNdiv7l9pA",
        "outputId": "9026e7e5-a55e-4be6-c468-1cd48a306015",
        "colab": {
          "base_uri": "https://localhost:8080/",
          "height": 235
        }
      },
      "source": [
        "sub[target_col] = p_tst\n",
        "sub.head()"
      ],
      "execution_count": 14,
      "outputs": [
        {
          "output_type": "execute_result",
          "data": {
            "text/html": [
              "<div>\n",
              "<style scoped>\n",
              "    .dataframe tbody tr th:only-of-type {\n",
              "        vertical-align: middle;\n",
              "    }\n",
              "\n",
              "    .dataframe tbody tr th {\n",
              "        vertical-align: top;\n",
              "    }\n",
              "\n",
              "    .dataframe thead th {\n",
              "        text-align: right;\n",
              "    }\n",
              "</style>\n",
              "<table border=\"1\" class=\"dataframe\">\n",
              "  <thead>\n",
              "    <tr style=\"text-align: right;\">\n",
              "      <th></th>\n",
              "      <th>class</th>\n",
              "    </tr>\n",
              "    <tr>\n",
              "      <th>id</th>\n",
              "      <th></th>\n",
              "    </tr>\n",
              "  </thead>\n",
              "  <tbody>\n",
              "    <tr>\n",
              "      <th>320000</th>\n",
              "      <td>2.0</td>\n",
              "    </tr>\n",
              "    <tr>\n",
              "      <th>320001</th>\n",
              "      <td>0.0</td>\n",
              "    </tr>\n",
              "    <tr>\n",
              "      <th>320002</th>\n",
              "      <td>2.0</td>\n",
              "    </tr>\n",
              "    <tr>\n",
              "      <th>320003</th>\n",
              "      <td>0.0</td>\n",
              "    </tr>\n",
              "    <tr>\n",
              "      <th>320004</th>\n",
              "      <td>2.0</td>\n",
              "    </tr>\n",
              "  </tbody>\n",
              "</table>\n",
              "</div>"
            ],
            "text/plain": [
              "        class\n",
              "id           \n",
              "320000    2.0\n",
              "320001    0.0\n",
              "320002    2.0\n",
              "320003    0.0\n",
              "320004    2.0"
            ]
          },
          "metadata": {
            "tags": []
          },
          "execution_count": 14
        }
      ]
    },
    {
      "cell_type": "code",
      "metadata": {
        "id": "6_lL4loIK_Q2",
        "outputId": "5cbfbc5d-cafe-4d13-c70f-551782a5e6b3",
        "colab": {
          "base_uri": "https://localhost:8080/",
          "height": 89
        }
      },
      "source": [
        "sub[target_col].value_counts()"
      ],
      "execution_count": 15,
      "outputs": [
        {
          "output_type": "execute_result",
          "data": {
            "text/plain": [
              "2.0    41353\n",
              "0.0    29982\n",
              "1.0     8665\n",
              "Name: class, dtype: int64"
            ]
          },
          "metadata": {
            "tags": []
          },
          "execution_count": 15
        }
      ]
    },
    {
      "cell_type": "code",
      "metadata": {
        "id": "RlsryvjoK_TA"
      },
      "source": [
        "sub.to_csv(sub_file)"
      ],
      "execution_count": 16,
      "outputs": []
    }
  ]
}